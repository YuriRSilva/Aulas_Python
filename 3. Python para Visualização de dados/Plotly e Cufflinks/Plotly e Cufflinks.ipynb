{
 "cells": [
  {
   "cell_type": "markdown",
   "metadata": {},
   "source": [
    "# Plotly e Cufflinks"
   ]
  },
  {
   "cell_type": "markdown",
   "metadata": {},
   "source": [
    "O Plotly é uma biblioteca que permite criar gráficos interativos que você pode usar em painéis ou sites (você pode salvá-los como arquivos html ou imagens estáticas).\n",
    "\n",
    "## Instalação\n",
    "\n",
    "Para que tudo funcione, você precisará instalar plotly e cufflinks para chamar plots diretamente de um DataFrame pandas. Essas bibliotecas não estão atualmente disponíveis através de ** conda **, mas estão disponíveis através de ** pip **. Instale as bibliotecas em sua linha de comando / terminal usando:\n",
    "\n",
    "    pip install plotly\n",
    "    pip install cufflinks\n",
    "\n",
    "** NOTA: Certifique-se de ter apenas uma instalação do Python no seu computador quando faz isso, caso contrário, a instalação pode não funcionar. **\n",
    "\n",
    "## Importações e Configuração"
   ]
  },
  {
   "cell_type": "code",
   "execution_count": 2,
   "metadata": {
    "collapsed": true
   },
   "outputs": [],
   "source": [
    "import pandas as pd\n",
    "import numpy as np\n",
    "%matplotlib inline"
   ]
  },
  {
   "cell_type": "code",
   "execution_count": 3,
   "metadata": {},
   "outputs": [
    {
     "name": "stdout",
     "output_type": "stream",
     "text": [
      "5.18.0\n"
     ]
    }
   ],
   "source": [
    "from plotly import __version__\n",
    "from plotly.offline import download_plotlyjs, init_notebook_mode, plot, iplot\n",
    "\n",
    "print(__version__)"
   ]
  },
  {
   "cell_type": "code",
   "execution_count": 4,
   "metadata": {
    "collapsed": true
   },
   "outputs": [],
   "source": [
    "import cufflinks as cf"
   ]
  },
  {
   "cell_type": "code",
   "execution_count": 5,
   "metadata": {},
   "outputs": [
    {
     "data": {
      "text/html": [
       "        <script type=\"text/javascript\">\n",
       "        window.PlotlyConfig = {MathJaxConfig: 'local'};\n",
       "        if (window.MathJax && window.MathJax.Hub && window.MathJax.Hub.Config) {window.MathJax.Hub.Config({SVG: {font: \"STIX-Web\"}});}\n",
       "        if (typeof require !== 'undefined') {\n",
       "        require.undef(\"plotly\");\n",
       "        requirejs.config({\n",
       "            paths: {\n",
       "                'plotly': ['https://cdn.plot.ly/plotly-2.27.0.min']\n",
       "            }\n",
       "        });\n",
       "        require(['plotly'], function(Plotly) {\n",
       "            window._Plotly = Plotly;\n",
       "        });\n",
       "        }\n",
       "        </script>\n",
       "        "
      ]
     },
     "metadata": {},
     "output_type": "display_data"
    }
   ],
   "source": [
    "# Para Notebooks\n",
    "init_notebook_mode(connected=True)"
   ]
  },
  {
   "cell_type": "code",
   "execution_count": 6,
   "metadata": {},
   "outputs": [
    {
     "data": {
      "text/html": [
       "        <script type=\"text/javascript\">\n",
       "        window.PlotlyConfig = {MathJaxConfig: 'local'};\n",
       "        if (window.MathJax && window.MathJax.Hub && window.MathJax.Hub.Config) {window.MathJax.Hub.Config({SVG: {font: \"STIX-Web\"}});}\n",
       "        if (typeof require !== 'undefined') {\n",
       "        require.undef(\"plotly\");\n",
       "        requirejs.config({\n",
       "            paths: {\n",
       "                'plotly': ['https://cdn.plot.ly/plotly-2.27.0.min']\n",
       "            }\n",
       "        });\n",
       "        require(['plotly'], function(Plotly) {\n",
       "            window._Plotly = Plotly;\n",
       "        });\n",
       "        }\n",
       "        </script>\n",
       "        "
      ]
     },
     "metadata": {},
     "output_type": "display_data"
    }
   ],
   "source": [
    "# For offline use\n",
    "cf.go_offline()"
   ]
  },
  {
   "cell_type": "markdown",
   "metadata": {},
   "source": [
    "### Dados forjados"
   ]
  },
  {
   "cell_type": "code",
   "execution_count": 7,
   "metadata": {
    "collapsed": true
   },
   "outputs": [],
   "source": [
    "df = pd.DataFrame(np.random.randn(100,4),columns='A B C D'.split())"
   ]
  },
  {
   "cell_type": "code",
   "execution_count": 8,
   "metadata": {},
   "outputs": [
    {
     "data": {
      "text/html": [
       "<div>\n",
       "<style scoped>\n",
       "    .dataframe tbody tr th:only-of-type {\n",
       "        vertical-align: middle;\n",
       "    }\n",
       "\n",
       "    .dataframe tbody tr th {\n",
       "        vertical-align: top;\n",
       "    }\n",
       "\n",
       "    .dataframe thead th {\n",
       "        text-align: right;\n",
       "    }\n",
       "</style>\n",
       "<table border=\"1\" class=\"dataframe\">\n",
       "  <thead>\n",
       "    <tr style=\"text-align: right;\">\n",
       "      <th></th>\n",
       "      <th>A</th>\n",
       "      <th>B</th>\n",
       "      <th>C</th>\n",
       "      <th>D</th>\n",
       "    </tr>\n",
       "  </thead>\n",
       "  <tbody>\n",
       "    <tr>\n",
       "      <th>0</th>\n",
       "      <td>-1.684499</td>\n",
       "      <td>1.552200</td>\n",
       "      <td>0.368889</td>\n",
       "      <td>-1.581202</td>\n",
       "    </tr>\n",
       "    <tr>\n",
       "      <th>1</th>\n",
       "      <td>0.433782</td>\n",
       "      <td>-0.811807</td>\n",
       "      <td>-0.082852</td>\n",
       "      <td>-0.432248</td>\n",
       "    </tr>\n",
       "    <tr>\n",
       "      <th>2</th>\n",
       "      <td>-0.869169</td>\n",
       "      <td>-1.958374</td>\n",
       "      <td>0.181353</td>\n",
       "      <td>-0.056342</td>\n",
       "    </tr>\n",
       "    <tr>\n",
       "      <th>3</th>\n",
       "      <td>0.965312</td>\n",
       "      <td>-0.146968</td>\n",
       "      <td>-0.400663</td>\n",
       "      <td>0.697865</td>\n",
       "    </tr>\n",
       "    <tr>\n",
       "      <th>4</th>\n",
       "      <td>-0.710975</td>\n",
       "      <td>-0.212083</td>\n",
       "      <td>1.055074</td>\n",
       "      <td>-0.304239</td>\n",
       "    </tr>\n",
       "  </tbody>\n",
       "</table>\n",
       "</div>"
      ],
      "text/plain": [
       "          A         B         C         D\n",
       "0 -1.684499  1.552200  0.368889 -1.581202\n",
       "1  0.433782 -0.811807 -0.082852 -0.432248\n",
       "2 -0.869169 -1.958374  0.181353 -0.056342\n",
       "3  0.965312 -0.146968 -0.400663  0.697865\n",
       "4 -0.710975 -0.212083  1.055074 -0.304239"
      ]
     },
     "execution_count": 8,
     "metadata": {},
     "output_type": "execute_result"
    }
   ],
   "source": [
    "df.head()"
   ]
  },
  {
   "cell_type": "code",
   "execution_count": 9,
   "metadata": {
    "collapsed": true
   },
   "outputs": [],
   "source": [
    "df2 = pd.DataFrame({'Categoria':['A','B','C'],'Valores':[32,43,50]})"
   ]
  },
  {
   "cell_type": "code",
   "execution_count": 10,
   "metadata": {},
   "outputs": [
    {
     "data": {
      "text/html": [
       "<div>\n",
       "<style scoped>\n",
       "    .dataframe tbody tr th:only-of-type {\n",
       "        vertical-align: middle;\n",
       "    }\n",
       "\n",
       "    .dataframe tbody tr th {\n",
       "        vertical-align: top;\n",
       "    }\n",
       "\n",
       "    .dataframe thead th {\n",
       "        text-align: right;\n",
       "    }\n",
       "</style>\n",
       "<table border=\"1\" class=\"dataframe\">\n",
       "  <thead>\n",
       "    <tr style=\"text-align: right;\">\n",
       "      <th></th>\n",
       "      <th>Categoria</th>\n",
       "      <th>Valores</th>\n",
       "    </tr>\n",
       "  </thead>\n",
       "  <tbody>\n",
       "    <tr>\n",
       "      <th>0</th>\n",
       "      <td>A</td>\n",
       "      <td>32</td>\n",
       "    </tr>\n",
       "    <tr>\n",
       "      <th>1</th>\n",
       "      <td>B</td>\n",
       "      <td>43</td>\n",
       "    </tr>\n",
       "    <tr>\n",
       "      <th>2</th>\n",
       "      <td>C</td>\n",
       "      <td>50</td>\n",
       "    </tr>\n",
       "  </tbody>\n",
       "</table>\n",
       "</div>"
      ],
      "text/plain": [
       "  Categoria  Valores\n",
       "0         A       32\n",
       "1         B       43\n",
       "2         C       50"
      ]
     },
     "execution_count": 10,
     "metadata": {},
     "output_type": "execute_result"
    }
   ],
   "source": [
    "df2.head()"
   ]
  },
  {
   "cell_type": "markdown",
   "metadata": {},
   "source": [
    "## Usando Cufflinks e iplot ()\n",
    "\n",
    "* Dispersão\n",
    "* Barras\n",
    "* BoxPlot\n",
    "* Spreads\n",
    "* Proporção\n",
    "* Mapa de calor\n",
    "* Superfícies 3D\n",
    "* Histograma\n",
    "* Bolha"
   ]
  },
  {
   "cell_type": "markdown",
   "metadata": {},
   "source": [
    "## Dispersão"
   ]
  },
  {
   "cell_type": "code",
   "execution_count": 11,
   "metadata": {},
   "outputs": [
    {
     "data": {
      "application/vnd.plotly.v1+json": {
       "config": {
        "linkText": "Export to plot.ly",
        "plotlyServerURL": "https://plot.ly",
        "showLink": true
       },
       "data": [
        {
         "line": {
          "color": "rgba(255, 153, 51, 1.0)",
          "dash": "solid",
          "shape": "linear",
          "width": 1.3
         },
         "marker": {
          "size": 10,
          "symbol": "circle"
         },
         "mode": "markers",
         "name": "B",
         "text": "",
         "type": "scatter",
         "x": [
          -1.6844993786342044,
          0.4337824524461489,
          -0.8691693852146056,
          0.9653121387937669,
          -0.7109752166232484,
          -0.45006015542555056,
          1.0171168908883115,
          1.5780961752102243,
          -2.1160933540323286,
          0.2343715875650588,
          -0.5528680468664166,
          0.38632374541788334,
          -0.5722948323221422,
          -0.8145672569000181,
          0.49306577734475027,
          -1.1747216668475229,
          0.08930322383125251,
          0.13489401392347433,
          -0.18154994658679408,
          -0.1797427927707783,
          -0.6020466339558398,
          -0.03072825449634198,
          0.09788707748052361,
          0.3471881456095463,
          0.5768605470922169,
          -0.7151832446205061,
          -0.9112976711916279,
          0.09481662754534259,
          -0.910643811479693,
          0.11344525996528626,
          -0.2848595871502769,
          1.497486931550133,
          1.0448924393019643,
          0.648713382035497,
          0.14133457403504462,
          -0.9423855268071041,
          -0.7558517471451324,
          1.1034730063461553,
          -0.10239322951648648,
          0.9031722433903324,
          0.9252179518935177,
          -0.8970796650314016,
          0.5649986383576866,
          1.6078581107955012,
          0.7119991594850152,
          1.6204010398651412,
          -0.025321453891786718,
          -0.8499809725068881,
          -0.40522522234331965,
          -0.12509501604331788,
          1.4785409397705953,
          0.3694497550289572,
          -0.5350450922129657,
          0.1357029132639195,
          -0.025405805705771396,
          1.5952346153732109,
          1.1676737423572598,
          -0.3544567773817869,
          -0.18797553847544687,
          1.4877166510232325,
          0.4217944046376089,
          -0.16625411785823546,
          1.839332984376313,
          0.5486490471496404,
          1.187033804236325,
          -0.02612235723645212,
          1.5976465181616468,
          -0.1952788064272953,
          -0.003132419080781338,
          0.34797309675372445,
          1.3321715816244717,
          -0.2737241477992157,
          0.8962755167170101,
          0.5795417450593899,
          -0.18383583611314588,
          0.8928460544690597,
          -1.3922157024409982,
          -1.2375466595431501,
          0.3336992080417538,
          -0.021243021449576818,
          -0.8890140593926337,
          -0.7420333246838322,
          -0.579664367503824,
          1.9789634617895238,
          0.06455756143255113,
          1.205868759639534,
          -0.9842266918694147,
          -0.3425643408088088,
          0.34130180923738723,
          0.40136976324289486,
          -0.7982892383219594,
          -1.2726622403925725,
          0.3530111842067332,
          1.2421739172783588,
          -1.120247339070788,
          0.5750779467137043,
          -0.4320597966482676,
          0.9870732217728948,
          -0.05055637421416955,
          -0.8903622498341756
         ],
         "y": [
          1.5522000044749955,
          -0.8118066237567007,
          -1.9583743073878386,
          -0.14696836355682874,
          -0.21208261738056397,
          -0.24020362993660963,
          -0.31977996092043615,
          0.6119339124091268,
          1.349780690086934,
          -1.6149613705675971,
          -3.5121272482480483,
          -0.2876971253143369,
          -1.1329691232522952,
          -0.3914026001731782,
          0.44795717167726046,
          -0.5373453645534138,
          0.20179314005562496,
          -2.205736471459392,
          -1.9332842901336456,
          1.259020481591884,
          0.25345668167046015,
          -0.4559042131567118,
          1.2949891928279382,
          -0.748052036762677,
          -1.078015779779852,
          0.0866086645503718,
          1.3259726852002482,
          1.371155553999299,
          1.5597120643381566,
          0.7583725476251723,
          1.6004556144601645,
          1.6610069264389653,
          0.16330413275432498,
          1.201188362944357,
          -0.1669888038021607,
          -2.2448476063768843,
          0.5551836793585623,
          0.21713144705818224,
          -0.8136071488049466,
          0.5940294668099988,
          1.8989551559751483,
          -0.00786012259690263,
          0.11144475144098041,
          -1.6565054213721024,
          -1.1824676471076967,
          0.9288098632832997,
          2.0044812699802765,
          -2.480799680948316,
          1.2337900447822574,
          -2.531382527478476,
          0.9157463725707286,
          -0.1370912630448338,
          0.5041137075678902,
          0.005966193373438284,
          -0.3901148179715984,
          -0.5423286362298547,
          0.010744126454946788,
          1.8806981884192018,
          0.5889261156657364,
          0.17667984121404925,
          -0.5659856900149359,
          0.3890058855108887,
          -1.09165286677273,
          -0.5019430076401349,
          0.10169880094850037,
          -0.06842355187598258,
          0.9381367467291669,
          -0.9398554669967962,
          -0.3251095674252459,
          -0.9139424132945362,
          -0.3056611501519662,
          -0.3283027002777851,
          -0.12031484790725197,
          0.6794401271657093,
          0.47217701704988185,
          -1.7509802495158866,
          2.5760213146546507,
          2.2501360319767345,
          -0.19001713579818874,
          0.27694597696910617,
          0.8589019268113817,
          1.8017402455340144,
          0.43858672379016594,
          1.0982802969266425,
          0.9831944186866525,
          -1.8708383193957832,
          -0.1668713447630551,
          0.27138619743932924,
          -1.0514231323561325,
          -1.6479775507586287,
          -0.4715602639356907,
          -0.5183890178845385,
          -0.12000190257329688,
          -0.11010434911449721,
          -1.4978281045994541,
          -0.1365455952006748,
          -0.6866333990669393,
          -0.9188872819969375,
          -2.169756665385094,
          -2.107733277663181
         ]
        }
       ],
       "layout": {
        "legend": {
         "bgcolor": "#F5F6F9",
         "font": {
          "color": "#4D5663"
         }
        },
        "paper_bgcolor": "#F5F6F9",
        "plot_bgcolor": "#F5F6F9",
        "template": {
         "data": {
          "bar": [
           {
            "error_x": {
             "color": "#2a3f5f"
            },
            "error_y": {
             "color": "#2a3f5f"
            },
            "marker": {
             "line": {
              "color": "#E5ECF6",
              "width": 0.5
             },
             "pattern": {
              "fillmode": "overlay",
              "size": 10,
              "solidity": 0.2
             }
            },
            "type": "bar"
           }
          ],
          "barpolar": [
           {
            "marker": {
             "line": {
              "color": "#E5ECF6",
              "width": 0.5
             },
             "pattern": {
              "fillmode": "overlay",
              "size": 10,
              "solidity": 0.2
             }
            },
            "type": "barpolar"
           }
          ],
          "carpet": [
           {
            "aaxis": {
             "endlinecolor": "#2a3f5f",
             "gridcolor": "white",
             "linecolor": "white",
             "minorgridcolor": "white",
             "startlinecolor": "#2a3f5f"
            },
            "baxis": {
             "endlinecolor": "#2a3f5f",
             "gridcolor": "white",
             "linecolor": "white",
             "minorgridcolor": "white",
             "startlinecolor": "#2a3f5f"
            },
            "type": "carpet"
           }
          ],
          "choropleth": [
           {
            "colorbar": {
             "outlinewidth": 0,
             "ticks": ""
            },
            "type": "choropleth"
           }
          ],
          "contour": [
           {
            "colorbar": {
             "outlinewidth": 0,
             "ticks": ""
            },
            "colorscale": [
             [
              0,
              "#0d0887"
             ],
             [
              0.1111111111111111,
              "#46039f"
             ],
             [
              0.2222222222222222,
              "#7201a8"
             ],
             [
              0.3333333333333333,
              "#9c179e"
             ],
             [
              0.4444444444444444,
              "#bd3786"
             ],
             [
              0.5555555555555556,
              "#d8576b"
             ],
             [
              0.6666666666666666,
              "#ed7953"
             ],
             [
              0.7777777777777778,
              "#fb9f3a"
             ],
             [
              0.8888888888888888,
              "#fdca26"
             ],
             [
              1,
              "#f0f921"
             ]
            ],
            "type": "contour"
           }
          ],
          "contourcarpet": [
           {
            "colorbar": {
             "outlinewidth": 0,
             "ticks": ""
            },
            "type": "contourcarpet"
           }
          ],
          "heatmap": [
           {
            "colorbar": {
             "outlinewidth": 0,
             "ticks": ""
            },
            "colorscale": [
             [
              0,
              "#0d0887"
             ],
             [
              0.1111111111111111,
              "#46039f"
             ],
             [
              0.2222222222222222,
              "#7201a8"
             ],
             [
              0.3333333333333333,
              "#9c179e"
             ],
             [
              0.4444444444444444,
              "#bd3786"
             ],
             [
              0.5555555555555556,
              "#d8576b"
             ],
             [
              0.6666666666666666,
              "#ed7953"
             ],
             [
              0.7777777777777778,
              "#fb9f3a"
             ],
             [
              0.8888888888888888,
              "#fdca26"
             ],
             [
              1,
              "#f0f921"
             ]
            ],
            "type": "heatmap"
           }
          ],
          "heatmapgl": [
           {
            "colorbar": {
             "outlinewidth": 0,
             "ticks": ""
            },
            "colorscale": [
             [
              0,
              "#0d0887"
             ],
             [
              0.1111111111111111,
              "#46039f"
             ],
             [
              0.2222222222222222,
              "#7201a8"
             ],
             [
              0.3333333333333333,
              "#9c179e"
             ],
             [
              0.4444444444444444,
              "#bd3786"
             ],
             [
              0.5555555555555556,
              "#d8576b"
             ],
             [
              0.6666666666666666,
              "#ed7953"
             ],
             [
              0.7777777777777778,
              "#fb9f3a"
             ],
             [
              0.8888888888888888,
              "#fdca26"
             ],
             [
              1,
              "#f0f921"
             ]
            ],
            "type": "heatmapgl"
           }
          ],
          "histogram": [
           {
            "marker": {
             "pattern": {
              "fillmode": "overlay",
              "size": 10,
              "solidity": 0.2
             }
            },
            "type": "histogram"
           }
          ],
          "histogram2d": [
           {
            "colorbar": {
             "outlinewidth": 0,
             "ticks": ""
            },
            "colorscale": [
             [
              0,
              "#0d0887"
             ],
             [
              0.1111111111111111,
              "#46039f"
             ],
             [
              0.2222222222222222,
              "#7201a8"
             ],
             [
              0.3333333333333333,
              "#9c179e"
             ],
             [
              0.4444444444444444,
              "#bd3786"
             ],
             [
              0.5555555555555556,
              "#d8576b"
             ],
             [
              0.6666666666666666,
              "#ed7953"
             ],
             [
              0.7777777777777778,
              "#fb9f3a"
             ],
             [
              0.8888888888888888,
              "#fdca26"
             ],
             [
              1,
              "#f0f921"
             ]
            ],
            "type": "histogram2d"
           }
          ],
          "histogram2dcontour": [
           {
            "colorbar": {
             "outlinewidth": 0,
             "ticks": ""
            },
            "colorscale": [
             [
              0,
              "#0d0887"
             ],
             [
              0.1111111111111111,
              "#46039f"
             ],
             [
              0.2222222222222222,
              "#7201a8"
             ],
             [
              0.3333333333333333,
              "#9c179e"
             ],
             [
              0.4444444444444444,
              "#bd3786"
             ],
             [
              0.5555555555555556,
              "#d8576b"
             ],
             [
              0.6666666666666666,
              "#ed7953"
             ],
             [
              0.7777777777777778,
              "#fb9f3a"
             ],
             [
              0.8888888888888888,
              "#fdca26"
             ],
             [
              1,
              "#f0f921"
             ]
            ],
            "type": "histogram2dcontour"
           }
          ],
          "mesh3d": [
           {
            "colorbar": {
             "outlinewidth": 0,
             "ticks": ""
            },
            "type": "mesh3d"
           }
          ],
          "parcoords": [
           {
            "line": {
             "colorbar": {
              "outlinewidth": 0,
              "ticks": ""
             }
            },
            "type": "parcoords"
           }
          ],
          "pie": [
           {
            "automargin": true,
            "type": "pie"
           }
          ],
          "scatter": [
           {
            "fillpattern": {
             "fillmode": "overlay",
             "size": 10,
             "solidity": 0.2
            },
            "type": "scatter"
           }
          ],
          "scatter3d": [
           {
            "line": {
             "colorbar": {
              "outlinewidth": 0,
              "ticks": ""
             }
            },
            "marker": {
             "colorbar": {
              "outlinewidth": 0,
              "ticks": ""
             }
            },
            "type": "scatter3d"
           }
          ],
          "scattercarpet": [
           {
            "marker": {
             "colorbar": {
              "outlinewidth": 0,
              "ticks": ""
             }
            },
            "type": "scattercarpet"
           }
          ],
          "scattergeo": [
           {
            "marker": {
             "colorbar": {
              "outlinewidth": 0,
              "ticks": ""
             }
            },
            "type": "scattergeo"
           }
          ],
          "scattergl": [
           {
            "marker": {
             "colorbar": {
              "outlinewidth": 0,
              "ticks": ""
             }
            },
            "type": "scattergl"
           }
          ],
          "scattermapbox": [
           {
            "marker": {
             "colorbar": {
              "outlinewidth": 0,
              "ticks": ""
             }
            },
            "type": "scattermapbox"
           }
          ],
          "scatterpolar": [
           {
            "marker": {
             "colorbar": {
              "outlinewidth": 0,
              "ticks": ""
             }
            },
            "type": "scatterpolar"
           }
          ],
          "scatterpolargl": [
           {
            "marker": {
             "colorbar": {
              "outlinewidth": 0,
              "ticks": ""
             }
            },
            "type": "scatterpolargl"
           }
          ],
          "scatterternary": [
           {
            "marker": {
             "colorbar": {
              "outlinewidth": 0,
              "ticks": ""
             }
            },
            "type": "scatterternary"
           }
          ],
          "surface": [
           {
            "colorbar": {
             "outlinewidth": 0,
             "ticks": ""
            },
            "colorscale": [
             [
              0,
              "#0d0887"
             ],
             [
              0.1111111111111111,
              "#46039f"
             ],
             [
              0.2222222222222222,
              "#7201a8"
             ],
             [
              0.3333333333333333,
              "#9c179e"
             ],
             [
              0.4444444444444444,
              "#bd3786"
             ],
             [
              0.5555555555555556,
              "#d8576b"
             ],
             [
              0.6666666666666666,
              "#ed7953"
             ],
             [
              0.7777777777777778,
              "#fb9f3a"
             ],
             [
              0.8888888888888888,
              "#fdca26"
             ],
             [
              1,
              "#f0f921"
             ]
            ],
            "type": "surface"
           }
          ],
          "table": [
           {
            "cells": {
             "fill": {
              "color": "#EBF0F8"
             },
             "line": {
              "color": "white"
             }
            },
            "header": {
             "fill": {
              "color": "#C8D4E3"
             },
             "line": {
              "color": "white"
             }
            },
            "type": "table"
           }
          ]
         },
         "layout": {
          "annotationdefaults": {
           "arrowcolor": "#2a3f5f",
           "arrowhead": 0,
           "arrowwidth": 1
          },
          "autotypenumbers": "strict",
          "coloraxis": {
           "colorbar": {
            "outlinewidth": 0,
            "ticks": ""
           }
          },
          "colorscale": {
           "diverging": [
            [
             0,
             "#8e0152"
            ],
            [
             0.1,
             "#c51b7d"
            ],
            [
             0.2,
             "#de77ae"
            ],
            [
             0.3,
             "#f1b6da"
            ],
            [
             0.4,
             "#fde0ef"
            ],
            [
             0.5,
             "#f7f7f7"
            ],
            [
             0.6,
             "#e6f5d0"
            ],
            [
             0.7,
             "#b8e186"
            ],
            [
             0.8,
             "#7fbc41"
            ],
            [
             0.9,
             "#4d9221"
            ],
            [
             1,
             "#276419"
            ]
           ],
           "sequential": [
            [
             0,
             "#0d0887"
            ],
            [
             0.1111111111111111,
             "#46039f"
            ],
            [
             0.2222222222222222,
             "#7201a8"
            ],
            [
             0.3333333333333333,
             "#9c179e"
            ],
            [
             0.4444444444444444,
             "#bd3786"
            ],
            [
             0.5555555555555556,
             "#d8576b"
            ],
            [
             0.6666666666666666,
             "#ed7953"
            ],
            [
             0.7777777777777778,
             "#fb9f3a"
            ],
            [
             0.8888888888888888,
             "#fdca26"
            ],
            [
             1,
             "#f0f921"
            ]
           ],
           "sequentialminus": [
            [
             0,
             "#0d0887"
            ],
            [
             0.1111111111111111,
             "#46039f"
            ],
            [
             0.2222222222222222,
             "#7201a8"
            ],
            [
             0.3333333333333333,
             "#9c179e"
            ],
            [
             0.4444444444444444,
             "#bd3786"
            ],
            [
             0.5555555555555556,
             "#d8576b"
            ],
            [
             0.6666666666666666,
             "#ed7953"
            ],
            [
             0.7777777777777778,
             "#fb9f3a"
            ],
            [
             0.8888888888888888,
             "#fdca26"
            ],
            [
             1,
             "#f0f921"
            ]
           ]
          },
          "colorway": [
           "#636efa",
           "#EF553B",
           "#00cc96",
           "#ab63fa",
           "#FFA15A",
           "#19d3f3",
           "#FF6692",
           "#B6E880",
           "#FF97FF",
           "#FECB52"
          ],
          "font": {
           "color": "#2a3f5f"
          },
          "geo": {
           "bgcolor": "white",
           "lakecolor": "white",
           "landcolor": "#E5ECF6",
           "showlakes": true,
           "showland": true,
           "subunitcolor": "white"
          },
          "hoverlabel": {
           "align": "left"
          },
          "hovermode": "closest",
          "mapbox": {
           "style": "light"
          },
          "paper_bgcolor": "white",
          "plot_bgcolor": "#E5ECF6",
          "polar": {
           "angularaxis": {
            "gridcolor": "white",
            "linecolor": "white",
            "ticks": ""
           },
           "bgcolor": "#E5ECF6",
           "radialaxis": {
            "gridcolor": "white",
            "linecolor": "white",
            "ticks": ""
           }
          },
          "scene": {
           "xaxis": {
            "backgroundcolor": "#E5ECF6",
            "gridcolor": "white",
            "gridwidth": 2,
            "linecolor": "white",
            "showbackground": true,
            "ticks": "",
            "zerolinecolor": "white"
           },
           "yaxis": {
            "backgroundcolor": "#E5ECF6",
            "gridcolor": "white",
            "gridwidth": 2,
            "linecolor": "white",
            "showbackground": true,
            "ticks": "",
            "zerolinecolor": "white"
           },
           "zaxis": {
            "backgroundcolor": "#E5ECF6",
            "gridcolor": "white",
            "gridwidth": 2,
            "linecolor": "white",
            "showbackground": true,
            "ticks": "",
            "zerolinecolor": "white"
           }
          },
          "shapedefaults": {
           "line": {
            "color": "#2a3f5f"
           }
          },
          "ternary": {
           "aaxis": {
            "gridcolor": "white",
            "linecolor": "white",
            "ticks": ""
           },
           "baxis": {
            "gridcolor": "white",
            "linecolor": "white",
            "ticks": ""
           },
           "bgcolor": "#E5ECF6",
           "caxis": {
            "gridcolor": "white",
            "linecolor": "white",
            "ticks": ""
           }
          },
          "title": {
           "x": 0.05
          },
          "xaxis": {
           "automargin": true,
           "gridcolor": "white",
           "linecolor": "white",
           "ticks": "",
           "title": {
            "standoff": 15
           },
           "zerolinecolor": "white",
           "zerolinewidth": 2
          },
          "yaxis": {
           "automargin": true,
           "gridcolor": "white",
           "linecolor": "white",
           "ticks": "",
           "title": {
            "standoff": 15
           },
           "zerolinecolor": "white",
           "zerolinewidth": 2
          }
         }
        },
        "title": {
         "font": {
          "color": "#4D5663"
         }
        },
        "xaxis": {
         "gridcolor": "#E1E5ED",
         "showgrid": true,
         "tickfont": {
          "color": "#4D5663"
         },
         "title": {
          "font": {
           "color": "#4D5663"
          },
          "text": ""
         },
         "zerolinecolor": "#E1E5ED"
        },
        "yaxis": {
         "gridcolor": "#E1E5ED",
         "showgrid": true,
         "tickfont": {
          "color": "#4D5663"
         },
         "title": {
          "font": {
           "color": "#4D5663"
          },
          "text": ""
         },
         "zerolinecolor": "#E1E5ED"
        }
       }
      },
      "text/html": [
       "<div>                            <div id=\"b753246f-3702-4da3-9076-927d3d6f9225\" class=\"plotly-graph-div\" style=\"height:525px; width:100%;\"></div>            <script type=\"text/javascript\">                require([\"plotly\"], function(Plotly) {                    window.PLOTLYENV=window.PLOTLYENV || {};\n",
       "                    window.PLOTLYENV.BASE_URL='https://plot.ly';                                    if (document.getElementById(\"b753246f-3702-4da3-9076-927d3d6f9225\")) {                    Plotly.newPlot(                        \"b753246f-3702-4da3-9076-927d3d6f9225\",                        [{\"line\":{\"color\":\"rgba(255, 153, 51, 1.0)\",\"dash\":\"solid\",\"shape\":\"linear\",\"width\":1.3},\"marker\":{\"size\":10,\"symbol\":\"circle\"},\"mode\":\"markers\",\"name\":\"B\",\"text\":\"\",\"x\":[-1.6844993786342044,0.4337824524461489,-0.8691693852146056,0.9653121387937669,-0.7109752166232484,-0.45006015542555056,1.0171168908883115,1.5780961752102243,-2.1160933540323286,0.2343715875650588,-0.5528680468664166,0.38632374541788334,-0.5722948323221422,-0.8145672569000181,0.49306577734475027,-1.1747216668475229,0.08930322383125251,0.13489401392347433,-0.18154994658679408,-0.1797427927707783,-0.6020466339558398,-0.03072825449634198,0.09788707748052361,0.3471881456095463,0.5768605470922169,-0.7151832446205061,-0.9112976711916279,0.09481662754534259,-0.910643811479693,0.11344525996528626,-0.2848595871502769,1.497486931550133,1.0448924393019643,0.648713382035497,0.14133457403504462,-0.9423855268071041,-0.7558517471451324,1.1034730063461553,-0.10239322951648648,0.9031722433903324,0.9252179518935177,-0.8970796650314016,0.5649986383576866,1.6078581107955012,0.7119991594850152,1.6204010398651412,-0.025321453891786718,-0.8499809725068881,-0.40522522234331965,-0.12509501604331788,1.4785409397705953,0.3694497550289572,-0.5350450922129657,0.1357029132639195,-0.025405805705771396,1.5952346153732109,1.1676737423572598,-0.3544567773817869,-0.18797553847544687,1.4877166510232325,0.4217944046376089,-0.16625411785823546,1.839332984376313,0.5486490471496404,1.187033804236325,-0.02612235723645212,1.5976465181616468,-0.1952788064272953,-0.003132419080781338,0.34797309675372445,1.3321715816244717,-0.2737241477992157,0.8962755167170101,0.5795417450593899,-0.18383583611314588,0.8928460544690597,-1.3922157024409982,-1.2375466595431501,0.3336992080417538,-0.021243021449576818,-0.8890140593926337,-0.7420333246838322,-0.579664367503824,1.9789634617895238,0.06455756143255113,1.205868759639534,-0.9842266918694147,-0.3425643408088088,0.34130180923738723,0.40136976324289486,-0.7982892383219594,-1.2726622403925725,0.3530111842067332,1.2421739172783588,-1.120247339070788,0.5750779467137043,-0.4320597966482676,0.9870732217728948,-0.05055637421416955,-0.8903622498341756],\"y\":[1.5522000044749955,-0.8118066237567007,-1.9583743073878386,-0.14696836355682874,-0.21208261738056397,-0.24020362993660963,-0.31977996092043615,0.6119339124091268,1.349780690086934,-1.6149613705675971,-3.5121272482480483,-0.2876971253143369,-1.1329691232522952,-0.3914026001731782,0.44795717167726046,-0.5373453645534138,0.20179314005562496,-2.205736471459392,-1.9332842901336456,1.259020481591884,0.25345668167046015,-0.4559042131567118,1.2949891928279382,-0.748052036762677,-1.078015779779852,0.0866086645503718,1.3259726852002482,1.371155553999299,1.5597120643381566,0.7583725476251723,1.6004556144601645,1.6610069264389653,0.16330413275432498,1.201188362944357,-0.1669888038021607,-2.2448476063768843,0.5551836793585623,0.21713144705818224,-0.8136071488049466,0.5940294668099988,1.8989551559751483,-0.00786012259690263,0.11144475144098041,-1.6565054213721024,-1.1824676471076967,0.9288098632832997,2.0044812699802765,-2.480799680948316,1.2337900447822574,-2.531382527478476,0.9157463725707286,-0.1370912630448338,0.5041137075678902,0.005966193373438284,-0.3901148179715984,-0.5423286362298547,0.010744126454946788,1.8806981884192018,0.5889261156657364,0.17667984121404925,-0.5659856900149359,0.3890058855108887,-1.09165286677273,-0.5019430076401349,0.10169880094850037,-0.06842355187598258,0.9381367467291669,-0.9398554669967962,-0.3251095674252459,-0.9139424132945362,-0.3056611501519662,-0.3283027002777851,-0.12031484790725197,0.6794401271657093,0.47217701704988185,-1.7509802495158866,2.5760213146546507,2.2501360319767345,-0.19001713579818874,0.27694597696910617,0.8589019268113817,1.8017402455340144,0.43858672379016594,1.0982802969266425,0.9831944186866525,-1.8708383193957832,-0.1668713447630551,0.27138619743932924,-1.0514231323561325,-1.6479775507586287,-0.4715602639356907,-0.5183890178845385,-0.12000190257329688,-0.11010434911449721,-1.4978281045994541,-0.1365455952006748,-0.6866333990669393,-0.9188872819969375,-2.169756665385094,-2.107733277663181],\"type\":\"scatter\"}],                        {\"legend\":{\"bgcolor\":\"#F5F6F9\",\"font\":{\"color\":\"#4D5663\"}},\"paper_bgcolor\":\"#F5F6F9\",\"plot_bgcolor\":\"#F5F6F9\",\"template\":{\"data\":{\"barpolar\":[{\"marker\":{\"line\":{\"color\":\"#E5ECF6\",\"width\":0.5},\"pattern\":{\"fillmode\":\"overlay\",\"size\":10,\"solidity\":0.2}},\"type\":\"barpolar\"}],\"bar\":[{\"error_x\":{\"color\":\"#2a3f5f\"},\"error_y\":{\"color\":\"#2a3f5f\"},\"marker\":{\"line\":{\"color\":\"#E5ECF6\",\"width\":0.5},\"pattern\":{\"fillmode\":\"overlay\",\"size\":10,\"solidity\":0.2}},\"type\":\"bar\"}],\"carpet\":[{\"aaxis\":{\"endlinecolor\":\"#2a3f5f\",\"gridcolor\":\"white\",\"linecolor\":\"white\",\"minorgridcolor\":\"white\",\"startlinecolor\":\"#2a3f5f\"},\"baxis\":{\"endlinecolor\":\"#2a3f5f\",\"gridcolor\":\"white\",\"linecolor\":\"white\",\"minorgridcolor\":\"white\",\"startlinecolor\":\"#2a3f5f\"},\"type\":\"carpet\"}],\"choropleth\":[{\"colorbar\":{\"outlinewidth\":0,\"ticks\":\"\"},\"type\":\"choropleth\"}],\"contourcarpet\":[{\"colorbar\":{\"outlinewidth\":0,\"ticks\":\"\"},\"type\":\"contourcarpet\"}],\"contour\":[{\"colorbar\":{\"outlinewidth\":0,\"ticks\":\"\"},\"colorscale\":[[0.0,\"#0d0887\"],[0.1111111111111111,\"#46039f\"],[0.2222222222222222,\"#7201a8\"],[0.3333333333333333,\"#9c179e\"],[0.4444444444444444,\"#bd3786\"],[0.5555555555555556,\"#d8576b\"],[0.6666666666666666,\"#ed7953\"],[0.7777777777777778,\"#fb9f3a\"],[0.8888888888888888,\"#fdca26\"],[1.0,\"#f0f921\"]],\"type\":\"contour\"}],\"heatmapgl\":[{\"colorbar\":{\"outlinewidth\":0,\"ticks\":\"\"},\"colorscale\":[[0.0,\"#0d0887\"],[0.1111111111111111,\"#46039f\"],[0.2222222222222222,\"#7201a8\"],[0.3333333333333333,\"#9c179e\"],[0.4444444444444444,\"#bd3786\"],[0.5555555555555556,\"#d8576b\"],[0.6666666666666666,\"#ed7953\"],[0.7777777777777778,\"#fb9f3a\"],[0.8888888888888888,\"#fdca26\"],[1.0,\"#f0f921\"]],\"type\":\"heatmapgl\"}],\"heatmap\":[{\"colorbar\":{\"outlinewidth\":0,\"ticks\":\"\"},\"colorscale\":[[0.0,\"#0d0887\"],[0.1111111111111111,\"#46039f\"],[0.2222222222222222,\"#7201a8\"],[0.3333333333333333,\"#9c179e\"],[0.4444444444444444,\"#bd3786\"],[0.5555555555555556,\"#d8576b\"],[0.6666666666666666,\"#ed7953\"],[0.7777777777777778,\"#fb9f3a\"],[0.8888888888888888,\"#fdca26\"],[1.0,\"#f0f921\"]],\"type\":\"heatmap\"}],\"histogram2dcontour\":[{\"colorbar\":{\"outlinewidth\":0,\"ticks\":\"\"},\"colorscale\":[[0.0,\"#0d0887\"],[0.1111111111111111,\"#46039f\"],[0.2222222222222222,\"#7201a8\"],[0.3333333333333333,\"#9c179e\"],[0.4444444444444444,\"#bd3786\"],[0.5555555555555556,\"#d8576b\"],[0.6666666666666666,\"#ed7953\"],[0.7777777777777778,\"#fb9f3a\"],[0.8888888888888888,\"#fdca26\"],[1.0,\"#f0f921\"]],\"type\":\"histogram2dcontour\"}],\"histogram2d\":[{\"colorbar\":{\"outlinewidth\":0,\"ticks\":\"\"},\"colorscale\":[[0.0,\"#0d0887\"],[0.1111111111111111,\"#46039f\"],[0.2222222222222222,\"#7201a8\"],[0.3333333333333333,\"#9c179e\"],[0.4444444444444444,\"#bd3786\"],[0.5555555555555556,\"#d8576b\"],[0.6666666666666666,\"#ed7953\"],[0.7777777777777778,\"#fb9f3a\"],[0.8888888888888888,\"#fdca26\"],[1.0,\"#f0f921\"]],\"type\":\"histogram2d\"}],\"histogram\":[{\"marker\":{\"pattern\":{\"fillmode\":\"overlay\",\"size\":10,\"solidity\":0.2}},\"type\":\"histogram\"}],\"mesh3d\":[{\"colorbar\":{\"outlinewidth\":0,\"ticks\":\"\"},\"type\":\"mesh3d\"}],\"parcoords\":[{\"line\":{\"colorbar\":{\"outlinewidth\":0,\"ticks\":\"\"}},\"type\":\"parcoords\"}],\"pie\":[{\"automargin\":true,\"type\":\"pie\"}],\"scatter3d\":[{\"line\":{\"colorbar\":{\"outlinewidth\":0,\"ticks\":\"\"}},\"marker\":{\"colorbar\":{\"outlinewidth\":0,\"ticks\":\"\"}},\"type\":\"scatter3d\"}],\"scattercarpet\":[{\"marker\":{\"colorbar\":{\"outlinewidth\":0,\"ticks\":\"\"}},\"type\":\"scattercarpet\"}],\"scattergeo\":[{\"marker\":{\"colorbar\":{\"outlinewidth\":0,\"ticks\":\"\"}},\"type\":\"scattergeo\"}],\"scattergl\":[{\"marker\":{\"colorbar\":{\"outlinewidth\":0,\"ticks\":\"\"}},\"type\":\"scattergl\"}],\"scattermapbox\":[{\"marker\":{\"colorbar\":{\"outlinewidth\":0,\"ticks\":\"\"}},\"type\":\"scattermapbox\"}],\"scatterpolargl\":[{\"marker\":{\"colorbar\":{\"outlinewidth\":0,\"ticks\":\"\"}},\"type\":\"scatterpolargl\"}],\"scatterpolar\":[{\"marker\":{\"colorbar\":{\"outlinewidth\":0,\"ticks\":\"\"}},\"type\":\"scatterpolar\"}],\"scatter\":[{\"fillpattern\":{\"fillmode\":\"overlay\",\"size\":10,\"solidity\":0.2},\"type\":\"scatter\"}],\"scatterternary\":[{\"marker\":{\"colorbar\":{\"outlinewidth\":0,\"ticks\":\"\"}},\"type\":\"scatterternary\"}],\"surface\":[{\"colorbar\":{\"outlinewidth\":0,\"ticks\":\"\"},\"colorscale\":[[0.0,\"#0d0887\"],[0.1111111111111111,\"#46039f\"],[0.2222222222222222,\"#7201a8\"],[0.3333333333333333,\"#9c179e\"],[0.4444444444444444,\"#bd3786\"],[0.5555555555555556,\"#d8576b\"],[0.6666666666666666,\"#ed7953\"],[0.7777777777777778,\"#fb9f3a\"],[0.8888888888888888,\"#fdca26\"],[1.0,\"#f0f921\"]],\"type\":\"surface\"}],\"table\":[{\"cells\":{\"fill\":{\"color\":\"#EBF0F8\"},\"line\":{\"color\":\"white\"}},\"header\":{\"fill\":{\"color\":\"#C8D4E3\"},\"line\":{\"color\":\"white\"}},\"type\":\"table\"}]},\"layout\":{\"annotationdefaults\":{\"arrowcolor\":\"#2a3f5f\",\"arrowhead\":0,\"arrowwidth\":1},\"autotypenumbers\":\"strict\",\"coloraxis\":{\"colorbar\":{\"outlinewidth\":0,\"ticks\":\"\"}},\"colorscale\":{\"diverging\":[[0,\"#8e0152\"],[0.1,\"#c51b7d\"],[0.2,\"#de77ae\"],[0.3,\"#f1b6da\"],[0.4,\"#fde0ef\"],[0.5,\"#f7f7f7\"],[0.6,\"#e6f5d0\"],[0.7,\"#b8e186\"],[0.8,\"#7fbc41\"],[0.9,\"#4d9221\"],[1,\"#276419\"]],\"sequential\":[[0.0,\"#0d0887\"],[0.1111111111111111,\"#46039f\"],[0.2222222222222222,\"#7201a8\"],[0.3333333333333333,\"#9c179e\"],[0.4444444444444444,\"#bd3786\"],[0.5555555555555556,\"#d8576b\"],[0.6666666666666666,\"#ed7953\"],[0.7777777777777778,\"#fb9f3a\"],[0.8888888888888888,\"#fdca26\"],[1.0,\"#f0f921\"]],\"sequentialminus\":[[0.0,\"#0d0887\"],[0.1111111111111111,\"#46039f\"],[0.2222222222222222,\"#7201a8\"],[0.3333333333333333,\"#9c179e\"],[0.4444444444444444,\"#bd3786\"],[0.5555555555555556,\"#d8576b\"],[0.6666666666666666,\"#ed7953\"],[0.7777777777777778,\"#fb9f3a\"],[0.8888888888888888,\"#fdca26\"],[1.0,\"#f0f921\"]]},\"colorway\":[\"#636efa\",\"#EF553B\",\"#00cc96\",\"#ab63fa\",\"#FFA15A\",\"#19d3f3\",\"#FF6692\",\"#B6E880\",\"#FF97FF\",\"#FECB52\"],\"font\":{\"color\":\"#2a3f5f\"},\"geo\":{\"bgcolor\":\"white\",\"lakecolor\":\"white\",\"landcolor\":\"#E5ECF6\",\"showlakes\":true,\"showland\":true,\"subunitcolor\":\"white\"},\"hoverlabel\":{\"align\":\"left\"},\"hovermode\":\"closest\",\"mapbox\":{\"style\":\"light\"},\"paper_bgcolor\":\"white\",\"plot_bgcolor\":\"#E5ECF6\",\"polar\":{\"angularaxis\":{\"gridcolor\":\"white\",\"linecolor\":\"white\",\"ticks\":\"\"},\"bgcolor\":\"#E5ECF6\",\"radialaxis\":{\"gridcolor\":\"white\",\"linecolor\":\"white\",\"ticks\":\"\"}},\"scene\":{\"xaxis\":{\"backgroundcolor\":\"#E5ECF6\",\"gridcolor\":\"white\",\"gridwidth\":2,\"linecolor\":\"white\",\"showbackground\":true,\"ticks\":\"\",\"zerolinecolor\":\"white\"},\"yaxis\":{\"backgroundcolor\":\"#E5ECF6\",\"gridcolor\":\"white\",\"gridwidth\":2,\"linecolor\":\"white\",\"showbackground\":true,\"ticks\":\"\",\"zerolinecolor\":\"white\"},\"zaxis\":{\"backgroundcolor\":\"#E5ECF6\",\"gridcolor\":\"white\",\"gridwidth\":2,\"linecolor\":\"white\",\"showbackground\":true,\"ticks\":\"\",\"zerolinecolor\":\"white\"}},\"shapedefaults\":{\"line\":{\"color\":\"#2a3f5f\"}},\"ternary\":{\"aaxis\":{\"gridcolor\":\"white\",\"linecolor\":\"white\",\"ticks\":\"\"},\"baxis\":{\"gridcolor\":\"white\",\"linecolor\":\"white\",\"ticks\":\"\"},\"bgcolor\":\"#E5ECF6\",\"caxis\":{\"gridcolor\":\"white\",\"linecolor\":\"white\",\"ticks\":\"\"}},\"title\":{\"x\":0.05},\"xaxis\":{\"automargin\":true,\"gridcolor\":\"white\",\"linecolor\":\"white\",\"ticks\":\"\",\"title\":{\"standoff\":15},\"zerolinecolor\":\"white\",\"zerolinewidth\":2},\"yaxis\":{\"automargin\":true,\"gridcolor\":\"white\",\"linecolor\":\"white\",\"ticks\":\"\",\"title\":{\"standoff\":15},\"zerolinecolor\":\"white\",\"zerolinewidth\":2}}},\"title\":{\"font\":{\"color\":\"#4D5663\"}},\"xaxis\":{\"gridcolor\":\"#E1E5ED\",\"showgrid\":true,\"tickfont\":{\"color\":\"#4D5663\"},\"title\":{\"font\":{\"color\":\"#4D5663\"},\"text\":\"\"},\"zerolinecolor\":\"#E1E5ED\"},\"yaxis\":{\"gridcolor\":\"#E1E5ED\",\"showgrid\":true,\"tickfont\":{\"color\":\"#4D5663\"},\"title\":{\"font\":{\"color\":\"#4D5663\"},\"text\":\"\"},\"zerolinecolor\":\"#E1E5ED\"}},                        {\"showLink\": true, \"linkText\": \"Export to plot.ly\", \"plotlyServerURL\": \"https://plot.ly\", \"responsive\": true}                    ).then(function(){\n",
       "                            \n",
       "var gd = document.getElementById('b753246f-3702-4da3-9076-927d3d6f9225');\n",
       "var x = new MutationObserver(function (mutations, observer) {{\n",
       "        var display = window.getComputedStyle(gd).display;\n",
       "        if (!display || display === 'none') {{\n",
       "            console.log([gd, 'removed!']);\n",
       "            Plotly.purge(gd);\n",
       "            observer.disconnect();\n",
       "        }}\n",
       "}});\n",
       "\n",
       "// Listen for the removal of the full notebook cells\n",
       "var notebookContainer = gd.closest('#notebook-container');\n",
       "if (notebookContainer) {{\n",
       "    x.observe(notebookContainer, {childList: true});\n",
       "}}\n",
       "\n",
       "// Listen for the clearing of the current output cell\n",
       "var outputEl = gd.closest('.output');\n",
       "if (outputEl) {{\n",
       "    x.observe(outputEl, {childList: true});\n",
       "}}\n",
       "\n",
       "                        })                };                });            </script>        </div>"
      ]
     },
     "metadata": {},
     "output_type": "display_data"
    }
   ],
   "source": [
    "df.iplot(kind='scatter',x='A',y='B',mode='markers',size=10)"
   ]
  },
  {
   "cell_type": "markdown",
   "metadata": {},
   "source": [
    "## Plots de barra"
   ]
  },
  {
   "cell_type": "code",
   "execution_count": 12,
   "metadata": {},
   "outputs": [
    {
     "data": {
      "application/vnd.plotly.v1+json": {
       "config": {
        "linkText": "Export to plot.ly",
        "plotlyServerURL": "https://plot.ly",
        "showLink": true
       },
       "data": [
        {
         "marker": {
          "color": "rgba(255, 153, 51, 0.6)",
          "line": {
           "color": "rgba(255, 153, 51, 1.0)",
           "width": 1
          }
         },
         "name": "Valores",
         "orientation": "v",
         "text": "",
         "type": "bar",
         "x": [
          "A",
          "B",
          "C"
         ],
         "y": [
          32,
          43,
          50
         ]
        }
       ],
       "layout": {
        "legend": {
         "bgcolor": "#F5F6F9",
         "font": {
          "color": "#4D5663"
         }
        },
        "paper_bgcolor": "#F5F6F9",
        "plot_bgcolor": "#F5F6F9",
        "template": {
         "data": {
          "bar": [
           {
            "error_x": {
             "color": "#2a3f5f"
            },
            "error_y": {
             "color": "#2a3f5f"
            },
            "marker": {
             "line": {
              "color": "#E5ECF6",
              "width": 0.5
             },
             "pattern": {
              "fillmode": "overlay",
              "size": 10,
              "solidity": 0.2
             }
            },
            "type": "bar"
           }
          ],
          "barpolar": [
           {
            "marker": {
             "line": {
              "color": "#E5ECF6",
              "width": 0.5
             },
             "pattern": {
              "fillmode": "overlay",
              "size": 10,
              "solidity": 0.2
             }
            },
            "type": "barpolar"
           }
          ],
          "carpet": [
           {
            "aaxis": {
             "endlinecolor": "#2a3f5f",
             "gridcolor": "white",
             "linecolor": "white",
             "minorgridcolor": "white",
             "startlinecolor": "#2a3f5f"
            },
            "baxis": {
             "endlinecolor": "#2a3f5f",
             "gridcolor": "white",
             "linecolor": "white",
             "minorgridcolor": "white",
             "startlinecolor": "#2a3f5f"
            },
            "type": "carpet"
           }
          ],
          "choropleth": [
           {
            "colorbar": {
             "outlinewidth": 0,
             "ticks": ""
            },
            "type": "choropleth"
           }
          ],
          "contour": [
           {
            "colorbar": {
             "outlinewidth": 0,
             "ticks": ""
            },
            "colorscale": [
             [
              0,
              "#0d0887"
             ],
             [
              0.1111111111111111,
              "#46039f"
             ],
             [
              0.2222222222222222,
              "#7201a8"
             ],
             [
              0.3333333333333333,
              "#9c179e"
             ],
             [
              0.4444444444444444,
              "#bd3786"
             ],
             [
              0.5555555555555556,
              "#d8576b"
             ],
             [
              0.6666666666666666,
              "#ed7953"
             ],
             [
              0.7777777777777778,
              "#fb9f3a"
             ],
             [
              0.8888888888888888,
              "#fdca26"
             ],
             [
              1,
              "#f0f921"
             ]
            ],
            "type": "contour"
           }
          ],
          "contourcarpet": [
           {
            "colorbar": {
             "outlinewidth": 0,
             "ticks": ""
            },
            "type": "contourcarpet"
           }
          ],
          "heatmap": [
           {
            "colorbar": {
             "outlinewidth": 0,
             "ticks": ""
            },
            "colorscale": [
             [
              0,
              "#0d0887"
             ],
             [
              0.1111111111111111,
              "#46039f"
             ],
             [
              0.2222222222222222,
              "#7201a8"
             ],
             [
              0.3333333333333333,
              "#9c179e"
             ],
             [
              0.4444444444444444,
              "#bd3786"
             ],
             [
              0.5555555555555556,
              "#d8576b"
             ],
             [
              0.6666666666666666,
              "#ed7953"
             ],
             [
              0.7777777777777778,
              "#fb9f3a"
             ],
             [
              0.8888888888888888,
              "#fdca26"
             ],
             [
              1,
              "#f0f921"
             ]
            ],
            "type": "heatmap"
           }
          ],
          "heatmapgl": [
           {
            "colorbar": {
             "outlinewidth": 0,
             "ticks": ""
            },
            "colorscale": [
             [
              0,
              "#0d0887"
             ],
             [
              0.1111111111111111,
              "#46039f"
             ],
             [
              0.2222222222222222,
              "#7201a8"
             ],
             [
              0.3333333333333333,
              "#9c179e"
             ],
             [
              0.4444444444444444,
              "#bd3786"
             ],
             [
              0.5555555555555556,
              "#d8576b"
             ],
             [
              0.6666666666666666,
              "#ed7953"
             ],
             [
              0.7777777777777778,
              "#fb9f3a"
             ],
             [
              0.8888888888888888,
              "#fdca26"
             ],
             [
              1,
              "#f0f921"
             ]
            ],
            "type": "heatmapgl"
           }
          ],
          "histogram": [
           {
            "marker": {
             "pattern": {
              "fillmode": "overlay",
              "size": 10,
              "solidity": 0.2
             }
            },
            "type": "histogram"
           }
          ],
          "histogram2d": [
           {
            "colorbar": {
             "outlinewidth": 0,
             "ticks": ""
            },
            "colorscale": [
             [
              0,
              "#0d0887"
             ],
             [
              0.1111111111111111,
              "#46039f"
             ],
             [
              0.2222222222222222,
              "#7201a8"
             ],
             [
              0.3333333333333333,
              "#9c179e"
             ],
             [
              0.4444444444444444,
              "#bd3786"
             ],
             [
              0.5555555555555556,
              "#d8576b"
             ],
             [
              0.6666666666666666,
              "#ed7953"
             ],
             [
              0.7777777777777778,
              "#fb9f3a"
             ],
             [
              0.8888888888888888,
              "#fdca26"
             ],
             [
              1,
              "#f0f921"
             ]
            ],
            "type": "histogram2d"
           }
          ],
          "histogram2dcontour": [
           {
            "colorbar": {
             "outlinewidth": 0,
             "ticks": ""
            },
            "colorscale": [
             [
              0,
              "#0d0887"
             ],
             [
              0.1111111111111111,
              "#46039f"
             ],
             [
              0.2222222222222222,
              "#7201a8"
             ],
             [
              0.3333333333333333,
              "#9c179e"
             ],
             [
              0.4444444444444444,
              "#bd3786"
             ],
             [
              0.5555555555555556,
              "#d8576b"
             ],
             [
              0.6666666666666666,
              "#ed7953"
             ],
             [
              0.7777777777777778,
              "#fb9f3a"
             ],
             [
              0.8888888888888888,
              "#fdca26"
             ],
             [
              1,
              "#f0f921"
             ]
            ],
            "type": "histogram2dcontour"
           }
          ],
          "mesh3d": [
           {
            "colorbar": {
             "outlinewidth": 0,
             "ticks": ""
            },
            "type": "mesh3d"
           }
          ],
          "parcoords": [
           {
            "line": {
             "colorbar": {
              "outlinewidth": 0,
              "ticks": ""
             }
            },
            "type": "parcoords"
           }
          ],
          "pie": [
           {
            "automargin": true,
            "type": "pie"
           }
          ],
          "scatter": [
           {
            "fillpattern": {
             "fillmode": "overlay",
             "size": 10,
             "solidity": 0.2
            },
            "type": "scatter"
           }
          ],
          "scatter3d": [
           {
            "line": {
             "colorbar": {
              "outlinewidth": 0,
              "ticks": ""
             }
            },
            "marker": {
             "colorbar": {
              "outlinewidth": 0,
              "ticks": ""
             }
            },
            "type": "scatter3d"
           }
          ],
          "scattercarpet": [
           {
            "marker": {
             "colorbar": {
              "outlinewidth": 0,
              "ticks": ""
             }
            },
            "type": "scattercarpet"
           }
          ],
          "scattergeo": [
           {
            "marker": {
             "colorbar": {
              "outlinewidth": 0,
              "ticks": ""
             }
            },
            "type": "scattergeo"
           }
          ],
          "scattergl": [
           {
            "marker": {
             "colorbar": {
              "outlinewidth": 0,
              "ticks": ""
             }
            },
            "type": "scattergl"
           }
          ],
          "scattermapbox": [
           {
            "marker": {
             "colorbar": {
              "outlinewidth": 0,
              "ticks": ""
             }
            },
            "type": "scattermapbox"
           }
          ],
          "scatterpolar": [
           {
            "marker": {
             "colorbar": {
              "outlinewidth": 0,
              "ticks": ""
             }
            },
            "type": "scatterpolar"
           }
          ],
          "scatterpolargl": [
           {
            "marker": {
             "colorbar": {
              "outlinewidth": 0,
              "ticks": ""
             }
            },
            "type": "scatterpolargl"
           }
          ],
          "scatterternary": [
           {
            "marker": {
             "colorbar": {
              "outlinewidth": 0,
              "ticks": ""
             }
            },
            "type": "scatterternary"
           }
          ],
          "surface": [
           {
            "colorbar": {
             "outlinewidth": 0,
             "ticks": ""
            },
            "colorscale": [
             [
              0,
              "#0d0887"
             ],
             [
              0.1111111111111111,
              "#46039f"
             ],
             [
              0.2222222222222222,
              "#7201a8"
             ],
             [
              0.3333333333333333,
              "#9c179e"
             ],
             [
              0.4444444444444444,
              "#bd3786"
             ],
             [
              0.5555555555555556,
              "#d8576b"
             ],
             [
              0.6666666666666666,
              "#ed7953"
             ],
             [
              0.7777777777777778,
              "#fb9f3a"
             ],
             [
              0.8888888888888888,
              "#fdca26"
             ],
             [
              1,
              "#f0f921"
             ]
            ],
            "type": "surface"
           }
          ],
          "table": [
           {
            "cells": {
             "fill": {
              "color": "#EBF0F8"
             },
             "line": {
              "color": "white"
             }
            },
            "header": {
             "fill": {
              "color": "#C8D4E3"
             },
             "line": {
              "color": "white"
             }
            },
            "type": "table"
           }
          ]
         },
         "layout": {
          "annotationdefaults": {
           "arrowcolor": "#2a3f5f",
           "arrowhead": 0,
           "arrowwidth": 1
          },
          "autotypenumbers": "strict",
          "coloraxis": {
           "colorbar": {
            "outlinewidth": 0,
            "ticks": ""
           }
          },
          "colorscale": {
           "diverging": [
            [
             0,
             "#8e0152"
            ],
            [
             0.1,
             "#c51b7d"
            ],
            [
             0.2,
             "#de77ae"
            ],
            [
             0.3,
             "#f1b6da"
            ],
            [
             0.4,
             "#fde0ef"
            ],
            [
             0.5,
             "#f7f7f7"
            ],
            [
             0.6,
             "#e6f5d0"
            ],
            [
             0.7,
             "#b8e186"
            ],
            [
             0.8,
             "#7fbc41"
            ],
            [
             0.9,
             "#4d9221"
            ],
            [
             1,
             "#276419"
            ]
           ],
           "sequential": [
            [
             0,
             "#0d0887"
            ],
            [
             0.1111111111111111,
             "#46039f"
            ],
            [
             0.2222222222222222,
             "#7201a8"
            ],
            [
             0.3333333333333333,
             "#9c179e"
            ],
            [
             0.4444444444444444,
             "#bd3786"
            ],
            [
             0.5555555555555556,
             "#d8576b"
            ],
            [
             0.6666666666666666,
             "#ed7953"
            ],
            [
             0.7777777777777778,
             "#fb9f3a"
            ],
            [
             0.8888888888888888,
             "#fdca26"
            ],
            [
             1,
             "#f0f921"
            ]
           ],
           "sequentialminus": [
            [
             0,
             "#0d0887"
            ],
            [
             0.1111111111111111,
             "#46039f"
            ],
            [
             0.2222222222222222,
             "#7201a8"
            ],
            [
             0.3333333333333333,
             "#9c179e"
            ],
            [
             0.4444444444444444,
             "#bd3786"
            ],
            [
             0.5555555555555556,
             "#d8576b"
            ],
            [
             0.6666666666666666,
             "#ed7953"
            ],
            [
             0.7777777777777778,
             "#fb9f3a"
            ],
            [
             0.8888888888888888,
             "#fdca26"
            ],
            [
             1,
             "#f0f921"
            ]
           ]
          },
          "colorway": [
           "#636efa",
           "#EF553B",
           "#00cc96",
           "#ab63fa",
           "#FFA15A",
           "#19d3f3",
           "#FF6692",
           "#B6E880",
           "#FF97FF",
           "#FECB52"
          ],
          "font": {
           "color": "#2a3f5f"
          },
          "geo": {
           "bgcolor": "white",
           "lakecolor": "white",
           "landcolor": "#E5ECF6",
           "showlakes": true,
           "showland": true,
           "subunitcolor": "white"
          },
          "hoverlabel": {
           "align": "left"
          },
          "hovermode": "closest",
          "mapbox": {
           "style": "light"
          },
          "paper_bgcolor": "white",
          "plot_bgcolor": "#E5ECF6",
          "polar": {
           "angularaxis": {
            "gridcolor": "white",
            "linecolor": "white",
            "ticks": ""
           },
           "bgcolor": "#E5ECF6",
           "radialaxis": {
            "gridcolor": "white",
            "linecolor": "white",
            "ticks": ""
           }
          },
          "scene": {
           "xaxis": {
            "backgroundcolor": "#E5ECF6",
            "gridcolor": "white",
            "gridwidth": 2,
            "linecolor": "white",
            "showbackground": true,
            "ticks": "",
            "zerolinecolor": "white"
           },
           "yaxis": {
            "backgroundcolor": "#E5ECF6",
            "gridcolor": "white",
            "gridwidth": 2,
            "linecolor": "white",
            "showbackground": true,
            "ticks": "",
            "zerolinecolor": "white"
           },
           "zaxis": {
            "backgroundcolor": "#E5ECF6",
            "gridcolor": "white",
            "gridwidth": 2,
            "linecolor": "white",
            "showbackground": true,
            "ticks": "",
            "zerolinecolor": "white"
           }
          },
          "shapedefaults": {
           "line": {
            "color": "#2a3f5f"
           }
          },
          "ternary": {
           "aaxis": {
            "gridcolor": "white",
            "linecolor": "white",
            "ticks": ""
           },
           "baxis": {
            "gridcolor": "white",
            "linecolor": "white",
            "ticks": ""
           },
           "bgcolor": "#E5ECF6",
           "caxis": {
            "gridcolor": "white",
            "linecolor": "white",
            "ticks": ""
           }
          },
          "title": {
           "x": 0.05
          },
          "xaxis": {
           "automargin": true,
           "gridcolor": "white",
           "linecolor": "white",
           "ticks": "",
           "title": {
            "standoff": 15
           },
           "zerolinecolor": "white",
           "zerolinewidth": 2
          },
          "yaxis": {
           "automargin": true,
           "gridcolor": "white",
           "linecolor": "white",
           "ticks": "",
           "title": {
            "standoff": 15
           },
           "zerolinecolor": "white",
           "zerolinewidth": 2
          }
         }
        },
        "title": {
         "font": {
          "color": "#4D5663"
         }
        },
        "xaxis": {
         "gridcolor": "#E1E5ED",
         "showgrid": true,
         "tickfont": {
          "color": "#4D5663"
         },
         "title": {
          "font": {
           "color": "#4D5663"
          },
          "text": ""
         },
         "zerolinecolor": "#E1E5ED"
        },
        "yaxis": {
         "gridcolor": "#E1E5ED",
         "showgrid": true,
         "tickfont": {
          "color": "#4D5663"
         },
         "title": {
          "font": {
           "color": "#4D5663"
          },
          "text": ""
         },
         "zerolinecolor": "#E1E5ED"
        }
       }
      },
      "text/html": [
       "<div>                            <div id=\"c3b766a0-eab0-4d74-b291-e270595eee49\" class=\"plotly-graph-div\" style=\"height:525px; width:100%;\"></div>            <script type=\"text/javascript\">                require([\"plotly\"], function(Plotly) {                    window.PLOTLYENV=window.PLOTLYENV || {};\n",
       "                    window.PLOTLYENV.BASE_URL='https://plot.ly';                                    if (document.getElementById(\"c3b766a0-eab0-4d74-b291-e270595eee49\")) {                    Plotly.newPlot(                        \"c3b766a0-eab0-4d74-b291-e270595eee49\",                        [{\"marker\":{\"color\":\"rgba(255, 153, 51, 0.6)\",\"line\":{\"color\":\"rgba(255, 153, 51, 1.0)\",\"width\":1}},\"name\":\"Valores\",\"orientation\":\"v\",\"text\":\"\",\"x\":[\"A\",\"B\",\"C\"],\"y\":[32,43,50],\"type\":\"bar\"}],                        {\"legend\":{\"bgcolor\":\"#F5F6F9\",\"font\":{\"color\":\"#4D5663\"}},\"paper_bgcolor\":\"#F5F6F9\",\"plot_bgcolor\":\"#F5F6F9\",\"template\":{\"data\":{\"barpolar\":[{\"marker\":{\"line\":{\"color\":\"#E5ECF6\",\"width\":0.5},\"pattern\":{\"fillmode\":\"overlay\",\"size\":10,\"solidity\":0.2}},\"type\":\"barpolar\"}],\"bar\":[{\"error_x\":{\"color\":\"#2a3f5f\"},\"error_y\":{\"color\":\"#2a3f5f\"},\"marker\":{\"line\":{\"color\":\"#E5ECF6\",\"width\":0.5},\"pattern\":{\"fillmode\":\"overlay\",\"size\":10,\"solidity\":0.2}},\"type\":\"bar\"}],\"carpet\":[{\"aaxis\":{\"endlinecolor\":\"#2a3f5f\",\"gridcolor\":\"white\",\"linecolor\":\"white\",\"minorgridcolor\":\"white\",\"startlinecolor\":\"#2a3f5f\"},\"baxis\":{\"endlinecolor\":\"#2a3f5f\",\"gridcolor\":\"white\",\"linecolor\":\"white\",\"minorgridcolor\":\"white\",\"startlinecolor\":\"#2a3f5f\"},\"type\":\"carpet\"}],\"choropleth\":[{\"colorbar\":{\"outlinewidth\":0,\"ticks\":\"\"},\"type\":\"choropleth\"}],\"contourcarpet\":[{\"colorbar\":{\"outlinewidth\":0,\"ticks\":\"\"},\"type\":\"contourcarpet\"}],\"contour\":[{\"colorbar\":{\"outlinewidth\":0,\"ticks\":\"\"},\"colorscale\":[[0.0,\"#0d0887\"],[0.1111111111111111,\"#46039f\"],[0.2222222222222222,\"#7201a8\"],[0.3333333333333333,\"#9c179e\"],[0.4444444444444444,\"#bd3786\"],[0.5555555555555556,\"#d8576b\"],[0.6666666666666666,\"#ed7953\"],[0.7777777777777778,\"#fb9f3a\"],[0.8888888888888888,\"#fdca26\"],[1.0,\"#f0f921\"]],\"type\":\"contour\"}],\"heatmapgl\":[{\"colorbar\":{\"outlinewidth\":0,\"ticks\":\"\"},\"colorscale\":[[0.0,\"#0d0887\"],[0.1111111111111111,\"#46039f\"],[0.2222222222222222,\"#7201a8\"],[0.3333333333333333,\"#9c179e\"],[0.4444444444444444,\"#bd3786\"],[0.5555555555555556,\"#d8576b\"],[0.6666666666666666,\"#ed7953\"],[0.7777777777777778,\"#fb9f3a\"],[0.8888888888888888,\"#fdca26\"],[1.0,\"#f0f921\"]],\"type\":\"heatmapgl\"}],\"heatmap\":[{\"colorbar\":{\"outlinewidth\":0,\"ticks\":\"\"},\"colorscale\":[[0.0,\"#0d0887\"],[0.1111111111111111,\"#46039f\"],[0.2222222222222222,\"#7201a8\"],[0.3333333333333333,\"#9c179e\"],[0.4444444444444444,\"#bd3786\"],[0.5555555555555556,\"#d8576b\"],[0.6666666666666666,\"#ed7953\"],[0.7777777777777778,\"#fb9f3a\"],[0.8888888888888888,\"#fdca26\"],[1.0,\"#f0f921\"]],\"type\":\"heatmap\"}],\"histogram2dcontour\":[{\"colorbar\":{\"outlinewidth\":0,\"ticks\":\"\"},\"colorscale\":[[0.0,\"#0d0887\"],[0.1111111111111111,\"#46039f\"],[0.2222222222222222,\"#7201a8\"],[0.3333333333333333,\"#9c179e\"],[0.4444444444444444,\"#bd3786\"],[0.5555555555555556,\"#d8576b\"],[0.6666666666666666,\"#ed7953\"],[0.7777777777777778,\"#fb9f3a\"],[0.8888888888888888,\"#fdca26\"],[1.0,\"#f0f921\"]],\"type\":\"histogram2dcontour\"}],\"histogram2d\":[{\"colorbar\":{\"outlinewidth\":0,\"ticks\":\"\"},\"colorscale\":[[0.0,\"#0d0887\"],[0.1111111111111111,\"#46039f\"],[0.2222222222222222,\"#7201a8\"],[0.3333333333333333,\"#9c179e\"],[0.4444444444444444,\"#bd3786\"],[0.5555555555555556,\"#d8576b\"],[0.6666666666666666,\"#ed7953\"],[0.7777777777777778,\"#fb9f3a\"],[0.8888888888888888,\"#fdca26\"],[1.0,\"#f0f921\"]],\"type\":\"histogram2d\"}],\"histogram\":[{\"marker\":{\"pattern\":{\"fillmode\":\"overlay\",\"size\":10,\"solidity\":0.2}},\"type\":\"histogram\"}],\"mesh3d\":[{\"colorbar\":{\"outlinewidth\":0,\"ticks\":\"\"},\"type\":\"mesh3d\"}],\"parcoords\":[{\"line\":{\"colorbar\":{\"outlinewidth\":0,\"ticks\":\"\"}},\"type\":\"parcoords\"}],\"pie\":[{\"automargin\":true,\"type\":\"pie\"}],\"scatter3d\":[{\"line\":{\"colorbar\":{\"outlinewidth\":0,\"ticks\":\"\"}},\"marker\":{\"colorbar\":{\"outlinewidth\":0,\"ticks\":\"\"}},\"type\":\"scatter3d\"}],\"scattercarpet\":[{\"marker\":{\"colorbar\":{\"outlinewidth\":0,\"ticks\":\"\"}},\"type\":\"scattercarpet\"}],\"scattergeo\":[{\"marker\":{\"colorbar\":{\"outlinewidth\":0,\"ticks\":\"\"}},\"type\":\"scattergeo\"}],\"scattergl\":[{\"marker\":{\"colorbar\":{\"outlinewidth\":0,\"ticks\":\"\"}},\"type\":\"scattergl\"}],\"scattermapbox\":[{\"marker\":{\"colorbar\":{\"outlinewidth\":0,\"ticks\":\"\"}},\"type\":\"scattermapbox\"}],\"scatterpolargl\":[{\"marker\":{\"colorbar\":{\"outlinewidth\":0,\"ticks\":\"\"}},\"type\":\"scatterpolargl\"}],\"scatterpolar\":[{\"marker\":{\"colorbar\":{\"outlinewidth\":0,\"ticks\":\"\"}},\"type\":\"scatterpolar\"}],\"scatter\":[{\"fillpattern\":{\"fillmode\":\"overlay\",\"size\":10,\"solidity\":0.2},\"type\":\"scatter\"}],\"scatterternary\":[{\"marker\":{\"colorbar\":{\"outlinewidth\":0,\"ticks\":\"\"}},\"type\":\"scatterternary\"}],\"surface\":[{\"colorbar\":{\"outlinewidth\":0,\"ticks\":\"\"},\"colorscale\":[[0.0,\"#0d0887\"],[0.1111111111111111,\"#46039f\"],[0.2222222222222222,\"#7201a8\"],[0.3333333333333333,\"#9c179e\"],[0.4444444444444444,\"#bd3786\"],[0.5555555555555556,\"#d8576b\"],[0.6666666666666666,\"#ed7953\"],[0.7777777777777778,\"#fb9f3a\"],[0.8888888888888888,\"#fdca26\"],[1.0,\"#f0f921\"]],\"type\":\"surface\"}],\"table\":[{\"cells\":{\"fill\":{\"color\":\"#EBF0F8\"},\"line\":{\"color\":\"white\"}},\"header\":{\"fill\":{\"color\":\"#C8D4E3\"},\"line\":{\"color\":\"white\"}},\"type\":\"table\"}]},\"layout\":{\"annotationdefaults\":{\"arrowcolor\":\"#2a3f5f\",\"arrowhead\":0,\"arrowwidth\":1},\"autotypenumbers\":\"strict\",\"coloraxis\":{\"colorbar\":{\"outlinewidth\":0,\"ticks\":\"\"}},\"colorscale\":{\"diverging\":[[0,\"#8e0152\"],[0.1,\"#c51b7d\"],[0.2,\"#de77ae\"],[0.3,\"#f1b6da\"],[0.4,\"#fde0ef\"],[0.5,\"#f7f7f7\"],[0.6,\"#e6f5d0\"],[0.7,\"#b8e186\"],[0.8,\"#7fbc41\"],[0.9,\"#4d9221\"],[1,\"#276419\"]],\"sequential\":[[0.0,\"#0d0887\"],[0.1111111111111111,\"#46039f\"],[0.2222222222222222,\"#7201a8\"],[0.3333333333333333,\"#9c179e\"],[0.4444444444444444,\"#bd3786\"],[0.5555555555555556,\"#d8576b\"],[0.6666666666666666,\"#ed7953\"],[0.7777777777777778,\"#fb9f3a\"],[0.8888888888888888,\"#fdca26\"],[1.0,\"#f0f921\"]],\"sequentialminus\":[[0.0,\"#0d0887\"],[0.1111111111111111,\"#46039f\"],[0.2222222222222222,\"#7201a8\"],[0.3333333333333333,\"#9c179e\"],[0.4444444444444444,\"#bd3786\"],[0.5555555555555556,\"#d8576b\"],[0.6666666666666666,\"#ed7953\"],[0.7777777777777778,\"#fb9f3a\"],[0.8888888888888888,\"#fdca26\"],[1.0,\"#f0f921\"]]},\"colorway\":[\"#636efa\",\"#EF553B\",\"#00cc96\",\"#ab63fa\",\"#FFA15A\",\"#19d3f3\",\"#FF6692\",\"#B6E880\",\"#FF97FF\",\"#FECB52\"],\"font\":{\"color\":\"#2a3f5f\"},\"geo\":{\"bgcolor\":\"white\",\"lakecolor\":\"white\",\"landcolor\":\"#E5ECF6\",\"showlakes\":true,\"showland\":true,\"subunitcolor\":\"white\"},\"hoverlabel\":{\"align\":\"left\"},\"hovermode\":\"closest\",\"mapbox\":{\"style\":\"light\"},\"paper_bgcolor\":\"white\",\"plot_bgcolor\":\"#E5ECF6\",\"polar\":{\"angularaxis\":{\"gridcolor\":\"white\",\"linecolor\":\"white\",\"ticks\":\"\"},\"bgcolor\":\"#E5ECF6\",\"radialaxis\":{\"gridcolor\":\"white\",\"linecolor\":\"white\",\"ticks\":\"\"}},\"scene\":{\"xaxis\":{\"backgroundcolor\":\"#E5ECF6\",\"gridcolor\":\"white\",\"gridwidth\":2,\"linecolor\":\"white\",\"showbackground\":true,\"ticks\":\"\",\"zerolinecolor\":\"white\"},\"yaxis\":{\"backgroundcolor\":\"#E5ECF6\",\"gridcolor\":\"white\",\"gridwidth\":2,\"linecolor\":\"white\",\"showbackground\":true,\"ticks\":\"\",\"zerolinecolor\":\"white\"},\"zaxis\":{\"backgroundcolor\":\"#E5ECF6\",\"gridcolor\":\"white\",\"gridwidth\":2,\"linecolor\":\"white\",\"showbackground\":true,\"ticks\":\"\",\"zerolinecolor\":\"white\"}},\"shapedefaults\":{\"line\":{\"color\":\"#2a3f5f\"}},\"ternary\":{\"aaxis\":{\"gridcolor\":\"white\",\"linecolor\":\"white\",\"ticks\":\"\"},\"baxis\":{\"gridcolor\":\"white\",\"linecolor\":\"white\",\"ticks\":\"\"},\"bgcolor\":\"#E5ECF6\",\"caxis\":{\"gridcolor\":\"white\",\"linecolor\":\"white\",\"ticks\":\"\"}},\"title\":{\"x\":0.05},\"xaxis\":{\"automargin\":true,\"gridcolor\":\"white\",\"linecolor\":\"white\",\"ticks\":\"\",\"title\":{\"standoff\":15},\"zerolinecolor\":\"white\",\"zerolinewidth\":2},\"yaxis\":{\"automargin\":true,\"gridcolor\":\"white\",\"linecolor\":\"white\",\"ticks\":\"\",\"title\":{\"standoff\":15},\"zerolinecolor\":\"white\",\"zerolinewidth\":2}}},\"title\":{\"font\":{\"color\":\"#4D5663\"}},\"xaxis\":{\"gridcolor\":\"#E1E5ED\",\"showgrid\":true,\"tickfont\":{\"color\":\"#4D5663\"},\"title\":{\"font\":{\"color\":\"#4D5663\"},\"text\":\"\"},\"zerolinecolor\":\"#E1E5ED\"},\"yaxis\":{\"gridcolor\":\"#E1E5ED\",\"showgrid\":true,\"tickfont\":{\"color\":\"#4D5663\"},\"title\":{\"font\":{\"color\":\"#4D5663\"},\"text\":\"\"},\"zerolinecolor\":\"#E1E5ED\"}},                        {\"showLink\": true, \"linkText\": \"Export to plot.ly\", \"plotlyServerURL\": \"https://plot.ly\", \"responsive\": true}                    ).then(function(){\n",
       "                            \n",
       "var gd = document.getElementById('c3b766a0-eab0-4d74-b291-e270595eee49');\n",
       "var x = new MutationObserver(function (mutations, observer) {{\n",
       "        var display = window.getComputedStyle(gd).display;\n",
       "        if (!display || display === 'none') {{\n",
       "            console.log([gd, 'removed!']);\n",
       "            Plotly.purge(gd);\n",
       "            observer.disconnect();\n",
       "        }}\n",
       "}});\n",
       "\n",
       "// Listen for the removal of the full notebook cells\n",
       "var notebookContainer = gd.closest('#notebook-container');\n",
       "if (notebookContainer) {{\n",
       "    x.observe(notebookContainer, {childList: true});\n",
       "}}\n",
       "\n",
       "// Listen for the clearing of the current output cell\n",
       "var outputEl = gd.closest('.output');\n",
       "if (outputEl) {{\n",
       "    x.observe(outputEl, {childList: true});\n",
       "}}\n",
       "\n",
       "                        })                };                });            </script>        </div>"
      ]
     },
     "metadata": {},
     "output_type": "display_data"
    }
   ],
   "source": [
    "df2.iplot(kind='bar',x='Categoria',y='Valores')"
   ]
  },
  {
   "cell_type": "code",
   "execution_count": 13,
   "metadata": {},
   "outputs": [
    {
     "data": {
      "application/vnd.plotly.v1+json": {
       "config": {
        "linkText": "Export to plot.ly",
        "plotlyServerURL": "https://plot.ly",
        "showLink": true
       },
       "data": [
        {
         "marker": {
          "color": "rgba(255, 153, 51, 0.6)",
          "line": {
           "color": "rgba(255, 153, 51, 1.0)",
           "width": 1
          }
         },
         "name": "None",
         "orientation": "v",
         "text": "",
         "type": "bar",
         "x": [
          "A",
          "B",
          "C",
          "D"
         ],
         "y": [
          100,
          100,
          100,
          100
         ]
        }
       ],
       "layout": {
        "legend": {
         "bgcolor": "#F5F6F9",
         "font": {
          "color": "#4D5663"
         }
        },
        "paper_bgcolor": "#F5F6F9",
        "plot_bgcolor": "#F5F6F9",
        "template": {
         "data": {
          "bar": [
           {
            "error_x": {
             "color": "#2a3f5f"
            },
            "error_y": {
             "color": "#2a3f5f"
            },
            "marker": {
             "line": {
              "color": "#E5ECF6",
              "width": 0.5
             },
             "pattern": {
              "fillmode": "overlay",
              "size": 10,
              "solidity": 0.2
             }
            },
            "type": "bar"
           }
          ],
          "barpolar": [
           {
            "marker": {
             "line": {
              "color": "#E5ECF6",
              "width": 0.5
             },
             "pattern": {
              "fillmode": "overlay",
              "size": 10,
              "solidity": 0.2
             }
            },
            "type": "barpolar"
           }
          ],
          "carpet": [
           {
            "aaxis": {
             "endlinecolor": "#2a3f5f",
             "gridcolor": "white",
             "linecolor": "white",
             "minorgridcolor": "white",
             "startlinecolor": "#2a3f5f"
            },
            "baxis": {
             "endlinecolor": "#2a3f5f",
             "gridcolor": "white",
             "linecolor": "white",
             "minorgridcolor": "white",
             "startlinecolor": "#2a3f5f"
            },
            "type": "carpet"
           }
          ],
          "choropleth": [
           {
            "colorbar": {
             "outlinewidth": 0,
             "ticks": ""
            },
            "type": "choropleth"
           }
          ],
          "contour": [
           {
            "colorbar": {
             "outlinewidth": 0,
             "ticks": ""
            },
            "colorscale": [
             [
              0,
              "#0d0887"
             ],
             [
              0.1111111111111111,
              "#46039f"
             ],
             [
              0.2222222222222222,
              "#7201a8"
             ],
             [
              0.3333333333333333,
              "#9c179e"
             ],
             [
              0.4444444444444444,
              "#bd3786"
             ],
             [
              0.5555555555555556,
              "#d8576b"
             ],
             [
              0.6666666666666666,
              "#ed7953"
             ],
             [
              0.7777777777777778,
              "#fb9f3a"
             ],
             [
              0.8888888888888888,
              "#fdca26"
             ],
             [
              1,
              "#f0f921"
             ]
            ],
            "type": "contour"
           }
          ],
          "contourcarpet": [
           {
            "colorbar": {
             "outlinewidth": 0,
             "ticks": ""
            },
            "type": "contourcarpet"
           }
          ],
          "heatmap": [
           {
            "colorbar": {
             "outlinewidth": 0,
             "ticks": ""
            },
            "colorscale": [
             [
              0,
              "#0d0887"
             ],
             [
              0.1111111111111111,
              "#46039f"
             ],
             [
              0.2222222222222222,
              "#7201a8"
             ],
             [
              0.3333333333333333,
              "#9c179e"
             ],
             [
              0.4444444444444444,
              "#bd3786"
             ],
             [
              0.5555555555555556,
              "#d8576b"
             ],
             [
              0.6666666666666666,
              "#ed7953"
             ],
             [
              0.7777777777777778,
              "#fb9f3a"
             ],
             [
              0.8888888888888888,
              "#fdca26"
             ],
             [
              1,
              "#f0f921"
             ]
            ],
            "type": "heatmap"
           }
          ],
          "heatmapgl": [
           {
            "colorbar": {
             "outlinewidth": 0,
             "ticks": ""
            },
            "colorscale": [
             [
              0,
              "#0d0887"
             ],
             [
              0.1111111111111111,
              "#46039f"
             ],
             [
              0.2222222222222222,
              "#7201a8"
             ],
             [
              0.3333333333333333,
              "#9c179e"
             ],
             [
              0.4444444444444444,
              "#bd3786"
             ],
             [
              0.5555555555555556,
              "#d8576b"
             ],
             [
              0.6666666666666666,
              "#ed7953"
             ],
             [
              0.7777777777777778,
              "#fb9f3a"
             ],
             [
              0.8888888888888888,
              "#fdca26"
             ],
             [
              1,
              "#f0f921"
             ]
            ],
            "type": "heatmapgl"
           }
          ],
          "histogram": [
           {
            "marker": {
             "pattern": {
              "fillmode": "overlay",
              "size": 10,
              "solidity": 0.2
             }
            },
            "type": "histogram"
           }
          ],
          "histogram2d": [
           {
            "colorbar": {
             "outlinewidth": 0,
             "ticks": ""
            },
            "colorscale": [
             [
              0,
              "#0d0887"
             ],
             [
              0.1111111111111111,
              "#46039f"
             ],
             [
              0.2222222222222222,
              "#7201a8"
             ],
             [
              0.3333333333333333,
              "#9c179e"
             ],
             [
              0.4444444444444444,
              "#bd3786"
             ],
             [
              0.5555555555555556,
              "#d8576b"
             ],
             [
              0.6666666666666666,
              "#ed7953"
             ],
             [
              0.7777777777777778,
              "#fb9f3a"
             ],
             [
              0.8888888888888888,
              "#fdca26"
             ],
             [
              1,
              "#f0f921"
             ]
            ],
            "type": "histogram2d"
           }
          ],
          "histogram2dcontour": [
           {
            "colorbar": {
             "outlinewidth": 0,
             "ticks": ""
            },
            "colorscale": [
             [
              0,
              "#0d0887"
             ],
             [
              0.1111111111111111,
              "#46039f"
             ],
             [
              0.2222222222222222,
              "#7201a8"
             ],
             [
              0.3333333333333333,
              "#9c179e"
             ],
             [
              0.4444444444444444,
              "#bd3786"
             ],
             [
              0.5555555555555556,
              "#d8576b"
             ],
             [
              0.6666666666666666,
              "#ed7953"
             ],
             [
              0.7777777777777778,
              "#fb9f3a"
             ],
             [
              0.8888888888888888,
              "#fdca26"
             ],
             [
              1,
              "#f0f921"
             ]
            ],
            "type": "histogram2dcontour"
           }
          ],
          "mesh3d": [
           {
            "colorbar": {
             "outlinewidth": 0,
             "ticks": ""
            },
            "type": "mesh3d"
           }
          ],
          "parcoords": [
           {
            "line": {
             "colorbar": {
              "outlinewidth": 0,
              "ticks": ""
             }
            },
            "type": "parcoords"
           }
          ],
          "pie": [
           {
            "automargin": true,
            "type": "pie"
           }
          ],
          "scatter": [
           {
            "fillpattern": {
             "fillmode": "overlay",
             "size": 10,
             "solidity": 0.2
            },
            "type": "scatter"
           }
          ],
          "scatter3d": [
           {
            "line": {
             "colorbar": {
              "outlinewidth": 0,
              "ticks": ""
             }
            },
            "marker": {
             "colorbar": {
              "outlinewidth": 0,
              "ticks": ""
             }
            },
            "type": "scatter3d"
           }
          ],
          "scattercarpet": [
           {
            "marker": {
             "colorbar": {
              "outlinewidth": 0,
              "ticks": ""
             }
            },
            "type": "scattercarpet"
           }
          ],
          "scattergeo": [
           {
            "marker": {
             "colorbar": {
              "outlinewidth": 0,
              "ticks": ""
             }
            },
            "type": "scattergeo"
           }
          ],
          "scattergl": [
           {
            "marker": {
             "colorbar": {
              "outlinewidth": 0,
              "ticks": ""
             }
            },
            "type": "scattergl"
           }
          ],
          "scattermapbox": [
           {
            "marker": {
             "colorbar": {
              "outlinewidth": 0,
              "ticks": ""
             }
            },
            "type": "scattermapbox"
           }
          ],
          "scatterpolar": [
           {
            "marker": {
             "colorbar": {
              "outlinewidth": 0,
              "ticks": ""
             }
            },
            "type": "scatterpolar"
           }
          ],
          "scatterpolargl": [
           {
            "marker": {
             "colorbar": {
              "outlinewidth": 0,
              "ticks": ""
             }
            },
            "type": "scatterpolargl"
           }
          ],
          "scatterternary": [
           {
            "marker": {
             "colorbar": {
              "outlinewidth": 0,
              "ticks": ""
             }
            },
            "type": "scatterternary"
           }
          ],
          "surface": [
           {
            "colorbar": {
             "outlinewidth": 0,
             "ticks": ""
            },
            "colorscale": [
             [
              0,
              "#0d0887"
             ],
             [
              0.1111111111111111,
              "#46039f"
             ],
             [
              0.2222222222222222,
              "#7201a8"
             ],
             [
              0.3333333333333333,
              "#9c179e"
             ],
             [
              0.4444444444444444,
              "#bd3786"
             ],
             [
              0.5555555555555556,
              "#d8576b"
             ],
             [
              0.6666666666666666,
              "#ed7953"
             ],
             [
              0.7777777777777778,
              "#fb9f3a"
             ],
             [
              0.8888888888888888,
              "#fdca26"
             ],
             [
              1,
              "#f0f921"
             ]
            ],
            "type": "surface"
           }
          ],
          "table": [
           {
            "cells": {
             "fill": {
              "color": "#EBF0F8"
             },
             "line": {
              "color": "white"
             }
            },
            "header": {
             "fill": {
              "color": "#C8D4E3"
             },
             "line": {
              "color": "white"
             }
            },
            "type": "table"
           }
          ]
         },
         "layout": {
          "annotationdefaults": {
           "arrowcolor": "#2a3f5f",
           "arrowhead": 0,
           "arrowwidth": 1
          },
          "autotypenumbers": "strict",
          "coloraxis": {
           "colorbar": {
            "outlinewidth": 0,
            "ticks": ""
           }
          },
          "colorscale": {
           "diverging": [
            [
             0,
             "#8e0152"
            ],
            [
             0.1,
             "#c51b7d"
            ],
            [
             0.2,
             "#de77ae"
            ],
            [
             0.3,
             "#f1b6da"
            ],
            [
             0.4,
             "#fde0ef"
            ],
            [
             0.5,
             "#f7f7f7"
            ],
            [
             0.6,
             "#e6f5d0"
            ],
            [
             0.7,
             "#b8e186"
            ],
            [
             0.8,
             "#7fbc41"
            ],
            [
             0.9,
             "#4d9221"
            ],
            [
             1,
             "#276419"
            ]
           ],
           "sequential": [
            [
             0,
             "#0d0887"
            ],
            [
             0.1111111111111111,
             "#46039f"
            ],
            [
             0.2222222222222222,
             "#7201a8"
            ],
            [
             0.3333333333333333,
             "#9c179e"
            ],
            [
             0.4444444444444444,
             "#bd3786"
            ],
            [
             0.5555555555555556,
             "#d8576b"
            ],
            [
             0.6666666666666666,
             "#ed7953"
            ],
            [
             0.7777777777777778,
             "#fb9f3a"
            ],
            [
             0.8888888888888888,
             "#fdca26"
            ],
            [
             1,
             "#f0f921"
            ]
           ],
           "sequentialminus": [
            [
             0,
             "#0d0887"
            ],
            [
             0.1111111111111111,
             "#46039f"
            ],
            [
             0.2222222222222222,
             "#7201a8"
            ],
            [
             0.3333333333333333,
             "#9c179e"
            ],
            [
             0.4444444444444444,
             "#bd3786"
            ],
            [
             0.5555555555555556,
             "#d8576b"
            ],
            [
             0.6666666666666666,
             "#ed7953"
            ],
            [
             0.7777777777777778,
             "#fb9f3a"
            ],
            [
             0.8888888888888888,
             "#fdca26"
            ],
            [
             1,
             "#f0f921"
            ]
           ]
          },
          "colorway": [
           "#636efa",
           "#EF553B",
           "#00cc96",
           "#ab63fa",
           "#FFA15A",
           "#19d3f3",
           "#FF6692",
           "#B6E880",
           "#FF97FF",
           "#FECB52"
          ],
          "font": {
           "color": "#2a3f5f"
          },
          "geo": {
           "bgcolor": "white",
           "lakecolor": "white",
           "landcolor": "#E5ECF6",
           "showlakes": true,
           "showland": true,
           "subunitcolor": "white"
          },
          "hoverlabel": {
           "align": "left"
          },
          "hovermode": "closest",
          "mapbox": {
           "style": "light"
          },
          "paper_bgcolor": "white",
          "plot_bgcolor": "#E5ECF6",
          "polar": {
           "angularaxis": {
            "gridcolor": "white",
            "linecolor": "white",
            "ticks": ""
           },
           "bgcolor": "#E5ECF6",
           "radialaxis": {
            "gridcolor": "white",
            "linecolor": "white",
            "ticks": ""
           }
          },
          "scene": {
           "xaxis": {
            "backgroundcolor": "#E5ECF6",
            "gridcolor": "white",
            "gridwidth": 2,
            "linecolor": "white",
            "showbackground": true,
            "ticks": "",
            "zerolinecolor": "white"
           },
           "yaxis": {
            "backgroundcolor": "#E5ECF6",
            "gridcolor": "white",
            "gridwidth": 2,
            "linecolor": "white",
            "showbackground": true,
            "ticks": "",
            "zerolinecolor": "white"
           },
           "zaxis": {
            "backgroundcolor": "#E5ECF6",
            "gridcolor": "white",
            "gridwidth": 2,
            "linecolor": "white",
            "showbackground": true,
            "ticks": "",
            "zerolinecolor": "white"
           }
          },
          "shapedefaults": {
           "line": {
            "color": "#2a3f5f"
           }
          },
          "ternary": {
           "aaxis": {
            "gridcolor": "white",
            "linecolor": "white",
            "ticks": ""
           },
           "baxis": {
            "gridcolor": "white",
            "linecolor": "white",
            "ticks": ""
           },
           "bgcolor": "#E5ECF6",
           "caxis": {
            "gridcolor": "white",
            "linecolor": "white",
            "ticks": ""
           }
          },
          "title": {
           "x": 0.05
          },
          "xaxis": {
           "automargin": true,
           "gridcolor": "white",
           "linecolor": "white",
           "ticks": "",
           "title": {
            "standoff": 15
           },
           "zerolinecolor": "white",
           "zerolinewidth": 2
          },
          "yaxis": {
           "automargin": true,
           "gridcolor": "white",
           "linecolor": "white",
           "ticks": "",
           "title": {
            "standoff": 15
           },
           "zerolinecolor": "white",
           "zerolinewidth": 2
          }
         }
        },
        "title": {
         "font": {
          "color": "#4D5663"
         }
        },
        "xaxis": {
         "gridcolor": "#E1E5ED",
         "showgrid": true,
         "tickfont": {
          "color": "#4D5663"
         },
         "title": {
          "font": {
           "color": "#4D5663"
          },
          "text": ""
         },
         "zerolinecolor": "#E1E5ED"
        },
        "yaxis": {
         "gridcolor": "#E1E5ED",
         "showgrid": true,
         "tickfont": {
          "color": "#4D5663"
         },
         "title": {
          "font": {
           "color": "#4D5663"
          },
          "text": ""
         },
         "zerolinecolor": "#E1E5ED"
        }
       }
      },
      "text/html": [
       "<div>                            <div id=\"6faecc67-2b92-4c56-8815-209c94bc3a7a\" class=\"plotly-graph-div\" style=\"height:525px; width:100%;\"></div>            <script type=\"text/javascript\">                require([\"plotly\"], function(Plotly) {                    window.PLOTLYENV=window.PLOTLYENV || {};\n",
       "                    window.PLOTLYENV.BASE_URL='https://plot.ly';                                    if (document.getElementById(\"6faecc67-2b92-4c56-8815-209c94bc3a7a\")) {                    Plotly.newPlot(                        \"6faecc67-2b92-4c56-8815-209c94bc3a7a\",                        [{\"marker\":{\"color\":\"rgba(255, 153, 51, 0.6)\",\"line\":{\"color\":\"rgba(255, 153, 51, 1.0)\",\"width\":1}},\"name\":\"None\",\"orientation\":\"v\",\"text\":\"\",\"x\":[\"A\",\"B\",\"C\",\"D\"],\"y\":[100,100,100,100],\"type\":\"bar\"}],                        {\"legend\":{\"bgcolor\":\"#F5F6F9\",\"font\":{\"color\":\"#4D5663\"}},\"paper_bgcolor\":\"#F5F6F9\",\"plot_bgcolor\":\"#F5F6F9\",\"template\":{\"data\":{\"barpolar\":[{\"marker\":{\"line\":{\"color\":\"#E5ECF6\",\"width\":0.5},\"pattern\":{\"fillmode\":\"overlay\",\"size\":10,\"solidity\":0.2}},\"type\":\"barpolar\"}],\"bar\":[{\"error_x\":{\"color\":\"#2a3f5f\"},\"error_y\":{\"color\":\"#2a3f5f\"},\"marker\":{\"line\":{\"color\":\"#E5ECF6\",\"width\":0.5},\"pattern\":{\"fillmode\":\"overlay\",\"size\":10,\"solidity\":0.2}},\"type\":\"bar\"}],\"carpet\":[{\"aaxis\":{\"endlinecolor\":\"#2a3f5f\",\"gridcolor\":\"white\",\"linecolor\":\"white\",\"minorgridcolor\":\"white\",\"startlinecolor\":\"#2a3f5f\"},\"baxis\":{\"endlinecolor\":\"#2a3f5f\",\"gridcolor\":\"white\",\"linecolor\":\"white\",\"minorgridcolor\":\"white\",\"startlinecolor\":\"#2a3f5f\"},\"type\":\"carpet\"}],\"choropleth\":[{\"colorbar\":{\"outlinewidth\":0,\"ticks\":\"\"},\"type\":\"choropleth\"}],\"contourcarpet\":[{\"colorbar\":{\"outlinewidth\":0,\"ticks\":\"\"},\"type\":\"contourcarpet\"}],\"contour\":[{\"colorbar\":{\"outlinewidth\":0,\"ticks\":\"\"},\"colorscale\":[[0.0,\"#0d0887\"],[0.1111111111111111,\"#46039f\"],[0.2222222222222222,\"#7201a8\"],[0.3333333333333333,\"#9c179e\"],[0.4444444444444444,\"#bd3786\"],[0.5555555555555556,\"#d8576b\"],[0.6666666666666666,\"#ed7953\"],[0.7777777777777778,\"#fb9f3a\"],[0.8888888888888888,\"#fdca26\"],[1.0,\"#f0f921\"]],\"type\":\"contour\"}],\"heatmapgl\":[{\"colorbar\":{\"outlinewidth\":0,\"ticks\":\"\"},\"colorscale\":[[0.0,\"#0d0887\"],[0.1111111111111111,\"#46039f\"],[0.2222222222222222,\"#7201a8\"],[0.3333333333333333,\"#9c179e\"],[0.4444444444444444,\"#bd3786\"],[0.5555555555555556,\"#d8576b\"],[0.6666666666666666,\"#ed7953\"],[0.7777777777777778,\"#fb9f3a\"],[0.8888888888888888,\"#fdca26\"],[1.0,\"#f0f921\"]],\"type\":\"heatmapgl\"}],\"heatmap\":[{\"colorbar\":{\"outlinewidth\":0,\"ticks\":\"\"},\"colorscale\":[[0.0,\"#0d0887\"],[0.1111111111111111,\"#46039f\"],[0.2222222222222222,\"#7201a8\"],[0.3333333333333333,\"#9c179e\"],[0.4444444444444444,\"#bd3786\"],[0.5555555555555556,\"#d8576b\"],[0.6666666666666666,\"#ed7953\"],[0.7777777777777778,\"#fb9f3a\"],[0.8888888888888888,\"#fdca26\"],[1.0,\"#f0f921\"]],\"type\":\"heatmap\"}],\"histogram2dcontour\":[{\"colorbar\":{\"outlinewidth\":0,\"ticks\":\"\"},\"colorscale\":[[0.0,\"#0d0887\"],[0.1111111111111111,\"#46039f\"],[0.2222222222222222,\"#7201a8\"],[0.3333333333333333,\"#9c179e\"],[0.4444444444444444,\"#bd3786\"],[0.5555555555555556,\"#d8576b\"],[0.6666666666666666,\"#ed7953\"],[0.7777777777777778,\"#fb9f3a\"],[0.8888888888888888,\"#fdca26\"],[1.0,\"#f0f921\"]],\"type\":\"histogram2dcontour\"}],\"histogram2d\":[{\"colorbar\":{\"outlinewidth\":0,\"ticks\":\"\"},\"colorscale\":[[0.0,\"#0d0887\"],[0.1111111111111111,\"#46039f\"],[0.2222222222222222,\"#7201a8\"],[0.3333333333333333,\"#9c179e\"],[0.4444444444444444,\"#bd3786\"],[0.5555555555555556,\"#d8576b\"],[0.6666666666666666,\"#ed7953\"],[0.7777777777777778,\"#fb9f3a\"],[0.8888888888888888,\"#fdca26\"],[1.0,\"#f0f921\"]],\"type\":\"histogram2d\"}],\"histogram\":[{\"marker\":{\"pattern\":{\"fillmode\":\"overlay\",\"size\":10,\"solidity\":0.2}},\"type\":\"histogram\"}],\"mesh3d\":[{\"colorbar\":{\"outlinewidth\":0,\"ticks\":\"\"},\"type\":\"mesh3d\"}],\"parcoords\":[{\"line\":{\"colorbar\":{\"outlinewidth\":0,\"ticks\":\"\"}},\"type\":\"parcoords\"}],\"pie\":[{\"automargin\":true,\"type\":\"pie\"}],\"scatter3d\":[{\"line\":{\"colorbar\":{\"outlinewidth\":0,\"ticks\":\"\"}},\"marker\":{\"colorbar\":{\"outlinewidth\":0,\"ticks\":\"\"}},\"type\":\"scatter3d\"}],\"scattercarpet\":[{\"marker\":{\"colorbar\":{\"outlinewidth\":0,\"ticks\":\"\"}},\"type\":\"scattercarpet\"}],\"scattergeo\":[{\"marker\":{\"colorbar\":{\"outlinewidth\":0,\"ticks\":\"\"}},\"type\":\"scattergeo\"}],\"scattergl\":[{\"marker\":{\"colorbar\":{\"outlinewidth\":0,\"ticks\":\"\"}},\"type\":\"scattergl\"}],\"scattermapbox\":[{\"marker\":{\"colorbar\":{\"outlinewidth\":0,\"ticks\":\"\"}},\"type\":\"scattermapbox\"}],\"scatterpolargl\":[{\"marker\":{\"colorbar\":{\"outlinewidth\":0,\"ticks\":\"\"}},\"type\":\"scatterpolargl\"}],\"scatterpolar\":[{\"marker\":{\"colorbar\":{\"outlinewidth\":0,\"ticks\":\"\"}},\"type\":\"scatterpolar\"}],\"scatter\":[{\"fillpattern\":{\"fillmode\":\"overlay\",\"size\":10,\"solidity\":0.2},\"type\":\"scatter\"}],\"scatterternary\":[{\"marker\":{\"colorbar\":{\"outlinewidth\":0,\"ticks\":\"\"}},\"type\":\"scatterternary\"}],\"surface\":[{\"colorbar\":{\"outlinewidth\":0,\"ticks\":\"\"},\"colorscale\":[[0.0,\"#0d0887\"],[0.1111111111111111,\"#46039f\"],[0.2222222222222222,\"#7201a8\"],[0.3333333333333333,\"#9c179e\"],[0.4444444444444444,\"#bd3786\"],[0.5555555555555556,\"#d8576b\"],[0.6666666666666666,\"#ed7953\"],[0.7777777777777778,\"#fb9f3a\"],[0.8888888888888888,\"#fdca26\"],[1.0,\"#f0f921\"]],\"type\":\"surface\"}],\"table\":[{\"cells\":{\"fill\":{\"color\":\"#EBF0F8\"},\"line\":{\"color\":\"white\"}},\"header\":{\"fill\":{\"color\":\"#C8D4E3\"},\"line\":{\"color\":\"white\"}},\"type\":\"table\"}]},\"layout\":{\"annotationdefaults\":{\"arrowcolor\":\"#2a3f5f\",\"arrowhead\":0,\"arrowwidth\":1},\"autotypenumbers\":\"strict\",\"coloraxis\":{\"colorbar\":{\"outlinewidth\":0,\"ticks\":\"\"}},\"colorscale\":{\"diverging\":[[0,\"#8e0152\"],[0.1,\"#c51b7d\"],[0.2,\"#de77ae\"],[0.3,\"#f1b6da\"],[0.4,\"#fde0ef\"],[0.5,\"#f7f7f7\"],[0.6,\"#e6f5d0\"],[0.7,\"#b8e186\"],[0.8,\"#7fbc41\"],[0.9,\"#4d9221\"],[1,\"#276419\"]],\"sequential\":[[0.0,\"#0d0887\"],[0.1111111111111111,\"#46039f\"],[0.2222222222222222,\"#7201a8\"],[0.3333333333333333,\"#9c179e\"],[0.4444444444444444,\"#bd3786\"],[0.5555555555555556,\"#d8576b\"],[0.6666666666666666,\"#ed7953\"],[0.7777777777777778,\"#fb9f3a\"],[0.8888888888888888,\"#fdca26\"],[1.0,\"#f0f921\"]],\"sequentialminus\":[[0.0,\"#0d0887\"],[0.1111111111111111,\"#46039f\"],[0.2222222222222222,\"#7201a8\"],[0.3333333333333333,\"#9c179e\"],[0.4444444444444444,\"#bd3786\"],[0.5555555555555556,\"#d8576b\"],[0.6666666666666666,\"#ed7953\"],[0.7777777777777778,\"#fb9f3a\"],[0.8888888888888888,\"#fdca26\"],[1.0,\"#f0f921\"]]},\"colorway\":[\"#636efa\",\"#EF553B\",\"#00cc96\",\"#ab63fa\",\"#FFA15A\",\"#19d3f3\",\"#FF6692\",\"#B6E880\",\"#FF97FF\",\"#FECB52\"],\"font\":{\"color\":\"#2a3f5f\"},\"geo\":{\"bgcolor\":\"white\",\"lakecolor\":\"white\",\"landcolor\":\"#E5ECF6\",\"showlakes\":true,\"showland\":true,\"subunitcolor\":\"white\"},\"hoverlabel\":{\"align\":\"left\"},\"hovermode\":\"closest\",\"mapbox\":{\"style\":\"light\"},\"paper_bgcolor\":\"white\",\"plot_bgcolor\":\"#E5ECF6\",\"polar\":{\"angularaxis\":{\"gridcolor\":\"white\",\"linecolor\":\"white\",\"ticks\":\"\"},\"bgcolor\":\"#E5ECF6\",\"radialaxis\":{\"gridcolor\":\"white\",\"linecolor\":\"white\",\"ticks\":\"\"}},\"scene\":{\"xaxis\":{\"backgroundcolor\":\"#E5ECF6\",\"gridcolor\":\"white\",\"gridwidth\":2,\"linecolor\":\"white\",\"showbackground\":true,\"ticks\":\"\",\"zerolinecolor\":\"white\"},\"yaxis\":{\"backgroundcolor\":\"#E5ECF6\",\"gridcolor\":\"white\",\"gridwidth\":2,\"linecolor\":\"white\",\"showbackground\":true,\"ticks\":\"\",\"zerolinecolor\":\"white\"},\"zaxis\":{\"backgroundcolor\":\"#E5ECF6\",\"gridcolor\":\"white\",\"gridwidth\":2,\"linecolor\":\"white\",\"showbackground\":true,\"ticks\":\"\",\"zerolinecolor\":\"white\"}},\"shapedefaults\":{\"line\":{\"color\":\"#2a3f5f\"}},\"ternary\":{\"aaxis\":{\"gridcolor\":\"white\",\"linecolor\":\"white\",\"ticks\":\"\"},\"baxis\":{\"gridcolor\":\"white\",\"linecolor\":\"white\",\"ticks\":\"\"},\"bgcolor\":\"#E5ECF6\",\"caxis\":{\"gridcolor\":\"white\",\"linecolor\":\"white\",\"ticks\":\"\"}},\"title\":{\"x\":0.05},\"xaxis\":{\"automargin\":true,\"gridcolor\":\"white\",\"linecolor\":\"white\",\"ticks\":\"\",\"title\":{\"standoff\":15},\"zerolinecolor\":\"white\",\"zerolinewidth\":2},\"yaxis\":{\"automargin\":true,\"gridcolor\":\"white\",\"linecolor\":\"white\",\"ticks\":\"\",\"title\":{\"standoff\":15},\"zerolinecolor\":\"white\",\"zerolinewidth\":2}}},\"title\":{\"font\":{\"color\":\"#4D5663\"}},\"xaxis\":{\"gridcolor\":\"#E1E5ED\",\"showgrid\":true,\"tickfont\":{\"color\":\"#4D5663\"},\"title\":{\"font\":{\"color\":\"#4D5663\"},\"text\":\"\"},\"zerolinecolor\":\"#E1E5ED\"},\"yaxis\":{\"gridcolor\":\"#E1E5ED\",\"showgrid\":true,\"tickfont\":{\"color\":\"#4D5663\"},\"title\":{\"font\":{\"color\":\"#4D5663\"},\"text\":\"\"},\"zerolinecolor\":\"#E1E5ED\"}},                        {\"showLink\": true, \"linkText\": \"Export to plot.ly\", \"plotlyServerURL\": \"https://plot.ly\", \"responsive\": true}                    ).then(function(){\n",
       "                            \n",
       "var gd = document.getElementById('6faecc67-2b92-4c56-8815-209c94bc3a7a');\n",
       "var x = new MutationObserver(function (mutations, observer) {{\n",
       "        var display = window.getComputedStyle(gd).display;\n",
       "        if (!display || display === 'none') {{\n",
       "            console.log([gd, 'removed!']);\n",
       "            Plotly.purge(gd);\n",
       "            observer.disconnect();\n",
       "        }}\n",
       "}});\n",
       "\n",
       "// Listen for the removal of the full notebook cells\n",
       "var notebookContainer = gd.closest('#notebook-container');\n",
       "if (notebookContainer) {{\n",
       "    x.observe(notebookContainer, {childList: true});\n",
       "}}\n",
       "\n",
       "// Listen for the clearing of the current output cell\n",
       "var outputEl = gd.closest('.output');\n",
       "if (outputEl) {{\n",
       "    x.observe(outputEl, {childList: true});\n",
       "}}\n",
       "\n",
       "                        })                };                });            </script>        </div>"
      ]
     },
     "metadata": {},
     "output_type": "display_data"
    }
   ],
   "source": [
    "df.count().iplot(kind='bar')"
   ]
  },
  {
   "cell_type": "markdown",
   "metadata": {},
   "source": [
    "## Boxplots"
   ]
  },
  {
   "cell_type": "code",
   "execution_count": 14,
   "metadata": {},
   "outputs": [
    {
     "data": {
      "application/vnd.plotly.v1+json": {
       "config": {
        "linkText": "Export to plot.ly",
        "plotlyServerURL": "https://plot.ly",
        "showLink": true
       },
       "data": [
        {
         "boxpoints": false,
         "line": {
          "width": 1.3
         },
         "marker": {
          "color": "rgba(255, 153, 51, 1.0)"
         },
         "name": "A",
         "orientation": "v",
         "type": "box",
         "y": [
          -1.6844993786342044,
          0.4337824524461489,
          -0.8691693852146056,
          0.9653121387937669,
          -0.7109752166232484,
          -0.45006015542555056,
          1.0171168908883115,
          1.5780961752102243,
          -2.1160933540323286,
          0.2343715875650588,
          -0.5528680468664166,
          0.38632374541788334,
          -0.5722948323221422,
          -0.8145672569000181,
          0.49306577734475027,
          -1.1747216668475229,
          0.08930322383125251,
          0.13489401392347433,
          -0.18154994658679408,
          -0.1797427927707783,
          -0.6020466339558398,
          -0.03072825449634198,
          0.09788707748052361,
          0.3471881456095463,
          0.5768605470922169,
          -0.7151832446205061,
          -0.9112976711916279,
          0.09481662754534259,
          -0.910643811479693,
          0.11344525996528626,
          -0.2848595871502769,
          1.497486931550133,
          1.0448924393019643,
          0.648713382035497,
          0.14133457403504462,
          -0.9423855268071041,
          -0.7558517471451324,
          1.1034730063461553,
          -0.10239322951648648,
          0.9031722433903324,
          0.9252179518935177,
          -0.8970796650314016,
          0.5649986383576866,
          1.6078581107955012,
          0.7119991594850152,
          1.6204010398651412,
          -0.025321453891786718,
          -0.8499809725068881,
          -0.40522522234331965,
          -0.12509501604331788,
          1.4785409397705953,
          0.3694497550289572,
          -0.5350450922129657,
          0.1357029132639195,
          -0.025405805705771396,
          1.5952346153732109,
          1.1676737423572598,
          -0.3544567773817869,
          -0.18797553847544687,
          1.4877166510232325,
          0.4217944046376089,
          -0.16625411785823546,
          1.839332984376313,
          0.5486490471496404,
          1.187033804236325,
          -0.02612235723645212,
          1.5976465181616468,
          -0.1952788064272953,
          -0.003132419080781338,
          0.34797309675372445,
          1.3321715816244717,
          -0.2737241477992157,
          0.8962755167170101,
          0.5795417450593899,
          -0.18383583611314588,
          0.8928460544690597,
          -1.3922157024409982,
          -1.2375466595431501,
          0.3336992080417538,
          -0.021243021449576818,
          -0.8890140593926337,
          -0.7420333246838322,
          -0.579664367503824,
          1.9789634617895238,
          0.06455756143255113,
          1.205868759639534,
          -0.9842266918694147,
          -0.3425643408088088,
          0.34130180923738723,
          0.40136976324289486,
          -0.7982892383219594,
          -1.2726622403925725,
          0.3530111842067332,
          1.2421739172783588,
          -1.120247339070788,
          0.5750779467137043,
          -0.4320597966482676,
          0.9870732217728948,
          -0.05055637421416955,
          -0.8903622498341756
         ]
        },
        {
         "boxpoints": false,
         "line": {
          "width": 1.3
         },
         "marker": {
          "color": "rgba(55, 128, 191, 1.0)"
         },
         "name": "B",
         "orientation": "v",
         "type": "box",
         "y": [
          1.5522000044749955,
          -0.8118066237567007,
          -1.9583743073878386,
          -0.14696836355682874,
          -0.21208261738056397,
          -0.24020362993660963,
          -0.31977996092043615,
          0.6119339124091268,
          1.349780690086934,
          -1.6149613705675971,
          -3.5121272482480483,
          -0.2876971253143369,
          -1.1329691232522952,
          -0.3914026001731782,
          0.44795717167726046,
          -0.5373453645534138,
          0.20179314005562496,
          -2.205736471459392,
          -1.9332842901336456,
          1.259020481591884,
          0.25345668167046015,
          -0.4559042131567118,
          1.2949891928279382,
          -0.748052036762677,
          -1.078015779779852,
          0.0866086645503718,
          1.3259726852002482,
          1.371155553999299,
          1.5597120643381566,
          0.7583725476251723,
          1.6004556144601645,
          1.6610069264389653,
          0.16330413275432498,
          1.201188362944357,
          -0.1669888038021607,
          -2.2448476063768843,
          0.5551836793585623,
          0.21713144705818224,
          -0.8136071488049466,
          0.5940294668099988,
          1.8989551559751483,
          -0.00786012259690263,
          0.11144475144098041,
          -1.6565054213721024,
          -1.1824676471076967,
          0.9288098632832997,
          2.0044812699802765,
          -2.480799680948316,
          1.2337900447822574,
          -2.531382527478476,
          0.9157463725707286,
          -0.1370912630448338,
          0.5041137075678902,
          0.005966193373438284,
          -0.3901148179715984,
          -0.5423286362298547,
          0.010744126454946788,
          1.8806981884192018,
          0.5889261156657364,
          0.17667984121404925,
          -0.5659856900149359,
          0.3890058855108887,
          -1.09165286677273,
          -0.5019430076401349,
          0.10169880094850037,
          -0.06842355187598258,
          0.9381367467291669,
          -0.9398554669967962,
          -0.3251095674252459,
          -0.9139424132945362,
          -0.3056611501519662,
          -0.3283027002777851,
          -0.12031484790725197,
          0.6794401271657093,
          0.47217701704988185,
          -1.7509802495158866,
          2.5760213146546507,
          2.2501360319767345,
          -0.19001713579818874,
          0.27694597696910617,
          0.8589019268113817,
          1.8017402455340144,
          0.43858672379016594,
          1.0982802969266425,
          0.9831944186866525,
          -1.8708383193957832,
          -0.1668713447630551,
          0.27138619743932924,
          -1.0514231323561325,
          -1.6479775507586287,
          -0.4715602639356907,
          -0.5183890178845385,
          -0.12000190257329688,
          -0.11010434911449721,
          -1.4978281045994541,
          -0.1365455952006748,
          -0.6866333990669393,
          -0.9188872819969375,
          -2.169756665385094,
          -2.107733277663181
         ]
        },
        {
         "boxpoints": false,
         "line": {
          "width": 1.3
         },
         "marker": {
          "color": "rgba(50, 171, 96, 1.0)"
         },
         "name": "C",
         "orientation": "v",
         "type": "box",
         "y": [
          0.3688889919822773,
          -0.08285184403661078,
          0.18135250246396833,
          -0.4006628416667557,
          1.0550737202297018,
          -1.716092710381806,
          0.7119833287699184,
          0.7285252563304039,
          -0.36493701644371374,
          0.4540470722120672,
          0.7866921661737153,
          0.5851918094482896,
          0.35764119265331734,
          -0.17639982629747117,
          -1.0094684658111823,
          -0.4509020497849153,
          -2.3167777786383823,
          -0.903803830691702,
          2.001146638634548,
          -1.341989155843122,
          1.3481041163298038,
          -0.519104637588732,
          0.648401029749448,
          1.7226305424893769,
          0.871619680318782,
          -1.093062399267711,
          3.102068418787734,
          1.0028301534976432,
          0.5425542674284313,
          1.2070535240575806,
          -0.22612994460307417,
          -0.49961229103366295,
          -1.430929225806996,
          1.3006741619642883,
          -1.1042665903478914,
          0.4375910070327186,
          -0.5417205250694597,
          1.6796653510183452,
          0.24998752061441162,
          -0.7146036804925872,
          -0.1641763868677391,
          0.9809965558408427,
          -0.3783169480111207,
          2.4194830246696264,
          -0.12894681568142574,
          0.8368847463758576,
          -0.9468495987696381,
          0.10916309138098694,
          0.8805927056882394,
          -1.0060862102623955,
          1.0316654221768442,
          1.3074464386269657,
          -1.0872211233738915,
          0.5469737727171132,
          0.20100819625205268,
          -0.5026171706305894,
          1.3814175404975493,
          -0.44797472405145233,
          -0.7333607151459424,
          0.5612678249901226,
          -1.2601533950532566,
          -1.2882529422256472,
          1.2449959455319273,
          1.8533616228786958,
          -0.1876474401373798,
          2.0890222417414592,
          0.48474170551818796,
          0.3232197734074298,
          1.67866915225552,
          -1.687546833743275,
          0.4897318425798786,
          -1.4524989308355014,
          0.9126175125608825,
          -0.7241648225049884,
          -0.8923938069466224,
          0.26587046956218946,
          -0.8078968955157216,
          0.8961803650254229,
          -1.2178845529856734,
          0.9603685014852521,
          0.0840438755277983,
          1.1482883731903972,
          0.9991365993421627,
          -0.7362848554461429,
          -0.231673504595006,
          -0.5014483035166309,
          -1.3045748089681177,
          0.5806559278534493,
          -0.4223410455217295,
          0.5061152397147499,
          0.9413298895495136,
          -0.6225590099720513,
          1.5931955927779458,
          1.6949532566102066,
          1.1150204854126893,
          -0.14857312518751722,
          0.187476477107474,
          -1.814953489549753,
          -0.062339166510952684,
          0.938827992778396
         ]
        },
        {
         "boxpoints": false,
         "line": {
          "width": 1.3
         },
         "marker": {
          "color": "rgba(128, 0, 128, 1.0)"
         },
         "name": "D",
         "orientation": "v",
         "type": "box",
         "y": [
          -1.5812018881561318,
          -0.43224813495806724,
          -0.05634238047707925,
          0.6978652105914603,
          -0.3042386052028952,
          1.200641227964935,
          -1.1135851658507439,
          1.55258198903082,
          -0.18965511906464846,
          -0.4848412879356852,
          0.47615449578956737,
          -1.610668781201924,
          -1.1335664653825226,
          -1.893702404834195,
          -1.0006444520688251,
          0.4385613324163322,
          -0.3810107938629762,
          -1.575583123535169,
          -0.7471417901253105,
          -0.7271695752444388,
          0.6601020143437173,
          -0.2756588986631232,
          0.4761695977099956,
          -1.2218773975159587,
          -1.3881270439863154,
          -2.201870481251997,
          1.370326145596434,
          -0.18290741394032145,
          -0.2527797667260573,
          -1.4635362953912587,
          -0.7657785766296813,
          -0.4834235263269441,
          0.04508582234091469,
          -0.304120549640413,
          -0.8391518617117154,
          -0.4427180634998202,
          -1.5806407925006156,
          0.9026052126828382,
          -0.09755969928956745,
          1.08083609579184,
          -0.627679969437935,
          -0.17063250959471632,
          -0.5739462866058286,
          -0.13735395713126652,
          -0.3740978519412862,
          0.7554211121456138,
          0.11628766450887446,
          0.5419950662677041,
          -0.8884429811235928,
          2.183967957051262,
          -0.8952889875192458,
          0.926684343364169,
          -1.0658492300306703,
          1.3680325834967475,
          0.22163570718141487,
          -0.537215974640284,
          -0.3628340251478288,
          -1.762330567745385,
          0.6681053805324181,
          -0.014374674545280398,
          -0.3092780086859705,
          0.11725977050261775,
          1.488867279125581,
          -0.25407034220974006,
          -0.6647041409762354,
          -0.5953520808411237,
          0.2677715516109121,
          -2.041527543462318,
          -0.6873976582182068,
          -0.6364011275444506,
          0.15561956767057078,
          -1.0431983991265712,
          1.4236122423209037,
          1.7966060723858297,
          -2.0868560084273486,
          -0.07179406320257982,
          -0.9570092119077531,
          0.03169647508952083,
          -0.4258499796361296,
          1.0780323517459467,
          0.21608101227973334,
          -1.01917388917624,
          0.9549082365431767,
          1.112771480715577,
          0.7380293429348815,
          -0.915386118850922,
          1.6701793750358231,
          -0.6794249769883468,
          -0.4233727726311892,
          -1.4351938609787949,
          0.4552224228611919,
          -1.2330600989425227,
          0.028269983029401684,
          0.9878096100363728,
          0.2124741910759062,
          -0.22832981021646154,
          0.34813604289521044,
          1.8971722538027722,
          2.2993206546635436,
          -0.6810751423740734
         ]
        }
       ],
       "layout": {
        "legend": {
         "bgcolor": "#F5F6F9",
         "font": {
          "color": "#4D5663"
         }
        },
        "paper_bgcolor": "#F5F6F9",
        "plot_bgcolor": "#F5F6F9",
        "template": {
         "data": {
          "bar": [
           {
            "error_x": {
             "color": "#2a3f5f"
            },
            "error_y": {
             "color": "#2a3f5f"
            },
            "marker": {
             "line": {
              "color": "#E5ECF6",
              "width": 0.5
             },
             "pattern": {
              "fillmode": "overlay",
              "size": 10,
              "solidity": 0.2
             }
            },
            "type": "bar"
           }
          ],
          "barpolar": [
           {
            "marker": {
             "line": {
              "color": "#E5ECF6",
              "width": 0.5
             },
             "pattern": {
              "fillmode": "overlay",
              "size": 10,
              "solidity": 0.2
             }
            },
            "type": "barpolar"
           }
          ],
          "carpet": [
           {
            "aaxis": {
             "endlinecolor": "#2a3f5f",
             "gridcolor": "white",
             "linecolor": "white",
             "minorgridcolor": "white",
             "startlinecolor": "#2a3f5f"
            },
            "baxis": {
             "endlinecolor": "#2a3f5f",
             "gridcolor": "white",
             "linecolor": "white",
             "minorgridcolor": "white",
             "startlinecolor": "#2a3f5f"
            },
            "type": "carpet"
           }
          ],
          "choropleth": [
           {
            "colorbar": {
             "outlinewidth": 0,
             "ticks": ""
            },
            "type": "choropleth"
           }
          ],
          "contour": [
           {
            "colorbar": {
             "outlinewidth": 0,
             "ticks": ""
            },
            "colorscale": [
             [
              0,
              "#0d0887"
             ],
             [
              0.1111111111111111,
              "#46039f"
             ],
             [
              0.2222222222222222,
              "#7201a8"
             ],
             [
              0.3333333333333333,
              "#9c179e"
             ],
             [
              0.4444444444444444,
              "#bd3786"
             ],
             [
              0.5555555555555556,
              "#d8576b"
             ],
             [
              0.6666666666666666,
              "#ed7953"
             ],
             [
              0.7777777777777778,
              "#fb9f3a"
             ],
             [
              0.8888888888888888,
              "#fdca26"
             ],
             [
              1,
              "#f0f921"
             ]
            ],
            "type": "contour"
           }
          ],
          "contourcarpet": [
           {
            "colorbar": {
             "outlinewidth": 0,
             "ticks": ""
            },
            "type": "contourcarpet"
           }
          ],
          "heatmap": [
           {
            "colorbar": {
             "outlinewidth": 0,
             "ticks": ""
            },
            "colorscale": [
             [
              0,
              "#0d0887"
             ],
             [
              0.1111111111111111,
              "#46039f"
             ],
             [
              0.2222222222222222,
              "#7201a8"
             ],
             [
              0.3333333333333333,
              "#9c179e"
             ],
             [
              0.4444444444444444,
              "#bd3786"
             ],
             [
              0.5555555555555556,
              "#d8576b"
             ],
             [
              0.6666666666666666,
              "#ed7953"
             ],
             [
              0.7777777777777778,
              "#fb9f3a"
             ],
             [
              0.8888888888888888,
              "#fdca26"
             ],
             [
              1,
              "#f0f921"
             ]
            ],
            "type": "heatmap"
           }
          ],
          "heatmapgl": [
           {
            "colorbar": {
             "outlinewidth": 0,
             "ticks": ""
            },
            "colorscale": [
             [
              0,
              "#0d0887"
             ],
             [
              0.1111111111111111,
              "#46039f"
             ],
             [
              0.2222222222222222,
              "#7201a8"
             ],
             [
              0.3333333333333333,
              "#9c179e"
             ],
             [
              0.4444444444444444,
              "#bd3786"
             ],
             [
              0.5555555555555556,
              "#d8576b"
             ],
             [
              0.6666666666666666,
              "#ed7953"
             ],
             [
              0.7777777777777778,
              "#fb9f3a"
             ],
             [
              0.8888888888888888,
              "#fdca26"
             ],
             [
              1,
              "#f0f921"
             ]
            ],
            "type": "heatmapgl"
           }
          ],
          "histogram": [
           {
            "marker": {
             "pattern": {
              "fillmode": "overlay",
              "size": 10,
              "solidity": 0.2
             }
            },
            "type": "histogram"
           }
          ],
          "histogram2d": [
           {
            "colorbar": {
             "outlinewidth": 0,
             "ticks": ""
            },
            "colorscale": [
             [
              0,
              "#0d0887"
             ],
             [
              0.1111111111111111,
              "#46039f"
             ],
             [
              0.2222222222222222,
              "#7201a8"
             ],
             [
              0.3333333333333333,
              "#9c179e"
             ],
             [
              0.4444444444444444,
              "#bd3786"
             ],
             [
              0.5555555555555556,
              "#d8576b"
             ],
             [
              0.6666666666666666,
              "#ed7953"
             ],
             [
              0.7777777777777778,
              "#fb9f3a"
             ],
             [
              0.8888888888888888,
              "#fdca26"
             ],
             [
              1,
              "#f0f921"
             ]
            ],
            "type": "histogram2d"
           }
          ],
          "histogram2dcontour": [
           {
            "colorbar": {
             "outlinewidth": 0,
             "ticks": ""
            },
            "colorscale": [
             [
              0,
              "#0d0887"
             ],
             [
              0.1111111111111111,
              "#46039f"
             ],
             [
              0.2222222222222222,
              "#7201a8"
             ],
             [
              0.3333333333333333,
              "#9c179e"
             ],
             [
              0.4444444444444444,
              "#bd3786"
             ],
             [
              0.5555555555555556,
              "#d8576b"
             ],
             [
              0.6666666666666666,
              "#ed7953"
             ],
             [
              0.7777777777777778,
              "#fb9f3a"
             ],
             [
              0.8888888888888888,
              "#fdca26"
             ],
             [
              1,
              "#f0f921"
             ]
            ],
            "type": "histogram2dcontour"
           }
          ],
          "mesh3d": [
           {
            "colorbar": {
             "outlinewidth": 0,
             "ticks": ""
            },
            "type": "mesh3d"
           }
          ],
          "parcoords": [
           {
            "line": {
             "colorbar": {
              "outlinewidth": 0,
              "ticks": ""
             }
            },
            "type": "parcoords"
           }
          ],
          "pie": [
           {
            "automargin": true,
            "type": "pie"
           }
          ],
          "scatter": [
           {
            "fillpattern": {
             "fillmode": "overlay",
             "size": 10,
             "solidity": 0.2
            },
            "type": "scatter"
           }
          ],
          "scatter3d": [
           {
            "line": {
             "colorbar": {
              "outlinewidth": 0,
              "ticks": ""
             }
            },
            "marker": {
             "colorbar": {
              "outlinewidth": 0,
              "ticks": ""
             }
            },
            "type": "scatter3d"
           }
          ],
          "scattercarpet": [
           {
            "marker": {
             "colorbar": {
              "outlinewidth": 0,
              "ticks": ""
             }
            },
            "type": "scattercarpet"
           }
          ],
          "scattergeo": [
           {
            "marker": {
             "colorbar": {
              "outlinewidth": 0,
              "ticks": ""
             }
            },
            "type": "scattergeo"
           }
          ],
          "scattergl": [
           {
            "marker": {
             "colorbar": {
              "outlinewidth": 0,
              "ticks": ""
             }
            },
            "type": "scattergl"
           }
          ],
          "scattermapbox": [
           {
            "marker": {
             "colorbar": {
              "outlinewidth": 0,
              "ticks": ""
             }
            },
            "type": "scattermapbox"
           }
          ],
          "scatterpolar": [
           {
            "marker": {
             "colorbar": {
              "outlinewidth": 0,
              "ticks": ""
             }
            },
            "type": "scatterpolar"
           }
          ],
          "scatterpolargl": [
           {
            "marker": {
             "colorbar": {
              "outlinewidth": 0,
              "ticks": ""
             }
            },
            "type": "scatterpolargl"
           }
          ],
          "scatterternary": [
           {
            "marker": {
             "colorbar": {
              "outlinewidth": 0,
              "ticks": ""
             }
            },
            "type": "scatterternary"
           }
          ],
          "surface": [
           {
            "colorbar": {
             "outlinewidth": 0,
             "ticks": ""
            },
            "colorscale": [
             [
              0,
              "#0d0887"
             ],
             [
              0.1111111111111111,
              "#46039f"
             ],
             [
              0.2222222222222222,
              "#7201a8"
             ],
             [
              0.3333333333333333,
              "#9c179e"
             ],
             [
              0.4444444444444444,
              "#bd3786"
             ],
             [
              0.5555555555555556,
              "#d8576b"
             ],
             [
              0.6666666666666666,
              "#ed7953"
             ],
             [
              0.7777777777777778,
              "#fb9f3a"
             ],
             [
              0.8888888888888888,
              "#fdca26"
             ],
             [
              1,
              "#f0f921"
             ]
            ],
            "type": "surface"
           }
          ],
          "table": [
           {
            "cells": {
             "fill": {
              "color": "#EBF0F8"
             },
             "line": {
              "color": "white"
             }
            },
            "header": {
             "fill": {
              "color": "#C8D4E3"
             },
             "line": {
              "color": "white"
             }
            },
            "type": "table"
           }
          ]
         },
         "layout": {
          "annotationdefaults": {
           "arrowcolor": "#2a3f5f",
           "arrowhead": 0,
           "arrowwidth": 1
          },
          "autotypenumbers": "strict",
          "coloraxis": {
           "colorbar": {
            "outlinewidth": 0,
            "ticks": ""
           }
          },
          "colorscale": {
           "diverging": [
            [
             0,
             "#8e0152"
            ],
            [
             0.1,
             "#c51b7d"
            ],
            [
             0.2,
             "#de77ae"
            ],
            [
             0.3,
             "#f1b6da"
            ],
            [
             0.4,
             "#fde0ef"
            ],
            [
             0.5,
             "#f7f7f7"
            ],
            [
             0.6,
             "#e6f5d0"
            ],
            [
             0.7,
             "#b8e186"
            ],
            [
             0.8,
             "#7fbc41"
            ],
            [
             0.9,
             "#4d9221"
            ],
            [
             1,
             "#276419"
            ]
           ],
           "sequential": [
            [
             0,
             "#0d0887"
            ],
            [
             0.1111111111111111,
             "#46039f"
            ],
            [
             0.2222222222222222,
             "#7201a8"
            ],
            [
             0.3333333333333333,
             "#9c179e"
            ],
            [
             0.4444444444444444,
             "#bd3786"
            ],
            [
             0.5555555555555556,
             "#d8576b"
            ],
            [
             0.6666666666666666,
             "#ed7953"
            ],
            [
             0.7777777777777778,
             "#fb9f3a"
            ],
            [
             0.8888888888888888,
             "#fdca26"
            ],
            [
             1,
             "#f0f921"
            ]
           ],
           "sequentialminus": [
            [
             0,
             "#0d0887"
            ],
            [
             0.1111111111111111,
             "#46039f"
            ],
            [
             0.2222222222222222,
             "#7201a8"
            ],
            [
             0.3333333333333333,
             "#9c179e"
            ],
            [
             0.4444444444444444,
             "#bd3786"
            ],
            [
             0.5555555555555556,
             "#d8576b"
            ],
            [
             0.6666666666666666,
             "#ed7953"
            ],
            [
             0.7777777777777778,
             "#fb9f3a"
            ],
            [
             0.8888888888888888,
             "#fdca26"
            ],
            [
             1,
             "#f0f921"
            ]
           ]
          },
          "colorway": [
           "#636efa",
           "#EF553B",
           "#00cc96",
           "#ab63fa",
           "#FFA15A",
           "#19d3f3",
           "#FF6692",
           "#B6E880",
           "#FF97FF",
           "#FECB52"
          ],
          "font": {
           "color": "#2a3f5f"
          },
          "geo": {
           "bgcolor": "white",
           "lakecolor": "white",
           "landcolor": "#E5ECF6",
           "showlakes": true,
           "showland": true,
           "subunitcolor": "white"
          },
          "hoverlabel": {
           "align": "left"
          },
          "hovermode": "closest",
          "mapbox": {
           "style": "light"
          },
          "paper_bgcolor": "white",
          "plot_bgcolor": "#E5ECF6",
          "polar": {
           "angularaxis": {
            "gridcolor": "white",
            "linecolor": "white",
            "ticks": ""
           },
           "bgcolor": "#E5ECF6",
           "radialaxis": {
            "gridcolor": "white",
            "linecolor": "white",
            "ticks": ""
           }
          },
          "scene": {
           "xaxis": {
            "backgroundcolor": "#E5ECF6",
            "gridcolor": "white",
            "gridwidth": 2,
            "linecolor": "white",
            "showbackground": true,
            "ticks": "",
            "zerolinecolor": "white"
           },
           "yaxis": {
            "backgroundcolor": "#E5ECF6",
            "gridcolor": "white",
            "gridwidth": 2,
            "linecolor": "white",
            "showbackground": true,
            "ticks": "",
            "zerolinecolor": "white"
           },
           "zaxis": {
            "backgroundcolor": "#E5ECF6",
            "gridcolor": "white",
            "gridwidth": 2,
            "linecolor": "white",
            "showbackground": true,
            "ticks": "",
            "zerolinecolor": "white"
           }
          },
          "shapedefaults": {
           "line": {
            "color": "#2a3f5f"
           }
          },
          "ternary": {
           "aaxis": {
            "gridcolor": "white",
            "linecolor": "white",
            "ticks": ""
           },
           "baxis": {
            "gridcolor": "white",
            "linecolor": "white",
            "ticks": ""
           },
           "bgcolor": "#E5ECF6",
           "caxis": {
            "gridcolor": "white",
            "linecolor": "white",
            "ticks": ""
           }
          },
          "title": {
           "x": 0.05
          },
          "xaxis": {
           "automargin": true,
           "gridcolor": "white",
           "linecolor": "white",
           "ticks": "",
           "title": {
            "standoff": 15
           },
           "zerolinecolor": "white",
           "zerolinewidth": 2
          },
          "yaxis": {
           "automargin": true,
           "gridcolor": "white",
           "linecolor": "white",
           "ticks": "",
           "title": {
            "standoff": 15
           },
           "zerolinecolor": "white",
           "zerolinewidth": 2
          }
         }
        },
        "title": {
         "font": {
          "color": "#4D5663"
         }
        },
        "xaxis": {
         "gridcolor": "#E1E5ED",
         "showgrid": true,
         "tickfont": {
          "color": "#4D5663"
         },
         "title": {
          "font": {
           "color": "#4D5663"
          },
          "text": ""
         },
         "zerolinecolor": "#E1E5ED"
        },
        "yaxis": {
         "gridcolor": "#E1E5ED",
         "showgrid": true,
         "tickfont": {
          "color": "#4D5663"
         },
         "title": {
          "font": {
           "color": "#4D5663"
          },
          "text": ""
         },
         "zerolinecolor": "#E1E5ED"
        }
       }
      },
      "text/html": [
       "<div>                            <div id=\"d427341a-ce2b-4e35-a540-2c920fe6a161\" class=\"plotly-graph-div\" style=\"height:525px; width:100%;\"></div>            <script type=\"text/javascript\">                require([\"plotly\"], function(Plotly) {                    window.PLOTLYENV=window.PLOTLYENV || {};\n",
       "                    window.PLOTLYENV.BASE_URL='https://plot.ly';                                    if (document.getElementById(\"d427341a-ce2b-4e35-a540-2c920fe6a161\")) {                    Plotly.newPlot(                        \"d427341a-ce2b-4e35-a540-2c920fe6a161\",                        [{\"boxpoints\":false,\"line\":{\"width\":1.3},\"marker\":{\"color\":\"rgba(255, 153, 51, 1.0)\"},\"name\":\"A\",\"orientation\":\"v\",\"y\":[-1.6844993786342044,0.4337824524461489,-0.8691693852146056,0.9653121387937669,-0.7109752166232484,-0.45006015542555056,1.0171168908883115,1.5780961752102243,-2.1160933540323286,0.2343715875650588,-0.5528680468664166,0.38632374541788334,-0.5722948323221422,-0.8145672569000181,0.49306577734475027,-1.1747216668475229,0.08930322383125251,0.13489401392347433,-0.18154994658679408,-0.1797427927707783,-0.6020466339558398,-0.03072825449634198,0.09788707748052361,0.3471881456095463,0.5768605470922169,-0.7151832446205061,-0.9112976711916279,0.09481662754534259,-0.910643811479693,0.11344525996528626,-0.2848595871502769,1.497486931550133,1.0448924393019643,0.648713382035497,0.14133457403504462,-0.9423855268071041,-0.7558517471451324,1.1034730063461553,-0.10239322951648648,0.9031722433903324,0.9252179518935177,-0.8970796650314016,0.5649986383576866,1.6078581107955012,0.7119991594850152,1.6204010398651412,-0.025321453891786718,-0.8499809725068881,-0.40522522234331965,-0.12509501604331788,1.4785409397705953,0.3694497550289572,-0.5350450922129657,0.1357029132639195,-0.025405805705771396,1.5952346153732109,1.1676737423572598,-0.3544567773817869,-0.18797553847544687,1.4877166510232325,0.4217944046376089,-0.16625411785823546,1.839332984376313,0.5486490471496404,1.187033804236325,-0.02612235723645212,1.5976465181616468,-0.1952788064272953,-0.003132419080781338,0.34797309675372445,1.3321715816244717,-0.2737241477992157,0.8962755167170101,0.5795417450593899,-0.18383583611314588,0.8928460544690597,-1.3922157024409982,-1.2375466595431501,0.3336992080417538,-0.021243021449576818,-0.8890140593926337,-0.7420333246838322,-0.579664367503824,1.9789634617895238,0.06455756143255113,1.205868759639534,-0.9842266918694147,-0.3425643408088088,0.34130180923738723,0.40136976324289486,-0.7982892383219594,-1.2726622403925725,0.3530111842067332,1.2421739172783588,-1.120247339070788,0.5750779467137043,-0.4320597966482676,0.9870732217728948,-0.05055637421416955,-0.8903622498341756],\"type\":\"box\"},{\"boxpoints\":false,\"line\":{\"width\":1.3},\"marker\":{\"color\":\"rgba(55, 128, 191, 1.0)\"},\"name\":\"B\",\"orientation\":\"v\",\"y\":[1.5522000044749955,-0.8118066237567007,-1.9583743073878386,-0.14696836355682874,-0.21208261738056397,-0.24020362993660963,-0.31977996092043615,0.6119339124091268,1.349780690086934,-1.6149613705675971,-3.5121272482480483,-0.2876971253143369,-1.1329691232522952,-0.3914026001731782,0.44795717167726046,-0.5373453645534138,0.20179314005562496,-2.205736471459392,-1.9332842901336456,1.259020481591884,0.25345668167046015,-0.4559042131567118,1.2949891928279382,-0.748052036762677,-1.078015779779852,0.0866086645503718,1.3259726852002482,1.371155553999299,1.5597120643381566,0.7583725476251723,1.6004556144601645,1.6610069264389653,0.16330413275432498,1.201188362944357,-0.1669888038021607,-2.2448476063768843,0.5551836793585623,0.21713144705818224,-0.8136071488049466,0.5940294668099988,1.8989551559751483,-0.00786012259690263,0.11144475144098041,-1.6565054213721024,-1.1824676471076967,0.9288098632832997,2.0044812699802765,-2.480799680948316,1.2337900447822574,-2.531382527478476,0.9157463725707286,-0.1370912630448338,0.5041137075678902,0.005966193373438284,-0.3901148179715984,-0.5423286362298547,0.010744126454946788,1.8806981884192018,0.5889261156657364,0.17667984121404925,-0.5659856900149359,0.3890058855108887,-1.09165286677273,-0.5019430076401349,0.10169880094850037,-0.06842355187598258,0.9381367467291669,-0.9398554669967962,-0.3251095674252459,-0.9139424132945362,-0.3056611501519662,-0.3283027002777851,-0.12031484790725197,0.6794401271657093,0.47217701704988185,-1.7509802495158866,2.5760213146546507,2.2501360319767345,-0.19001713579818874,0.27694597696910617,0.8589019268113817,1.8017402455340144,0.43858672379016594,1.0982802969266425,0.9831944186866525,-1.8708383193957832,-0.1668713447630551,0.27138619743932924,-1.0514231323561325,-1.6479775507586287,-0.4715602639356907,-0.5183890178845385,-0.12000190257329688,-0.11010434911449721,-1.4978281045994541,-0.1365455952006748,-0.6866333990669393,-0.9188872819969375,-2.169756665385094,-2.107733277663181],\"type\":\"box\"},{\"boxpoints\":false,\"line\":{\"width\":1.3},\"marker\":{\"color\":\"rgba(50, 171, 96, 1.0)\"},\"name\":\"C\",\"orientation\":\"v\",\"y\":[0.3688889919822773,-0.08285184403661078,0.18135250246396833,-0.4006628416667557,1.0550737202297018,-1.716092710381806,0.7119833287699184,0.7285252563304039,-0.36493701644371374,0.4540470722120672,0.7866921661737153,0.5851918094482896,0.35764119265331734,-0.17639982629747117,-1.0094684658111823,-0.4509020497849153,-2.3167777786383823,-0.903803830691702,2.001146638634548,-1.341989155843122,1.3481041163298038,-0.519104637588732,0.648401029749448,1.7226305424893769,0.871619680318782,-1.093062399267711,3.102068418787734,1.0028301534976432,0.5425542674284313,1.2070535240575806,-0.22612994460307417,-0.49961229103366295,-1.430929225806996,1.3006741619642883,-1.1042665903478914,0.4375910070327186,-0.5417205250694597,1.6796653510183452,0.24998752061441162,-0.7146036804925872,-0.1641763868677391,0.9809965558408427,-0.3783169480111207,2.4194830246696264,-0.12894681568142574,0.8368847463758576,-0.9468495987696381,0.10916309138098694,0.8805927056882394,-1.0060862102623955,1.0316654221768442,1.3074464386269657,-1.0872211233738915,0.5469737727171132,0.20100819625205268,-0.5026171706305894,1.3814175404975493,-0.44797472405145233,-0.7333607151459424,0.5612678249901226,-1.2601533950532566,-1.2882529422256472,1.2449959455319273,1.8533616228786958,-0.1876474401373798,2.0890222417414592,0.48474170551818796,0.3232197734074298,1.67866915225552,-1.687546833743275,0.4897318425798786,-1.4524989308355014,0.9126175125608825,-0.7241648225049884,-0.8923938069466224,0.26587046956218946,-0.8078968955157216,0.8961803650254229,-1.2178845529856734,0.9603685014852521,0.0840438755277983,1.1482883731903972,0.9991365993421627,-0.7362848554461429,-0.231673504595006,-0.5014483035166309,-1.3045748089681177,0.5806559278534493,-0.4223410455217295,0.5061152397147499,0.9413298895495136,-0.6225590099720513,1.5931955927779458,1.6949532566102066,1.1150204854126893,-0.14857312518751722,0.187476477107474,-1.814953489549753,-0.062339166510952684,0.938827992778396],\"type\":\"box\"},{\"boxpoints\":false,\"line\":{\"width\":1.3},\"marker\":{\"color\":\"rgba(128, 0, 128, 1.0)\"},\"name\":\"D\",\"orientation\":\"v\",\"y\":[-1.5812018881561318,-0.43224813495806724,-0.05634238047707925,0.6978652105914603,-0.3042386052028952,1.200641227964935,-1.1135851658507439,1.55258198903082,-0.18965511906464846,-0.4848412879356852,0.47615449578956737,-1.610668781201924,-1.1335664653825226,-1.893702404834195,-1.0006444520688251,0.4385613324163322,-0.3810107938629762,-1.575583123535169,-0.7471417901253105,-0.7271695752444388,0.6601020143437173,-0.2756588986631232,0.4761695977099956,-1.2218773975159587,-1.3881270439863154,-2.201870481251997,1.370326145596434,-0.18290741394032145,-0.2527797667260573,-1.4635362953912587,-0.7657785766296813,-0.4834235263269441,0.04508582234091469,-0.304120549640413,-0.8391518617117154,-0.4427180634998202,-1.5806407925006156,0.9026052126828382,-0.09755969928956745,1.08083609579184,-0.627679969437935,-0.17063250959471632,-0.5739462866058286,-0.13735395713126652,-0.3740978519412862,0.7554211121456138,0.11628766450887446,0.5419950662677041,-0.8884429811235928,2.183967957051262,-0.8952889875192458,0.926684343364169,-1.0658492300306703,1.3680325834967475,0.22163570718141487,-0.537215974640284,-0.3628340251478288,-1.762330567745385,0.6681053805324181,-0.014374674545280398,-0.3092780086859705,0.11725977050261775,1.488867279125581,-0.25407034220974006,-0.6647041409762354,-0.5953520808411237,0.2677715516109121,-2.041527543462318,-0.6873976582182068,-0.6364011275444506,0.15561956767057078,-1.0431983991265712,1.4236122423209037,1.7966060723858297,-2.0868560084273486,-0.07179406320257982,-0.9570092119077531,0.03169647508952083,-0.4258499796361296,1.0780323517459467,0.21608101227973334,-1.01917388917624,0.9549082365431767,1.112771480715577,0.7380293429348815,-0.915386118850922,1.6701793750358231,-0.6794249769883468,-0.4233727726311892,-1.4351938609787949,0.4552224228611919,-1.2330600989425227,0.028269983029401684,0.9878096100363728,0.2124741910759062,-0.22832981021646154,0.34813604289521044,1.8971722538027722,2.2993206546635436,-0.6810751423740734],\"type\":\"box\"}],                        {\"legend\":{\"bgcolor\":\"#F5F6F9\",\"font\":{\"color\":\"#4D5663\"}},\"paper_bgcolor\":\"#F5F6F9\",\"plot_bgcolor\":\"#F5F6F9\",\"template\":{\"data\":{\"barpolar\":[{\"marker\":{\"line\":{\"color\":\"#E5ECF6\",\"width\":0.5},\"pattern\":{\"fillmode\":\"overlay\",\"size\":10,\"solidity\":0.2}},\"type\":\"barpolar\"}],\"bar\":[{\"error_x\":{\"color\":\"#2a3f5f\"},\"error_y\":{\"color\":\"#2a3f5f\"},\"marker\":{\"line\":{\"color\":\"#E5ECF6\",\"width\":0.5},\"pattern\":{\"fillmode\":\"overlay\",\"size\":10,\"solidity\":0.2}},\"type\":\"bar\"}],\"carpet\":[{\"aaxis\":{\"endlinecolor\":\"#2a3f5f\",\"gridcolor\":\"white\",\"linecolor\":\"white\",\"minorgridcolor\":\"white\",\"startlinecolor\":\"#2a3f5f\"},\"baxis\":{\"endlinecolor\":\"#2a3f5f\",\"gridcolor\":\"white\",\"linecolor\":\"white\",\"minorgridcolor\":\"white\",\"startlinecolor\":\"#2a3f5f\"},\"type\":\"carpet\"}],\"choropleth\":[{\"colorbar\":{\"outlinewidth\":0,\"ticks\":\"\"},\"type\":\"choropleth\"}],\"contourcarpet\":[{\"colorbar\":{\"outlinewidth\":0,\"ticks\":\"\"},\"type\":\"contourcarpet\"}],\"contour\":[{\"colorbar\":{\"outlinewidth\":0,\"ticks\":\"\"},\"colorscale\":[[0.0,\"#0d0887\"],[0.1111111111111111,\"#46039f\"],[0.2222222222222222,\"#7201a8\"],[0.3333333333333333,\"#9c179e\"],[0.4444444444444444,\"#bd3786\"],[0.5555555555555556,\"#d8576b\"],[0.6666666666666666,\"#ed7953\"],[0.7777777777777778,\"#fb9f3a\"],[0.8888888888888888,\"#fdca26\"],[1.0,\"#f0f921\"]],\"type\":\"contour\"}],\"heatmapgl\":[{\"colorbar\":{\"outlinewidth\":0,\"ticks\":\"\"},\"colorscale\":[[0.0,\"#0d0887\"],[0.1111111111111111,\"#46039f\"],[0.2222222222222222,\"#7201a8\"],[0.3333333333333333,\"#9c179e\"],[0.4444444444444444,\"#bd3786\"],[0.5555555555555556,\"#d8576b\"],[0.6666666666666666,\"#ed7953\"],[0.7777777777777778,\"#fb9f3a\"],[0.8888888888888888,\"#fdca26\"],[1.0,\"#f0f921\"]],\"type\":\"heatmapgl\"}],\"heatmap\":[{\"colorbar\":{\"outlinewidth\":0,\"ticks\":\"\"},\"colorscale\":[[0.0,\"#0d0887\"],[0.1111111111111111,\"#46039f\"],[0.2222222222222222,\"#7201a8\"],[0.3333333333333333,\"#9c179e\"],[0.4444444444444444,\"#bd3786\"],[0.5555555555555556,\"#d8576b\"],[0.6666666666666666,\"#ed7953\"],[0.7777777777777778,\"#fb9f3a\"],[0.8888888888888888,\"#fdca26\"],[1.0,\"#f0f921\"]],\"type\":\"heatmap\"}],\"histogram2dcontour\":[{\"colorbar\":{\"outlinewidth\":0,\"ticks\":\"\"},\"colorscale\":[[0.0,\"#0d0887\"],[0.1111111111111111,\"#46039f\"],[0.2222222222222222,\"#7201a8\"],[0.3333333333333333,\"#9c179e\"],[0.4444444444444444,\"#bd3786\"],[0.5555555555555556,\"#d8576b\"],[0.6666666666666666,\"#ed7953\"],[0.7777777777777778,\"#fb9f3a\"],[0.8888888888888888,\"#fdca26\"],[1.0,\"#f0f921\"]],\"type\":\"histogram2dcontour\"}],\"histogram2d\":[{\"colorbar\":{\"outlinewidth\":0,\"ticks\":\"\"},\"colorscale\":[[0.0,\"#0d0887\"],[0.1111111111111111,\"#46039f\"],[0.2222222222222222,\"#7201a8\"],[0.3333333333333333,\"#9c179e\"],[0.4444444444444444,\"#bd3786\"],[0.5555555555555556,\"#d8576b\"],[0.6666666666666666,\"#ed7953\"],[0.7777777777777778,\"#fb9f3a\"],[0.8888888888888888,\"#fdca26\"],[1.0,\"#f0f921\"]],\"type\":\"histogram2d\"}],\"histogram\":[{\"marker\":{\"pattern\":{\"fillmode\":\"overlay\",\"size\":10,\"solidity\":0.2}},\"type\":\"histogram\"}],\"mesh3d\":[{\"colorbar\":{\"outlinewidth\":0,\"ticks\":\"\"},\"type\":\"mesh3d\"}],\"parcoords\":[{\"line\":{\"colorbar\":{\"outlinewidth\":0,\"ticks\":\"\"}},\"type\":\"parcoords\"}],\"pie\":[{\"automargin\":true,\"type\":\"pie\"}],\"scatter3d\":[{\"line\":{\"colorbar\":{\"outlinewidth\":0,\"ticks\":\"\"}},\"marker\":{\"colorbar\":{\"outlinewidth\":0,\"ticks\":\"\"}},\"type\":\"scatter3d\"}],\"scattercarpet\":[{\"marker\":{\"colorbar\":{\"outlinewidth\":0,\"ticks\":\"\"}},\"type\":\"scattercarpet\"}],\"scattergeo\":[{\"marker\":{\"colorbar\":{\"outlinewidth\":0,\"ticks\":\"\"}},\"type\":\"scattergeo\"}],\"scattergl\":[{\"marker\":{\"colorbar\":{\"outlinewidth\":0,\"ticks\":\"\"}},\"type\":\"scattergl\"}],\"scattermapbox\":[{\"marker\":{\"colorbar\":{\"outlinewidth\":0,\"ticks\":\"\"}},\"type\":\"scattermapbox\"}],\"scatterpolargl\":[{\"marker\":{\"colorbar\":{\"outlinewidth\":0,\"ticks\":\"\"}},\"type\":\"scatterpolargl\"}],\"scatterpolar\":[{\"marker\":{\"colorbar\":{\"outlinewidth\":0,\"ticks\":\"\"}},\"type\":\"scatterpolar\"}],\"scatter\":[{\"fillpattern\":{\"fillmode\":\"overlay\",\"size\":10,\"solidity\":0.2},\"type\":\"scatter\"}],\"scatterternary\":[{\"marker\":{\"colorbar\":{\"outlinewidth\":0,\"ticks\":\"\"}},\"type\":\"scatterternary\"}],\"surface\":[{\"colorbar\":{\"outlinewidth\":0,\"ticks\":\"\"},\"colorscale\":[[0.0,\"#0d0887\"],[0.1111111111111111,\"#46039f\"],[0.2222222222222222,\"#7201a8\"],[0.3333333333333333,\"#9c179e\"],[0.4444444444444444,\"#bd3786\"],[0.5555555555555556,\"#d8576b\"],[0.6666666666666666,\"#ed7953\"],[0.7777777777777778,\"#fb9f3a\"],[0.8888888888888888,\"#fdca26\"],[1.0,\"#f0f921\"]],\"type\":\"surface\"}],\"table\":[{\"cells\":{\"fill\":{\"color\":\"#EBF0F8\"},\"line\":{\"color\":\"white\"}},\"header\":{\"fill\":{\"color\":\"#C8D4E3\"},\"line\":{\"color\":\"white\"}},\"type\":\"table\"}]},\"layout\":{\"annotationdefaults\":{\"arrowcolor\":\"#2a3f5f\",\"arrowhead\":0,\"arrowwidth\":1},\"autotypenumbers\":\"strict\",\"coloraxis\":{\"colorbar\":{\"outlinewidth\":0,\"ticks\":\"\"}},\"colorscale\":{\"diverging\":[[0,\"#8e0152\"],[0.1,\"#c51b7d\"],[0.2,\"#de77ae\"],[0.3,\"#f1b6da\"],[0.4,\"#fde0ef\"],[0.5,\"#f7f7f7\"],[0.6,\"#e6f5d0\"],[0.7,\"#b8e186\"],[0.8,\"#7fbc41\"],[0.9,\"#4d9221\"],[1,\"#276419\"]],\"sequential\":[[0.0,\"#0d0887\"],[0.1111111111111111,\"#46039f\"],[0.2222222222222222,\"#7201a8\"],[0.3333333333333333,\"#9c179e\"],[0.4444444444444444,\"#bd3786\"],[0.5555555555555556,\"#d8576b\"],[0.6666666666666666,\"#ed7953\"],[0.7777777777777778,\"#fb9f3a\"],[0.8888888888888888,\"#fdca26\"],[1.0,\"#f0f921\"]],\"sequentialminus\":[[0.0,\"#0d0887\"],[0.1111111111111111,\"#46039f\"],[0.2222222222222222,\"#7201a8\"],[0.3333333333333333,\"#9c179e\"],[0.4444444444444444,\"#bd3786\"],[0.5555555555555556,\"#d8576b\"],[0.6666666666666666,\"#ed7953\"],[0.7777777777777778,\"#fb9f3a\"],[0.8888888888888888,\"#fdca26\"],[1.0,\"#f0f921\"]]},\"colorway\":[\"#636efa\",\"#EF553B\",\"#00cc96\",\"#ab63fa\",\"#FFA15A\",\"#19d3f3\",\"#FF6692\",\"#B6E880\",\"#FF97FF\",\"#FECB52\"],\"font\":{\"color\":\"#2a3f5f\"},\"geo\":{\"bgcolor\":\"white\",\"lakecolor\":\"white\",\"landcolor\":\"#E5ECF6\",\"showlakes\":true,\"showland\":true,\"subunitcolor\":\"white\"},\"hoverlabel\":{\"align\":\"left\"},\"hovermode\":\"closest\",\"mapbox\":{\"style\":\"light\"},\"paper_bgcolor\":\"white\",\"plot_bgcolor\":\"#E5ECF6\",\"polar\":{\"angularaxis\":{\"gridcolor\":\"white\",\"linecolor\":\"white\",\"ticks\":\"\"},\"bgcolor\":\"#E5ECF6\",\"radialaxis\":{\"gridcolor\":\"white\",\"linecolor\":\"white\",\"ticks\":\"\"}},\"scene\":{\"xaxis\":{\"backgroundcolor\":\"#E5ECF6\",\"gridcolor\":\"white\",\"gridwidth\":2,\"linecolor\":\"white\",\"showbackground\":true,\"ticks\":\"\",\"zerolinecolor\":\"white\"},\"yaxis\":{\"backgroundcolor\":\"#E5ECF6\",\"gridcolor\":\"white\",\"gridwidth\":2,\"linecolor\":\"white\",\"showbackground\":true,\"ticks\":\"\",\"zerolinecolor\":\"white\"},\"zaxis\":{\"backgroundcolor\":\"#E5ECF6\",\"gridcolor\":\"white\",\"gridwidth\":2,\"linecolor\":\"white\",\"showbackground\":true,\"ticks\":\"\",\"zerolinecolor\":\"white\"}},\"shapedefaults\":{\"line\":{\"color\":\"#2a3f5f\"}},\"ternary\":{\"aaxis\":{\"gridcolor\":\"white\",\"linecolor\":\"white\",\"ticks\":\"\"},\"baxis\":{\"gridcolor\":\"white\",\"linecolor\":\"white\",\"ticks\":\"\"},\"bgcolor\":\"#E5ECF6\",\"caxis\":{\"gridcolor\":\"white\",\"linecolor\":\"white\",\"ticks\":\"\"}},\"title\":{\"x\":0.05},\"xaxis\":{\"automargin\":true,\"gridcolor\":\"white\",\"linecolor\":\"white\",\"ticks\":\"\",\"title\":{\"standoff\":15},\"zerolinecolor\":\"white\",\"zerolinewidth\":2},\"yaxis\":{\"automargin\":true,\"gridcolor\":\"white\",\"linecolor\":\"white\",\"ticks\":\"\",\"title\":{\"standoff\":15},\"zerolinecolor\":\"white\",\"zerolinewidth\":2}}},\"title\":{\"font\":{\"color\":\"#4D5663\"}},\"xaxis\":{\"gridcolor\":\"#E1E5ED\",\"showgrid\":true,\"tickfont\":{\"color\":\"#4D5663\"},\"title\":{\"font\":{\"color\":\"#4D5663\"},\"text\":\"\"},\"zerolinecolor\":\"#E1E5ED\"},\"yaxis\":{\"gridcolor\":\"#E1E5ED\",\"showgrid\":true,\"tickfont\":{\"color\":\"#4D5663\"},\"title\":{\"font\":{\"color\":\"#4D5663\"},\"text\":\"\"},\"zerolinecolor\":\"#E1E5ED\"}},                        {\"showLink\": true, \"linkText\": \"Export to plot.ly\", \"plotlyServerURL\": \"https://plot.ly\", \"responsive\": true}                    ).then(function(){\n",
       "                            \n",
       "var gd = document.getElementById('d427341a-ce2b-4e35-a540-2c920fe6a161');\n",
       "var x = new MutationObserver(function (mutations, observer) {{\n",
       "        var display = window.getComputedStyle(gd).display;\n",
       "        if (!display || display === 'none') {{\n",
       "            console.log([gd, 'removed!']);\n",
       "            Plotly.purge(gd);\n",
       "            observer.disconnect();\n",
       "        }}\n",
       "}});\n",
       "\n",
       "// Listen for the removal of the full notebook cells\n",
       "var notebookContainer = gd.closest('#notebook-container');\n",
       "if (notebookContainer) {{\n",
       "    x.observe(notebookContainer, {childList: true});\n",
       "}}\n",
       "\n",
       "// Listen for the clearing of the current output cell\n",
       "var outputEl = gd.closest('.output');\n",
       "if (outputEl) {{\n",
       "    x.observe(outputEl, {childList: true});\n",
       "}}\n",
       "\n",
       "                        })                };                });            </script>        </div>"
      ]
     },
     "metadata": {},
     "output_type": "display_data"
    }
   ],
   "source": [
    "df.iplot(kind='box')"
   ]
  },
  {
   "cell_type": "markdown",
   "metadata": {},
   "source": [
    "## Superfícies 3D"
   ]
  },
  {
   "cell_type": "code",
   "execution_count": 15,
   "metadata": {},
   "outputs": [
    {
     "data": {
      "application/vnd.plotly.v1+json": {
       "config": {
        "linkText": "Export to plot.ly",
        "plotlyServerURL": "https://plot.ly",
        "showLink": true
       },
       "data": [
        {
         "colorscale": [
          [
           0,
           "rgb(165,0,38)"
          ],
          [
           0.1,
           "rgb(215,48,39)"
          ],
          [
           0.2,
           "rgb(244,109,67)"
          ],
          [
           0.3,
           "rgb(253,174,97)"
          ],
          [
           0.4,
           "rgb(254,224,144)"
          ],
          [
           0.5,
           "rgb(255,255,191)"
          ],
          [
           0.6,
           "rgb(224,243,248)"
          ],
          [
           0.7,
           "rgb(171,217,233)"
          ],
          [
           0.8,
           "rgb(116,173,209)"
          ],
          [
           0.9,
           "rgb(69,117,180)"
          ],
          [
           1,
           "rgb(49,54,149)"
          ]
         ],
         "type": "surface",
         "x": [
          0,
          1,
          2,
          3,
          4
         ],
         "y": [
          "x",
          "y",
          "z"
         ],
         "z": [
          [
           1,
           2,
           3,
           4,
           5
          ],
          [
           10,
           20,
           30,
           20,
           10
          ],
          [
           5,
           4,
           3,
           2,
           1
          ]
         ]
        }
       ],
       "layout": {
        "legend": {
         "bgcolor": "#F5F6F9",
         "font": {
          "color": "#4D5663"
         }
        },
        "paper_bgcolor": "#F5F6F9",
        "plot_bgcolor": "#F5F6F9",
        "template": {
         "data": {
          "bar": [
           {
            "error_x": {
             "color": "#2a3f5f"
            },
            "error_y": {
             "color": "#2a3f5f"
            },
            "marker": {
             "line": {
              "color": "#E5ECF6",
              "width": 0.5
             },
             "pattern": {
              "fillmode": "overlay",
              "size": 10,
              "solidity": 0.2
             }
            },
            "type": "bar"
           }
          ],
          "barpolar": [
           {
            "marker": {
             "line": {
              "color": "#E5ECF6",
              "width": 0.5
             },
             "pattern": {
              "fillmode": "overlay",
              "size": 10,
              "solidity": 0.2
             }
            },
            "type": "barpolar"
           }
          ],
          "carpet": [
           {
            "aaxis": {
             "endlinecolor": "#2a3f5f",
             "gridcolor": "white",
             "linecolor": "white",
             "minorgridcolor": "white",
             "startlinecolor": "#2a3f5f"
            },
            "baxis": {
             "endlinecolor": "#2a3f5f",
             "gridcolor": "white",
             "linecolor": "white",
             "minorgridcolor": "white",
             "startlinecolor": "#2a3f5f"
            },
            "type": "carpet"
           }
          ],
          "choropleth": [
           {
            "colorbar": {
             "outlinewidth": 0,
             "ticks": ""
            },
            "type": "choropleth"
           }
          ],
          "contour": [
           {
            "colorbar": {
             "outlinewidth": 0,
             "ticks": ""
            },
            "colorscale": [
             [
              0,
              "#0d0887"
             ],
             [
              0.1111111111111111,
              "#46039f"
             ],
             [
              0.2222222222222222,
              "#7201a8"
             ],
             [
              0.3333333333333333,
              "#9c179e"
             ],
             [
              0.4444444444444444,
              "#bd3786"
             ],
             [
              0.5555555555555556,
              "#d8576b"
             ],
             [
              0.6666666666666666,
              "#ed7953"
             ],
             [
              0.7777777777777778,
              "#fb9f3a"
             ],
             [
              0.8888888888888888,
              "#fdca26"
             ],
             [
              1,
              "#f0f921"
             ]
            ],
            "type": "contour"
           }
          ],
          "contourcarpet": [
           {
            "colorbar": {
             "outlinewidth": 0,
             "ticks": ""
            },
            "type": "contourcarpet"
           }
          ],
          "heatmap": [
           {
            "colorbar": {
             "outlinewidth": 0,
             "ticks": ""
            },
            "colorscale": [
             [
              0,
              "#0d0887"
             ],
             [
              0.1111111111111111,
              "#46039f"
             ],
             [
              0.2222222222222222,
              "#7201a8"
             ],
             [
              0.3333333333333333,
              "#9c179e"
             ],
             [
              0.4444444444444444,
              "#bd3786"
             ],
             [
              0.5555555555555556,
              "#d8576b"
             ],
             [
              0.6666666666666666,
              "#ed7953"
             ],
             [
              0.7777777777777778,
              "#fb9f3a"
             ],
             [
              0.8888888888888888,
              "#fdca26"
             ],
             [
              1,
              "#f0f921"
             ]
            ],
            "type": "heatmap"
           }
          ],
          "heatmapgl": [
           {
            "colorbar": {
             "outlinewidth": 0,
             "ticks": ""
            },
            "colorscale": [
             [
              0,
              "#0d0887"
             ],
             [
              0.1111111111111111,
              "#46039f"
             ],
             [
              0.2222222222222222,
              "#7201a8"
             ],
             [
              0.3333333333333333,
              "#9c179e"
             ],
             [
              0.4444444444444444,
              "#bd3786"
             ],
             [
              0.5555555555555556,
              "#d8576b"
             ],
             [
              0.6666666666666666,
              "#ed7953"
             ],
             [
              0.7777777777777778,
              "#fb9f3a"
             ],
             [
              0.8888888888888888,
              "#fdca26"
             ],
             [
              1,
              "#f0f921"
             ]
            ],
            "type": "heatmapgl"
           }
          ],
          "histogram": [
           {
            "marker": {
             "pattern": {
              "fillmode": "overlay",
              "size": 10,
              "solidity": 0.2
             }
            },
            "type": "histogram"
           }
          ],
          "histogram2d": [
           {
            "colorbar": {
             "outlinewidth": 0,
             "ticks": ""
            },
            "colorscale": [
             [
              0,
              "#0d0887"
             ],
             [
              0.1111111111111111,
              "#46039f"
             ],
             [
              0.2222222222222222,
              "#7201a8"
             ],
             [
              0.3333333333333333,
              "#9c179e"
             ],
             [
              0.4444444444444444,
              "#bd3786"
             ],
             [
              0.5555555555555556,
              "#d8576b"
             ],
             [
              0.6666666666666666,
              "#ed7953"
             ],
             [
              0.7777777777777778,
              "#fb9f3a"
             ],
             [
              0.8888888888888888,
              "#fdca26"
             ],
             [
              1,
              "#f0f921"
             ]
            ],
            "type": "histogram2d"
           }
          ],
          "histogram2dcontour": [
           {
            "colorbar": {
             "outlinewidth": 0,
             "ticks": ""
            },
            "colorscale": [
             [
              0,
              "#0d0887"
             ],
             [
              0.1111111111111111,
              "#46039f"
             ],
             [
              0.2222222222222222,
              "#7201a8"
             ],
             [
              0.3333333333333333,
              "#9c179e"
             ],
             [
              0.4444444444444444,
              "#bd3786"
             ],
             [
              0.5555555555555556,
              "#d8576b"
             ],
             [
              0.6666666666666666,
              "#ed7953"
             ],
             [
              0.7777777777777778,
              "#fb9f3a"
             ],
             [
              0.8888888888888888,
              "#fdca26"
             ],
             [
              1,
              "#f0f921"
             ]
            ],
            "type": "histogram2dcontour"
           }
          ],
          "mesh3d": [
           {
            "colorbar": {
             "outlinewidth": 0,
             "ticks": ""
            },
            "type": "mesh3d"
           }
          ],
          "parcoords": [
           {
            "line": {
             "colorbar": {
              "outlinewidth": 0,
              "ticks": ""
             }
            },
            "type": "parcoords"
           }
          ],
          "pie": [
           {
            "automargin": true,
            "type": "pie"
           }
          ],
          "scatter": [
           {
            "fillpattern": {
             "fillmode": "overlay",
             "size": 10,
             "solidity": 0.2
            },
            "type": "scatter"
           }
          ],
          "scatter3d": [
           {
            "line": {
             "colorbar": {
              "outlinewidth": 0,
              "ticks": ""
             }
            },
            "marker": {
             "colorbar": {
              "outlinewidth": 0,
              "ticks": ""
             }
            },
            "type": "scatter3d"
           }
          ],
          "scattercarpet": [
           {
            "marker": {
             "colorbar": {
              "outlinewidth": 0,
              "ticks": ""
             }
            },
            "type": "scattercarpet"
           }
          ],
          "scattergeo": [
           {
            "marker": {
             "colorbar": {
              "outlinewidth": 0,
              "ticks": ""
             }
            },
            "type": "scattergeo"
           }
          ],
          "scattergl": [
           {
            "marker": {
             "colorbar": {
              "outlinewidth": 0,
              "ticks": ""
             }
            },
            "type": "scattergl"
           }
          ],
          "scattermapbox": [
           {
            "marker": {
             "colorbar": {
              "outlinewidth": 0,
              "ticks": ""
             }
            },
            "type": "scattermapbox"
           }
          ],
          "scatterpolar": [
           {
            "marker": {
             "colorbar": {
              "outlinewidth": 0,
              "ticks": ""
             }
            },
            "type": "scatterpolar"
           }
          ],
          "scatterpolargl": [
           {
            "marker": {
             "colorbar": {
              "outlinewidth": 0,
              "ticks": ""
             }
            },
            "type": "scatterpolargl"
           }
          ],
          "scatterternary": [
           {
            "marker": {
             "colorbar": {
              "outlinewidth": 0,
              "ticks": ""
             }
            },
            "type": "scatterternary"
           }
          ],
          "surface": [
           {
            "colorbar": {
             "outlinewidth": 0,
             "ticks": ""
            },
            "colorscale": [
             [
              0,
              "#0d0887"
             ],
             [
              0.1111111111111111,
              "#46039f"
             ],
             [
              0.2222222222222222,
              "#7201a8"
             ],
             [
              0.3333333333333333,
              "#9c179e"
             ],
             [
              0.4444444444444444,
              "#bd3786"
             ],
             [
              0.5555555555555556,
              "#d8576b"
             ],
             [
              0.6666666666666666,
              "#ed7953"
             ],
             [
              0.7777777777777778,
              "#fb9f3a"
             ],
             [
              0.8888888888888888,
              "#fdca26"
             ],
             [
              1,
              "#f0f921"
             ]
            ],
            "type": "surface"
           }
          ],
          "table": [
           {
            "cells": {
             "fill": {
              "color": "#EBF0F8"
             },
             "line": {
              "color": "white"
             }
            },
            "header": {
             "fill": {
              "color": "#C8D4E3"
             },
             "line": {
              "color": "white"
             }
            },
            "type": "table"
           }
          ]
         },
         "layout": {
          "annotationdefaults": {
           "arrowcolor": "#2a3f5f",
           "arrowhead": 0,
           "arrowwidth": 1
          },
          "autotypenumbers": "strict",
          "coloraxis": {
           "colorbar": {
            "outlinewidth": 0,
            "ticks": ""
           }
          },
          "colorscale": {
           "diverging": [
            [
             0,
             "#8e0152"
            ],
            [
             0.1,
             "#c51b7d"
            ],
            [
             0.2,
             "#de77ae"
            ],
            [
             0.3,
             "#f1b6da"
            ],
            [
             0.4,
             "#fde0ef"
            ],
            [
             0.5,
             "#f7f7f7"
            ],
            [
             0.6,
             "#e6f5d0"
            ],
            [
             0.7,
             "#b8e186"
            ],
            [
             0.8,
             "#7fbc41"
            ],
            [
             0.9,
             "#4d9221"
            ],
            [
             1,
             "#276419"
            ]
           ],
           "sequential": [
            [
             0,
             "#0d0887"
            ],
            [
             0.1111111111111111,
             "#46039f"
            ],
            [
             0.2222222222222222,
             "#7201a8"
            ],
            [
             0.3333333333333333,
             "#9c179e"
            ],
            [
             0.4444444444444444,
             "#bd3786"
            ],
            [
             0.5555555555555556,
             "#d8576b"
            ],
            [
             0.6666666666666666,
             "#ed7953"
            ],
            [
             0.7777777777777778,
             "#fb9f3a"
            ],
            [
             0.8888888888888888,
             "#fdca26"
            ],
            [
             1,
             "#f0f921"
            ]
           ],
           "sequentialminus": [
            [
             0,
             "#0d0887"
            ],
            [
             0.1111111111111111,
             "#46039f"
            ],
            [
             0.2222222222222222,
             "#7201a8"
            ],
            [
             0.3333333333333333,
             "#9c179e"
            ],
            [
             0.4444444444444444,
             "#bd3786"
            ],
            [
             0.5555555555555556,
             "#d8576b"
            ],
            [
             0.6666666666666666,
             "#ed7953"
            ],
            [
             0.7777777777777778,
             "#fb9f3a"
            ],
            [
             0.8888888888888888,
             "#fdca26"
            ],
            [
             1,
             "#f0f921"
            ]
           ]
          },
          "colorway": [
           "#636efa",
           "#EF553B",
           "#00cc96",
           "#ab63fa",
           "#FFA15A",
           "#19d3f3",
           "#FF6692",
           "#B6E880",
           "#FF97FF",
           "#FECB52"
          ],
          "font": {
           "color": "#2a3f5f"
          },
          "geo": {
           "bgcolor": "white",
           "lakecolor": "white",
           "landcolor": "#E5ECF6",
           "showlakes": true,
           "showland": true,
           "subunitcolor": "white"
          },
          "hoverlabel": {
           "align": "left"
          },
          "hovermode": "closest",
          "mapbox": {
           "style": "light"
          },
          "paper_bgcolor": "white",
          "plot_bgcolor": "#E5ECF6",
          "polar": {
           "angularaxis": {
            "gridcolor": "white",
            "linecolor": "white",
            "ticks": ""
           },
           "bgcolor": "#E5ECF6",
           "radialaxis": {
            "gridcolor": "white",
            "linecolor": "white",
            "ticks": ""
           }
          },
          "scene": {
           "xaxis": {
            "backgroundcolor": "#E5ECF6",
            "gridcolor": "white",
            "gridwidth": 2,
            "linecolor": "white",
            "showbackground": true,
            "ticks": "",
            "zerolinecolor": "white"
           },
           "yaxis": {
            "backgroundcolor": "#E5ECF6",
            "gridcolor": "white",
            "gridwidth": 2,
            "linecolor": "white",
            "showbackground": true,
            "ticks": "",
            "zerolinecolor": "white"
           },
           "zaxis": {
            "backgroundcolor": "#E5ECF6",
            "gridcolor": "white",
            "gridwidth": 2,
            "linecolor": "white",
            "showbackground": true,
            "ticks": "",
            "zerolinecolor": "white"
           }
          },
          "shapedefaults": {
           "line": {
            "color": "#2a3f5f"
           }
          },
          "ternary": {
           "aaxis": {
            "gridcolor": "white",
            "linecolor": "white",
            "ticks": ""
           },
           "baxis": {
            "gridcolor": "white",
            "linecolor": "white",
            "ticks": ""
           },
           "bgcolor": "#E5ECF6",
           "caxis": {
            "gridcolor": "white",
            "linecolor": "white",
            "ticks": ""
           }
          },
          "title": {
           "x": 0.05
          },
          "xaxis": {
           "automargin": true,
           "gridcolor": "white",
           "linecolor": "white",
           "ticks": "",
           "title": {
            "standoff": 15
           },
           "zerolinecolor": "white",
           "zerolinewidth": 2
          },
          "yaxis": {
           "automargin": true,
           "gridcolor": "white",
           "linecolor": "white",
           "ticks": "",
           "title": {
            "standoff": 15
           },
           "zerolinecolor": "white",
           "zerolinewidth": 2
          }
         }
        },
        "title": {
         "font": {
          "color": "#4D5663"
         }
        },
        "xaxis": {
         "gridcolor": "#E1E5ED",
         "showgrid": true,
         "tickfont": {
          "color": "#4D5663"
         },
         "title": {
          "font": {
           "color": "#4D5663"
          },
          "text": ""
         },
         "zerolinecolor": "#E1E5ED"
        },
        "yaxis": {
         "gridcolor": "#E1E5ED",
         "showgrid": true,
         "tickfont": {
          "color": "#4D5663"
         },
         "title": {
          "font": {
           "color": "#4D5663"
          },
          "text": ""
         },
         "zerolinecolor": "#E1E5ED"
        }
       }
      },
      "text/html": [
       "<div>                            <div id=\"2bb73f5d-40c8-4097-a0dd-aa21013b05ca\" class=\"plotly-graph-div\" style=\"height:525px; width:100%;\"></div>            <script type=\"text/javascript\">                require([\"plotly\"], function(Plotly) {                    window.PLOTLYENV=window.PLOTLYENV || {};\n",
       "                    window.PLOTLYENV.BASE_URL='https://plot.ly';                                    if (document.getElementById(\"2bb73f5d-40c8-4097-a0dd-aa21013b05ca\")) {                    Plotly.newPlot(                        \"2bb73f5d-40c8-4097-a0dd-aa21013b05ca\",                        [{\"colorscale\":[[0.0,\"rgb(165,0,38)\"],[0.1,\"rgb(215,48,39)\"],[0.2,\"rgb(244,109,67)\"],[0.3,\"rgb(253,174,97)\"],[0.4,\"rgb(254,224,144)\"],[0.5,\"rgb(255,255,191)\"],[0.6,\"rgb(224,243,248)\"],[0.7,\"rgb(171,217,233)\"],[0.8,\"rgb(116,173,209)\"],[0.9,\"rgb(69,117,180)\"],[1.0,\"rgb(49,54,149)\"]],\"x\":[0,1,2,3,4],\"y\":[\"x\",\"y\",\"z\"],\"z\":[[1,2,3,4,5],[10,20,30,20,10],[5,4,3,2,1]],\"type\":\"surface\"}],                        {\"legend\":{\"bgcolor\":\"#F5F6F9\",\"font\":{\"color\":\"#4D5663\"}},\"paper_bgcolor\":\"#F5F6F9\",\"plot_bgcolor\":\"#F5F6F9\",\"template\":{\"data\":{\"barpolar\":[{\"marker\":{\"line\":{\"color\":\"#E5ECF6\",\"width\":0.5},\"pattern\":{\"fillmode\":\"overlay\",\"size\":10,\"solidity\":0.2}},\"type\":\"barpolar\"}],\"bar\":[{\"error_x\":{\"color\":\"#2a3f5f\"},\"error_y\":{\"color\":\"#2a3f5f\"},\"marker\":{\"line\":{\"color\":\"#E5ECF6\",\"width\":0.5},\"pattern\":{\"fillmode\":\"overlay\",\"size\":10,\"solidity\":0.2}},\"type\":\"bar\"}],\"carpet\":[{\"aaxis\":{\"endlinecolor\":\"#2a3f5f\",\"gridcolor\":\"white\",\"linecolor\":\"white\",\"minorgridcolor\":\"white\",\"startlinecolor\":\"#2a3f5f\"},\"baxis\":{\"endlinecolor\":\"#2a3f5f\",\"gridcolor\":\"white\",\"linecolor\":\"white\",\"minorgridcolor\":\"white\",\"startlinecolor\":\"#2a3f5f\"},\"type\":\"carpet\"}],\"choropleth\":[{\"colorbar\":{\"outlinewidth\":0,\"ticks\":\"\"},\"type\":\"choropleth\"}],\"contourcarpet\":[{\"colorbar\":{\"outlinewidth\":0,\"ticks\":\"\"},\"type\":\"contourcarpet\"}],\"contour\":[{\"colorbar\":{\"outlinewidth\":0,\"ticks\":\"\"},\"colorscale\":[[0.0,\"#0d0887\"],[0.1111111111111111,\"#46039f\"],[0.2222222222222222,\"#7201a8\"],[0.3333333333333333,\"#9c179e\"],[0.4444444444444444,\"#bd3786\"],[0.5555555555555556,\"#d8576b\"],[0.6666666666666666,\"#ed7953\"],[0.7777777777777778,\"#fb9f3a\"],[0.8888888888888888,\"#fdca26\"],[1.0,\"#f0f921\"]],\"type\":\"contour\"}],\"heatmapgl\":[{\"colorbar\":{\"outlinewidth\":0,\"ticks\":\"\"},\"colorscale\":[[0.0,\"#0d0887\"],[0.1111111111111111,\"#46039f\"],[0.2222222222222222,\"#7201a8\"],[0.3333333333333333,\"#9c179e\"],[0.4444444444444444,\"#bd3786\"],[0.5555555555555556,\"#d8576b\"],[0.6666666666666666,\"#ed7953\"],[0.7777777777777778,\"#fb9f3a\"],[0.8888888888888888,\"#fdca26\"],[1.0,\"#f0f921\"]],\"type\":\"heatmapgl\"}],\"heatmap\":[{\"colorbar\":{\"outlinewidth\":0,\"ticks\":\"\"},\"colorscale\":[[0.0,\"#0d0887\"],[0.1111111111111111,\"#46039f\"],[0.2222222222222222,\"#7201a8\"],[0.3333333333333333,\"#9c179e\"],[0.4444444444444444,\"#bd3786\"],[0.5555555555555556,\"#d8576b\"],[0.6666666666666666,\"#ed7953\"],[0.7777777777777778,\"#fb9f3a\"],[0.8888888888888888,\"#fdca26\"],[1.0,\"#f0f921\"]],\"type\":\"heatmap\"}],\"histogram2dcontour\":[{\"colorbar\":{\"outlinewidth\":0,\"ticks\":\"\"},\"colorscale\":[[0.0,\"#0d0887\"],[0.1111111111111111,\"#46039f\"],[0.2222222222222222,\"#7201a8\"],[0.3333333333333333,\"#9c179e\"],[0.4444444444444444,\"#bd3786\"],[0.5555555555555556,\"#d8576b\"],[0.6666666666666666,\"#ed7953\"],[0.7777777777777778,\"#fb9f3a\"],[0.8888888888888888,\"#fdca26\"],[1.0,\"#f0f921\"]],\"type\":\"histogram2dcontour\"}],\"histogram2d\":[{\"colorbar\":{\"outlinewidth\":0,\"ticks\":\"\"},\"colorscale\":[[0.0,\"#0d0887\"],[0.1111111111111111,\"#46039f\"],[0.2222222222222222,\"#7201a8\"],[0.3333333333333333,\"#9c179e\"],[0.4444444444444444,\"#bd3786\"],[0.5555555555555556,\"#d8576b\"],[0.6666666666666666,\"#ed7953\"],[0.7777777777777778,\"#fb9f3a\"],[0.8888888888888888,\"#fdca26\"],[1.0,\"#f0f921\"]],\"type\":\"histogram2d\"}],\"histogram\":[{\"marker\":{\"pattern\":{\"fillmode\":\"overlay\",\"size\":10,\"solidity\":0.2}},\"type\":\"histogram\"}],\"mesh3d\":[{\"colorbar\":{\"outlinewidth\":0,\"ticks\":\"\"},\"type\":\"mesh3d\"}],\"parcoords\":[{\"line\":{\"colorbar\":{\"outlinewidth\":0,\"ticks\":\"\"}},\"type\":\"parcoords\"}],\"pie\":[{\"automargin\":true,\"type\":\"pie\"}],\"scatter3d\":[{\"line\":{\"colorbar\":{\"outlinewidth\":0,\"ticks\":\"\"}},\"marker\":{\"colorbar\":{\"outlinewidth\":0,\"ticks\":\"\"}},\"type\":\"scatter3d\"}],\"scattercarpet\":[{\"marker\":{\"colorbar\":{\"outlinewidth\":0,\"ticks\":\"\"}},\"type\":\"scattercarpet\"}],\"scattergeo\":[{\"marker\":{\"colorbar\":{\"outlinewidth\":0,\"ticks\":\"\"}},\"type\":\"scattergeo\"}],\"scattergl\":[{\"marker\":{\"colorbar\":{\"outlinewidth\":0,\"ticks\":\"\"}},\"type\":\"scattergl\"}],\"scattermapbox\":[{\"marker\":{\"colorbar\":{\"outlinewidth\":0,\"ticks\":\"\"}},\"type\":\"scattermapbox\"}],\"scatterpolargl\":[{\"marker\":{\"colorbar\":{\"outlinewidth\":0,\"ticks\":\"\"}},\"type\":\"scatterpolargl\"}],\"scatterpolar\":[{\"marker\":{\"colorbar\":{\"outlinewidth\":0,\"ticks\":\"\"}},\"type\":\"scatterpolar\"}],\"scatter\":[{\"fillpattern\":{\"fillmode\":\"overlay\",\"size\":10,\"solidity\":0.2},\"type\":\"scatter\"}],\"scatterternary\":[{\"marker\":{\"colorbar\":{\"outlinewidth\":0,\"ticks\":\"\"}},\"type\":\"scatterternary\"}],\"surface\":[{\"colorbar\":{\"outlinewidth\":0,\"ticks\":\"\"},\"colorscale\":[[0.0,\"#0d0887\"],[0.1111111111111111,\"#46039f\"],[0.2222222222222222,\"#7201a8\"],[0.3333333333333333,\"#9c179e\"],[0.4444444444444444,\"#bd3786\"],[0.5555555555555556,\"#d8576b\"],[0.6666666666666666,\"#ed7953\"],[0.7777777777777778,\"#fb9f3a\"],[0.8888888888888888,\"#fdca26\"],[1.0,\"#f0f921\"]],\"type\":\"surface\"}],\"table\":[{\"cells\":{\"fill\":{\"color\":\"#EBF0F8\"},\"line\":{\"color\":\"white\"}},\"header\":{\"fill\":{\"color\":\"#C8D4E3\"},\"line\":{\"color\":\"white\"}},\"type\":\"table\"}]},\"layout\":{\"annotationdefaults\":{\"arrowcolor\":\"#2a3f5f\",\"arrowhead\":0,\"arrowwidth\":1},\"autotypenumbers\":\"strict\",\"coloraxis\":{\"colorbar\":{\"outlinewidth\":0,\"ticks\":\"\"}},\"colorscale\":{\"diverging\":[[0,\"#8e0152\"],[0.1,\"#c51b7d\"],[0.2,\"#de77ae\"],[0.3,\"#f1b6da\"],[0.4,\"#fde0ef\"],[0.5,\"#f7f7f7\"],[0.6,\"#e6f5d0\"],[0.7,\"#b8e186\"],[0.8,\"#7fbc41\"],[0.9,\"#4d9221\"],[1,\"#276419\"]],\"sequential\":[[0.0,\"#0d0887\"],[0.1111111111111111,\"#46039f\"],[0.2222222222222222,\"#7201a8\"],[0.3333333333333333,\"#9c179e\"],[0.4444444444444444,\"#bd3786\"],[0.5555555555555556,\"#d8576b\"],[0.6666666666666666,\"#ed7953\"],[0.7777777777777778,\"#fb9f3a\"],[0.8888888888888888,\"#fdca26\"],[1.0,\"#f0f921\"]],\"sequentialminus\":[[0.0,\"#0d0887\"],[0.1111111111111111,\"#46039f\"],[0.2222222222222222,\"#7201a8\"],[0.3333333333333333,\"#9c179e\"],[0.4444444444444444,\"#bd3786\"],[0.5555555555555556,\"#d8576b\"],[0.6666666666666666,\"#ed7953\"],[0.7777777777777778,\"#fb9f3a\"],[0.8888888888888888,\"#fdca26\"],[1.0,\"#f0f921\"]]},\"colorway\":[\"#636efa\",\"#EF553B\",\"#00cc96\",\"#ab63fa\",\"#FFA15A\",\"#19d3f3\",\"#FF6692\",\"#B6E880\",\"#FF97FF\",\"#FECB52\"],\"font\":{\"color\":\"#2a3f5f\"},\"geo\":{\"bgcolor\":\"white\",\"lakecolor\":\"white\",\"landcolor\":\"#E5ECF6\",\"showlakes\":true,\"showland\":true,\"subunitcolor\":\"white\"},\"hoverlabel\":{\"align\":\"left\"},\"hovermode\":\"closest\",\"mapbox\":{\"style\":\"light\"},\"paper_bgcolor\":\"white\",\"plot_bgcolor\":\"#E5ECF6\",\"polar\":{\"angularaxis\":{\"gridcolor\":\"white\",\"linecolor\":\"white\",\"ticks\":\"\"},\"bgcolor\":\"#E5ECF6\",\"radialaxis\":{\"gridcolor\":\"white\",\"linecolor\":\"white\",\"ticks\":\"\"}},\"scene\":{\"xaxis\":{\"backgroundcolor\":\"#E5ECF6\",\"gridcolor\":\"white\",\"gridwidth\":2,\"linecolor\":\"white\",\"showbackground\":true,\"ticks\":\"\",\"zerolinecolor\":\"white\"},\"yaxis\":{\"backgroundcolor\":\"#E5ECF6\",\"gridcolor\":\"white\",\"gridwidth\":2,\"linecolor\":\"white\",\"showbackground\":true,\"ticks\":\"\",\"zerolinecolor\":\"white\"},\"zaxis\":{\"backgroundcolor\":\"#E5ECF6\",\"gridcolor\":\"white\",\"gridwidth\":2,\"linecolor\":\"white\",\"showbackground\":true,\"ticks\":\"\",\"zerolinecolor\":\"white\"}},\"shapedefaults\":{\"line\":{\"color\":\"#2a3f5f\"}},\"ternary\":{\"aaxis\":{\"gridcolor\":\"white\",\"linecolor\":\"white\",\"ticks\":\"\"},\"baxis\":{\"gridcolor\":\"white\",\"linecolor\":\"white\",\"ticks\":\"\"},\"bgcolor\":\"#E5ECF6\",\"caxis\":{\"gridcolor\":\"white\",\"linecolor\":\"white\",\"ticks\":\"\"}},\"title\":{\"x\":0.05},\"xaxis\":{\"automargin\":true,\"gridcolor\":\"white\",\"linecolor\":\"white\",\"ticks\":\"\",\"title\":{\"standoff\":15},\"zerolinecolor\":\"white\",\"zerolinewidth\":2},\"yaxis\":{\"automargin\":true,\"gridcolor\":\"white\",\"linecolor\":\"white\",\"ticks\":\"\",\"title\":{\"standoff\":15},\"zerolinecolor\":\"white\",\"zerolinewidth\":2}}},\"title\":{\"font\":{\"color\":\"#4D5663\"}},\"xaxis\":{\"gridcolor\":\"#E1E5ED\",\"showgrid\":true,\"tickfont\":{\"color\":\"#4D5663\"},\"title\":{\"font\":{\"color\":\"#4D5663\"},\"text\":\"\"},\"zerolinecolor\":\"#E1E5ED\"},\"yaxis\":{\"gridcolor\":\"#E1E5ED\",\"showgrid\":true,\"tickfont\":{\"color\":\"#4D5663\"},\"title\":{\"font\":{\"color\":\"#4D5663\"},\"text\":\"\"},\"zerolinecolor\":\"#E1E5ED\"}},                        {\"showLink\": true, \"linkText\": \"Export to plot.ly\", \"plotlyServerURL\": \"https://plot.ly\", \"responsive\": true}                    ).then(function(){\n",
       "                            \n",
       "var gd = document.getElementById('2bb73f5d-40c8-4097-a0dd-aa21013b05ca');\n",
       "var x = new MutationObserver(function (mutations, observer) {{\n",
       "        var display = window.getComputedStyle(gd).display;\n",
       "        if (!display || display === 'none') {{\n",
       "            console.log([gd, 'removed!']);\n",
       "            Plotly.purge(gd);\n",
       "            observer.disconnect();\n",
       "        }}\n",
       "}});\n",
       "\n",
       "// Listen for the removal of the full notebook cells\n",
       "var notebookContainer = gd.closest('#notebook-container');\n",
       "if (notebookContainer) {{\n",
       "    x.observe(notebookContainer, {childList: true});\n",
       "}}\n",
       "\n",
       "// Listen for the clearing of the current output cell\n",
       "var outputEl = gd.closest('.output');\n",
       "if (outputEl) {{\n",
       "    x.observe(outputEl, {childList: true});\n",
       "}}\n",
       "\n",
       "                        })                };                });            </script>        </div>"
      ]
     },
     "metadata": {},
     "output_type": "display_data"
    }
   ],
   "source": [
    "df3 = pd.DataFrame({'x':[1,2,3,4,5],'y':[10,20,30,20,10],'z':[5,4,3,2,1]})\n",
    "df3.iplot(kind='surface',colorscale='rdylbu')"
   ]
  },
  {
   "cell_type": "markdown",
   "metadata": {},
   "source": [
    "## Spread"
   ]
  },
  {
   "cell_type": "code",
   "execution_count": 16,
   "metadata": {},
   "outputs": [
    {
     "name": "stderr",
     "output_type": "stream",
     "text": [
      "/media/tlvidigal/HD Int 1tb/Cursos/python_dsa/lib/python3.11/site-packages/cufflinks/plotlytools.py:849: FutureWarning:\n",
      "\n",
      "Series.__getitem__ treating keys as positions is deprecated. In a future version, integer keys will always be treated as labels (consistent with DataFrame behavior). To access a value by position, use `ser.iloc[pos]`\n",
      "\n"
     ]
    },
    {
     "data": {
      "application/vnd.plotly.v1+json": {
       "config": {
        "linkText": "Export to plot.ly",
        "plotlyServerURL": "https://plot.ly",
        "showLink": true
       },
       "data": [
        {
         "line": {
          "color": "rgba(255, 153, 51, 1.0)",
          "dash": "solid",
          "shape": "linear",
          "width": 1.3
         },
         "mode": "lines",
         "name": "A",
         "text": "",
         "type": "scatter",
         "x": [
          0,
          1,
          2,
          3,
          4,
          5,
          6,
          7,
          8,
          9,
          10,
          11,
          12,
          13,
          14,
          15,
          16,
          17,
          18,
          19,
          20,
          21,
          22,
          23,
          24,
          25,
          26,
          27,
          28,
          29,
          30,
          31,
          32,
          33,
          34,
          35,
          36,
          37,
          38,
          39,
          40,
          41,
          42,
          43,
          44,
          45,
          46,
          47,
          48,
          49,
          50,
          51,
          52,
          53,
          54,
          55,
          56,
          57,
          58,
          59,
          60,
          61,
          62,
          63,
          64,
          65,
          66,
          67,
          68,
          69,
          70,
          71,
          72,
          73,
          74,
          75,
          76,
          77,
          78,
          79,
          80,
          81,
          82,
          83,
          84,
          85,
          86,
          87,
          88,
          89,
          90,
          91,
          92,
          93,
          94,
          95,
          96,
          97,
          98,
          99
         ],
         "y": [
          -1.6844993786342044,
          0.4337824524461489,
          -0.8691693852146056,
          0.9653121387937669,
          -0.7109752166232484,
          -0.45006015542555056,
          1.0171168908883115,
          1.5780961752102243,
          -2.1160933540323286,
          0.2343715875650588,
          -0.5528680468664166,
          0.38632374541788334,
          -0.5722948323221422,
          -0.8145672569000181,
          0.49306577734475027,
          -1.1747216668475229,
          0.08930322383125251,
          0.13489401392347433,
          -0.18154994658679408,
          -0.1797427927707783,
          -0.6020466339558398,
          -0.03072825449634198,
          0.09788707748052361,
          0.3471881456095463,
          0.5768605470922169,
          -0.7151832446205061,
          -0.9112976711916279,
          0.09481662754534259,
          -0.910643811479693,
          0.11344525996528626,
          -0.2848595871502769,
          1.497486931550133,
          1.0448924393019643,
          0.648713382035497,
          0.14133457403504462,
          -0.9423855268071041,
          -0.7558517471451324,
          1.1034730063461553,
          -0.10239322951648648,
          0.9031722433903324,
          0.9252179518935177,
          -0.8970796650314016,
          0.5649986383576866,
          1.6078581107955012,
          0.7119991594850152,
          1.6204010398651412,
          -0.025321453891786718,
          -0.8499809725068881,
          -0.40522522234331965,
          -0.12509501604331788,
          1.4785409397705953,
          0.3694497550289572,
          -0.5350450922129657,
          0.1357029132639195,
          -0.025405805705771396,
          1.5952346153732109,
          1.1676737423572598,
          -0.3544567773817869,
          -0.18797553847544687,
          1.4877166510232325,
          0.4217944046376089,
          -0.16625411785823546,
          1.839332984376313,
          0.5486490471496404,
          1.187033804236325,
          -0.02612235723645212,
          1.5976465181616468,
          -0.1952788064272953,
          -0.003132419080781338,
          0.34797309675372445,
          1.3321715816244717,
          -0.2737241477992157,
          0.8962755167170101,
          0.5795417450593899,
          -0.18383583611314588,
          0.8928460544690597,
          -1.3922157024409982,
          -1.2375466595431501,
          0.3336992080417538,
          -0.021243021449576818,
          -0.8890140593926337,
          -0.7420333246838322,
          -0.579664367503824,
          1.9789634617895238,
          0.06455756143255113,
          1.205868759639534,
          -0.9842266918694147,
          -0.3425643408088088,
          0.34130180923738723,
          0.40136976324289486,
          -0.7982892383219594,
          -1.2726622403925725,
          0.3530111842067332,
          1.2421739172783588,
          -1.120247339070788,
          0.5750779467137043,
          -0.4320597966482676,
          0.9870732217728948,
          -0.05055637421416955,
          -0.8903622498341756
         ]
        },
        {
         "line": {
          "color": "rgba(55, 128, 191, 1.0)",
          "dash": "solid",
          "shape": "linear",
          "width": 1.3
         },
         "mode": "lines",
         "name": "B",
         "text": "",
         "type": "scatter",
         "x": [
          0,
          1,
          2,
          3,
          4,
          5,
          6,
          7,
          8,
          9,
          10,
          11,
          12,
          13,
          14,
          15,
          16,
          17,
          18,
          19,
          20,
          21,
          22,
          23,
          24,
          25,
          26,
          27,
          28,
          29,
          30,
          31,
          32,
          33,
          34,
          35,
          36,
          37,
          38,
          39,
          40,
          41,
          42,
          43,
          44,
          45,
          46,
          47,
          48,
          49,
          50,
          51,
          52,
          53,
          54,
          55,
          56,
          57,
          58,
          59,
          60,
          61,
          62,
          63,
          64,
          65,
          66,
          67,
          68,
          69,
          70,
          71,
          72,
          73,
          74,
          75,
          76,
          77,
          78,
          79,
          80,
          81,
          82,
          83,
          84,
          85,
          86,
          87,
          88,
          89,
          90,
          91,
          92,
          93,
          94,
          95,
          96,
          97,
          98,
          99
         ],
         "y": [
          1.5522000044749955,
          -0.8118066237567007,
          -1.9583743073878386,
          -0.14696836355682874,
          -0.21208261738056397,
          -0.24020362993660963,
          -0.31977996092043615,
          0.6119339124091268,
          1.349780690086934,
          -1.6149613705675971,
          -3.5121272482480483,
          -0.2876971253143369,
          -1.1329691232522952,
          -0.3914026001731782,
          0.44795717167726046,
          -0.5373453645534138,
          0.20179314005562496,
          -2.205736471459392,
          -1.9332842901336456,
          1.259020481591884,
          0.25345668167046015,
          -0.4559042131567118,
          1.2949891928279382,
          -0.748052036762677,
          -1.078015779779852,
          0.0866086645503718,
          1.3259726852002482,
          1.371155553999299,
          1.5597120643381566,
          0.7583725476251723,
          1.6004556144601645,
          1.6610069264389653,
          0.16330413275432498,
          1.201188362944357,
          -0.1669888038021607,
          -2.2448476063768843,
          0.5551836793585623,
          0.21713144705818224,
          -0.8136071488049466,
          0.5940294668099988,
          1.8989551559751483,
          -0.00786012259690263,
          0.11144475144098041,
          -1.6565054213721024,
          -1.1824676471076967,
          0.9288098632832997,
          2.0044812699802765,
          -2.480799680948316,
          1.2337900447822574,
          -2.531382527478476,
          0.9157463725707286,
          -0.1370912630448338,
          0.5041137075678902,
          0.005966193373438284,
          -0.3901148179715984,
          -0.5423286362298547,
          0.010744126454946788,
          1.8806981884192018,
          0.5889261156657364,
          0.17667984121404925,
          -0.5659856900149359,
          0.3890058855108887,
          -1.09165286677273,
          -0.5019430076401349,
          0.10169880094850037,
          -0.06842355187598258,
          0.9381367467291669,
          -0.9398554669967962,
          -0.3251095674252459,
          -0.9139424132945362,
          -0.3056611501519662,
          -0.3283027002777851,
          -0.12031484790725197,
          0.6794401271657093,
          0.47217701704988185,
          -1.7509802495158866,
          2.5760213146546507,
          2.2501360319767345,
          -0.19001713579818874,
          0.27694597696910617,
          0.8589019268113817,
          1.8017402455340144,
          0.43858672379016594,
          1.0982802969266425,
          0.9831944186866525,
          -1.8708383193957832,
          -0.1668713447630551,
          0.27138619743932924,
          -1.0514231323561325,
          -1.6479775507586287,
          -0.4715602639356907,
          -0.5183890178845385,
          -0.12000190257329688,
          -0.11010434911449721,
          -1.4978281045994541,
          -0.1365455952006748,
          -0.6866333990669393,
          -0.9188872819969375,
          -2.169756665385094,
          -2.107733277663181
         ]
        },
        {
         "connectgaps": false,
         "fill": "tozeroy",
         "line": {
          "color": "green",
          "dash": "solid",
          "shape": "linear",
          "width": 0.5
         },
         "mode": "lines",
         "name": "Spread",
         "showlegend": false,
         "type": "scatter",
         "x": [
          0,
          1,
          2,
          3,
          4,
          5,
          6,
          7,
          8,
          9,
          10,
          11,
          12,
          13,
          14,
          15,
          16,
          17,
          18,
          19,
          20,
          21,
          22,
          23,
          24,
          25,
          26,
          27,
          28,
          29,
          30,
          31,
          32,
          33,
          34,
          35,
          36,
          37,
          38,
          39,
          40,
          41,
          42,
          43,
          44,
          45,
          46,
          47,
          48,
          49,
          50,
          51,
          52,
          53,
          54,
          55,
          56,
          57,
          58,
          59,
          60,
          61,
          62,
          63,
          64,
          65,
          66,
          67,
          68,
          69,
          70,
          71,
          72,
          73,
          74,
          75,
          76,
          77,
          78,
          79,
          80,
          81,
          82,
          83,
          84,
          85,
          86,
          87,
          88,
          89,
          90,
          91,
          92,
          93,
          94,
          95,
          96,
          97,
          98,
          99
         ],
         "xaxis": "x2",
         "y": [
          "",
          1.2455890762028496,
          1.089204922173233,
          1.1122805023505955,
          "",
          "",
          1.3368968518087476,
          0.9661622628010975,
          "",
          1.8493329581326559,
          2.9592592013816317,
          0.6740208707322202,
          0.560674290930153,
          "",
          0.04510860566748981,
          "",
          "",
          2.3406304853828663,
          1.7517343435468515,
          "",
          "",
          0.42517595866036983,
          "",
          1.0952401823722233,
          1.6548763268720688,
          "",
          "",
          "",
          "",
          "",
          "",
          "",
          0.8815883065476393,
          "",
          0.3083233778372053,
          1.3024620795697803,
          "",
          0.8863415592879731,
          0.7112139192884601,
          0.3091427765803336,
          "",
          "",
          0.4535538869167062,
          3.2643635321676037,
          1.894466806592712,
          0.6915911765818414,
          "",
          1.630818708441428,
          "",
          2.406287511435158,
          0.5627945671998668,
          0.506541018073791,
          "",
          0.12973671989048122,
          0.364709012265827,
          2.1375632516030656,
          1.156929615902313,
          "",
          "",
          1.3110368098091831,
          0.9877800946525448,
          "",
          2.9309858511490434,
          1.0505920547897754,
          1.0853350032878248,
          0.04230119463953046,
          0.6595097714324799,
          0.7445766605695009,
          0.32197714834446456,
          1.2619155100482606,
          1.6378327317764378,
          0.05457855247856935,
          1.016590364624262,
          "",
          "",
          2.6438263039849463,
          "",
          "",
          0.5237163438399426,
          "",
          "",
          "",
          "",
          0.8806831648628812,
          "",
          3.0767070790353173,
          "",
          "",
          1.3927249415935197,
          2.0493473140015235,
          "",
          "",
          0.47301308678003007,
          1.352278266392856,
          0.37758076552866604,
          0.711623541914379,
          0.2545736024186717,
          1.9059605037698324,
          2.1192002911709245,
          1.2173710278290053
         ],
         "yaxis": "y2"
        },
        {
         "connectgaps": false,
         "fill": "tozeroy",
         "line": {
          "color": "red",
          "dash": "solid",
          "shape": "linear",
          "width": 0.5
         },
         "mode": "lines",
         "name": "Spread",
         "showlegend": false,
         "type": "scatter",
         "x": [
          0,
          1,
          2,
          3,
          4,
          5,
          6,
          7,
          8,
          9,
          10,
          11,
          12,
          13,
          14,
          15,
          16,
          17,
          18,
          19,
          20,
          21,
          22,
          23,
          24,
          25,
          26,
          27,
          28,
          29,
          30,
          31,
          32,
          33,
          34,
          35,
          36,
          37,
          38,
          39,
          40,
          41,
          42,
          43,
          44,
          45,
          46,
          47,
          48,
          49,
          50,
          51,
          52,
          53,
          54,
          55,
          56,
          57,
          58,
          59,
          60,
          61,
          62,
          63,
          64,
          65,
          66,
          67,
          68,
          69,
          70,
          71,
          72,
          73,
          74,
          75,
          76,
          77,
          78,
          79,
          80,
          81,
          82,
          83,
          84,
          85,
          86,
          87,
          88,
          89,
          90,
          91,
          92,
          93,
          94,
          95,
          96,
          97,
          98,
          99
         ],
         "xaxis": "x2",
         "y": [
          -3.2366993831092,
          "",
          "",
          "",
          -0.49889259924268436,
          -0.20985652548894093,
          "",
          "",
          -3.4658740441192624,
          "",
          "",
          "",
          "",
          -0.4231646567268399,
          "",
          -0.6373763022941091,
          -0.11248991622437245,
          "",
          "",
          -1.4387632743626622,
          -0.8555033156262999,
          "",
          -1.1971021153474146,
          "",
          "",
          -0.8017919091708778,
          -2.237270356391876,
          -1.2763389264539564,
          -2.4703558758178494,
          -0.6449272876598859,
          -1.8853152016104415,
          -0.1635199948888324,
          "",
          -0.5524749809088599,
          "",
          "",
          -1.3110354265036945,
          "",
          "",
          "",
          -0.9737372040816306,
          -0.889219542434499,
          "",
          "",
          "",
          "",
          -2.0298027238720633,
          "",
          -1.639015267125577,
          "",
          "",
          "",
          -1.0391587997808558,
          "",
          "",
          "",
          "",
          -2.2351549658009886,
          -0.7769016541411833,
          "",
          "",
          -0.5552600033691242,
          "",
          "",
          "",
          "",
          "",
          "",
          "",
          "",
          "",
          "",
          "",
          -0.0998983821063194,
          -0.6560128531630277,
          "",
          -3.9682370170956487,
          -3.4876826915198844,
          "",
          -0.29818899841868296,
          -1.7479159862040152,
          -2.5437735702178466,
          -1.01825109129399,
          "",
          -0.9186368572541014,
          "",
          -0.8173553471063596,
          -0.6139505382481381,
          "",
          "",
          -0.3267289743862687,
          -0.754273222508034,
          "",
          "",
          "",
          "",
          "",
          "",
          "",
          ""
         ],
         "yaxis": "y2"
        }
       ],
       "layout": {
        "hovermode": "x",
        "legend": {
         "bgcolor": "#F5F6F9",
         "font": {
          "color": "#4D5663"
         }
        },
        "paper_bgcolor": "#F5F6F9",
        "plot_bgcolor": "#F5F6F9",
        "template": {
         "data": {
          "bar": [
           {
            "error_x": {
             "color": "#2a3f5f"
            },
            "error_y": {
             "color": "#2a3f5f"
            },
            "marker": {
             "line": {
              "color": "#E5ECF6",
              "width": 0.5
             },
             "pattern": {
              "fillmode": "overlay",
              "size": 10,
              "solidity": 0.2
             }
            },
            "type": "bar"
           }
          ],
          "barpolar": [
           {
            "marker": {
             "line": {
              "color": "#E5ECF6",
              "width": 0.5
             },
             "pattern": {
              "fillmode": "overlay",
              "size": 10,
              "solidity": 0.2
             }
            },
            "type": "barpolar"
           }
          ],
          "carpet": [
           {
            "aaxis": {
             "endlinecolor": "#2a3f5f",
             "gridcolor": "white",
             "linecolor": "white",
             "minorgridcolor": "white",
             "startlinecolor": "#2a3f5f"
            },
            "baxis": {
             "endlinecolor": "#2a3f5f",
             "gridcolor": "white",
             "linecolor": "white",
             "minorgridcolor": "white",
             "startlinecolor": "#2a3f5f"
            },
            "type": "carpet"
           }
          ],
          "choropleth": [
           {
            "colorbar": {
             "outlinewidth": 0,
             "ticks": ""
            },
            "type": "choropleth"
           }
          ],
          "contour": [
           {
            "colorbar": {
             "outlinewidth": 0,
             "ticks": ""
            },
            "colorscale": [
             [
              0,
              "#0d0887"
             ],
             [
              0.1111111111111111,
              "#46039f"
             ],
             [
              0.2222222222222222,
              "#7201a8"
             ],
             [
              0.3333333333333333,
              "#9c179e"
             ],
             [
              0.4444444444444444,
              "#bd3786"
             ],
             [
              0.5555555555555556,
              "#d8576b"
             ],
             [
              0.6666666666666666,
              "#ed7953"
             ],
             [
              0.7777777777777778,
              "#fb9f3a"
             ],
             [
              0.8888888888888888,
              "#fdca26"
             ],
             [
              1,
              "#f0f921"
             ]
            ],
            "type": "contour"
           }
          ],
          "contourcarpet": [
           {
            "colorbar": {
             "outlinewidth": 0,
             "ticks": ""
            },
            "type": "contourcarpet"
           }
          ],
          "heatmap": [
           {
            "colorbar": {
             "outlinewidth": 0,
             "ticks": ""
            },
            "colorscale": [
             [
              0,
              "#0d0887"
             ],
             [
              0.1111111111111111,
              "#46039f"
             ],
             [
              0.2222222222222222,
              "#7201a8"
             ],
             [
              0.3333333333333333,
              "#9c179e"
             ],
             [
              0.4444444444444444,
              "#bd3786"
             ],
             [
              0.5555555555555556,
              "#d8576b"
             ],
             [
              0.6666666666666666,
              "#ed7953"
             ],
             [
              0.7777777777777778,
              "#fb9f3a"
             ],
             [
              0.8888888888888888,
              "#fdca26"
             ],
             [
              1,
              "#f0f921"
             ]
            ],
            "type": "heatmap"
           }
          ],
          "heatmapgl": [
           {
            "colorbar": {
             "outlinewidth": 0,
             "ticks": ""
            },
            "colorscale": [
             [
              0,
              "#0d0887"
             ],
             [
              0.1111111111111111,
              "#46039f"
             ],
             [
              0.2222222222222222,
              "#7201a8"
             ],
             [
              0.3333333333333333,
              "#9c179e"
             ],
             [
              0.4444444444444444,
              "#bd3786"
             ],
             [
              0.5555555555555556,
              "#d8576b"
             ],
             [
              0.6666666666666666,
              "#ed7953"
             ],
             [
              0.7777777777777778,
              "#fb9f3a"
             ],
             [
              0.8888888888888888,
              "#fdca26"
             ],
             [
              1,
              "#f0f921"
             ]
            ],
            "type": "heatmapgl"
           }
          ],
          "histogram": [
           {
            "marker": {
             "pattern": {
              "fillmode": "overlay",
              "size": 10,
              "solidity": 0.2
             }
            },
            "type": "histogram"
           }
          ],
          "histogram2d": [
           {
            "colorbar": {
             "outlinewidth": 0,
             "ticks": ""
            },
            "colorscale": [
             [
              0,
              "#0d0887"
             ],
             [
              0.1111111111111111,
              "#46039f"
             ],
             [
              0.2222222222222222,
              "#7201a8"
             ],
             [
              0.3333333333333333,
              "#9c179e"
             ],
             [
              0.4444444444444444,
              "#bd3786"
             ],
             [
              0.5555555555555556,
              "#d8576b"
             ],
             [
              0.6666666666666666,
              "#ed7953"
             ],
             [
              0.7777777777777778,
              "#fb9f3a"
             ],
             [
              0.8888888888888888,
              "#fdca26"
             ],
             [
              1,
              "#f0f921"
             ]
            ],
            "type": "histogram2d"
           }
          ],
          "histogram2dcontour": [
           {
            "colorbar": {
             "outlinewidth": 0,
             "ticks": ""
            },
            "colorscale": [
             [
              0,
              "#0d0887"
             ],
             [
              0.1111111111111111,
              "#46039f"
             ],
             [
              0.2222222222222222,
              "#7201a8"
             ],
             [
              0.3333333333333333,
              "#9c179e"
             ],
             [
              0.4444444444444444,
              "#bd3786"
             ],
             [
              0.5555555555555556,
              "#d8576b"
             ],
             [
              0.6666666666666666,
              "#ed7953"
             ],
             [
              0.7777777777777778,
              "#fb9f3a"
             ],
             [
              0.8888888888888888,
              "#fdca26"
             ],
             [
              1,
              "#f0f921"
             ]
            ],
            "type": "histogram2dcontour"
           }
          ],
          "mesh3d": [
           {
            "colorbar": {
             "outlinewidth": 0,
             "ticks": ""
            },
            "type": "mesh3d"
           }
          ],
          "parcoords": [
           {
            "line": {
             "colorbar": {
              "outlinewidth": 0,
              "ticks": ""
             }
            },
            "type": "parcoords"
           }
          ],
          "pie": [
           {
            "automargin": true,
            "type": "pie"
           }
          ],
          "scatter": [
           {
            "fillpattern": {
             "fillmode": "overlay",
             "size": 10,
             "solidity": 0.2
            },
            "type": "scatter"
           }
          ],
          "scatter3d": [
           {
            "line": {
             "colorbar": {
              "outlinewidth": 0,
              "ticks": ""
             }
            },
            "marker": {
             "colorbar": {
              "outlinewidth": 0,
              "ticks": ""
             }
            },
            "type": "scatter3d"
           }
          ],
          "scattercarpet": [
           {
            "marker": {
             "colorbar": {
              "outlinewidth": 0,
              "ticks": ""
             }
            },
            "type": "scattercarpet"
           }
          ],
          "scattergeo": [
           {
            "marker": {
             "colorbar": {
              "outlinewidth": 0,
              "ticks": ""
             }
            },
            "type": "scattergeo"
           }
          ],
          "scattergl": [
           {
            "marker": {
             "colorbar": {
              "outlinewidth": 0,
              "ticks": ""
             }
            },
            "type": "scattergl"
           }
          ],
          "scattermapbox": [
           {
            "marker": {
             "colorbar": {
              "outlinewidth": 0,
              "ticks": ""
             }
            },
            "type": "scattermapbox"
           }
          ],
          "scatterpolar": [
           {
            "marker": {
             "colorbar": {
              "outlinewidth": 0,
              "ticks": ""
             }
            },
            "type": "scatterpolar"
           }
          ],
          "scatterpolargl": [
           {
            "marker": {
             "colorbar": {
              "outlinewidth": 0,
              "ticks": ""
             }
            },
            "type": "scatterpolargl"
           }
          ],
          "scatterternary": [
           {
            "marker": {
             "colorbar": {
              "outlinewidth": 0,
              "ticks": ""
             }
            },
            "type": "scatterternary"
           }
          ],
          "surface": [
           {
            "colorbar": {
             "outlinewidth": 0,
             "ticks": ""
            },
            "colorscale": [
             [
              0,
              "#0d0887"
             ],
             [
              0.1111111111111111,
              "#46039f"
             ],
             [
              0.2222222222222222,
              "#7201a8"
             ],
             [
              0.3333333333333333,
              "#9c179e"
             ],
             [
              0.4444444444444444,
              "#bd3786"
             ],
             [
              0.5555555555555556,
              "#d8576b"
             ],
             [
              0.6666666666666666,
              "#ed7953"
             ],
             [
              0.7777777777777778,
              "#fb9f3a"
             ],
             [
              0.8888888888888888,
              "#fdca26"
             ],
             [
              1,
              "#f0f921"
             ]
            ],
            "type": "surface"
           }
          ],
          "table": [
           {
            "cells": {
             "fill": {
              "color": "#EBF0F8"
             },
             "line": {
              "color": "white"
             }
            },
            "header": {
             "fill": {
              "color": "#C8D4E3"
             },
             "line": {
              "color": "white"
             }
            },
            "type": "table"
           }
          ]
         },
         "layout": {
          "annotationdefaults": {
           "arrowcolor": "#2a3f5f",
           "arrowhead": 0,
           "arrowwidth": 1
          },
          "autotypenumbers": "strict",
          "coloraxis": {
           "colorbar": {
            "outlinewidth": 0,
            "ticks": ""
           }
          },
          "colorscale": {
           "diverging": [
            [
             0,
             "#8e0152"
            ],
            [
             0.1,
             "#c51b7d"
            ],
            [
             0.2,
             "#de77ae"
            ],
            [
             0.3,
             "#f1b6da"
            ],
            [
             0.4,
             "#fde0ef"
            ],
            [
             0.5,
             "#f7f7f7"
            ],
            [
             0.6,
             "#e6f5d0"
            ],
            [
             0.7,
             "#b8e186"
            ],
            [
             0.8,
             "#7fbc41"
            ],
            [
             0.9,
             "#4d9221"
            ],
            [
             1,
             "#276419"
            ]
           ],
           "sequential": [
            [
             0,
             "#0d0887"
            ],
            [
             0.1111111111111111,
             "#46039f"
            ],
            [
             0.2222222222222222,
             "#7201a8"
            ],
            [
             0.3333333333333333,
             "#9c179e"
            ],
            [
             0.4444444444444444,
             "#bd3786"
            ],
            [
             0.5555555555555556,
             "#d8576b"
            ],
            [
             0.6666666666666666,
             "#ed7953"
            ],
            [
             0.7777777777777778,
             "#fb9f3a"
            ],
            [
             0.8888888888888888,
             "#fdca26"
            ],
            [
             1,
             "#f0f921"
            ]
           ],
           "sequentialminus": [
            [
             0,
             "#0d0887"
            ],
            [
             0.1111111111111111,
             "#46039f"
            ],
            [
             0.2222222222222222,
             "#7201a8"
            ],
            [
             0.3333333333333333,
             "#9c179e"
            ],
            [
             0.4444444444444444,
             "#bd3786"
            ],
            [
             0.5555555555555556,
             "#d8576b"
            ],
            [
             0.6666666666666666,
             "#ed7953"
            ],
            [
             0.7777777777777778,
             "#fb9f3a"
            ],
            [
             0.8888888888888888,
             "#fdca26"
            ],
            [
             1,
             "#f0f921"
            ]
           ]
          },
          "colorway": [
           "#636efa",
           "#EF553B",
           "#00cc96",
           "#ab63fa",
           "#FFA15A",
           "#19d3f3",
           "#FF6692",
           "#B6E880",
           "#FF97FF",
           "#FECB52"
          ],
          "font": {
           "color": "#2a3f5f"
          },
          "geo": {
           "bgcolor": "white",
           "lakecolor": "white",
           "landcolor": "#E5ECF6",
           "showlakes": true,
           "showland": true,
           "subunitcolor": "white"
          },
          "hoverlabel": {
           "align": "left"
          },
          "hovermode": "closest",
          "mapbox": {
           "style": "light"
          },
          "paper_bgcolor": "white",
          "plot_bgcolor": "#E5ECF6",
          "polar": {
           "angularaxis": {
            "gridcolor": "white",
            "linecolor": "white",
            "ticks": ""
           },
           "bgcolor": "#E5ECF6",
           "radialaxis": {
            "gridcolor": "white",
            "linecolor": "white",
            "ticks": ""
           }
          },
          "scene": {
           "xaxis": {
            "backgroundcolor": "#E5ECF6",
            "gridcolor": "white",
            "gridwidth": 2,
            "linecolor": "white",
            "showbackground": true,
            "ticks": "",
            "zerolinecolor": "white"
           },
           "yaxis": {
            "backgroundcolor": "#E5ECF6",
            "gridcolor": "white",
            "gridwidth": 2,
            "linecolor": "white",
            "showbackground": true,
            "ticks": "",
            "zerolinecolor": "white"
           },
           "zaxis": {
            "backgroundcolor": "#E5ECF6",
            "gridcolor": "white",
            "gridwidth": 2,
            "linecolor": "white",
            "showbackground": true,
            "ticks": "",
            "zerolinecolor": "white"
           }
          },
          "shapedefaults": {
           "line": {
            "color": "#2a3f5f"
           }
          },
          "ternary": {
           "aaxis": {
            "gridcolor": "white",
            "linecolor": "white",
            "ticks": ""
           },
           "baxis": {
            "gridcolor": "white",
            "linecolor": "white",
            "ticks": ""
           },
           "bgcolor": "#E5ECF6",
           "caxis": {
            "gridcolor": "white",
            "linecolor": "white",
            "ticks": ""
           }
          },
          "title": {
           "x": 0.05
          },
          "xaxis": {
           "automargin": true,
           "gridcolor": "white",
           "linecolor": "white",
           "ticks": "",
           "title": {
            "standoff": 15
           },
           "zerolinecolor": "white",
           "zerolinewidth": 2
          },
          "yaxis": {
           "automargin": true,
           "gridcolor": "white",
           "linecolor": "white",
           "ticks": "",
           "title": {
            "standoff": 15
           },
           "zerolinecolor": "white",
           "zerolinewidth": 2
          }
         }
        },
        "title": {
         "font": {
          "color": "#4D5663"
         }
        },
        "xaxis": {
         "gridcolor": "#E1E5ED",
         "showgrid": true,
         "tickfont": {
          "color": "#4D5663"
         },
         "title": {
          "font": {
           "color": "#4D5663"
          },
          "text": ""
         },
         "zerolinecolor": "#E1E5ED"
        },
        "xaxis2": {
         "anchor": "y2",
         "gridcolor": "#E1E5ED",
         "showgrid": true,
         "showticklabels": false,
         "tickfont": {
          "color": "#4D5663"
         },
         "title": {
          "font": {
           "color": "#4D5663"
          },
          "text": ""
         },
         "zerolinecolor": "#E1E5ED"
        },
        "yaxis": {
         "domain": [
          0.3,
          1
         ],
         "gridcolor": "#E1E5ED",
         "showgrid": true,
         "tickfont": {
          "color": "#4D5663"
         },
         "title": {
          "font": {
           "color": "#4D5663"
          },
          "text": ""
         },
         "zerolinecolor": "#E1E5ED"
        },
        "yaxis2": {
         "domain": [
          0,
          0.25
         ],
         "gridcolor": "#E1E5ED",
         "showgrid": true,
         "tickfont": {
          "color": "#4D5663"
         },
         "title": {
          "font": {
           "color": "#4D5663"
          },
          "text": "Spread"
         },
         "zerolinecolor": "#E1E5ED"
        }
       }
      },
      "text/html": [
       "<div>                            <div id=\"2a081bb8-cf2e-4c80-93dc-35bb7b7024e9\" class=\"plotly-graph-div\" style=\"height:525px; width:100%;\"></div>            <script type=\"text/javascript\">                require([\"plotly\"], function(Plotly) {                    window.PLOTLYENV=window.PLOTLYENV || {};\n",
       "                    window.PLOTLYENV.BASE_URL='https://plot.ly';                                    if (document.getElementById(\"2a081bb8-cf2e-4c80-93dc-35bb7b7024e9\")) {                    Plotly.newPlot(                        \"2a081bb8-cf2e-4c80-93dc-35bb7b7024e9\",                        [{\"line\":{\"color\":\"rgba(255, 153, 51, 1.0)\",\"dash\":\"solid\",\"shape\":\"linear\",\"width\":1.3},\"mode\":\"lines\",\"name\":\"A\",\"text\":\"\",\"x\":[0,1,2,3,4,5,6,7,8,9,10,11,12,13,14,15,16,17,18,19,20,21,22,23,24,25,26,27,28,29,30,31,32,33,34,35,36,37,38,39,40,41,42,43,44,45,46,47,48,49,50,51,52,53,54,55,56,57,58,59,60,61,62,63,64,65,66,67,68,69,70,71,72,73,74,75,76,77,78,79,80,81,82,83,84,85,86,87,88,89,90,91,92,93,94,95,96,97,98,99],\"y\":[-1.6844993786342044,0.4337824524461489,-0.8691693852146056,0.9653121387937669,-0.7109752166232484,-0.45006015542555056,1.0171168908883115,1.5780961752102243,-2.1160933540323286,0.2343715875650588,-0.5528680468664166,0.38632374541788334,-0.5722948323221422,-0.8145672569000181,0.49306577734475027,-1.1747216668475229,0.08930322383125251,0.13489401392347433,-0.18154994658679408,-0.1797427927707783,-0.6020466339558398,-0.03072825449634198,0.09788707748052361,0.3471881456095463,0.5768605470922169,-0.7151832446205061,-0.9112976711916279,0.09481662754534259,-0.910643811479693,0.11344525996528626,-0.2848595871502769,1.497486931550133,1.0448924393019643,0.648713382035497,0.14133457403504462,-0.9423855268071041,-0.7558517471451324,1.1034730063461553,-0.10239322951648648,0.9031722433903324,0.9252179518935177,-0.8970796650314016,0.5649986383576866,1.6078581107955012,0.7119991594850152,1.6204010398651412,-0.025321453891786718,-0.8499809725068881,-0.40522522234331965,-0.12509501604331788,1.4785409397705953,0.3694497550289572,-0.5350450922129657,0.1357029132639195,-0.025405805705771396,1.5952346153732109,1.1676737423572598,-0.3544567773817869,-0.18797553847544687,1.4877166510232325,0.4217944046376089,-0.16625411785823546,1.839332984376313,0.5486490471496404,1.187033804236325,-0.02612235723645212,1.5976465181616468,-0.1952788064272953,-0.003132419080781338,0.34797309675372445,1.3321715816244717,-0.2737241477992157,0.8962755167170101,0.5795417450593899,-0.18383583611314588,0.8928460544690597,-1.3922157024409982,-1.2375466595431501,0.3336992080417538,-0.021243021449576818,-0.8890140593926337,-0.7420333246838322,-0.579664367503824,1.9789634617895238,0.06455756143255113,1.205868759639534,-0.9842266918694147,-0.3425643408088088,0.34130180923738723,0.40136976324289486,-0.7982892383219594,-1.2726622403925725,0.3530111842067332,1.2421739172783588,-1.120247339070788,0.5750779467137043,-0.4320597966482676,0.9870732217728948,-0.05055637421416955,-0.8903622498341756],\"type\":\"scatter\"},{\"line\":{\"color\":\"rgba(55, 128, 191, 1.0)\",\"dash\":\"solid\",\"shape\":\"linear\",\"width\":1.3},\"mode\":\"lines\",\"name\":\"B\",\"text\":\"\",\"x\":[0,1,2,3,4,5,6,7,8,9,10,11,12,13,14,15,16,17,18,19,20,21,22,23,24,25,26,27,28,29,30,31,32,33,34,35,36,37,38,39,40,41,42,43,44,45,46,47,48,49,50,51,52,53,54,55,56,57,58,59,60,61,62,63,64,65,66,67,68,69,70,71,72,73,74,75,76,77,78,79,80,81,82,83,84,85,86,87,88,89,90,91,92,93,94,95,96,97,98,99],\"y\":[1.5522000044749955,-0.8118066237567007,-1.9583743073878386,-0.14696836355682874,-0.21208261738056397,-0.24020362993660963,-0.31977996092043615,0.6119339124091268,1.349780690086934,-1.6149613705675971,-3.5121272482480483,-0.2876971253143369,-1.1329691232522952,-0.3914026001731782,0.44795717167726046,-0.5373453645534138,0.20179314005562496,-2.205736471459392,-1.9332842901336456,1.259020481591884,0.25345668167046015,-0.4559042131567118,1.2949891928279382,-0.748052036762677,-1.078015779779852,0.0866086645503718,1.3259726852002482,1.371155553999299,1.5597120643381566,0.7583725476251723,1.6004556144601645,1.6610069264389653,0.16330413275432498,1.201188362944357,-0.1669888038021607,-2.2448476063768843,0.5551836793585623,0.21713144705818224,-0.8136071488049466,0.5940294668099988,1.8989551559751483,-0.00786012259690263,0.11144475144098041,-1.6565054213721024,-1.1824676471076967,0.9288098632832997,2.0044812699802765,-2.480799680948316,1.2337900447822574,-2.531382527478476,0.9157463725707286,-0.1370912630448338,0.5041137075678902,0.005966193373438284,-0.3901148179715984,-0.5423286362298547,0.010744126454946788,1.8806981884192018,0.5889261156657364,0.17667984121404925,-0.5659856900149359,0.3890058855108887,-1.09165286677273,-0.5019430076401349,0.10169880094850037,-0.06842355187598258,0.9381367467291669,-0.9398554669967962,-0.3251095674252459,-0.9139424132945362,-0.3056611501519662,-0.3283027002777851,-0.12031484790725197,0.6794401271657093,0.47217701704988185,-1.7509802495158866,2.5760213146546507,2.2501360319767345,-0.19001713579818874,0.27694597696910617,0.8589019268113817,1.8017402455340144,0.43858672379016594,1.0982802969266425,0.9831944186866525,-1.8708383193957832,-0.1668713447630551,0.27138619743932924,-1.0514231323561325,-1.6479775507586287,-0.4715602639356907,-0.5183890178845385,-0.12000190257329688,-0.11010434911449721,-1.4978281045994541,-0.1365455952006748,-0.6866333990669393,-0.9188872819969375,-2.169756665385094,-2.107733277663181],\"type\":\"scatter\"},{\"connectgaps\":false,\"fill\":\"tozeroy\",\"line\":{\"color\":\"green\",\"dash\":\"solid\",\"shape\":\"linear\",\"width\":0.5},\"mode\":\"lines\",\"name\":\"Spread\",\"showlegend\":false,\"x\":[0,1,2,3,4,5,6,7,8,9,10,11,12,13,14,15,16,17,18,19,20,21,22,23,24,25,26,27,28,29,30,31,32,33,34,35,36,37,38,39,40,41,42,43,44,45,46,47,48,49,50,51,52,53,54,55,56,57,58,59,60,61,62,63,64,65,66,67,68,69,70,71,72,73,74,75,76,77,78,79,80,81,82,83,84,85,86,87,88,89,90,91,92,93,94,95,96,97,98,99],\"xaxis\":\"x2\",\"y\":[\"\",1.2455890762028496,1.089204922173233,1.1122805023505955,\"\",\"\",1.3368968518087476,0.9661622628010975,\"\",1.8493329581326559,2.9592592013816317,0.6740208707322202,0.560674290930153,\"\",0.04510860566748981,\"\",\"\",2.3406304853828663,1.7517343435468515,\"\",\"\",0.42517595866036983,\"\",1.0952401823722233,1.6548763268720688,\"\",\"\",\"\",\"\",\"\",\"\",\"\",0.8815883065476393,\"\",0.3083233778372053,1.3024620795697803,\"\",0.8863415592879731,0.7112139192884601,0.3091427765803336,\"\",\"\",0.4535538869167062,3.2643635321676037,1.894466806592712,0.6915911765818414,\"\",1.630818708441428,\"\",2.406287511435158,0.5627945671998668,0.506541018073791,\"\",0.12973671989048122,0.364709012265827,2.1375632516030656,1.156929615902313,\"\",\"\",1.3110368098091831,0.9877800946525448,\"\",2.9309858511490434,1.0505920547897754,1.0853350032878248,0.04230119463953046,0.6595097714324799,0.7445766605695009,0.32197714834446456,1.2619155100482606,1.6378327317764378,0.05457855247856935,1.016590364624262,\"\",\"\",2.6438263039849463,\"\",\"\",0.5237163438399426,\"\",\"\",\"\",\"\",0.8806831648628812,\"\",3.0767070790353173,\"\",\"\",1.3927249415935197,2.0493473140015235,\"\",\"\",0.47301308678003007,1.352278266392856,0.37758076552866604,0.711623541914379,0.2545736024186717,1.9059605037698324,2.1192002911709245,1.2173710278290053],\"yaxis\":\"y2\",\"type\":\"scatter\"},{\"connectgaps\":false,\"fill\":\"tozeroy\",\"line\":{\"color\":\"red\",\"dash\":\"solid\",\"shape\":\"linear\",\"width\":0.5},\"mode\":\"lines\",\"name\":\"Spread\",\"showlegend\":false,\"x\":[0,1,2,3,4,5,6,7,8,9,10,11,12,13,14,15,16,17,18,19,20,21,22,23,24,25,26,27,28,29,30,31,32,33,34,35,36,37,38,39,40,41,42,43,44,45,46,47,48,49,50,51,52,53,54,55,56,57,58,59,60,61,62,63,64,65,66,67,68,69,70,71,72,73,74,75,76,77,78,79,80,81,82,83,84,85,86,87,88,89,90,91,92,93,94,95,96,97,98,99],\"xaxis\":\"x2\",\"y\":[-3.2366993831092,\"\",\"\",\"\",-0.49889259924268436,-0.20985652548894093,\"\",\"\",-3.4658740441192624,\"\",\"\",\"\",\"\",-0.4231646567268399,\"\",-0.6373763022941091,-0.11248991622437245,\"\",\"\",-1.4387632743626622,-0.8555033156262999,\"\",-1.1971021153474146,\"\",\"\",-0.8017919091708778,-2.237270356391876,-1.2763389264539564,-2.4703558758178494,-0.6449272876598859,-1.8853152016104415,-0.1635199948888324,\"\",-0.5524749809088599,\"\",\"\",-1.3110354265036945,\"\",\"\",\"\",-0.9737372040816306,-0.889219542434499,\"\",\"\",\"\",\"\",-2.0298027238720633,\"\",-1.639015267125577,\"\",\"\",\"\",-1.0391587997808558,\"\",\"\",\"\",\"\",-2.2351549658009886,-0.7769016541411833,\"\",\"\",-0.5552600033691242,\"\",\"\",\"\",\"\",\"\",\"\",\"\",\"\",\"\",\"\",\"\",-0.0998983821063194,-0.6560128531630277,\"\",-3.9682370170956487,-3.4876826915198844,\"\",-0.29818899841868296,-1.7479159862040152,-2.5437735702178466,-1.01825109129399,\"\",-0.9186368572541014,\"\",-0.8173553471063596,-0.6139505382481381,\"\",\"\",-0.3267289743862687,-0.754273222508034,\"\",\"\",\"\",\"\",\"\",\"\",\"\",\"\"],\"yaxis\":\"y2\",\"type\":\"scatter\"}],                        {\"hovermode\":\"x\",\"legend\":{\"bgcolor\":\"#F5F6F9\",\"font\":{\"color\":\"#4D5663\"}},\"paper_bgcolor\":\"#F5F6F9\",\"plot_bgcolor\":\"#F5F6F9\",\"template\":{\"data\":{\"barpolar\":[{\"marker\":{\"line\":{\"color\":\"#E5ECF6\",\"width\":0.5},\"pattern\":{\"fillmode\":\"overlay\",\"size\":10,\"solidity\":0.2}},\"type\":\"barpolar\"}],\"bar\":[{\"error_x\":{\"color\":\"#2a3f5f\"},\"error_y\":{\"color\":\"#2a3f5f\"},\"marker\":{\"line\":{\"color\":\"#E5ECF6\",\"width\":0.5},\"pattern\":{\"fillmode\":\"overlay\",\"size\":10,\"solidity\":0.2}},\"type\":\"bar\"}],\"carpet\":[{\"aaxis\":{\"endlinecolor\":\"#2a3f5f\",\"gridcolor\":\"white\",\"linecolor\":\"white\",\"minorgridcolor\":\"white\",\"startlinecolor\":\"#2a3f5f\"},\"baxis\":{\"endlinecolor\":\"#2a3f5f\",\"gridcolor\":\"white\",\"linecolor\":\"white\",\"minorgridcolor\":\"white\",\"startlinecolor\":\"#2a3f5f\"},\"type\":\"carpet\"}],\"choropleth\":[{\"colorbar\":{\"outlinewidth\":0,\"ticks\":\"\"},\"type\":\"choropleth\"}],\"contourcarpet\":[{\"colorbar\":{\"outlinewidth\":0,\"ticks\":\"\"},\"type\":\"contourcarpet\"}],\"contour\":[{\"colorbar\":{\"outlinewidth\":0,\"ticks\":\"\"},\"colorscale\":[[0.0,\"#0d0887\"],[0.1111111111111111,\"#46039f\"],[0.2222222222222222,\"#7201a8\"],[0.3333333333333333,\"#9c179e\"],[0.4444444444444444,\"#bd3786\"],[0.5555555555555556,\"#d8576b\"],[0.6666666666666666,\"#ed7953\"],[0.7777777777777778,\"#fb9f3a\"],[0.8888888888888888,\"#fdca26\"],[1.0,\"#f0f921\"]],\"type\":\"contour\"}],\"heatmapgl\":[{\"colorbar\":{\"outlinewidth\":0,\"ticks\":\"\"},\"colorscale\":[[0.0,\"#0d0887\"],[0.1111111111111111,\"#46039f\"],[0.2222222222222222,\"#7201a8\"],[0.3333333333333333,\"#9c179e\"],[0.4444444444444444,\"#bd3786\"],[0.5555555555555556,\"#d8576b\"],[0.6666666666666666,\"#ed7953\"],[0.7777777777777778,\"#fb9f3a\"],[0.8888888888888888,\"#fdca26\"],[1.0,\"#f0f921\"]],\"type\":\"heatmapgl\"}],\"heatmap\":[{\"colorbar\":{\"outlinewidth\":0,\"ticks\":\"\"},\"colorscale\":[[0.0,\"#0d0887\"],[0.1111111111111111,\"#46039f\"],[0.2222222222222222,\"#7201a8\"],[0.3333333333333333,\"#9c179e\"],[0.4444444444444444,\"#bd3786\"],[0.5555555555555556,\"#d8576b\"],[0.6666666666666666,\"#ed7953\"],[0.7777777777777778,\"#fb9f3a\"],[0.8888888888888888,\"#fdca26\"],[1.0,\"#f0f921\"]],\"type\":\"heatmap\"}],\"histogram2dcontour\":[{\"colorbar\":{\"outlinewidth\":0,\"ticks\":\"\"},\"colorscale\":[[0.0,\"#0d0887\"],[0.1111111111111111,\"#46039f\"],[0.2222222222222222,\"#7201a8\"],[0.3333333333333333,\"#9c179e\"],[0.4444444444444444,\"#bd3786\"],[0.5555555555555556,\"#d8576b\"],[0.6666666666666666,\"#ed7953\"],[0.7777777777777778,\"#fb9f3a\"],[0.8888888888888888,\"#fdca26\"],[1.0,\"#f0f921\"]],\"type\":\"histogram2dcontour\"}],\"histogram2d\":[{\"colorbar\":{\"outlinewidth\":0,\"ticks\":\"\"},\"colorscale\":[[0.0,\"#0d0887\"],[0.1111111111111111,\"#46039f\"],[0.2222222222222222,\"#7201a8\"],[0.3333333333333333,\"#9c179e\"],[0.4444444444444444,\"#bd3786\"],[0.5555555555555556,\"#d8576b\"],[0.6666666666666666,\"#ed7953\"],[0.7777777777777778,\"#fb9f3a\"],[0.8888888888888888,\"#fdca26\"],[1.0,\"#f0f921\"]],\"type\":\"histogram2d\"}],\"histogram\":[{\"marker\":{\"pattern\":{\"fillmode\":\"overlay\",\"size\":10,\"solidity\":0.2}},\"type\":\"histogram\"}],\"mesh3d\":[{\"colorbar\":{\"outlinewidth\":0,\"ticks\":\"\"},\"type\":\"mesh3d\"}],\"parcoords\":[{\"line\":{\"colorbar\":{\"outlinewidth\":0,\"ticks\":\"\"}},\"type\":\"parcoords\"}],\"pie\":[{\"automargin\":true,\"type\":\"pie\"}],\"scatter3d\":[{\"line\":{\"colorbar\":{\"outlinewidth\":0,\"ticks\":\"\"}},\"marker\":{\"colorbar\":{\"outlinewidth\":0,\"ticks\":\"\"}},\"type\":\"scatter3d\"}],\"scattercarpet\":[{\"marker\":{\"colorbar\":{\"outlinewidth\":0,\"ticks\":\"\"}},\"type\":\"scattercarpet\"}],\"scattergeo\":[{\"marker\":{\"colorbar\":{\"outlinewidth\":0,\"ticks\":\"\"}},\"type\":\"scattergeo\"}],\"scattergl\":[{\"marker\":{\"colorbar\":{\"outlinewidth\":0,\"ticks\":\"\"}},\"type\":\"scattergl\"}],\"scattermapbox\":[{\"marker\":{\"colorbar\":{\"outlinewidth\":0,\"ticks\":\"\"}},\"type\":\"scattermapbox\"}],\"scatterpolargl\":[{\"marker\":{\"colorbar\":{\"outlinewidth\":0,\"ticks\":\"\"}},\"type\":\"scatterpolargl\"}],\"scatterpolar\":[{\"marker\":{\"colorbar\":{\"outlinewidth\":0,\"ticks\":\"\"}},\"type\":\"scatterpolar\"}],\"scatter\":[{\"fillpattern\":{\"fillmode\":\"overlay\",\"size\":10,\"solidity\":0.2},\"type\":\"scatter\"}],\"scatterternary\":[{\"marker\":{\"colorbar\":{\"outlinewidth\":0,\"ticks\":\"\"}},\"type\":\"scatterternary\"}],\"surface\":[{\"colorbar\":{\"outlinewidth\":0,\"ticks\":\"\"},\"colorscale\":[[0.0,\"#0d0887\"],[0.1111111111111111,\"#46039f\"],[0.2222222222222222,\"#7201a8\"],[0.3333333333333333,\"#9c179e\"],[0.4444444444444444,\"#bd3786\"],[0.5555555555555556,\"#d8576b\"],[0.6666666666666666,\"#ed7953\"],[0.7777777777777778,\"#fb9f3a\"],[0.8888888888888888,\"#fdca26\"],[1.0,\"#f0f921\"]],\"type\":\"surface\"}],\"table\":[{\"cells\":{\"fill\":{\"color\":\"#EBF0F8\"},\"line\":{\"color\":\"white\"}},\"header\":{\"fill\":{\"color\":\"#C8D4E3\"},\"line\":{\"color\":\"white\"}},\"type\":\"table\"}]},\"layout\":{\"annotationdefaults\":{\"arrowcolor\":\"#2a3f5f\",\"arrowhead\":0,\"arrowwidth\":1},\"autotypenumbers\":\"strict\",\"coloraxis\":{\"colorbar\":{\"outlinewidth\":0,\"ticks\":\"\"}},\"colorscale\":{\"diverging\":[[0,\"#8e0152\"],[0.1,\"#c51b7d\"],[0.2,\"#de77ae\"],[0.3,\"#f1b6da\"],[0.4,\"#fde0ef\"],[0.5,\"#f7f7f7\"],[0.6,\"#e6f5d0\"],[0.7,\"#b8e186\"],[0.8,\"#7fbc41\"],[0.9,\"#4d9221\"],[1,\"#276419\"]],\"sequential\":[[0.0,\"#0d0887\"],[0.1111111111111111,\"#46039f\"],[0.2222222222222222,\"#7201a8\"],[0.3333333333333333,\"#9c179e\"],[0.4444444444444444,\"#bd3786\"],[0.5555555555555556,\"#d8576b\"],[0.6666666666666666,\"#ed7953\"],[0.7777777777777778,\"#fb9f3a\"],[0.8888888888888888,\"#fdca26\"],[1.0,\"#f0f921\"]],\"sequentialminus\":[[0.0,\"#0d0887\"],[0.1111111111111111,\"#46039f\"],[0.2222222222222222,\"#7201a8\"],[0.3333333333333333,\"#9c179e\"],[0.4444444444444444,\"#bd3786\"],[0.5555555555555556,\"#d8576b\"],[0.6666666666666666,\"#ed7953\"],[0.7777777777777778,\"#fb9f3a\"],[0.8888888888888888,\"#fdca26\"],[1.0,\"#f0f921\"]]},\"colorway\":[\"#636efa\",\"#EF553B\",\"#00cc96\",\"#ab63fa\",\"#FFA15A\",\"#19d3f3\",\"#FF6692\",\"#B6E880\",\"#FF97FF\",\"#FECB52\"],\"font\":{\"color\":\"#2a3f5f\"},\"geo\":{\"bgcolor\":\"white\",\"lakecolor\":\"white\",\"landcolor\":\"#E5ECF6\",\"showlakes\":true,\"showland\":true,\"subunitcolor\":\"white\"},\"hoverlabel\":{\"align\":\"left\"},\"hovermode\":\"closest\",\"mapbox\":{\"style\":\"light\"},\"paper_bgcolor\":\"white\",\"plot_bgcolor\":\"#E5ECF6\",\"polar\":{\"angularaxis\":{\"gridcolor\":\"white\",\"linecolor\":\"white\",\"ticks\":\"\"},\"bgcolor\":\"#E5ECF6\",\"radialaxis\":{\"gridcolor\":\"white\",\"linecolor\":\"white\",\"ticks\":\"\"}},\"scene\":{\"xaxis\":{\"backgroundcolor\":\"#E5ECF6\",\"gridcolor\":\"white\",\"gridwidth\":2,\"linecolor\":\"white\",\"showbackground\":true,\"ticks\":\"\",\"zerolinecolor\":\"white\"},\"yaxis\":{\"backgroundcolor\":\"#E5ECF6\",\"gridcolor\":\"white\",\"gridwidth\":2,\"linecolor\":\"white\",\"showbackground\":true,\"ticks\":\"\",\"zerolinecolor\":\"white\"},\"zaxis\":{\"backgroundcolor\":\"#E5ECF6\",\"gridcolor\":\"white\",\"gridwidth\":2,\"linecolor\":\"white\",\"showbackground\":true,\"ticks\":\"\",\"zerolinecolor\":\"white\"}},\"shapedefaults\":{\"line\":{\"color\":\"#2a3f5f\"}},\"ternary\":{\"aaxis\":{\"gridcolor\":\"white\",\"linecolor\":\"white\",\"ticks\":\"\"},\"baxis\":{\"gridcolor\":\"white\",\"linecolor\":\"white\",\"ticks\":\"\"},\"bgcolor\":\"#E5ECF6\",\"caxis\":{\"gridcolor\":\"white\",\"linecolor\":\"white\",\"ticks\":\"\"}},\"title\":{\"x\":0.05},\"xaxis\":{\"automargin\":true,\"gridcolor\":\"white\",\"linecolor\":\"white\",\"ticks\":\"\",\"title\":{\"standoff\":15},\"zerolinecolor\":\"white\",\"zerolinewidth\":2},\"yaxis\":{\"automargin\":true,\"gridcolor\":\"white\",\"linecolor\":\"white\",\"ticks\":\"\",\"title\":{\"standoff\":15},\"zerolinecolor\":\"white\",\"zerolinewidth\":2}}},\"title\":{\"font\":{\"color\":\"#4D5663\"}},\"xaxis\":{\"gridcolor\":\"#E1E5ED\",\"showgrid\":true,\"tickfont\":{\"color\":\"#4D5663\"},\"title\":{\"font\":{\"color\":\"#4D5663\"},\"text\":\"\"},\"zerolinecolor\":\"#E1E5ED\"},\"yaxis\":{\"domain\":[0.3,1],\"gridcolor\":\"#E1E5ED\",\"showgrid\":true,\"tickfont\":{\"color\":\"#4D5663\"},\"title\":{\"font\":{\"color\":\"#4D5663\"},\"text\":\"\"},\"zerolinecolor\":\"#E1E5ED\"},\"yaxis2\":{\"domain\":[0,0.25],\"gridcolor\":\"#E1E5ED\",\"showgrid\":true,\"tickfont\":{\"color\":\"#4D5663\"},\"title\":{\"font\":{\"color\":\"#4D5663\"},\"text\":\"Spread\"},\"zerolinecolor\":\"#E1E5ED\"},\"xaxis2\":{\"anchor\":\"y2\",\"gridcolor\":\"#E1E5ED\",\"showgrid\":true,\"showticklabels\":false,\"tickfont\":{\"color\":\"#4D5663\"},\"title\":{\"font\":{\"color\":\"#4D5663\"},\"text\":\"\"},\"zerolinecolor\":\"#E1E5ED\"}},                        {\"showLink\": true, \"linkText\": \"Export to plot.ly\", \"plotlyServerURL\": \"https://plot.ly\", \"responsive\": true}                    ).then(function(){\n",
       "                            \n",
       "var gd = document.getElementById('2a081bb8-cf2e-4c80-93dc-35bb7b7024e9');\n",
       "var x = new MutationObserver(function (mutations, observer) {{\n",
       "        var display = window.getComputedStyle(gd).display;\n",
       "        if (!display || display === 'none') {{\n",
       "            console.log([gd, 'removed!']);\n",
       "            Plotly.purge(gd);\n",
       "            observer.disconnect();\n",
       "        }}\n",
       "}});\n",
       "\n",
       "// Listen for the removal of the full notebook cells\n",
       "var notebookContainer = gd.closest('#notebook-container');\n",
       "if (notebookContainer) {{\n",
       "    x.observe(notebookContainer, {childList: true});\n",
       "}}\n",
       "\n",
       "// Listen for the clearing of the current output cell\n",
       "var outputEl = gd.closest('.output');\n",
       "if (outputEl) {{\n",
       "    x.observe(outputEl, {childList: true});\n",
       "}}\n",
       "\n",
       "                        })                };                });            </script>        </div>"
      ]
     },
     "metadata": {},
     "output_type": "display_data"
    }
   ],
   "source": [
    "df[['A','B']].iplot(kind='spread')"
   ]
  },
  {
   "cell_type": "markdown",
   "metadata": {},
   "source": [
    "## Histograma"
   ]
  },
  {
   "cell_type": "code",
   "execution_count": 17,
   "metadata": {},
   "outputs": [
    {
     "data": {
      "application/vnd.plotly.v1+json": {
       "config": {
        "linkText": "Export to plot.ly",
        "plotlyServerURL": "https://plot.ly",
        "showLink": true
       },
       "data": [
        {
         "histfunc": "count",
         "histnorm": "",
         "marker": {
          "color": "rgba(255, 153, 51, 1.0)",
          "line": {
           "color": "#4D5663",
           "width": 1.3
          }
         },
         "name": "A",
         "nbinsx": 25,
         "opacity": 0.8,
         "orientation": "v",
         "type": "histogram",
         "x": [
          -1.6844993786342044,
          0.4337824524461489,
          -0.8691693852146056,
          0.9653121387937669,
          -0.7109752166232484,
          -0.45006015542555056,
          1.0171168908883115,
          1.5780961752102243,
          -2.1160933540323286,
          0.2343715875650588,
          -0.5528680468664166,
          0.38632374541788334,
          -0.5722948323221422,
          -0.8145672569000181,
          0.49306577734475027,
          -1.1747216668475229,
          0.08930322383125251,
          0.13489401392347433,
          -0.18154994658679408,
          -0.1797427927707783,
          -0.6020466339558398,
          -0.03072825449634198,
          0.09788707748052361,
          0.3471881456095463,
          0.5768605470922169,
          -0.7151832446205061,
          -0.9112976711916279,
          0.09481662754534259,
          -0.910643811479693,
          0.11344525996528626,
          -0.2848595871502769,
          1.497486931550133,
          1.0448924393019643,
          0.648713382035497,
          0.14133457403504462,
          -0.9423855268071041,
          -0.7558517471451324,
          1.1034730063461553,
          -0.10239322951648648,
          0.9031722433903324,
          0.9252179518935177,
          -0.8970796650314016,
          0.5649986383576866,
          1.6078581107955012,
          0.7119991594850152,
          1.6204010398651412,
          -0.025321453891786718,
          -0.8499809725068881,
          -0.40522522234331965,
          -0.12509501604331788,
          1.4785409397705953,
          0.3694497550289572,
          -0.5350450922129657,
          0.1357029132639195,
          -0.025405805705771396,
          1.5952346153732109,
          1.1676737423572598,
          -0.3544567773817869,
          -0.18797553847544687,
          1.4877166510232325,
          0.4217944046376089,
          -0.16625411785823546,
          1.839332984376313,
          0.5486490471496404,
          1.187033804236325,
          -0.02612235723645212,
          1.5976465181616468,
          -0.1952788064272953,
          -0.003132419080781338,
          0.34797309675372445,
          1.3321715816244717,
          -0.2737241477992157,
          0.8962755167170101,
          0.5795417450593899,
          -0.18383583611314588,
          0.8928460544690597,
          -1.3922157024409982,
          -1.2375466595431501,
          0.3336992080417538,
          -0.021243021449576818,
          -0.8890140593926337,
          -0.7420333246838322,
          -0.579664367503824,
          1.9789634617895238,
          0.06455756143255113,
          1.205868759639534,
          -0.9842266918694147,
          -0.3425643408088088,
          0.34130180923738723,
          0.40136976324289486,
          -0.7982892383219594,
          -1.2726622403925725,
          0.3530111842067332,
          1.2421739172783588,
          -1.120247339070788,
          0.5750779467137043,
          -0.4320597966482676,
          0.9870732217728948,
          -0.05055637421416955,
          -0.8903622498341756
         ]
        }
       ],
       "layout": {
        "barmode": "overlay",
        "legend": {
         "bgcolor": "#F5F6F9",
         "font": {
          "color": "#4D5663"
         }
        },
        "paper_bgcolor": "#F5F6F9",
        "plot_bgcolor": "#F5F6F9",
        "template": {
         "data": {
          "bar": [
           {
            "error_x": {
             "color": "#2a3f5f"
            },
            "error_y": {
             "color": "#2a3f5f"
            },
            "marker": {
             "line": {
              "color": "#E5ECF6",
              "width": 0.5
             },
             "pattern": {
              "fillmode": "overlay",
              "size": 10,
              "solidity": 0.2
             }
            },
            "type": "bar"
           }
          ],
          "barpolar": [
           {
            "marker": {
             "line": {
              "color": "#E5ECF6",
              "width": 0.5
             },
             "pattern": {
              "fillmode": "overlay",
              "size": 10,
              "solidity": 0.2
             }
            },
            "type": "barpolar"
           }
          ],
          "carpet": [
           {
            "aaxis": {
             "endlinecolor": "#2a3f5f",
             "gridcolor": "white",
             "linecolor": "white",
             "minorgridcolor": "white",
             "startlinecolor": "#2a3f5f"
            },
            "baxis": {
             "endlinecolor": "#2a3f5f",
             "gridcolor": "white",
             "linecolor": "white",
             "minorgridcolor": "white",
             "startlinecolor": "#2a3f5f"
            },
            "type": "carpet"
           }
          ],
          "choropleth": [
           {
            "colorbar": {
             "outlinewidth": 0,
             "ticks": ""
            },
            "type": "choropleth"
           }
          ],
          "contour": [
           {
            "colorbar": {
             "outlinewidth": 0,
             "ticks": ""
            },
            "colorscale": [
             [
              0,
              "#0d0887"
             ],
             [
              0.1111111111111111,
              "#46039f"
             ],
             [
              0.2222222222222222,
              "#7201a8"
             ],
             [
              0.3333333333333333,
              "#9c179e"
             ],
             [
              0.4444444444444444,
              "#bd3786"
             ],
             [
              0.5555555555555556,
              "#d8576b"
             ],
             [
              0.6666666666666666,
              "#ed7953"
             ],
             [
              0.7777777777777778,
              "#fb9f3a"
             ],
             [
              0.8888888888888888,
              "#fdca26"
             ],
             [
              1,
              "#f0f921"
             ]
            ],
            "type": "contour"
           }
          ],
          "contourcarpet": [
           {
            "colorbar": {
             "outlinewidth": 0,
             "ticks": ""
            },
            "type": "contourcarpet"
           }
          ],
          "heatmap": [
           {
            "colorbar": {
             "outlinewidth": 0,
             "ticks": ""
            },
            "colorscale": [
             [
              0,
              "#0d0887"
             ],
             [
              0.1111111111111111,
              "#46039f"
             ],
             [
              0.2222222222222222,
              "#7201a8"
             ],
             [
              0.3333333333333333,
              "#9c179e"
             ],
             [
              0.4444444444444444,
              "#bd3786"
             ],
             [
              0.5555555555555556,
              "#d8576b"
             ],
             [
              0.6666666666666666,
              "#ed7953"
             ],
             [
              0.7777777777777778,
              "#fb9f3a"
             ],
             [
              0.8888888888888888,
              "#fdca26"
             ],
             [
              1,
              "#f0f921"
             ]
            ],
            "type": "heatmap"
           }
          ],
          "heatmapgl": [
           {
            "colorbar": {
             "outlinewidth": 0,
             "ticks": ""
            },
            "colorscale": [
             [
              0,
              "#0d0887"
             ],
             [
              0.1111111111111111,
              "#46039f"
             ],
             [
              0.2222222222222222,
              "#7201a8"
             ],
             [
              0.3333333333333333,
              "#9c179e"
             ],
             [
              0.4444444444444444,
              "#bd3786"
             ],
             [
              0.5555555555555556,
              "#d8576b"
             ],
             [
              0.6666666666666666,
              "#ed7953"
             ],
             [
              0.7777777777777778,
              "#fb9f3a"
             ],
             [
              0.8888888888888888,
              "#fdca26"
             ],
             [
              1,
              "#f0f921"
             ]
            ],
            "type": "heatmapgl"
           }
          ],
          "histogram": [
           {
            "marker": {
             "pattern": {
              "fillmode": "overlay",
              "size": 10,
              "solidity": 0.2
             }
            },
            "type": "histogram"
           }
          ],
          "histogram2d": [
           {
            "colorbar": {
             "outlinewidth": 0,
             "ticks": ""
            },
            "colorscale": [
             [
              0,
              "#0d0887"
             ],
             [
              0.1111111111111111,
              "#46039f"
             ],
             [
              0.2222222222222222,
              "#7201a8"
             ],
             [
              0.3333333333333333,
              "#9c179e"
             ],
             [
              0.4444444444444444,
              "#bd3786"
             ],
             [
              0.5555555555555556,
              "#d8576b"
             ],
             [
              0.6666666666666666,
              "#ed7953"
             ],
             [
              0.7777777777777778,
              "#fb9f3a"
             ],
             [
              0.8888888888888888,
              "#fdca26"
             ],
             [
              1,
              "#f0f921"
             ]
            ],
            "type": "histogram2d"
           }
          ],
          "histogram2dcontour": [
           {
            "colorbar": {
             "outlinewidth": 0,
             "ticks": ""
            },
            "colorscale": [
             [
              0,
              "#0d0887"
             ],
             [
              0.1111111111111111,
              "#46039f"
             ],
             [
              0.2222222222222222,
              "#7201a8"
             ],
             [
              0.3333333333333333,
              "#9c179e"
             ],
             [
              0.4444444444444444,
              "#bd3786"
             ],
             [
              0.5555555555555556,
              "#d8576b"
             ],
             [
              0.6666666666666666,
              "#ed7953"
             ],
             [
              0.7777777777777778,
              "#fb9f3a"
             ],
             [
              0.8888888888888888,
              "#fdca26"
             ],
             [
              1,
              "#f0f921"
             ]
            ],
            "type": "histogram2dcontour"
           }
          ],
          "mesh3d": [
           {
            "colorbar": {
             "outlinewidth": 0,
             "ticks": ""
            },
            "type": "mesh3d"
           }
          ],
          "parcoords": [
           {
            "line": {
             "colorbar": {
              "outlinewidth": 0,
              "ticks": ""
             }
            },
            "type": "parcoords"
           }
          ],
          "pie": [
           {
            "automargin": true,
            "type": "pie"
           }
          ],
          "scatter": [
           {
            "fillpattern": {
             "fillmode": "overlay",
             "size": 10,
             "solidity": 0.2
            },
            "type": "scatter"
           }
          ],
          "scatter3d": [
           {
            "line": {
             "colorbar": {
              "outlinewidth": 0,
              "ticks": ""
             }
            },
            "marker": {
             "colorbar": {
              "outlinewidth": 0,
              "ticks": ""
             }
            },
            "type": "scatter3d"
           }
          ],
          "scattercarpet": [
           {
            "marker": {
             "colorbar": {
              "outlinewidth": 0,
              "ticks": ""
             }
            },
            "type": "scattercarpet"
           }
          ],
          "scattergeo": [
           {
            "marker": {
             "colorbar": {
              "outlinewidth": 0,
              "ticks": ""
             }
            },
            "type": "scattergeo"
           }
          ],
          "scattergl": [
           {
            "marker": {
             "colorbar": {
              "outlinewidth": 0,
              "ticks": ""
             }
            },
            "type": "scattergl"
           }
          ],
          "scattermapbox": [
           {
            "marker": {
             "colorbar": {
              "outlinewidth": 0,
              "ticks": ""
             }
            },
            "type": "scattermapbox"
           }
          ],
          "scatterpolar": [
           {
            "marker": {
             "colorbar": {
              "outlinewidth": 0,
              "ticks": ""
             }
            },
            "type": "scatterpolar"
           }
          ],
          "scatterpolargl": [
           {
            "marker": {
             "colorbar": {
              "outlinewidth": 0,
              "ticks": ""
             }
            },
            "type": "scatterpolargl"
           }
          ],
          "scatterternary": [
           {
            "marker": {
             "colorbar": {
              "outlinewidth": 0,
              "ticks": ""
             }
            },
            "type": "scatterternary"
           }
          ],
          "surface": [
           {
            "colorbar": {
             "outlinewidth": 0,
             "ticks": ""
            },
            "colorscale": [
             [
              0,
              "#0d0887"
             ],
             [
              0.1111111111111111,
              "#46039f"
             ],
             [
              0.2222222222222222,
              "#7201a8"
             ],
             [
              0.3333333333333333,
              "#9c179e"
             ],
             [
              0.4444444444444444,
              "#bd3786"
             ],
             [
              0.5555555555555556,
              "#d8576b"
             ],
             [
              0.6666666666666666,
              "#ed7953"
             ],
             [
              0.7777777777777778,
              "#fb9f3a"
             ],
             [
              0.8888888888888888,
              "#fdca26"
             ],
             [
              1,
              "#f0f921"
             ]
            ],
            "type": "surface"
           }
          ],
          "table": [
           {
            "cells": {
             "fill": {
              "color": "#EBF0F8"
             },
             "line": {
              "color": "white"
             }
            },
            "header": {
             "fill": {
              "color": "#C8D4E3"
             },
             "line": {
              "color": "white"
             }
            },
            "type": "table"
           }
          ]
         },
         "layout": {
          "annotationdefaults": {
           "arrowcolor": "#2a3f5f",
           "arrowhead": 0,
           "arrowwidth": 1
          },
          "autotypenumbers": "strict",
          "coloraxis": {
           "colorbar": {
            "outlinewidth": 0,
            "ticks": ""
           }
          },
          "colorscale": {
           "diverging": [
            [
             0,
             "#8e0152"
            ],
            [
             0.1,
             "#c51b7d"
            ],
            [
             0.2,
             "#de77ae"
            ],
            [
             0.3,
             "#f1b6da"
            ],
            [
             0.4,
             "#fde0ef"
            ],
            [
             0.5,
             "#f7f7f7"
            ],
            [
             0.6,
             "#e6f5d0"
            ],
            [
             0.7,
             "#b8e186"
            ],
            [
             0.8,
             "#7fbc41"
            ],
            [
             0.9,
             "#4d9221"
            ],
            [
             1,
             "#276419"
            ]
           ],
           "sequential": [
            [
             0,
             "#0d0887"
            ],
            [
             0.1111111111111111,
             "#46039f"
            ],
            [
             0.2222222222222222,
             "#7201a8"
            ],
            [
             0.3333333333333333,
             "#9c179e"
            ],
            [
             0.4444444444444444,
             "#bd3786"
            ],
            [
             0.5555555555555556,
             "#d8576b"
            ],
            [
             0.6666666666666666,
             "#ed7953"
            ],
            [
             0.7777777777777778,
             "#fb9f3a"
            ],
            [
             0.8888888888888888,
             "#fdca26"
            ],
            [
             1,
             "#f0f921"
            ]
           ],
           "sequentialminus": [
            [
             0,
             "#0d0887"
            ],
            [
             0.1111111111111111,
             "#46039f"
            ],
            [
             0.2222222222222222,
             "#7201a8"
            ],
            [
             0.3333333333333333,
             "#9c179e"
            ],
            [
             0.4444444444444444,
             "#bd3786"
            ],
            [
             0.5555555555555556,
             "#d8576b"
            ],
            [
             0.6666666666666666,
             "#ed7953"
            ],
            [
             0.7777777777777778,
             "#fb9f3a"
            ],
            [
             0.8888888888888888,
             "#fdca26"
            ],
            [
             1,
             "#f0f921"
            ]
           ]
          },
          "colorway": [
           "#636efa",
           "#EF553B",
           "#00cc96",
           "#ab63fa",
           "#FFA15A",
           "#19d3f3",
           "#FF6692",
           "#B6E880",
           "#FF97FF",
           "#FECB52"
          ],
          "font": {
           "color": "#2a3f5f"
          },
          "geo": {
           "bgcolor": "white",
           "lakecolor": "white",
           "landcolor": "#E5ECF6",
           "showlakes": true,
           "showland": true,
           "subunitcolor": "white"
          },
          "hoverlabel": {
           "align": "left"
          },
          "hovermode": "closest",
          "mapbox": {
           "style": "light"
          },
          "paper_bgcolor": "white",
          "plot_bgcolor": "#E5ECF6",
          "polar": {
           "angularaxis": {
            "gridcolor": "white",
            "linecolor": "white",
            "ticks": ""
           },
           "bgcolor": "#E5ECF6",
           "radialaxis": {
            "gridcolor": "white",
            "linecolor": "white",
            "ticks": ""
           }
          },
          "scene": {
           "xaxis": {
            "backgroundcolor": "#E5ECF6",
            "gridcolor": "white",
            "gridwidth": 2,
            "linecolor": "white",
            "showbackground": true,
            "ticks": "",
            "zerolinecolor": "white"
           },
           "yaxis": {
            "backgroundcolor": "#E5ECF6",
            "gridcolor": "white",
            "gridwidth": 2,
            "linecolor": "white",
            "showbackground": true,
            "ticks": "",
            "zerolinecolor": "white"
           },
           "zaxis": {
            "backgroundcolor": "#E5ECF6",
            "gridcolor": "white",
            "gridwidth": 2,
            "linecolor": "white",
            "showbackground": true,
            "ticks": "",
            "zerolinecolor": "white"
           }
          },
          "shapedefaults": {
           "line": {
            "color": "#2a3f5f"
           }
          },
          "ternary": {
           "aaxis": {
            "gridcolor": "white",
            "linecolor": "white",
            "ticks": ""
           },
           "baxis": {
            "gridcolor": "white",
            "linecolor": "white",
            "ticks": ""
           },
           "bgcolor": "#E5ECF6",
           "caxis": {
            "gridcolor": "white",
            "linecolor": "white",
            "ticks": ""
           }
          },
          "title": {
           "x": 0.05
          },
          "xaxis": {
           "automargin": true,
           "gridcolor": "white",
           "linecolor": "white",
           "ticks": "",
           "title": {
            "standoff": 15
           },
           "zerolinecolor": "white",
           "zerolinewidth": 2
          },
          "yaxis": {
           "automargin": true,
           "gridcolor": "white",
           "linecolor": "white",
           "ticks": "",
           "title": {
            "standoff": 15
           },
           "zerolinecolor": "white",
           "zerolinewidth": 2
          }
         }
        },
        "title": {
         "font": {
          "color": "#4D5663"
         }
        },
        "xaxis": {
         "gridcolor": "#E1E5ED",
         "showgrid": true,
         "tickfont": {
          "color": "#4D5663"
         },
         "title": {
          "font": {
           "color": "#4D5663"
          },
          "text": ""
         },
         "zerolinecolor": "#E1E5ED"
        },
        "yaxis": {
         "gridcolor": "#E1E5ED",
         "showgrid": true,
         "tickfont": {
          "color": "#4D5663"
         },
         "title": {
          "font": {
           "color": "#4D5663"
          },
          "text": ""
         },
         "zerolinecolor": "#E1E5ED"
        }
       }
      },
      "text/html": [
       "<div>                            <div id=\"e35e8362-fc85-4896-b5f0-36671aa4c663\" class=\"plotly-graph-div\" style=\"height:525px; width:100%;\"></div>            <script type=\"text/javascript\">                require([\"plotly\"], function(Plotly) {                    window.PLOTLYENV=window.PLOTLYENV || {};\n",
       "                    window.PLOTLYENV.BASE_URL='https://plot.ly';                                    if (document.getElementById(\"e35e8362-fc85-4896-b5f0-36671aa4c663\")) {                    Plotly.newPlot(                        \"e35e8362-fc85-4896-b5f0-36671aa4c663\",                        [{\"histfunc\":\"count\",\"histnorm\":\"\",\"marker\":{\"color\":\"rgba(255, 153, 51, 1.0)\",\"line\":{\"color\":\"#4D5663\",\"width\":1.3}},\"name\":\"A\",\"nbinsx\":25,\"opacity\":0.8,\"orientation\":\"v\",\"x\":[-1.6844993786342044,0.4337824524461489,-0.8691693852146056,0.9653121387937669,-0.7109752166232484,-0.45006015542555056,1.0171168908883115,1.5780961752102243,-2.1160933540323286,0.2343715875650588,-0.5528680468664166,0.38632374541788334,-0.5722948323221422,-0.8145672569000181,0.49306577734475027,-1.1747216668475229,0.08930322383125251,0.13489401392347433,-0.18154994658679408,-0.1797427927707783,-0.6020466339558398,-0.03072825449634198,0.09788707748052361,0.3471881456095463,0.5768605470922169,-0.7151832446205061,-0.9112976711916279,0.09481662754534259,-0.910643811479693,0.11344525996528626,-0.2848595871502769,1.497486931550133,1.0448924393019643,0.648713382035497,0.14133457403504462,-0.9423855268071041,-0.7558517471451324,1.1034730063461553,-0.10239322951648648,0.9031722433903324,0.9252179518935177,-0.8970796650314016,0.5649986383576866,1.6078581107955012,0.7119991594850152,1.6204010398651412,-0.025321453891786718,-0.8499809725068881,-0.40522522234331965,-0.12509501604331788,1.4785409397705953,0.3694497550289572,-0.5350450922129657,0.1357029132639195,-0.025405805705771396,1.5952346153732109,1.1676737423572598,-0.3544567773817869,-0.18797553847544687,1.4877166510232325,0.4217944046376089,-0.16625411785823546,1.839332984376313,0.5486490471496404,1.187033804236325,-0.02612235723645212,1.5976465181616468,-0.1952788064272953,-0.003132419080781338,0.34797309675372445,1.3321715816244717,-0.2737241477992157,0.8962755167170101,0.5795417450593899,-0.18383583611314588,0.8928460544690597,-1.3922157024409982,-1.2375466595431501,0.3336992080417538,-0.021243021449576818,-0.8890140593926337,-0.7420333246838322,-0.579664367503824,1.9789634617895238,0.06455756143255113,1.205868759639534,-0.9842266918694147,-0.3425643408088088,0.34130180923738723,0.40136976324289486,-0.7982892383219594,-1.2726622403925725,0.3530111842067332,1.2421739172783588,-1.120247339070788,0.5750779467137043,-0.4320597966482676,0.9870732217728948,-0.05055637421416955,-0.8903622498341756],\"type\":\"histogram\"}],                        {\"barmode\":\"overlay\",\"legend\":{\"bgcolor\":\"#F5F6F9\",\"font\":{\"color\":\"#4D5663\"}},\"paper_bgcolor\":\"#F5F6F9\",\"plot_bgcolor\":\"#F5F6F9\",\"template\":{\"data\":{\"barpolar\":[{\"marker\":{\"line\":{\"color\":\"#E5ECF6\",\"width\":0.5},\"pattern\":{\"fillmode\":\"overlay\",\"size\":10,\"solidity\":0.2}},\"type\":\"barpolar\"}],\"bar\":[{\"error_x\":{\"color\":\"#2a3f5f\"},\"error_y\":{\"color\":\"#2a3f5f\"},\"marker\":{\"line\":{\"color\":\"#E5ECF6\",\"width\":0.5},\"pattern\":{\"fillmode\":\"overlay\",\"size\":10,\"solidity\":0.2}},\"type\":\"bar\"}],\"carpet\":[{\"aaxis\":{\"endlinecolor\":\"#2a3f5f\",\"gridcolor\":\"white\",\"linecolor\":\"white\",\"minorgridcolor\":\"white\",\"startlinecolor\":\"#2a3f5f\"},\"baxis\":{\"endlinecolor\":\"#2a3f5f\",\"gridcolor\":\"white\",\"linecolor\":\"white\",\"minorgridcolor\":\"white\",\"startlinecolor\":\"#2a3f5f\"},\"type\":\"carpet\"}],\"choropleth\":[{\"colorbar\":{\"outlinewidth\":0,\"ticks\":\"\"},\"type\":\"choropleth\"}],\"contourcarpet\":[{\"colorbar\":{\"outlinewidth\":0,\"ticks\":\"\"},\"type\":\"contourcarpet\"}],\"contour\":[{\"colorbar\":{\"outlinewidth\":0,\"ticks\":\"\"},\"colorscale\":[[0.0,\"#0d0887\"],[0.1111111111111111,\"#46039f\"],[0.2222222222222222,\"#7201a8\"],[0.3333333333333333,\"#9c179e\"],[0.4444444444444444,\"#bd3786\"],[0.5555555555555556,\"#d8576b\"],[0.6666666666666666,\"#ed7953\"],[0.7777777777777778,\"#fb9f3a\"],[0.8888888888888888,\"#fdca26\"],[1.0,\"#f0f921\"]],\"type\":\"contour\"}],\"heatmapgl\":[{\"colorbar\":{\"outlinewidth\":0,\"ticks\":\"\"},\"colorscale\":[[0.0,\"#0d0887\"],[0.1111111111111111,\"#46039f\"],[0.2222222222222222,\"#7201a8\"],[0.3333333333333333,\"#9c179e\"],[0.4444444444444444,\"#bd3786\"],[0.5555555555555556,\"#d8576b\"],[0.6666666666666666,\"#ed7953\"],[0.7777777777777778,\"#fb9f3a\"],[0.8888888888888888,\"#fdca26\"],[1.0,\"#f0f921\"]],\"type\":\"heatmapgl\"}],\"heatmap\":[{\"colorbar\":{\"outlinewidth\":0,\"ticks\":\"\"},\"colorscale\":[[0.0,\"#0d0887\"],[0.1111111111111111,\"#46039f\"],[0.2222222222222222,\"#7201a8\"],[0.3333333333333333,\"#9c179e\"],[0.4444444444444444,\"#bd3786\"],[0.5555555555555556,\"#d8576b\"],[0.6666666666666666,\"#ed7953\"],[0.7777777777777778,\"#fb9f3a\"],[0.8888888888888888,\"#fdca26\"],[1.0,\"#f0f921\"]],\"type\":\"heatmap\"}],\"histogram2dcontour\":[{\"colorbar\":{\"outlinewidth\":0,\"ticks\":\"\"},\"colorscale\":[[0.0,\"#0d0887\"],[0.1111111111111111,\"#46039f\"],[0.2222222222222222,\"#7201a8\"],[0.3333333333333333,\"#9c179e\"],[0.4444444444444444,\"#bd3786\"],[0.5555555555555556,\"#d8576b\"],[0.6666666666666666,\"#ed7953\"],[0.7777777777777778,\"#fb9f3a\"],[0.8888888888888888,\"#fdca26\"],[1.0,\"#f0f921\"]],\"type\":\"histogram2dcontour\"}],\"histogram2d\":[{\"colorbar\":{\"outlinewidth\":0,\"ticks\":\"\"},\"colorscale\":[[0.0,\"#0d0887\"],[0.1111111111111111,\"#46039f\"],[0.2222222222222222,\"#7201a8\"],[0.3333333333333333,\"#9c179e\"],[0.4444444444444444,\"#bd3786\"],[0.5555555555555556,\"#d8576b\"],[0.6666666666666666,\"#ed7953\"],[0.7777777777777778,\"#fb9f3a\"],[0.8888888888888888,\"#fdca26\"],[1.0,\"#f0f921\"]],\"type\":\"histogram2d\"}],\"histogram\":[{\"marker\":{\"pattern\":{\"fillmode\":\"overlay\",\"size\":10,\"solidity\":0.2}},\"type\":\"histogram\"}],\"mesh3d\":[{\"colorbar\":{\"outlinewidth\":0,\"ticks\":\"\"},\"type\":\"mesh3d\"}],\"parcoords\":[{\"line\":{\"colorbar\":{\"outlinewidth\":0,\"ticks\":\"\"}},\"type\":\"parcoords\"}],\"pie\":[{\"automargin\":true,\"type\":\"pie\"}],\"scatter3d\":[{\"line\":{\"colorbar\":{\"outlinewidth\":0,\"ticks\":\"\"}},\"marker\":{\"colorbar\":{\"outlinewidth\":0,\"ticks\":\"\"}},\"type\":\"scatter3d\"}],\"scattercarpet\":[{\"marker\":{\"colorbar\":{\"outlinewidth\":0,\"ticks\":\"\"}},\"type\":\"scattercarpet\"}],\"scattergeo\":[{\"marker\":{\"colorbar\":{\"outlinewidth\":0,\"ticks\":\"\"}},\"type\":\"scattergeo\"}],\"scattergl\":[{\"marker\":{\"colorbar\":{\"outlinewidth\":0,\"ticks\":\"\"}},\"type\":\"scattergl\"}],\"scattermapbox\":[{\"marker\":{\"colorbar\":{\"outlinewidth\":0,\"ticks\":\"\"}},\"type\":\"scattermapbox\"}],\"scatterpolargl\":[{\"marker\":{\"colorbar\":{\"outlinewidth\":0,\"ticks\":\"\"}},\"type\":\"scatterpolargl\"}],\"scatterpolar\":[{\"marker\":{\"colorbar\":{\"outlinewidth\":0,\"ticks\":\"\"}},\"type\":\"scatterpolar\"}],\"scatter\":[{\"fillpattern\":{\"fillmode\":\"overlay\",\"size\":10,\"solidity\":0.2},\"type\":\"scatter\"}],\"scatterternary\":[{\"marker\":{\"colorbar\":{\"outlinewidth\":0,\"ticks\":\"\"}},\"type\":\"scatterternary\"}],\"surface\":[{\"colorbar\":{\"outlinewidth\":0,\"ticks\":\"\"},\"colorscale\":[[0.0,\"#0d0887\"],[0.1111111111111111,\"#46039f\"],[0.2222222222222222,\"#7201a8\"],[0.3333333333333333,\"#9c179e\"],[0.4444444444444444,\"#bd3786\"],[0.5555555555555556,\"#d8576b\"],[0.6666666666666666,\"#ed7953\"],[0.7777777777777778,\"#fb9f3a\"],[0.8888888888888888,\"#fdca26\"],[1.0,\"#f0f921\"]],\"type\":\"surface\"}],\"table\":[{\"cells\":{\"fill\":{\"color\":\"#EBF0F8\"},\"line\":{\"color\":\"white\"}},\"header\":{\"fill\":{\"color\":\"#C8D4E3\"},\"line\":{\"color\":\"white\"}},\"type\":\"table\"}]},\"layout\":{\"annotationdefaults\":{\"arrowcolor\":\"#2a3f5f\",\"arrowhead\":0,\"arrowwidth\":1},\"autotypenumbers\":\"strict\",\"coloraxis\":{\"colorbar\":{\"outlinewidth\":0,\"ticks\":\"\"}},\"colorscale\":{\"diverging\":[[0,\"#8e0152\"],[0.1,\"#c51b7d\"],[0.2,\"#de77ae\"],[0.3,\"#f1b6da\"],[0.4,\"#fde0ef\"],[0.5,\"#f7f7f7\"],[0.6,\"#e6f5d0\"],[0.7,\"#b8e186\"],[0.8,\"#7fbc41\"],[0.9,\"#4d9221\"],[1,\"#276419\"]],\"sequential\":[[0.0,\"#0d0887\"],[0.1111111111111111,\"#46039f\"],[0.2222222222222222,\"#7201a8\"],[0.3333333333333333,\"#9c179e\"],[0.4444444444444444,\"#bd3786\"],[0.5555555555555556,\"#d8576b\"],[0.6666666666666666,\"#ed7953\"],[0.7777777777777778,\"#fb9f3a\"],[0.8888888888888888,\"#fdca26\"],[1.0,\"#f0f921\"]],\"sequentialminus\":[[0.0,\"#0d0887\"],[0.1111111111111111,\"#46039f\"],[0.2222222222222222,\"#7201a8\"],[0.3333333333333333,\"#9c179e\"],[0.4444444444444444,\"#bd3786\"],[0.5555555555555556,\"#d8576b\"],[0.6666666666666666,\"#ed7953\"],[0.7777777777777778,\"#fb9f3a\"],[0.8888888888888888,\"#fdca26\"],[1.0,\"#f0f921\"]]},\"colorway\":[\"#636efa\",\"#EF553B\",\"#00cc96\",\"#ab63fa\",\"#FFA15A\",\"#19d3f3\",\"#FF6692\",\"#B6E880\",\"#FF97FF\",\"#FECB52\"],\"font\":{\"color\":\"#2a3f5f\"},\"geo\":{\"bgcolor\":\"white\",\"lakecolor\":\"white\",\"landcolor\":\"#E5ECF6\",\"showlakes\":true,\"showland\":true,\"subunitcolor\":\"white\"},\"hoverlabel\":{\"align\":\"left\"},\"hovermode\":\"closest\",\"mapbox\":{\"style\":\"light\"},\"paper_bgcolor\":\"white\",\"plot_bgcolor\":\"#E5ECF6\",\"polar\":{\"angularaxis\":{\"gridcolor\":\"white\",\"linecolor\":\"white\",\"ticks\":\"\"},\"bgcolor\":\"#E5ECF6\",\"radialaxis\":{\"gridcolor\":\"white\",\"linecolor\":\"white\",\"ticks\":\"\"}},\"scene\":{\"xaxis\":{\"backgroundcolor\":\"#E5ECF6\",\"gridcolor\":\"white\",\"gridwidth\":2,\"linecolor\":\"white\",\"showbackground\":true,\"ticks\":\"\",\"zerolinecolor\":\"white\"},\"yaxis\":{\"backgroundcolor\":\"#E5ECF6\",\"gridcolor\":\"white\",\"gridwidth\":2,\"linecolor\":\"white\",\"showbackground\":true,\"ticks\":\"\",\"zerolinecolor\":\"white\"},\"zaxis\":{\"backgroundcolor\":\"#E5ECF6\",\"gridcolor\":\"white\",\"gridwidth\":2,\"linecolor\":\"white\",\"showbackground\":true,\"ticks\":\"\",\"zerolinecolor\":\"white\"}},\"shapedefaults\":{\"line\":{\"color\":\"#2a3f5f\"}},\"ternary\":{\"aaxis\":{\"gridcolor\":\"white\",\"linecolor\":\"white\",\"ticks\":\"\"},\"baxis\":{\"gridcolor\":\"white\",\"linecolor\":\"white\",\"ticks\":\"\"},\"bgcolor\":\"#E5ECF6\",\"caxis\":{\"gridcolor\":\"white\",\"linecolor\":\"white\",\"ticks\":\"\"}},\"title\":{\"x\":0.05},\"xaxis\":{\"automargin\":true,\"gridcolor\":\"white\",\"linecolor\":\"white\",\"ticks\":\"\",\"title\":{\"standoff\":15},\"zerolinecolor\":\"white\",\"zerolinewidth\":2},\"yaxis\":{\"automargin\":true,\"gridcolor\":\"white\",\"linecolor\":\"white\",\"ticks\":\"\",\"title\":{\"standoff\":15},\"zerolinecolor\":\"white\",\"zerolinewidth\":2}}},\"title\":{\"font\":{\"color\":\"#4D5663\"}},\"xaxis\":{\"gridcolor\":\"#E1E5ED\",\"showgrid\":true,\"tickfont\":{\"color\":\"#4D5663\"},\"title\":{\"font\":{\"color\":\"#4D5663\"},\"text\":\"\"},\"zerolinecolor\":\"#E1E5ED\"},\"yaxis\":{\"gridcolor\":\"#E1E5ED\",\"showgrid\":true,\"tickfont\":{\"color\":\"#4D5663\"},\"title\":{\"font\":{\"color\":\"#4D5663\"},\"text\":\"\"},\"zerolinecolor\":\"#E1E5ED\"}},                        {\"showLink\": true, \"linkText\": \"Export to plot.ly\", \"plotlyServerURL\": \"https://plot.ly\", \"responsive\": true}                    ).then(function(){\n",
       "                            \n",
       "var gd = document.getElementById('e35e8362-fc85-4896-b5f0-36671aa4c663');\n",
       "var x = new MutationObserver(function (mutations, observer) {{\n",
       "        var display = window.getComputedStyle(gd).display;\n",
       "        if (!display || display === 'none') {{\n",
       "            console.log([gd, 'removed!']);\n",
       "            Plotly.purge(gd);\n",
       "            observer.disconnect();\n",
       "        }}\n",
       "}});\n",
       "\n",
       "// Listen for the removal of the full notebook cells\n",
       "var notebookContainer = gd.closest('#notebook-container');\n",
       "if (notebookContainer) {{\n",
       "    x.observe(notebookContainer, {childList: true});\n",
       "}}\n",
       "\n",
       "// Listen for the clearing of the current output cell\n",
       "var outputEl = gd.closest('.output');\n",
       "if (outputEl) {{\n",
       "    x.observe(outputEl, {childList: true});\n",
       "}}\n",
       "\n",
       "                        })                };                });            </script>        </div>"
      ]
     },
     "metadata": {},
     "output_type": "display_data"
    }
   ],
   "source": [
    "df['A'].iplot(kind='hist',bins=25)"
   ]
  },
  {
   "cell_type": "markdown",
   "metadata": {},
   "source": [
    "## Bolha"
   ]
  },
  {
   "cell_type": "code",
   "execution_count": 20,
   "metadata": {},
   "outputs": [
    {
     "data": {
      "application/vnd.plotly.v1+json": {
       "config": {
        "linkText": "Export to plot.ly",
        "plotlyServerURL": "https://plot.ly",
        "showLink": true
       },
       "data": [
        {
         "marker": {
          "color": [
           "rgb(255, 153, 51)",
           "rgb(55, 128, 191)",
           "rgb(50, 171, 96)",
           "rgb(128, 0, 128)",
           "rgb(219, 64, 82)",
           "rgb(0, 128, 128)",
           "rgb(255, 255, 51)",
           "rgb(128, 128, 0)",
           "rgb(251, 128, 114)",
           "rgb(128, 177, 211)"
          ],
          "line": {
           "width": 1.3
          },
          "size": [
           61,
           53,
           58,
           47,
           74,
           23,
           67,
           68,
           48,
           63,
           69,
           65,
           61,
           51,
           36,
           46,
           12,
           38,
           91,
           29,
           79,
           45,
           66,
           86,
           70,
           34,
           112,
           73,
           64,
           77,
           50,
           45,
           28,
           78,
           34,
           62,
           44,
           85,
           59,
           41,
           51,
           72,
           47,
           99,
           52,
           70,
           37,
           56,
           71,
           36,
           73,
           78,
           34,
           64,
           58,
           45,
           80,
           46,
           41,
           65,
           31,
           30,
           77,
           88,
           51,
           93,
           63,
           60,
           85,
           23,
           63,
           27,
           71,
           41,
           38,
           59,
           39,
           71,
           32,
           72,
           56,
           75,
           73,
           41,
           50,
           45,
           30,
           65,
           46,
           64,
           72,
           43,
           84,
           86,
           75,
           52,
           58,
           21,
           53,
           72
          ],
          "symbol": "circle"
         },
         "mode": "markers",
         "text": "",
         "type": "scatter",
         "x": [
          -1.6844993786342044,
          0.4337824524461489,
          -0.8691693852146056,
          0.9653121387937669,
          -0.7109752166232484,
          -0.45006015542555056,
          1.0171168908883115,
          1.5780961752102243,
          -2.1160933540323286,
          0.2343715875650588,
          -0.5528680468664166,
          0.38632374541788334,
          -0.5722948323221422,
          -0.8145672569000181,
          0.49306577734475027,
          -1.1747216668475229,
          0.08930322383125251,
          0.13489401392347433,
          -0.18154994658679408,
          -0.1797427927707783,
          -0.6020466339558398,
          -0.03072825449634198,
          0.09788707748052361,
          0.3471881456095463,
          0.5768605470922169,
          -0.7151832446205061,
          -0.9112976711916279,
          0.09481662754534259,
          -0.910643811479693,
          0.11344525996528626,
          -0.2848595871502769,
          1.497486931550133,
          1.0448924393019643,
          0.648713382035497,
          0.14133457403504462,
          -0.9423855268071041,
          -0.7558517471451324,
          1.1034730063461553,
          -0.10239322951648648,
          0.9031722433903324,
          0.9252179518935177,
          -0.8970796650314016,
          0.5649986383576866,
          1.6078581107955012,
          0.7119991594850152,
          1.6204010398651412,
          -0.025321453891786718,
          -0.8499809725068881,
          -0.40522522234331965,
          -0.12509501604331788,
          1.4785409397705953,
          0.3694497550289572,
          -0.5350450922129657,
          0.1357029132639195,
          -0.025405805705771396,
          1.5952346153732109,
          1.1676737423572598,
          -0.3544567773817869,
          -0.18797553847544687,
          1.4877166510232325,
          0.4217944046376089,
          -0.16625411785823546,
          1.839332984376313,
          0.5486490471496404,
          1.187033804236325,
          -0.02612235723645212,
          1.5976465181616468,
          -0.1952788064272953,
          -0.003132419080781338,
          0.34797309675372445,
          1.3321715816244717,
          -0.2737241477992157,
          0.8962755167170101,
          0.5795417450593899,
          -0.18383583611314588,
          0.8928460544690597,
          -1.3922157024409982,
          -1.2375466595431501,
          0.3336992080417538,
          -0.021243021449576818,
          -0.8890140593926337,
          -0.7420333246838322,
          -0.579664367503824,
          1.9789634617895238,
          0.06455756143255113,
          1.205868759639534,
          -0.9842266918694147,
          -0.3425643408088088,
          0.34130180923738723,
          0.40136976324289486,
          -0.7982892383219594,
          -1.2726622403925725,
          0.3530111842067332,
          1.2421739172783588,
          -1.120247339070788,
          0.5750779467137043,
          -0.4320597966482676,
          0.9870732217728948,
          -0.05055637421416955,
          -0.8903622498341756
         ],
         "y": [
          1.5522000044749955,
          -0.8118066237567007,
          -1.9583743073878386,
          -0.14696836355682874,
          -0.21208261738056397,
          -0.24020362993660963,
          -0.31977996092043615,
          0.6119339124091268,
          1.349780690086934,
          -1.6149613705675971,
          -3.5121272482480483,
          -0.2876971253143369,
          -1.1329691232522952,
          -0.3914026001731782,
          0.44795717167726046,
          -0.5373453645534138,
          0.20179314005562496,
          -2.205736471459392,
          -1.9332842901336456,
          1.259020481591884,
          0.25345668167046015,
          -0.4559042131567118,
          1.2949891928279382,
          -0.748052036762677,
          -1.078015779779852,
          0.0866086645503718,
          1.3259726852002482,
          1.371155553999299,
          1.5597120643381566,
          0.7583725476251723,
          1.6004556144601645,
          1.6610069264389653,
          0.16330413275432498,
          1.201188362944357,
          -0.1669888038021607,
          -2.2448476063768843,
          0.5551836793585623,
          0.21713144705818224,
          -0.8136071488049466,
          0.5940294668099988,
          1.8989551559751483,
          -0.00786012259690263,
          0.11144475144098041,
          -1.6565054213721024,
          -1.1824676471076967,
          0.9288098632832997,
          2.0044812699802765,
          -2.480799680948316,
          1.2337900447822574,
          -2.531382527478476,
          0.9157463725707286,
          -0.1370912630448338,
          0.5041137075678902,
          0.005966193373438284,
          -0.3901148179715984,
          -0.5423286362298547,
          0.010744126454946788,
          1.8806981884192018,
          0.5889261156657364,
          0.17667984121404925,
          -0.5659856900149359,
          0.3890058855108887,
          -1.09165286677273,
          -0.5019430076401349,
          0.10169880094850037,
          -0.06842355187598258,
          0.9381367467291669,
          -0.9398554669967962,
          -0.3251095674252459,
          -0.9139424132945362,
          -0.3056611501519662,
          -0.3283027002777851,
          -0.12031484790725197,
          0.6794401271657093,
          0.47217701704988185,
          -1.7509802495158866,
          2.5760213146546507,
          2.2501360319767345,
          -0.19001713579818874,
          0.27694597696910617,
          0.8589019268113817,
          1.8017402455340144,
          0.43858672379016594,
          1.0982802969266425,
          0.9831944186866525,
          -1.8708383193957832,
          -0.1668713447630551,
          0.27138619743932924,
          -1.0514231323561325,
          -1.6479775507586287,
          -0.4715602639356907,
          -0.5183890178845385,
          -0.12000190257329688,
          -0.11010434911449721,
          -1.4978281045994541,
          -0.1365455952006748,
          -0.6866333990669393,
          -0.9188872819969375,
          -2.169756665385094,
          -2.107733277663181
         ]
        }
       ],
       "layout": {
        "legend": {
         "bgcolor": "#F5F6F9",
         "font": {
          "color": "#4D5663"
         }
        },
        "paper_bgcolor": "#F5F6F9",
        "plot_bgcolor": "#F5F6F9",
        "template": {
         "data": {
          "bar": [
           {
            "error_x": {
             "color": "#2a3f5f"
            },
            "error_y": {
             "color": "#2a3f5f"
            },
            "marker": {
             "line": {
              "color": "#E5ECF6",
              "width": 0.5
             },
             "pattern": {
              "fillmode": "overlay",
              "size": 10,
              "solidity": 0.2
             }
            },
            "type": "bar"
           }
          ],
          "barpolar": [
           {
            "marker": {
             "line": {
              "color": "#E5ECF6",
              "width": 0.5
             },
             "pattern": {
              "fillmode": "overlay",
              "size": 10,
              "solidity": 0.2
             }
            },
            "type": "barpolar"
           }
          ],
          "carpet": [
           {
            "aaxis": {
             "endlinecolor": "#2a3f5f",
             "gridcolor": "white",
             "linecolor": "white",
             "minorgridcolor": "white",
             "startlinecolor": "#2a3f5f"
            },
            "baxis": {
             "endlinecolor": "#2a3f5f",
             "gridcolor": "white",
             "linecolor": "white",
             "minorgridcolor": "white",
             "startlinecolor": "#2a3f5f"
            },
            "type": "carpet"
           }
          ],
          "choropleth": [
           {
            "colorbar": {
             "outlinewidth": 0,
             "ticks": ""
            },
            "type": "choropleth"
           }
          ],
          "contour": [
           {
            "colorbar": {
             "outlinewidth": 0,
             "ticks": ""
            },
            "colorscale": [
             [
              0,
              "#0d0887"
             ],
             [
              0.1111111111111111,
              "#46039f"
             ],
             [
              0.2222222222222222,
              "#7201a8"
             ],
             [
              0.3333333333333333,
              "#9c179e"
             ],
             [
              0.4444444444444444,
              "#bd3786"
             ],
             [
              0.5555555555555556,
              "#d8576b"
             ],
             [
              0.6666666666666666,
              "#ed7953"
             ],
             [
              0.7777777777777778,
              "#fb9f3a"
             ],
             [
              0.8888888888888888,
              "#fdca26"
             ],
             [
              1,
              "#f0f921"
             ]
            ],
            "type": "contour"
           }
          ],
          "contourcarpet": [
           {
            "colorbar": {
             "outlinewidth": 0,
             "ticks": ""
            },
            "type": "contourcarpet"
           }
          ],
          "heatmap": [
           {
            "colorbar": {
             "outlinewidth": 0,
             "ticks": ""
            },
            "colorscale": [
             [
              0,
              "#0d0887"
             ],
             [
              0.1111111111111111,
              "#46039f"
             ],
             [
              0.2222222222222222,
              "#7201a8"
             ],
             [
              0.3333333333333333,
              "#9c179e"
             ],
             [
              0.4444444444444444,
              "#bd3786"
             ],
             [
              0.5555555555555556,
              "#d8576b"
             ],
             [
              0.6666666666666666,
              "#ed7953"
             ],
             [
              0.7777777777777778,
              "#fb9f3a"
             ],
             [
              0.8888888888888888,
              "#fdca26"
             ],
             [
              1,
              "#f0f921"
             ]
            ],
            "type": "heatmap"
           }
          ],
          "heatmapgl": [
           {
            "colorbar": {
             "outlinewidth": 0,
             "ticks": ""
            },
            "colorscale": [
             [
              0,
              "#0d0887"
             ],
             [
              0.1111111111111111,
              "#46039f"
             ],
             [
              0.2222222222222222,
              "#7201a8"
             ],
             [
              0.3333333333333333,
              "#9c179e"
             ],
             [
              0.4444444444444444,
              "#bd3786"
             ],
             [
              0.5555555555555556,
              "#d8576b"
             ],
             [
              0.6666666666666666,
              "#ed7953"
             ],
             [
              0.7777777777777778,
              "#fb9f3a"
             ],
             [
              0.8888888888888888,
              "#fdca26"
             ],
             [
              1,
              "#f0f921"
             ]
            ],
            "type": "heatmapgl"
           }
          ],
          "histogram": [
           {
            "marker": {
             "pattern": {
              "fillmode": "overlay",
              "size": 10,
              "solidity": 0.2
             }
            },
            "type": "histogram"
           }
          ],
          "histogram2d": [
           {
            "colorbar": {
             "outlinewidth": 0,
             "ticks": ""
            },
            "colorscale": [
             [
              0,
              "#0d0887"
             ],
             [
              0.1111111111111111,
              "#46039f"
             ],
             [
              0.2222222222222222,
              "#7201a8"
             ],
             [
              0.3333333333333333,
              "#9c179e"
             ],
             [
              0.4444444444444444,
              "#bd3786"
             ],
             [
              0.5555555555555556,
              "#d8576b"
             ],
             [
              0.6666666666666666,
              "#ed7953"
             ],
             [
              0.7777777777777778,
              "#fb9f3a"
             ],
             [
              0.8888888888888888,
              "#fdca26"
             ],
             [
              1,
              "#f0f921"
             ]
            ],
            "type": "histogram2d"
           }
          ],
          "histogram2dcontour": [
           {
            "colorbar": {
             "outlinewidth": 0,
             "ticks": ""
            },
            "colorscale": [
             [
              0,
              "#0d0887"
             ],
             [
              0.1111111111111111,
              "#46039f"
             ],
             [
              0.2222222222222222,
              "#7201a8"
             ],
             [
              0.3333333333333333,
              "#9c179e"
             ],
             [
              0.4444444444444444,
              "#bd3786"
             ],
             [
              0.5555555555555556,
              "#d8576b"
             ],
             [
              0.6666666666666666,
              "#ed7953"
             ],
             [
              0.7777777777777778,
              "#fb9f3a"
             ],
             [
              0.8888888888888888,
              "#fdca26"
             ],
             [
              1,
              "#f0f921"
             ]
            ],
            "type": "histogram2dcontour"
           }
          ],
          "mesh3d": [
           {
            "colorbar": {
             "outlinewidth": 0,
             "ticks": ""
            },
            "type": "mesh3d"
           }
          ],
          "parcoords": [
           {
            "line": {
             "colorbar": {
              "outlinewidth": 0,
              "ticks": ""
             }
            },
            "type": "parcoords"
           }
          ],
          "pie": [
           {
            "automargin": true,
            "type": "pie"
           }
          ],
          "scatter": [
           {
            "fillpattern": {
             "fillmode": "overlay",
             "size": 10,
             "solidity": 0.2
            },
            "type": "scatter"
           }
          ],
          "scatter3d": [
           {
            "line": {
             "colorbar": {
              "outlinewidth": 0,
              "ticks": ""
             }
            },
            "marker": {
             "colorbar": {
              "outlinewidth": 0,
              "ticks": ""
             }
            },
            "type": "scatter3d"
           }
          ],
          "scattercarpet": [
           {
            "marker": {
             "colorbar": {
              "outlinewidth": 0,
              "ticks": ""
             }
            },
            "type": "scattercarpet"
           }
          ],
          "scattergeo": [
           {
            "marker": {
             "colorbar": {
              "outlinewidth": 0,
              "ticks": ""
             }
            },
            "type": "scattergeo"
           }
          ],
          "scattergl": [
           {
            "marker": {
             "colorbar": {
              "outlinewidth": 0,
              "ticks": ""
             }
            },
            "type": "scattergl"
           }
          ],
          "scattermapbox": [
           {
            "marker": {
             "colorbar": {
              "outlinewidth": 0,
              "ticks": ""
             }
            },
            "type": "scattermapbox"
           }
          ],
          "scatterpolar": [
           {
            "marker": {
             "colorbar": {
              "outlinewidth": 0,
              "ticks": ""
             }
            },
            "type": "scatterpolar"
           }
          ],
          "scatterpolargl": [
           {
            "marker": {
             "colorbar": {
              "outlinewidth": 0,
              "ticks": ""
             }
            },
            "type": "scatterpolargl"
           }
          ],
          "scatterternary": [
           {
            "marker": {
             "colorbar": {
              "outlinewidth": 0,
              "ticks": ""
             }
            },
            "type": "scatterternary"
           }
          ],
          "surface": [
           {
            "colorbar": {
             "outlinewidth": 0,
             "ticks": ""
            },
            "colorscale": [
             [
              0,
              "#0d0887"
             ],
             [
              0.1111111111111111,
              "#46039f"
             ],
             [
              0.2222222222222222,
              "#7201a8"
             ],
             [
              0.3333333333333333,
              "#9c179e"
             ],
             [
              0.4444444444444444,
              "#bd3786"
             ],
             [
              0.5555555555555556,
              "#d8576b"
             ],
             [
              0.6666666666666666,
              "#ed7953"
             ],
             [
              0.7777777777777778,
              "#fb9f3a"
             ],
             [
              0.8888888888888888,
              "#fdca26"
             ],
             [
              1,
              "#f0f921"
             ]
            ],
            "type": "surface"
           }
          ],
          "table": [
           {
            "cells": {
             "fill": {
              "color": "#EBF0F8"
             },
             "line": {
              "color": "white"
             }
            },
            "header": {
             "fill": {
              "color": "#C8D4E3"
             },
             "line": {
              "color": "white"
             }
            },
            "type": "table"
           }
          ]
         },
         "layout": {
          "annotationdefaults": {
           "arrowcolor": "#2a3f5f",
           "arrowhead": 0,
           "arrowwidth": 1
          },
          "autotypenumbers": "strict",
          "coloraxis": {
           "colorbar": {
            "outlinewidth": 0,
            "ticks": ""
           }
          },
          "colorscale": {
           "diverging": [
            [
             0,
             "#8e0152"
            ],
            [
             0.1,
             "#c51b7d"
            ],
            [
             0.2,
             "#de77ae"
            ],
            [
             0.3,
             "#f1b6da"
            ],
            [
             0.4,
             "#fde0ef"
            ],
            [
             0.5,
             "#f7f7f7"
            ],
            [
             0.6,
             "#e6f5d0"
            ],
            [
             0.7,
             "#b8e186"
            ],
            [
             0.8,
             "#7fbc41"
            ],
            [
             0.9,
             "#4d9221"
            ],
            [
             1,
             "#276419"
            ]
           ],
           "sequential": [
            [
             0,
             "#0d0887"
            ],
            [
             0.1111111111111111,
             "#46039f"
            ],
            [
             0.2222222222222222,
             "#7201a8"
            ],
            [
             0.3333333333333333,
             "#9c179e"
            ],
            [
             0.4444444444444444,
             "#bd3786"
            ],
            [
             0.5555555555555556,
             "#d8576b"
            ],
            [
             0.6666666666666666,
             "#ed7953"
            ],
            [
             0.7777777777777778,
             "#fb9f3a"
            ],
            [
             0.8888888888888888,
             "#fdca26"
            ],
            [
             1,
             "#f0f921"
            ]
           ],
           "sequentialminus": [
            [
             0,
             "#0d0887"
            ],
            [
             0.1111111111111111,
             "#46039f"
            ],
            [
             0.2222222222222222,
             "#7201a8"
            ],
            [
             0.3333333333333333,
             "#9c179e"
            ],
            [
             0.4444444444444444,
             "#bd3786"
            ],
            [
             0.5555555555555556,
             "#d8576b"
            ],
            [
             0.6666666666666666,
             "#ed7953"
            ],
            [
             0.7777777777777778,
             "#fb9f3a"
            ],
            [
             0.8888888888888888,
             "#fdca26"
            ],
            [
             1,
             "#f0f921"
            ]
           ]
          },
          "colorway": [
           "#636efa",
           "#EF553B",
           "#00cc96",
           "#ab63fa",
           "#FFA15A",
           "#19d3f3",
           "#FF6692",
           "#B6E880",
           "#FF97FF",
           "#FECB52"
          ],
          "font": {
           "color": "#2a3f5f"
          },
          "geo": {
           "bgcolor": "white",
           "lakecolor": "white",
           "landcolor": "#E5ECF6",
           "showlakes": true,
           "showland": true,
           "subunitcolor": "white"
          },
          "hoverlabel": {
           "align": "left"
          },
          "hovermode": "closest",
          "mapbox": {
           "style": "light"
          },
          "paper_bgcolor": "white",
          "plot_bgcolor": "#E5ECF6",
          "polar": {
           "angularaxis": {
            "gridcolor": "white",
            "linecolor": "white",
            "ticks": ""
           },
           "bgcolor": "#E5ECF6",
           "radialaxis": {
            "gridcolor": "white",
            "linecolor": "white",
            "ticks": ""
           }
          },
          "scene": {
           "xaxis": {
            "backgroundcolor": "#E5ECF6",
            "gridcolor": "white",
            "gridwidth": 2,
            "linecolor": "white",
            "showbackground": true,
            "ticks": "",
            "zerolinecolor": "white"
           },
           "yaxis": {
            "backgroundcolor": "#E5ECF6",
            "gridcolor": "white",
            "gridwidth": 2,
            "linecolor": "white",
            "showbackground": true,
            "ticks": "",
            "zerolinecolor": "white"
           },
           "zaxis": {
            "backgroundcolor": "#E5ECF6",
            "gridcolor": "white",
            "gridwidth": 2,
            "linecolor": "white",
            "showbackground": true,
            "ticks": "",
            "zerolinecolor": "white"
           }
          },
          "shapedefaults": {
           "line": {
            "color": "#2a3f5f"
           }
          },
          "ternary": {
           "aaxis": {
            "gridcolor": "white",
            "linecolor": "white",
            "ticks": ""
           },
           "baxis": {
            "gridcolor": "white",
            "linecolor": "white",
            "ticks": ""
           },
           "bgcolor": "#E5ECF6",
           "caxis": {
            "gridcolor": "white",
            "linecolor": "white",
            "ticks": ""
           }
          },
          "title": {
           "x": 0.05
          },
          "xaxis": {
           "automargin": true,
           "gridcolor": "white",
           "linecolor": "white",
           "ticks": "",
           "title": {
            "standoff": 15
           },
           "zerolinecolor": "white",
           "zerolinewidth": 2
          },
          "yaxis": {
           "automargin": true,
           "gridcolor": "white",
           "linecolor": "white",
           "ticks": "",
           "title": {
            "standoff": 15
           },
           "zerolinecolor": "white",
           "zerolinewidth": 2
          }
         }
        },
        "title": {
         "font": {
          "color": "#4D5663"
         }
        },
        "xaxis": {
         "gridcolor": "#E1E5ED",
         "showgrid": true,
         "tickfont": {
          "color": "#4D5663"
         },
         "title": {
          "font": {
           "color": "#4D5663"
          },
          "text": ""
         },
         "zerolinecolor": "#E1E5ED"
        },
        "yaxis": {
         "gridcolor": "#E1E5ED",
         "showgrid": true,
         "tickfont": {
          "color": "#4D5663"
         },
         "title": {
          "font": {
           "color": "#4D5663"
          },
          "text": ""
         },
         "zerolinecolor": "#E1E5ED"
        }
       }
      },
      "text/html": [
       "<div>                            <div id=\"140cccdf-4d50-4f06-aa59-9de852ef152d\" class=\"plotly-graph-div\" style=\"height:525px; width:100%;\"></div>            <script type=\"text/javascript\">                require([\"plotly\"], function(Plotly) {                    window.PLOTLYENV=window.PLOTLYENV || {};\n",
       "                    window.PLOTLYENV.BASE_URL='https://plot.ly';                                    if (document.getElementById(\"140cccdf-4d50-4f06-aa59-9de852ef152d\")) {                    Plotly.newPlot(                        \"140cccdf-4d50-4f06-aa59-9de852ef152d\",                        [{\"marker\":{\"color\":[\"rgb(255, 153, 51)\",\"rgb(55, 128, 191)\",\"rgb(50, 171, 96)\",\"rgb(128, 0, 128)\",\"rgb(219, 64, 82)\",\"rgb(0, 128, 128)\",\"rgb(255, 255, 51)\",\"rgb(128, 128, 0)\",\"rgb(251, 128, 114)\",\"rgb(128, 177, 211)\"],\"line\":{\"width\":1.3},\"size\":[61,53,58,47,74,23,67,68,48,63,69,65,61,51,36,46,12,38,91,29,79,45,66,86,70,34,112,73,64,77,50,45,28,78,34,62,44,85,59,41,51,72,47,99,52,70,37,56,71,36,73,78,34,64,58,45,80,46,41,65,31,30,77,88,51,93,63,60,85,23,63,27,71,41,38,59,39,71,32,72,56,75,73,41,50,45,30,65,46,64,72,43,84,86,75,52,58,21,53,72],\"symbol\":\"circle\"},\"mode\":\"markers\",\"text\":\"\",\"x\":[-1.6844993786342044,0.4337824524461489,-0.8691693852146056,0.9653121387937669,-0.7109752166232484,-0.45006015542555056,1.0171168908883115,1.5780961752102243,-2.1160933540323286,0.2343715875650588,-0.5528680468664166,0.38632374541788334,-0.5722948323221422,-0.8145672569000181,0.49306577734475027,-1.1747216668475229,0.08930322383125251,0.13489401392347433,-0.18154994658679408,-0.1797427927707783,-0.6020466339558398,-0.03072825449634198,0.09788707748052361,0.3471881456095463,0.5768605470922169,-0.7151832446205061,-0.9112976711916279,0.09481662754534259,-0.910643811479693,0.11344525996528626,-0.2848595871502769,1.497486931550133,1.0448924393019643,0.648713382035497,0.14133457403504462,-0.9423855268071041,-0.7558517471451324,1.1034730063461553,-0.10239322951648648,0.9031722433903324,0.9252179518935177,-0.8970796650314016,0.5649986383576866,1.6078581107955012,0.7119991594850152,1.6204010398651412,-0.025321453891786718,-0.8499809725068881,-0.40522522234331965,-0.12509501604331788,1.4785409397705953,0.3694497550289572,-0.5350450922129657,0.1357029132639195,-0.025405805705771396,1.5952346153732109,1.1676737423572598,-0.3544567773817869,-0.18797553847544687,1.4877166510232325,0.4217944046376089,-0.16625411785823546,1.839332984376313,0.5486490471496404,1.187033804236325,-0.02612235723645212,1.5976465181616468,-0.1952788064272953,-0.003132419080781338,0.34797309675372445,1.3321715816244717,-0.2737241477992157,0.8962755167170101,0.5795417450593899,-0.18383583611314588,0.8928460544690597,-1.3922157024409982,-1.2375466595431501,0.3336992080417538,-0.021243021449576818,-0.8890140593926337,-0.7420333246838322,-0.579664367503824,1.9789634617895238,0.06455756143255113,1.205868759639534,-0.9842266918694147,-0.3425643408088088,0.34130180923738723,0.40136976324289486,-0.7982892383219594,-1.2726622403925725,0.3530111842067332,1.2421739172783588,-1.120247339070788,0.5750779467137043,-0.4320597966482676,0.9870732217728948,-0.05055637421416955,-0.8903622498341756],\"y\":[1.5522000044749955,-0.8118066237567007,-1.9583743073878386,-0.14696836355682874,-0.21208261738056397,-0.24020362993660963,-0.31977996092043615,0.6119339124091268,1.349780690086934,-1.6149613705675971,-3.5121272482480483,-0.2876971253143369,-1.1329691232522952,-0.3914026001731782,0.44795717167726046,-0.5373453645534138,0.20179314005562496,-2.205736471459392,-1.9332842901336456,1.259020481591884,0.25345668167046015,-0.4559042131567118,1.2949891928279382,-0.748052036762677,-1.078015779779852,0.0866086645503718,1.3259726852002482,1.371155553999299,1.5597120643381566,0.7583725476251723,1.6004556144601645,1.6610069264389653,0.16330413275432498,1.201188362944357,-0.1669888038021607,-2.2448476063768843,0.5551836793585623,0.21713144705818224,-0.8136071488049466,0.5940294668099988,1.8989551559751483,-0.00786012259690263,0.11144475144098041,-1.6565054213721024,-1.1824676471076967,0.9288098632832997,2.0044812699802765,-2.480799680948316,1.2337900447822574,-2.531382527478476,0.9157463725707286,-0.1370912630448338,0.5041137075678902,0.005966193373438284,-0.3901148179715984,-0.5423286362298547,0.010744126454946788,1.8806981884192018,0.5889261156657364,0.17667984121404925,-0.5659856900149359,0.3890058855108887,-1.09165286677273,-0.5019430076401349,0.10169880094850037,-0.06842355187598258,0.9381367467291669,-0.9398554669967962,-0.3251095674252459,-0.9139424132945362,-0.3056611501519662,-0.3283027002777851,-0.12031484790725197,0.6794401271657093,0.47217701704988185,-1.7509802495158866,2.5760213146546507,2.2501360319767345,-0.19001713579818874,0.27694597696910617,0.8589019268113817,1.8017402455340144,0.43858672379016594,1.0982802969266425,0.9831944186866525,-1.8708383193957832,-0.1668713447630551,0.27138619743932924,-1.0514231323561325,-1.6479775507586287,-0.4715602639356907,-0.5183890178845385,-0.12000190257329688,-0.11010434911449721,-1.4978281045994541,-0.1365455952006748,-0.6866333990669393,-0.9188872819969375,-2.169756665385094,-2.107733277663181],\"type\":\"scatter\"}],                        {\"legend\":{\"bgcolor\":\"#F5F6F9\",\"font\":{\"color\":\"#4D5663\"}},\"paper_bgcolor\":\"#F5F6F9\",\"plot_bgcolor\":\"#F5F6F9\",\"template\":{\"data\":{\"barpolar\":[{\"marker\":{\"line\":{\"color\":\"#E5ECF6\",\"width\":0.5},\"pattern\":{\"fillmode\":\"overlay\",\"size\":10,\"solidity\":0.2}},\"type\":\"barpolar\"}],\"bar\":[{\"error_x\":{\"color\":\"#2a3f5f\"},\"error_y\":{\"color\":\"#2a3f5f\"},\"marker\":{\"line\":{\"color\":\"#E5ECF6\",\"width\":0.5},\"pattern\":{\"fillmode\":\"overlay\",\"size\":10,\"solidity\":0.2}},\"type\":\"bar\"}],\"carpet\":[{\"aaxis\":{\"endlinecolor\":\"#2a3f5f\",\"gridcolor\":\"white\",\"linecolor\":\"white\",\"minorgridcolor\":\"white\",\"startlinecolor\":\"#2a3f5f\"},\"baxis\":{\"endlinecolor\":\"#2a3f5f\",\"gridcolor\":\"white\",\"linecolor\":\"white\",\"minorgridcolor\":\"white\",\"startlinecolor\":\"#2a3f5f\"},\"type\":\"carpet\"}],\"choropleth\":[{\"colorbar\":{\"outlinewidth\":0,\"ticks\":\"\"},\"type\":\"choropleth\"}],\"contourcarpet\":[{\"colorbar\":{\"outlinewidth\":0,\"ticks\":\"\"},\"type\":\"contourcarpet\"}],\"contour\":[{\"colorbar\":{\"outlinewidth\":0,\"ticks\":\"\"},\"colorscale\":[[0.0,\"#0d0887\"],[0.1111111111111111,\"#46039f\"],[0.2222222222222222,\"#7201a8\"],[0.3333333333333333,\"#9c179e\"],[0.4444444444444444,\"#bd3786\"],[0.5555555555555556,\"#d8576b\"],[0.6666666666666666,\"#ed7953\"],[0.7777777777777778,\"#fb9f3a\"],[0.8888888888888888,\"#fdca26\"],[1.0,\"#f0f921\"]],\"type\":\"contour\"}],\"heatmapgl\":[{\"colorbar\":{\"outlinewidth\":0,\"ticks\":\"\"},\"colorscale\":[[0.0,\"#0d0887\"],[0.1111111111111111,\"#46039f\"],[0.2222222222222222,\"#7201a8\"],[0.3333333333333333,\"#9c179e\"],[0.4444444444444444,\"#bd3786\"],[0.5555555555555556,\"#d8576b\"],[0.6666666666666666,\"#ed7953\"],[0.7777777777777778,\"#fb9f3a\"],[0.8888888888888888,\"#fdca26\"],[1.0,\"#f0f921\"]],\"type\":\"heatmapgl\"}],\"heatmap\":[{\"colorbar\":{\"outlinewidth\":0,\"ticks\":\"\"},\"colorscale\":[[0.0,\"#0d0887\"],[0.1111111111111111,\"#46039f\"],[0.2222222222222222,\"#7201a8\"],[0.3333333333333333,\"#9c179e\"],[0.4444444444444444,\"#bd3786\"],[0.5555555555555556,\"#d8576b\"],[0.6666666666666666,\"#ed7953\"],[0.7777777777777778,\"#fb9f3a\"],[0.8888888888888888,\"#fdca26\"],[1.0,\"#f0f921\"]],\"type\":\"heatmap\"}],\"histogram2dcontour\":[{\"colorbar\":{\"outlinewidth\":0,\"ticks\":\"\"},\"colorscale\":[[0.0,\"#0d0887\"],[0.1111111111111111,\"#46039f\"],[0.2222222222222222,\"#7201a8\"],[0.3333333333333333,\"#9c179e\"],[0.4444444444444444,\"#bd3786\"],[0.5555555555555556,\"#d8576b\"],[0.6666666666666666,\"#ed7953\"],[0.7777777777777778,\"#fb9f3a\"],[0.8888888888888888,\"#fdca26\"],[1.0,\"#f0f921\"]],\"type\":\"histogram2dcontour\"}],\"histogram2d\":[{\"colorbar\":{\"outlinewidth\":0,\"ticks\":\"\"},\"colorscale\":[[0.0,\"#0d0887\"],[0.1111111111111111,\"#46039f\"],[0.2222222222222222,\"#7201a8\"],[0.3333333333333333,\"#9c179e\"],[0.4444444444444444,\"#bd3786\"],[0.5555555555555556,\"#d8576b\"],[0.6666666666666666,\"#ed7953\"],[0.7777777777777778,\"#fb9f3a\"],[0.8888888888888888,\"#fdca26\"],[1.0,\"#f0f921\"]],\"type\":\"histogram2d\"}],\"histogram\":[{\"marker\":{\"pattern\":{\"fillmode\":\"overlay\",\"size\":10,\"solidity\":0.2}},\"type\":\"histogram\"}],\"mesh3d\":[{\"colorbar\":{\"outlinewidth\":0,\"ticks\":\"\"},\"type\":\"mesh3d\"}],\"parcoords\":[{\"line\":{\"colorbar\":{\"outlinewidth\":0,\"ticks\":\"\"}},\"type\":\"parcoords\"}],\"pie\":[{\"automargin\":true,\"type\":\"pie\"}],\"scatter3d\":[{\"line\":{\"colorbar\":{\"outlinewidth\":0,\"ticks\":\"\"}},\"marker\":{\"colorbar\":{\"outlinewidth\":0,\"ticks\":\"\"}},\"type\":\"scatter3d\"}],\"scattercarpet\":[{\"marker\":{\"colorbar\":{\"outlinewidth\":0,\"ticks\":\"\"}},\"type\":\"scattercarpet\"}],\"scattergeo\":[{\"marker\":{\"colorbar\":{\"outlinewidth\":0,\"ticks\":\"\"}},\"type\":\"scattergeo\"}],\"scattergl\":[{\"marker\":{\"colorbar\":{\"outlinewidth\":0,\"ticks\":\"\"}},\"type\":\"scattergl\"}],\"scattermapbox\":[{\"marker\":{\"colorbar\":{\"outlinewidth\":0,\"ticks\":\"\"}},\"type\":\"scattermapbox\"}],\"scatterpolargl\":[{\"marker\":{\"colorbar\":{\"outlinewidth\":0,\"ticks\":\"\"}},\"type\":\"scatterpolargl\"}],\"scatterpolar\":[{\"marker\":{\"colorbar\":{\"outlinewidth\":0,\"ticks\":\"\"}},\"type\":\"scatterpolar\"}],\"scatter\":[{\"fillpattern\":{\"fillmode\":\"overlay\",\"size\":10,\"solidity\":0.2},\"type\":\"scatter\"}],\"scatterternary\":[{\"marker\":{\"colorbar\":{\"outlinewidth\":0,\"ticks\":\"\"}},\"type\":\"scatterternary\"}],\"surface\":[{\"colorbar\":{\"outlinewidth\":0,\"ticks\":\"\"},\"colorscale\":[[0.0,\"#0d0887\"],[0.1111111111111111,\"#46039f\"],[0.2222222222222222,\"#7201a8\"],[0.3333333333333333,\"#9c179e\"],[0.4444444444444444,\"#bd3786\"],[0.5555555555555556,\"#d8576b\"],[0.6666666666666666,\"#ed7953\"],[0.7777777777777778,\"#fb9f3a\"],[0.8888888888888888,\"#fdca26\"],[1.0,\"#f0f921\"]],\"type\":\"surface\"}],\"table\":[{\"cells\":{\"fill\":{\"color\":\"#EBF0F8\"},\"line\":{\"color\":\"white\"}},\"header\":{\"fill\":{\"color\":\"#C8D4E3\"},\"line\":{\"color\":\"white\"}},\"type\":\"table\"}]},\"layout\":{\"annotationdefaults\":{\"arrowcolor\":\"#2a3f5f\",\"arrowhead\":0,\"arrowwidth\":1},\"autotypenumbers\":\"strict\",\"coloraxis\":{\"colorbar\":{\"outlinewidth\":0,\"ticks\":\"\"}},\"colorscale\":{\"diverging\":[[0,\"#8e0152\"],[0.1,\"#c51b7d\"],[0.2,\"#de77ae\"],[0.3,\"#f1b6da\"],[0.4,\"#fde0ef\"],[0.5,\"#f7f7f7\"],[0.6,\"#e6f5d0\"],[0.7,\"#b8e186\"],[0.8,\"#7fbc41\"],[0.9,\"#4d9221\"],[1,\"#276419\"]],\"sequential\":[[0.0,\"#0d0887\"],[0.1111111111111111,\"#46039f\"],[0.2222222222222222,\"#7201a8\"],[0.3333333333333333,\"#9c179e\"],[0.4444444444444444,\"#bd3786\"],[0.5555555555555556,\"#d8576b\"],[0.6666666666666666,\"#ed7953\"],[0.7777777777777778,\"#fb9f3a\"],[0.8888888888888888,\"#fdca26\"],[1.0,\"#f0f921\"]],\"sequentialminus\":[[0.0,\"#0d0887\"],[0.1111111111111111,\"#46039f\"],[0.2222222222222222,\"#7201a8\"],[0.3333333333333333,\"#9c179e\"],[0.4444444444444444,\"#bd3786\"],[0.5555555555555556,\"#d8576b\"],[0.6666666666666666,\"#ed7953\"],[0.7777777777777778,\"#fb9f3a\"],[0.8888888888888888,\"#fdca26\"],[1.0,\"#f0f921\"]]},\"colorway\":[\"#636efa\",\"#EF553B\",\"#00cc96\",\"#ab63fa\",\"#FFA15A\",\"#19d3f3\",\"#FF6692\",\"#B6E880\",\"#FF97FF\",\"#FECB52\"],\"font\":{\"color\":\"#2a3f5f\"},\"geo\":{\"bgcolor\":\"white\",\"lakecolor\":\"white\",\"landcolor\":\"#E5ECF6\",\"showlakes\":true,\"showland\":true,\"subunitcolor\":\"white\"},\"hoverlabel\":{\"align\":\"left\"},\"hovermode\":\"closest\",\"mapbox\":{\"style\":\"light\"},\"paper_bgcolor\":\"white\",\"plot_bgcolor\":\"#E5ECF6\",\"polar\":{\"angularaxis\":{\"gridcolor\":\"white\",\"linecolor\":\"white\",\"ticks\":\"\"},\"bgcolor\":\"#E5ECF6\",\"radialaxis\":{\"gridcolor\":\"white\",\"linecolor\":\"white\",\"ticks\":\"\"}},\"scene\":{\"xaxis\":{\"backgroundcolor\":\"#E5ECF6\",\"gridcolor\":\"white\",\"gridwidth\":2,\"linecolor\":\"white\",\"showbackground\":true,\"ticks\":\"\",\"zerolinecolor\":\"white\"},\"yaxis\":{\"backgroundcolor\":\"#E5ECF6\",\"gridcolor\":\"white\",\"gridwidth\":2,\"linecolor\":\"white\",\"showbackground\":true,\"ticks\":\"\",\"zerolinecolor\":\"white\"},\"zaxis\":{\"backgroundcolor\":\"#E5ECF6\",\"gridcolor\":\"white\",\"gridwidth\":2,\"linecolor\":\"white\",\"showbackground\":true,\"ticks\":\"\",\"zerolinecolor\":\"white\"}},\"shapedefaults\":{\"line\":{\"color\":\"#2a3f5f\"}},\"ternary\":{\"aaxis\":{\"gridcolor\":\"white\",\"linecolor\":\"white\",\"ticks\":\"\"},\"baxis\":{\"gridcolor\":\"white\",\"linecolor\":\"white\",\"ticks\":\"\"},\"bgcolor\":\"#E5ECF6\",\"caxis\":{\"gridcolor\":\"white\",\"linecolor\":\"white\",\"ticks\":\"\"}},\"title\":{\"x\":0.05},\"xaxis\":{\"automargin\":true,\"gridcolor\":\"white\",\"linecolor\":\"white\",\"ticks\":\"\",\"title\":{\"standoff\":15},\"zerolinecolor\":\"white\",\"zerolinewidth\":2},\"yaxis\":{\"automargin\":true,\"gridcolor\":\"white\",\"linecolor\":\"white\",\"ticks\":\"\",\"title\":{\"standoff\":15},\"zerolinecolor\":\"white\",\"zerolinewidth\":2}}},\"title\":{\"font\":{\"color\":\"#4D5663\"}},\"xaxis\":{\"gridcolor\":\"#E1E5ED\",\"showgrid\":true,\"tickfont\":{\"color\":\"#4D5663\"},\"title\":{\"font\":{\"color\":\"#4D5663\"},\"text\":\"\"},\"zerolinecolor\":\"#E1E5ED\"},\"yaxis\":{\"gridcolor\":\"#E1E5ED\",\"showgrid\":true,\"tickfont\":{\"color\":\"#4D5663\"},\"title\":{\"font\":{\"color\":\"#4D5663\"},\"text\":\"\"},\"zerolinecolor\":\"#E1E5ED\"}},                        {\"showLink\": true, \"linkText\": \"Export to plot.ly\", \"plotlyServerURL\": \"https://plot.ly\", \"responsive\": true}                    ).then(function(){\n",
       "                            \n",
       "var gd = document.getElementById('140cccdf-4d50-4f06-aa59-9de852ef152d');\n",
       "var x = new MutationObserver(function (mutations, observer) {{\n",
       "        var display = window.getComputedStyle(gd).display;\n",
       "        if (!display || display === 'none') {{\n",
       "            console.log([gd, 'removed!']);\n",
       "            Plotly.purge(gd);\n",
       "            observer.disconnect();\n",
       "        }}\n",
       "}});\n",
       "\n",
       "// Listen for the removal of the full notebook cells\n",
       "var notebookContainer = gd.closest('#notebook-container');\n",
       "if (notebookContainer) {{\n",
       "    x.observe(notebookContainer, {childList: true});\n",
       "}}\n",
       "\n",
       "// Listen for the clearing of the current output cell\n",
       "var outputEl = gd.closest('.output');\n",
       "if (outputEl) {{\n",
       "    x.observe(outputEl, {childList: true});\n",
       "}}\n",
       "\n",
       "                        })                };                });            </script>        </div>"
      ]
     },
     "metadata": {},
     "output_type": "display_data"
    }
   ],
   "source": [
    "df.iplot(kind='bubble',x='A',y='B',size='C')"
   ]
  },
  {
   "cell_type": "markdown",
   "metadata": {},
   "source": [
    "## scatter_matrix()\n",
    "\n",
    "Similar à sns.pairplot()"
   ]
  },
  {
   "cell_type": "code",
   "execution_count": null,
   "metadata": {},
   "outputs": [
    {
     "data": {
      "application/vnd.plotly.v1+json": {
       "config": {
        "linkText": "Export to plot.ly",
        "plotlyServerURL": "https://plot.ly",
        "showLink": true
       },
       "data": [
        {
         "histfunc": "count",
         "histnorm": "",
         "marker": {
          "color": "rgba(255, 153, 51, 1.0)",
          "line": {
           "color": "#4D5663",
           "width": 1.3
          }
         },
         "name": "A",
         "nbinsx": 10,
         "opacity": 0.8,
         "orientation": "v",
         "type": "histogram",
         "x": [
          -2.0123763624349293,
          0.9432162610541343,
          -1.6460505314746108,
          -0.11959353388472195,
          -0.09641706509181419,
          -0.06172832372360541,
          -0.20300777040952778,
          1.1614863515596152,
          0.07214341168904675,
          -1.5404779345380852,
          -0.4594837074184925,
          -0.5709294028336829,
          0.5517546812657012,
          -1.5191583347378217,
          -1.8212577605961693,
          0.5608664175791226,
          0.9233754580800292,
          -0.3349371913905272,
          1.6195155400294434,
          0.029516797046602428,
          0.48845016366522087,
          -0.9983325676167882,
          -0.5777061740801093,
          -1.1824449236276113,
          0.44342064703172834,
          -1.921085994117648,
          -1.133672211827247,
          1.3418203911542834,
          1.1377657071052936,
          -0.5205825076152426,
          0.22822348530130462,
          -0.3140244025508158,
          1.99263045877462,
          -0.6276486414057821,
          0.3789938174705518,
          1.5070188243170681,
          0.7550823406074365,
          0.937870487510314,
          0.6179740977304896,
          -0.1711727036675492,
          0.7186532767387795,
          0.016586564621040033,
          1.2937899772630141,
          0.3998121609770898,
          0.5361201098099101,
          0.4081839171370809,
          -1.0039072948017003,
          -0.7187219461564854,
          0.14793124212411746,
          0.43151923173980355,
          -0.04132758573310095,
          -0.13919507428639785,
          0.751972269655057,
          0.657840228668993,
          -0.7974142092388198,
          0.2986094598821704,
          0.18997429070260546,
          -1.0463877092471465,
          0.29269008999875895,
          -1.3486487926526634,
          -0.013954816767301892,
          1.8352819680528336,
          0.8067890870292005,
          0.11944534311310802,
          -0.3773845601577676,
          0.6415328968725711,
          -0.33989077177988714,
          -0.6115808119144395,
          0.6524422975315665,
          -0.15022826917679022,
          0.37803251254519643,
          1.108688210284176,
          0.05711485154504512,
          1.800927567120939,
          0.00995552361974533,
          -1.2117690390983735,
          -1.4683056624053972,
          -0.43627118890285477,
          -1.2101915064796873,
          1.117024435913245,
          1.0979084729128281,
          1.6225981632955948,
          -0.4937377532982519,
          -1.1715102384751797,
          0.34630171642370144,
          -0.7003629764268581,
          0.882261790019467,
          0.04592815081162993,
          -0.24601901815287433,
          -1.6109542660950185,
          1.7005807868956284,
          1.3735738733869605,
          -1.467225704135344,
          -1.4623684158312809,
          -0.03317192532819466,
          0.7245383514461771,
          -1.083571896053186,
          -1.3543631113176642,
          -0.5807231337465971,
          -1.803628541782693
         ],
         "xaxis": "x",
         "yaxis": "y"
        },
        {
         "line": {
          "color": "rgba(128, 128, 128, 1.0)",
          "dash": "solid",
          "shape": "linear",
          "width": 1.3
         },
         "marker": {
          "size": 2,
          "symbol": "circle"
         },
         "mode": "markers",
         "name": "A",
         "text": "",
         "type": "scatter",
         "x": [
          0.09356725012002595,
          -2.272503447707763,
          -0.24489314058025402,
          -0.13204838002542876,
          -1.3669983334798312,
          0.8820220970905887,
          -0.19464003209713382,
          0.6253289570809171,
          0.8058998187528795,
          0.00004817694992526561,
          0.05406431284969937,
          1.2764485066452573,
          -0.17761021549308906,
          0.2000708748278898,
          -0.8364841783625226,
          1.4320040803474932,
          0.35274645290369033,
          0.3921717252757823,
          0.33479140509729,
          -0.7167755827066142,
          0.9649866834349295,
          -0.5655823691179367,
          0.9203251888005415,
          0.3757553553396931,
          -0.06181632417000726,
          0.0582794723150071,
          0.5046372851243683,
          0.9826950053063352,
          0.11234726924517573,
          -0.7659210228103368,
          -1.898774637470985,
          -0.1627757375595359,
          0.5660003688225107,
          0.22726286583394806,
          -1.374771712769686,
          -0.02433626638611993,
          -0.14564087706939258,
          -1.9893842263140469,
          -0.5166177422778371,
          -0.3781477704813227,
          -1.7694734910668055,
          0.7569327260972623,
          -0.31462802835325115,
          0.7171853031881936,
          -0.22654867363962103,
          -1.0505244688194517,
          -2.972057229651945,
          -1.7518337070229988,
          0.7554067839944425,
          -0.11855028063606456,
          -2.004869681415894,
          2.9852047928075613,
          -1.6232700961848137,
          0.0918885117602792,
          -0.3650216250221669,
          0.47330135972917814,
          0.2856446855806922,
          0.7675162718116566,
          -2.1074615886549672,
          0.22391645030196236,
          1.1894071423217216,
          0.8204890077709631,
          -0.39701541753363756,
          -2.27000401953618,
          1.6600756989112195,
          -0.7124828747764169,
          0.004704780856659766,
          -0.0780500810025205,
          0.2592220871063078,
          0.732633002062385,
          1.2687314806629195,
          -1.5293730908904641,
          0.7211630628607816,
          -0.2699715134984008,
          0.7225968340598766,
          -0.9623073108340827,
          -1.0222701791456865,
          0.8686777579700856,
          -0.7846170957067229,
          1.8197684774919791,
          -2.119549410807026,
          -0.06807439952843404,
          -0.3911595768636021,
          -0.3013297371127451,
          -1.0028729911585332,
          -0.866084623867208,
          0.9987817368354001,
          1.3013655869508096,
          0.5279189607394867,
          -0.842002981778488,
          -0.018616418731183016,
          -1.7998270091420199,
          -1.4160525224237437,
          1.1875868896235755,
          -0.43313499360774566,
          2.0435147973409307,
          -0.4951788627034901,
          0.7425160720114105,
          0.31564553204195167,
          -0.20782147861460856
         ],
         "xaxis": "x2",
         "y": [
          -2.0123763624349293,
          0.9432162610541343,
          -1.6460505314746108,
          -0.11959353388472195,
          -0.09641706509181419,
          -0.06172832372360541,
          -0.20300777040952778,
          1.1614863515596152,
          0.07214341168904675,
          -1.5404779345380852,
          -0.4594837074184925,
          -0.5709294028336829,
          0.5517546812657012,
          -1.5191583347378217,
          -1.8212577605961693,
          0.5608664175791226,
          0.9233754580800292,
          -0.3349371913905272,
          1.6195155400294434,
          0.029516797046602428,
          0.48845016366522087,
          -0.9983325676167882,
          -0.5777061740801093,
          -1.1824449236276113,
          0.44342064703172834,
          -1.921085994117648,
          -1.133672211827247,
          1.3418203911542834,
          1.1377657071052936,
          -0.5205825076152426,
          0.22822348530130462,
          -0.3140244025508158,
          1.99263045877462,
          -0.6276486414057821,
          0.3789938174705518,
          1.5070188243170681,
          0.7550823406074365,
          0.937870487510314,
          0.6179740977304896,
          -0.1711727036675492,
          0.7186532767387795,
          0.016586564621040033,
          1.2937899772630141,
          0.3998121609770898,
          0.5361201098099101,
          0.4081839171370809,
          -1.0039072948017003,
          -0.7187219461564854,
          0.14793124212411746,
          0.43151923173980355,
          -0.04132758573310095,
          -0.13919507428639785,
          0.751972269655057,
          0.657840228668993,
          -0.7974142092388198,
          0.2986094598821704,
          0.18997429070260546,
          -1.0463877092471465,
          0.29269008999875895,
          -1.3486487926526634,
          -0.013954816767301892,
          1.8352819680528336,
          0.8067890870292005,
          0.11944534311310802,
          -0.3773845601577676,
          0.6415328968725711,
          -0.33989077177988714,
          -0.6115808119144395,
          0.6524422975315665,
          -0.15022826917679022,
          0.37803251254519643,
          1.108688210284176,
          0.05711485154504512,
          1.800927567120939,
          0.00995552361974533,
          -1.2117690390983735,
          -1.4683056624053972,
          -0.43627118890285477,
          -1.2101915064796873,
          1.117024435913245,
          1.0979084729128281,
          1.6225981632955948,
          -0.4937377532982519,
          -1.1715102384751797,
          0.34630171642370144,
          -0.7003629764268581,
          0.882261790019467,
          0.04592815081162993,
          -0.24601901815287433,
          -1.6109542660950185,
          1.7005807868956284,
          1.3735738733869605,
          -1.467225704135344,
          -1.4623684158312809,
          -0.03317192532819466,
          0.7245383514461771,
          -1.083571896053186,
          -1.3543631113176642,
          -0.5807231337465971,
          -1.803628541782693
         ],
         "yaxis": "y2"
        },
        {
         "line": {
          "color": "rgba(128, 128, 128, 1.0)",
          "dash": "solid",
          "shape": "linear",
          "width": 1.3
         },
         "marker": {
          "size": 2,
          "symbol": "circle"
         },
         "mode": "markers",
         "name": "A",
         "text": "",
         "type": "scatter",
         "x": [
          1.1932707705503312,
          -1.2830713344060174,
          -0.5421057784583493,
          -0.22548949625763465,
          1.1035868293195872,
          1.2343689733154326,
          -1.2888975519796173,
          1.6356832308804428,
          -0.10280278855757159,
          0.14443855572954267,
          -0.14505919333380107,
          0.8928521581362128,
          -2.0487257752546917,
          -0.8150812480766364,
          -0.2278679313582185,
          0.8042719904774537,
          -0.8316589266026926,
          -0.23489930447703766,
          -1.9251026202576198,
          0.49724446175380704,
          -0.11542877287156185,
          1.060361586475302,
          -1.4533054887329426,
          -0.46546078266518176,
          0.26454510047806473,
          -0.08955498822382015,
          -0.7123582202516967,
          1.232941146039658,
          0.19383020281141014,
          0.9172734518398263,
          -0.27228641840789064,
          0.04432855371998706,
          1.0685787585944497,
          1.8356568372357598,
          0.30351378438991217,
          1.1227818408858827,
          -0.6917050156115433,
          1.5420076520203057,
          0.8665892720525478,
          -0.3382238462163352,
          0.20805010913518773,
          -0.8941371179022142,
          -1.1372189047587862,
          0.8202994728219,
          0.6536122524674571,
          0.3363770527443678,
          -0.9122191882116745,
          -0.06970358639230846,
          -0.5012160455787827,
          0.7530456280559296,
          0.11539123772687677,
          -1.1515922838879722,
          -0.02374864766342026,
          0.4139915750707,
          0.9990819389474503,
          -0.6075271620201834,
          1.9421725879153298,
          -1.119882042610842,
          -0.533321926240813,
          -0.774881802168484,
          -1.0590504034985166,
          0.04373852002508442,
          -1.973151513789027,
          -0.6501206169959729,
          0.09634789936915328,
          -0.8671356945786458,
          -0.27825068529219255,
          -0.2100651439095593,
          -0.463127858073323,
          0.4573956079909391,
          -1.8600784608676624,
          -1.3737865350778937,
          1.1345331359991773,
          0.5900055495100253,
          -0.5377967392866819,
          -0.22388604215610647,
          -2.5252976410281764,
          -0.6256716535076815,
          0.9212814033250678,
          1.6500714789362172,
          0.17749524786996865,
          1.0713952908661881,
          -0.44518040721811347,
          -0.8303131630930717,
          0.11726701946830131,
          -0.287199444527879,
          -0.523894959700174,
          -1.1343639769724427,
          1.684493647258829,
          0.007875626970417217,
          1.620171926717964,
          -1.9095174044838772,
          1.0008270576818932,
          0.16175618836114317,
          -0.05581461069455605,
          -0.7891611070048609,
          -0.7647017905178009,
          0.3741397191831739,
          -0.10034999234240011,
          1.0955391511308905
         ],
         "xaxis": "x3",
         "y": [
          -2.0123763624349293,
          0.9432162610541343,
          -1.6460505314746108,
          -0.11959353388472195,
          -0.09641706509181419,
          -0.06172832372360541,
          -0.20300777040952778,
          1.1614863515596152,
          0.07214341168904675,
          -1.5404779345380852,
          -0.4594837074184925,
          -0.5709294028336829,
          0.5517546812657012,
          -1.5191583347378217,
          -1.8212577605961693,
          0.5608664175791226,
          0.9233754580800292,
          -0.3349371913905272,
          1.6195155400294434,
          0.029516797046602428,
          0.48845016366522087,
          -0.9983325676167882,
          -0.5777061740801093,
          -1.1824449236276113,
          0.44342064703172834,
          -1.921085994117648,
          -1.133672211827247,
          1.3418203911542834,
          1.1377657071052936,
          -0.5205825076152426,
          0.22822348530130462,
          -0.3140244025508158,
          1.99263045877462,
          -0.6276486414057821,
          0.3789938174705518,
          1.5070188243170681,
          0.7550823406074365,
          0.937870487510314,
          0.6179740977304896,
          -0.1711727036675492,
          0.7186532767387795,
          0.016586564621040033,
          1.2937899772630141,
          0.3998121609770898,
          0.5361201098099101,
          0.4081839171370809,
          -1.0039072948017003,
          -0.7187219461564854,
          0.14793124212411746,
          0.43151923173980355,
          -0.04132758573310095,
          -0.13919507428639785,
          0.751972269655057,
          0.657840228668993,
          -0.7974142092388198,
          0.2986094598821704,
          0.18997429070260546,
          -1.0463877092471465,
          0.29269008999875895,
          -1.3486487926526634,
          -0.013954816767301892,
          1.8352819680528336,
          0.8067890870292005,
          0.11944534311310802,
          -0.3773845601577676,
          0.6415328968725711,
          -0.33989077177988714,
          -0.6115808119144395,
          0.6524422975315665,
          -0.15022826917679022,
          0.37803251254519643,
          1.108688210284176,
          0.05711485154504512,
          1.800927567120939,
          0.00995552361974533,
          -1.2117690390983735,
          -1.4683056624053972,
          -0.43627118890285477,
          -1.2101915064796873,
          1.117024435913245,
          1.0979084729128281,
          1.6225981632955948,
          -0.4937377532982519,
          -1.1715102384751797,
          0.34630171642370144,
          -0.7003629764268581,
          0.882261790019467,
          0.04592815081162993,
          -0.24601901815287433,
          -1.6109542660950185,
          1.7005807868956284,
          1.3735738733869605,
          -1.467225704135344,
          -1.4623684158312809,
          -0.03317192532819466,
          0.7245383514461771,
          -1.083571896053186,
          -1.3543631113176642,
          -0.5807231337465971,
          -1.803628541782693
         ],
         "yaxis": "y3"
        },
        {
         "line": {
          "color": "rgba(128, 128, 128, 1.0)",
          "dash": "solid",
          "shape": "linear",
          "width": 1.3
         },
         "marker": {
          "size": 2,
          "symbol": "circle"
         },
         "mode": "markers",
         "name": "A",
         "text": "",
         "type": "scatter",
         "x": [
          0.6709612034006531,
          1.6051412739767819,
          1.255886324427993,
          1.5693096722448157,
          -0.9921777619510992,
          0.33042900361692834,
          -0.35293024315820565,
          0.145154017740245,
          0.3625639443048809,
          0.13138470153173828,
          -0.6558581622826103,
          0.11520421117369518,
          -0.11679268720876959,
          1.3889517989746032,
          -1.0391005535810098,
          -0.5845175392821391,
          0.5487461504977663,
          -0.41781229770080464,
          -0.33960505954981424,
          0.651952527470793,
          -0.5058215733383488,
          0.6477966846649968,
          -0.6174117094993401,
          0.6106958871780578,
          -0.1276489626652101,
          2.0013006533019824,
          -0.08526082783404636,
          0.8127805390078046,
          1.3102646492165897,
          -1.0187120584866614,
          -0.4493955993053355,
          -1.094902227133644,
          0.6910183994545328,
          1.4201888658763488,
          0.11277524787441937,
          -0.9801910443319154,
          -0.3431544095932399,
          0.1087910743622495,
          -1.1942665256276004,
          -1.1125634535874593,
          0.15865029690575685,
          -0.41785916825864355,
          -1.478783076344177,
          -1.1020775903951132,
          -0.6660186131062694,
          0.6563670922528635,
          1.3610877067777163,
          1.60895578842839,
          -0.07548283197470951,
          -0.9847244899949941,
          -0.03315927860201843,
          0.9782806556622331,
          -0.3611661536121705,
          0.5013545301672466,
          0.19558245069165,
          -0.0739731850109819,
          -0.18408307032594043,
          -0.8290661716657223,
          -0.9684032630788012,
          0.501700122934434,
          -0.30093504381348796,
          1.1386571188741,
          -1.2418818561274647,
          -0.8127758755866236,
          0.29460513518630077,
          0.9945988005774422,
          -1.0916057487469217,
          0.1627477091773396,
          1.59505185336752,
          0.605438060188423,
          -0.24667767306159596,
          -0.6782784599743095,
          0.31546459979781005,
          -1.3202543424828128,
          0.2571222779809705,
          0.9187941311988528,
          -0.19594895976208676,
          -0.6224367771134991,
          0.07307844730392578,
          -0.9175223553483014,
          -0.42721630977163716,
          -1.9421861838694054,
          0.9852453396022431,
          -0.8743421676921562,
          -1.582677877306647,
          1.8607958178529551,
          -0.5710752210734351,
          0.38272755932811814,
          -0.07811680081245571,
          -0.21531581497030394,
          0.8215257586870108,
          0.08007863426802304,
          -0.5766667615202412,
          0.8187912497724792,
          0.3533519591122077,
          0.5735347812436419,
          0.6238428467770988,
          -0.4757441223946327,
          0.5248789044170892,
          -1.5020667659839881
         ],
         "xaxis": "x4",
         "y": [
          -2.0123763624349293,
          0.9432162610541343,
          -1.6460505314746108,
          -0.11959353388472195,
          -0.09641706509181419,
          -0.06172832372360541,
          -0.20300777040952778,
          1.1614863515596152,
          0.07214341168904675,
          -1.5404779345380852,
          -0.4594837074184925,
          -0.5709294028336829,
          0.5517546812657012,
          -1.5191583347378217,
          -1.8212577605961693,
          0.5608664175791226,
          0.9233754580800292,
          -0.3349371913905272,
          1.6195155400294434,
          0.029516797046602428,
          0.48845016366522087,
          -0.9983325676167882,
          -0.5777061740801093,
          -1.1824449236276113,
          0.44342064703172834,
          -1.921085994117648,
          -1.133672211827247,
          1.3418203911542834,
          1.1377657071052936,
          -0.5205825076152426,
          0.22822348530130462,
          -0.3140244025508158,
          1.99263045877462,
          -0.6276486414057821,
          0.3789938174705518,
          1.5070188243170681,
          0.7550823406074365,
          0.937870487510314,
          0.6179740977304896,
          -0.1711727036675492,
          0.7186532767387795,
          0.016586564621040033,
          1.2937899772630141,
          0.3998121609770898,
          0.5361201098099101,
          0.4081839171370809,
          -1.0039072948017003,
          -0.7187219461564854,
          0.14793124212411746,
          0.43151923173980355,
          -0.04132758573310095,
          -0.13919507428639785,
          0.751972269655057,
          0.657840228668993,
          -0.7974142092388198,
          0.2986094598821704,
          0.18997429070260546,
          -1.0463877092471465,
          0.29269008999875895,
          -1.3486487926526634,
          -0.013954816767301892,
          1.8352819680528336,
          0.8067890870292005,
          0.11944534311310802,
          -0.3773845601577676,
          0.6415328968725711,
          -0.33989077177988714,
          -0.6115808119144395,
          0.6524422975315665,
          -0.15022826917679022,
          0.37803251254519643,
          1.108688210284176,
          0.05711485154504512,
          1.800927567120939,
          0.00995552361974533,
          -1.2117690390983735,
          -1.4683056624053972,
          -0.43627118890285477,
          -1.2101915064796873,
          1.117024435913245,
          1.0979084729128281,
          1.6225981632955948,
          -0.4937377532982519,
          -1.1715102384751797,
          0.34630171642370144,
          -0.7003629764268581,
          0.882261790019467,
          0.04592815081162993,
          -0.24601901815287433,
          -1.6109542660950185,
          1.7005807868956284,
          1.3735738733869605,
          -1.467225704135344,
          -1.4623684158312809,
          -0.03317192532819466,
          0.7245383514461771,
          -1.083571896053186,
          -1.3543631113176642,
          -0.5807231337465971,
          -1.803628541782693
         ],
         "yaxis": "y4"
        },
        {
         "line": {
          "color": "rgba(128, 128, 128, 1.0)",
          "dash": "solid",
          "shape": "linear",
          "width": 1.3
         },
         "marker": {
          "size": 2,
          "symbol": "circle"
         },
         "mode": "markers",
         "name": "B",
         "text": "",
         "type": "scatter",
         "x": [
          -2.0123763624349293,
          0.9432162610541343,
          -1.6460505314746108,
          -0.11959353388472195,
          -0.09641706509181419,
          -0.06172832372360541,
          -0.20300777040952778,
          1.1614863515596152,
          0.07214341168904675,
          -1.5404779345380852,
          -0.4594837074184925,
          -0.5709294028336829,
          0.5517546812657012,
          -1.5191583347378217,
          -1.8212577605961693,
          0.5608664175791226,
          0.9233754580800292,
          -0.3349371913905272,
          1.6195155400294434,
          0.029516797046602428,
          0.48845016366522087,
          -0.9983325676167882,
          -0.5777061740801093,
          -1.1824449236276113,
          0.44342064703172834,
          -1.921085994117648,
          -1.133672211827247,
          1.3418203911542834,
          1.1377657071052936,
          -0.5205825076152426,
          0.22822348530130462,
          -0.3140244025508158,
          1.99263045877462,
          -0.6276486414057821,
          0.3789938174705518,
          1.5070188243170681,
          0.7550823406074365,
          0.937870487510314,
          0.6179740977304896,
          -0.1711727036675492,
          0.7186532767387795,
          0.016586564621040033,
          1.2937899772630141,
          0.3998121609770898,
          0.5361201098099101,
          0.4081839171370809,
          -1.0039072948017003,
          -0.7187219461564854,
          0.14793124212411746,
          0.43151923173980355,
          -0.04132758573310095,
          -0.13919507428639785,
          0.751972269655057,
          0.657840228668993,
          -0.7974142092388198,
          0.2986094598821704,
          0.18997429070260546,
          -1.0463877092471465,
          0.29269008999875895,
          -1.3486487926526634,
          -0.013954816767301892,
          1.8352819680528336,
          0.8067890870292005,
          0.11944534311310802,
          -0.3773845601577676,
          0.6415328968725711,
          -0.33989077177988714,
          -0.6115808119144395,
          0.6524422975315665,
          -0.15022826917679022,
          0.37803251254519643,
          1.108688210284176,
          0.05711485154504512,
          1.800927567120939,
          0.00995552361974533,
          -1.2117690390983735,
          -1.4683056624053972,
          -0.43627118890285477,
          -1.2101915064796873,
          1.117024435913245,
          1.0979084729128281,
          1.6225981632955948,
          -0.4937377532982519,
          -1.1715102384751797,
          0.34630171642370144,
          -0.7003629764268581,
          0.882261790019467,
          0.04592815081162993,
          -0.24601901815287433,
          -1.6109542660950185,
          1.7005807868956284,
          1.3735738733869605,
          -1.467225704135344,
          -1.4623684158312809,
          -0.03317192532819466,
          0.7245383514461771,
          -1.083571896053186,
          -1.3543631113176642,
          -0.5807231337465971,
          -1.803628541782693
         ],
         "xaxis": "x5",
         "y": [
          0.09356725012002595,
          -2.272503447707763,
          -0.24489314058025402,
          -0.13204838002542876,
          -1.3669983334798312,
          0.8820220970905887,
          -0.19464003209713382,
          0.6253289570809171,
          0.8058998187528795,
          0.00004817694992526561,
          0.05406431284969937,
          1.2764485066452573,
          -0.17761021549308906,
          0.2000708748278898,
          -0.8364841783625226,
          1.4320040803474932,
          0.35274645290369033,
          0.3921717252757823,
          0.33479140509729,
          -0.7167755827066142,
          0.9649866834349295,
          -0.5655823691179367,
          0.9203251888005415,
          0.3757553553396931,
          -0.06181632417000726,
          0.0582794723150071,
          0.5046372851243683,
          0.9826950053063352,
          0.11234726924517573,
          -0.7659210228103368,
          -1.898774637470985,
          -0.1627757375595359,
          0.5660003688225107,
          0.22726286583394806,
          -1.374771712769686,
          -0.02433626638611993,
          -0.14564087706939258,
          -1.9893842263140469,
          -0.5166177422778371,
          -0.3781477704813227,
          -1.7694734910668055,
          0.7569327260972623,
          -0.31462802835325115,
          0.7171853031881936,
          -0.22654867363962103,
          -1.0505244688194517,
          -2.972057229651945,
          -1.7518337070229988,
          0.7554067839944425,
          -0.11855028063606456,
          -2.004869681415894,
          2.9852047928075613,
          -1.6232700961848137,
          0.0918885117602792,
          -0.3650216250221669,
          0.47330135972917814,
          0.2856446855806922,
          0.7675162718116566,
          -2.1074615886549672,
          0.22391645030196236,
          1.1894071423217216,
          0.8204890077709631,
          -0.39701541753363756,
          -2.27000401953618,
          1.6600756989112195,
          -0.7124828747764169,
          0.004704780856659766,
          -0.0780500810025205,
          0.2592220871063078,
          0.732633002062385,
          1.2687314806629195,
          -1.5293730908904641,
          0.7211630628607816,
          -0.2699715134984008,
          0.7225968340598766,
          -0.9623073108340827,
          -1.0222701791456865,
          0.8686777579700856,
          -0.7846170957067229,
          1.8197684774919791,
          -2.119549410807026,
          -0.06807439952843404,
          -0.3911595768636021,
          -0.3013297371127451,
          -1.0028729911585332,
          -0.866084623867208,
          0.9987817368354001,
          1.3013655869508096,
          0.5279189607394867,
          -0.842002981778488,
          -0.018616418731183016,
          -1.7998270091420199,
          -1.4160525224237437,
          1.1875868896235755,
          -0.43313499360774566,
          2.0435147973409307,
          -0.4951788627034901,
          0.7425160720114105,
          0.31564553204195167,
          -0.20782147861460856
         ],
         "yaxis": "y5"
        },
        {
         "histfunc": "count",
         "histnorm": "",
         "marker": {
          "color": "rgba(55, 128, 191, 1.0)",
          "line": {
           "color": "#4D5663",
           "width": 1.3
          }
         },
         "name": "B",
         "nbinsx": 10,
         "opacity": 0.8,
         "orientation": "v",
         "type": "histogram",
         "x": [
          0.09356725012002595,
          -2.272503447707763,
          -0.24489314058025402,
          -0.13204838002542876,
          -1.3669983334798312,
          0.8820220970905887,
          -0.19464003209713382,
          0.6253289570809171,
          0.8058998187528795,
          0.00004817694992526561,
          0.05406431284969937,
          1.2764485066452573,
          -0.17761021549308906,
          0.2000708748278898,
          -0.8364841783625226,
          1.4320040803474932,
          0.35274645290369033,
          0.3921717252757823,
          0.33479140509729,
          -0.7167755827066142,
          0.9649866834349295,
          -0.5655823691179367,
          0.9203251888005415,
          0.3757553553396931,
          -0.06181632417000726,
          0.0582794723150071,
          0.5046372851243683,
          0.9826950053063352,
          0.11234726924517573,
          -0.7659210228103368,
          -1.898774637470985,
          -0.1627757375595359,
          0.5660003688225107,
          0.22726286583394806,
          -1.374771712769686,
          -0.02433626638611993,
          -0.14564087706939258,
          -1.9893842263140469,
          -0.5166177422778371,
          -0.3781477704813227,
          -1.7694734910668055,
          0.7569327260972623,
          -0.31462802835325115,
          0.7171853031881936,
          -0.22654867363962103,
          -1.0505244688194517,
          -2.972057229651945,
          -1.7518337070229988,
          0.7554067839944425,
          -0.11855028063606456,
          -2.004869681415894,
          2.9852047928075613,
          -1.6232700961848137,
          0.0918885117602792,
          -0.3650216250221669,
          0.47330135972917814,
          0.2856446855806922,
          0.7675162718116566,
          -2.1074615886549672,
          0.22391645030196236,
          1.1894071423217216,
          0.8204890077709631,
          -0.39701541753363756,
          -2.27000401953618,
          1.6600756989112195,
          -0.7124828747764169,
          0.004704780856659766,
          -0.0780500810025205,
          0.2592220871063078,
          0.732633002062385,
          1.2687314806629195,
          -1.5293730908904641,
          0.7211630628607816,
          -0.2699715134984008,
          0.7225968340598766,
          -0.9623073108340827,
          -1.0222701791456865,
          0.8686777579700856,
          -0.7846170957067229,
          1.8197684774919791,
          -2.119549410807026,
          -0.06807439952843404,
          -0.3911595768636021,
          -0.3013297371127451,
          -1.0028729911585332,
          -0.866084623867208,
          0.9987817368354001,
          1.3013655869508096,
          0.5279189607394867,
          -0.842002981778488,
          -0.018616418731183016,
          -1.7998270091420199,
          -1.4160525224237437,
          1.1875868896235755,
          -0.43313499360774566,
          2.0435147973409307,
          -0.4951788627034901,
          0.7425160720114105,
          0.31564553204195167,
          -0.20782147861460856
         ],
         "xaxis": "x6",
         "yaxis": "y6"
        },
        {
         "line": {
          "color": "rgba(128, 128, 128, 1.0)",
          "dash": "solid",
          "shape": "linear",
          "width": 1.3
         },
         "marker": {
          "size": 2,
          "symbol": "circle"
         },
         "mode": "markers",
         "name": "B",
         "text": "",
         "type": "scatter",
         "x": [
          1.1932707705503312,
          -1.2830713344060174,
          -0.5421057784583493,
          -0.22548949625763465,
          1.1035868293195872,
          1.2343689733154326,
          -1.2888975519796173,
          1.6356832308804428,
          -0.10280278855757159,
          0.14443855572954267,
          -0.14505919333380107,
          0.8928521581362128,
          -2.0487257752546917,
          -0.8150812480766364,
          -0.2278679313582185,
          0.8042719904774537,
          -0.8316589266026926,
          -0.23489930447703766,
          -1.9251026202576198,
          0.49724446175380704,
          -0.11542877287156185,
          1.060361586475302,
          -1.4533054887329426,
          -0.46546078266518176,
          0.26454510047806473,
          -0.08955498822382015,
          -0.7123582202516967,
          1.232941146039658,
          0.19383020281141014,
          0.9172734518398263,
          -0.27228641840789064,
          0.04432855371998706,
          1.0685787585944497,
          1.8356568372357598,
          0.30351378438991217,
          1.1227818408858827,
          -0.6917050156115433,
          1.5420076520203057,
          0.8665892720525478,
          -0.3382238462163352,
          0.20805010913518773,
          -0.8941371179022142,
          -1.1372189047587862,
          0.8202994728219,
          0.6536122524674571,
          0.3363770527443678,
          -0.9122191882116745,
          -0.06970358639230846,
          -0.5012160455787827,
          0.7530456280559296,
          0.11539123772687677,
          -1.1515922838879722,
          -0.02374864766342026,
          0.4139915750707,
          0.9990819389474503,
          -0.6075271620201834,
          1.9421725879153298,
          -1.119882042610842,
          -0.533321926240813,
          -0.774881802168484,
          -1.0590504034985166,
          0.04373852002508442,
          -1.973151513789027,
          -0.6501206169959729,
          0.09634789936915328,
          -0.8671356945786458,
          -0.27825068529219255,
          -0.2100651439095593,
          -0.463127858073323,
          0.4573956079909391,
          -1.8600784608676624,
          -1.3737865350778937,
          1.1345331359991773,
          0.5900055495100253,
          -0.5377967392866819,
          -0.22388604215610647,
          -2.5252976410281764,
          -0.6256716535076815,
          0.9212814033250678,
          1.6500714789362172,
          0.17749524786996865,
          1.0713952908661881,
          -0.44518040721811347,
          -0.8303131630930717,
          0.11726701946830131,
          -0.287199444527879,
          -0.523894959700174,
          -1.1343639769724427,
          1.684493647258829,
          0.007875626970417217,
          1.620171926717964,
          -1.9095174044838772,
          1.0008270576818932,
          0.16175618836114317,
          -0.05581461069455605,
          -0.7891611070048609,
          -0.7647017905178009,
          0.3741397191831739,
          -0.10034999234240011,
          1.0955391511308905
         ],
         "xaxis": "x7",
         "y": [
          0.09356725012002595,
          -2.272503447707763,
          -0.24489314058025402,
          -0.13204838002542876,
          -1.3669983334798312,
          0.8820220970905887,
          -0.19464003209713382,
          0.6253289570809171,
          0.8058998187528795,
          0.00004817694992526561,
          0.05406431284969937,
          1.2764485066452573,
          -0.17761021549308906,
          0.2000708748278898,
          -0.8364841783625226,
          1.4320040803474932,
          0.35274645290369033,
          0.3921717252757823,
          0.33479140509729,
          -0.7167755827066142,
          0.9649866834349295,
          -0.5655823691179367,
          0.9203251888005415,
          0.3757553553396931,
          -0.06181632417000726,
          0.0582794723150071,
          0.5046372851243683,
          0.9826950053063352,
          0.11234726924517573,
          -0.7659210228103368,
          -1.898774637470985,
          -0.1627757375595359,
          0.5660003688225107,
          0.22726286583394806,
          -1.374771712769686,
          -0.02433626638611993,
          -0.14564087706939258,
          -1.9893842263140469,
          -0.5166177422778371,
          -0.3781477704813227,
          -1.7694734910668055,
          0.7569327260972623,
          -0.31462802835325115,
          0.7171853031881936,
          -0.22654867363962103,
          -1.0505244688194517,
          -2.972057229651945,
          -1.7518337070229988,
          0.7554067839944425,
          -0.11855028063606456,
          -2.004869681415894,
          2.9852047928075613,
          -1.6232700961848137,
          0.0918885117602792,
          -0.3650216250221669,
          0.47330135972917814,
          0.2856446855806922,
          0.7675162718116566,
          -2.1074615886549672,
          0.22391645030196236,
          1.1894071423217216,
          0.8204890077709631,
          -0.39701541753363756,
          -2.27000401953618,
          1.6600756989112195,
          -0.7124828747764169,
          0.004704780856659766,
          -0.0780500810025205,
          0.2592220871063078,
          0.732633002062385,
          1.2687314806629195,
          -1.5293730908904641,
          0.7211630628607816,
          -0.2699715134984008,
          0.7225968340598766,
          -0.9623073108340827,
          -1.0222701791456865,
          0.8686777579700856,
          -0.7846170957067229,
          1.8197684774919791,
          -2.119549410807026,
          -0.06807439952843404,
          -0.3911595768636021,
          -0.3013297371127451,
          -1.0028729911585332,
          -0.866084623867208,
          0.9987817368354001,
          1.3013655869508096,
          0.5279189607394867,
          -0.842002981778488,
          -0.018616418731183016,
          -1.7998270091420199,
          -1.4160525224237437,
          1.1875868896235755,
          -0.43313499360774566,
          2.0435147973409307,
          -0.4951788627034901,
          0.7425160720114105,
          0.31564553204195167,
          -0.20782147861460856
         ],
         "yaxis": "y7"
        },
        {
         "line": {
          "color": "rgba(128, 128, 128, 1.0)",
          "dash": "solid",
          "shape": "linear",
          "width": 1.3
         },
         "marker": {
          "size": 2,
          "symbol": "circle"
         },
         "mode": "markers",
         "name": "B",
         "text": "",
         "type": "scatter",
         "x": [
          0.6709612034006531,
          1.6051412739767819,
          1.255886324427993,
          1.5693096722448157,
          -0.9921777619510992,
          0.33042900361692834,
          -0.35293024315820565,
          0.145154017740245,
          0.3625639443048809,
          0.13138470153173828,
          -0.6558581622826103,
          0.11520421117369518,
          -0.11679268720876959,
          1.3889517989746032,
          -1.0391005535810098,
          -0.5845175392821391,
          0.5487461504977663,
          -0.41781229770080464,
          -0.33960505954981424,
          0.651952527470793,
          -0.5058215733383488,
          0.6477966846649968,
          -0.6174117094993401,
          0.6106958871780578,
          -0.1276489626652101,
          2.0013006533019824,
          -0.08526082783404636,
          0.8127805390078046,
          1.3102646492165897,
          -1.0187120584866614,
          -0.4493955993053355,
          -1.094902227133644,
          0.6910183994545328,
          1.4201888658763488,
          0.11277524787441937,
          -0.9801910443319154,
          -0.3431544095932399,
          0.1087910743622495,
          -1.1942665256276004,
          -1.1125634535874593,
          0.15865029690575685,
          -0.41785916825864355,
          -1.478783076344177,
          -1.1020775903951132,
          -0.6660186131062694,
          0.6563670922528635,
          1.3610877067777163,
          1.60895578842839,
          -0.07548283197470951,
          -0.9847244899949941,
          -0.03315927860201843,
          0.9782806556622331,
          -0.3611661536121705,
          0.5013545301672466,
          0.19558245069165,
          -0.0739731850109819,
          -0.18408307032594043,
          -0.8290661716657223,
          -0.9684032630788012,
          0.501700122934434,
          -0.30093504381348796,
          1.1386571188741,
          -1.2418818561274647,
          -0.8127758755866236,
          0.29460513518630077,
          0.9945988005774422,
          -1.0916057487469217,
          0.1627477091773396,
          1.59505185336752,
          0.605438060188423,
          -0.24667767306159596,
          -0.6782784599743095,
          0.31546459979781005,
          -1.3202543424828128,
          0.2571222779809705,
          0.9187941311988528,
          -0.19594895976208676,
          -0.6224367771134991,
          0.07307844730392578,
          -0.9175223553483014,
          -0.42721630977163716,
          -1.9421861838694054,
          0.9852453396022431,
          -0.8743421676921562,
          -1.582677877306647,
          1.8607958178529551,
          -0.5710752210734351,
          0.38272755932811814,
          -0.07811680081245571,
          -0.21531581497030394,
          0.8215257586870108,
          0.08007863426802304,
          -0.5766667615202412,
          0.8187912497724792,
          0.3533519591122077,
          0.5735347812436419,
          0.6238428467770988,
          -0.4757441223946327,
          0.5248789044170892,
          -1.5020667659839881
         ],
         "xaxis": "x8",
         "y": [
          0.09356725012002595,
          -2.272503447707763,
          -0.24489314058025402,
          -0.13204838002542876,
          -1.3669983334798312,
          0.8820220970905887,
          -0.19464003209713382,
          0.6253289570809171,
          0.8058998187528795,
          0.00004817694992526561,
          0.05406431284969937,
          1.2764485066452573,
          -0.17761021549308906,
          0.2000708748278898,
          -0.8364841783625226,
          1.4320040803474932,
          0.35274645290369033,
          0.3921717252757823,
          0.33479140509729,
          -0.7167755827066142,
          0.9649866834349295,
          -0.5655823691179367,
          0.9203251888005415,
          0.3757553553396931,
          -0.06181632417000726,
          0.0582794723150071,
          0.5046372851243683,
          0.9826950053063352,
          0.11234726924517573,
          -0.7659210228103368,
          -1.898774637470985,
          -0.1627757375595359,
          0.5660003688225107,
          0.22726286583394806,
          -1.374771712769686,
          -0.02433626638611993,
          -0.14564087706939258,
          -1.9893842263140469,
          -0.5166177422778371,
          -0.3781477704813227,
          -1.7694734910668055,
          0.7569327260972623,
          -0.31462802835325115,
          0.7171853031881936,
          -0.22654867363962103,
          -1.0505244688194517,
          -2.972057229651945,
          -1.7518337070229988,
          0.7554067839944425,
          -0.11855028063606456,
          -2.004869681415894,
          2.9852047928075613,
          -1.6232700961848137,
          0.0918885117602792,
          -0.3650216250221669,
          0.47330135972917814,
          0.2856446855806922,
          0.7675162718116566,
          -2.1074615886549672,
          0.22391645030196236,
          1.1894071423217216,
          0.8204890077709631,
          -0.39701541753363756,
          -2.27000401953618,
          1.6600756989112195,
          -0.7124828747764169,
          0.004704780856659766,
          -0.0780500810025205,
          0.2592220871063078,
          0.732633002062385,
          1.2687314806629195,
          -1.5293730908904641,
          0.7211630628607816,
          -0.2699715134984008,
          0.7225968340598766,
          -0.9623073108340827,
          -1.0222701791456865,
          0.8686777579700856,
          -0.7846170957067229,
          1.8197684774919791,
          -2.119549410807026,
          -0.06807439952843404,
          -0.3911595768636021,
          -0.3013297371127451,
          -1.0028729911585332,
          -0.866084623867208,
          0.9987817368354001,
          1.3013655869508096,
          0.5279189607394867,
          -0.842002981778488,
          -0.018616418731183016,
          -1.7998270091420199,
          -1.4160525224237437,
          1.1875868896235755,
          -0.43313499360774566,
          2.0435147973409307,
          -0.4951788627034901,
          0.7425160720114105,
          0.31564553204195167,
          -0.20782147861460856
         ],
         "yaxis": "y8"
        },
        {
         "line": {
          "color": "rgba(128, 128, 128, 1.0)",
          "dash": "solid",
          "shape": "linear",
          "width": 1.3
         },
         "marker": {
          "size": 2,
          "symbol": "circle"
         },
         "mode": "markers",
         "name": "C",
         "text": "",
         "type": "scatter",
         "x": [
          -2.0123763624349293,
          0.9432162610541343,
          -1.6460505314746108,
          -0.11959353388472195,
          -0.09641706509181419,
          -0.06172832372360541,
          -0.20300777040952778,
          1.1614863515596152,
          0.07214341168904675,
          -1.5404779345380852,
          -0.4594837074184925,
          -0.5709294028336829,
          0.5517546812657012,
          -1.5191583347378217,
          -1.8212577605961693,
          0.5608664175791226,
          0.9233754580800292,
          -0.3349371913905272,
          1.6195155400294434,
          0.029516797046602428,
          0.48845016366522087,
          -0.9983325676167882,
          -0.5777061740801093,
          -1.1824449236276113,
          0.44342064703172834,
          -1.921085994117648,
          -1.133672211827247,
          1.3418203911542834,
          1.1377657071052936,
          -0.5205825076152426,
          0.22822348530130462,
          -0.3140244025508158,
          1.99263045877462,
          -0.6276486414057821,
          0.3789938174705518,
          1.5070188243170681,
          0.7550823406074365,
          0.937870487510314,
          0.6179740977304896,
          -0.1711727036675492,
          0.7186532767387795,
          0.016586564621040033,
          1.2937899772630141,
          0.3998121609770898,
          0.5361201098099101,
          0.4081839171370809,
          -1.0039072948017003,
          -0.7187219461564854,
          0.14793124212411746,
          0.43151923173980355,
          -0.04132758573310095,
          -0.13919507428639785,
          0.751972269655057,
          0.657840228668993,
          -0.7974142092388198,
          0.2986094598821704,
          0.18997429070260546,
          -1.0463877092471465,
          0.29269008999875895,
          -1.3486487926526634,
          -0.013954816767301892,
          1.8352819680528336,
          0.8067890870292005,
          0.11944534311310802,
          -0.3773845601577676,
          0.6415328968725711,
          -0.33989077177988714,
          -0.6115808119144395,
          0.6524422975315665,
          -0.15022826917679022,
          0.37803251254519643,
          1.108688210284176,
          0.05711485154504512,
          1.800927567120939,
          0.00995552361974533,
          -1.2117690390983735,
          -1.4683056624053972,
          -0.43627118890285477,
          -1.2101915064796873,
          1.117024435913245,
          1.0979084729128281,
          1.6225981632955948,
          -0.4937377532982519,
          -1.1715102384751797,
          0.34630171642370144,
          -0.7003629764268581,
          0.882261790019467,
          0.04592815081162993,
          -0.24601901815287433,
          -1.6109542660950185,
          1.7005807868956284,
          1.3735738733869605,
          -1.467225704135344,
          -1.4623684158312809,
          -0.03317192532819466,
          0.7245383514461771,
          -1.083571896053186,
          -1.3543631113176642,
          -0.5807231337465971,
          -1.803628541782693
         ],
         "xaxis": "x9",
         "y": [
          1.1932707705503312,
          -1.2830713344060174,
          -0.5421057784583493,
          -0.22548949625763465,
          1.1035868293195872,
          1.2343689733154326,
          -1.2888975519796173,
          1.6356832308804428,
          -0.10280278855757159,
          0.14443855572954267,
          -0.14505919333380107,
          0.8928521581362128,
          -2.0487257752546917,
          -0.8150812480766364,
          -0.2278679313582185,
          0.8042719904774537,
          -0.8316589266026926,
          -0.23489930447703766,
          -1.9251026202576198,
          0.49724446175380704,
          -0.11542877287156185,
          1.060361586475302,
          -1.4533054887329426,
          -0.46546078266518176,
          0.26454510047806473,
          -0.08955498822382015,
          -0.7123582202516967,
          1.232941146039658,
          0.19383020281141014,
          0.9172734518398263,
          -0.27228641840789064,
          0.04432855371998706,
          1.0685787585944497,
          1.8356568372357598,
          0.30351378438991217,
          1.1227818408858827,
          -0.6917050156115433,
          1.5420076520203057,
          0.8665892720525478,
          -0.3382238462163352,
          0.20805010913518773,
          -0.8941371179022142,
          -1.1372189047587862,
          0.8202994728219,
          0.6536122524674571,
          0.3363770527443678,
          -0.9122191882116745,
          -0.06970358639230846,
          -0.5012160455787827,
          0.7530456280559296,
          0.11539123772687677,
          -1.1515922838879722,
          -0.02374864766342026,
          0.4139915750707,
          0.9990819389474503,
          -0.6075271620201834,
          1.9421725879153298,
          -1.119882042610842,
          -0.533321926240813,
          -0.774881802168484,
          -1.0590504034985166,
          0.04373852002508442,
          -1.973151513789027,
          -0.6501206169959729,
          0.09634789936915328,
          -0.8671356945786458,
          -0.27825068529219255,
          -0.2100651439095593,
          -0.463127858073323,
          0.4573956079909391,
          -1.8600784608676624,
          -1.3737865350778937,
          1.1345331359991773,
          0.5900055495100253,
          -0.5377967392866819,
          -0.22388604215610647,
          -2.5252976410281764,
          -0.6256716535076815,
          0.9212814033250678,
          1.6500714789362172,
          0.17749524786996865,
          1.0713952908661881,
          -0.44518040721811347,
          -0.8303131630930717,
          0.11726701946830131,
          -0.287199444527879,
          -0.523894959700174,
          -1.1343639769724427,
          1.684493647258829,
          0.007875626970417217,
          1.620171926717964,
          -1.9095174044838772,
          1.0008270576818932,
          0.16175618836114317,
          -0.05581461069455605,
          -0.7891611070048609,
          -0.7647017905178009,
          0.3741397191831739,
          -0.10034999234240011,
          1.0955391511308905
         ],
         "yaxis": "y9"
        },
        {
         "line": {
          "color": "rgba(128, 128, 128, 1.0)",
          "dash": "solid",
          "shape": "linear",
          "width": 1.3
         },
         "marker": {
          "size": 2,
          "symbol": "circle"
         },
         "mode": "markers",
         "name": "C",
         "text": "",
         "type": "scatter",
         "x": [
          0.09356725012002595,
          -2.272503447707763,
          -0.24489314058025402,
          -0.13204838002542876,
          -1.3669983334798312,
          0.8820220970905887,
          -0.19464003209713382,
          0.6253289570809171,
          0.8058998187528795,
          0.00004817694992526561,
          0.05406431284969937,
          1.2764485066452573,
          -0.17761021549308906,
          0.2000708748278898,
          -0.8364841783625226,
          1.4320040803474932,
          0.35274645290369033,
          0.3921717252757823,
          0.33479140509729,
          -0.7167755827066142,
          0.9649866834349295,
          -0.5655823691179367,
          0.9203251888005415,
          0.3757553553396931,
          -0.06181632417000726,
          0.0582794723150071,
          0.5046372851243683,
          0.9826950053063352,
          0.11234726924517573,
          -0.7659210228103368,
          -1.898774637470985,
          -0.1627757375595359,
          0.5660003688225107,
          0.22726286583394806,
          -1.374771712769686,
          -0.02433626638611993,
          -0.14564087706939258,
          -1.9893842263140469,
          -0.5166177422778371,
          -0.3781477704813227,
          -1.7694734910668055,
          0.7569327260972623,
          -0.31462802835325115,
          0.7171853031881936,
          -0.22654867363962103,
          -1.0505244688194517,
          -2.972057229651945,
          -1.7518337070229988,
          0.7554067839944425,
          -0.11855028063606456,
          -2.004869681415894,
          2.9852047928075613,
          -1.6232700961848137,
          0.0918885117602792,
          -0.3650216250221669,
          0.47330135972917814,
          0.2856446855806922,
          0.7675162718116566,
          -2.1074615886549672,
          0.22391645030196236,
          1.1894071423217216,
          0.8204890077709631,
          -0.39701541753363756,
          -2.27000401953618,
          1.6600756989112195,
          -0.7124828747764169,
          0.004704780856659766,
          -0.0780500810025205,
          0.2592220871063078,
          0.732633002062385,
          1.2687314806629195,
          -1.5293730908904641,
          0.7211630628607816,
          -0.2699715134984008,
          0.7225968340598766,
          -0.9623073108340827,
          -1.0222701791456865,
          0.8686777579700856,
          -0.7846170957067229,
          1.8197684774919791,
          -2.119549410807026,
          -0.06807439952843404,
          -0.3911595768636021,
          -0.3013297371127451,
          -1.0028729911585332,
          -0.866084623867208,
          0.9987817368354001,
          1.3013655869508096,
          0.5279189607394867,
          -0.842002981778488,
          -0.018616418731183016,
          -1.7998270091420199,
          -1.4160525224237437,
          1.1875868896235755,
          -0.43313499360774566,
          2.0435147973409307,
          -0.4951788627034901,
          0.7425160720114105,
          0.31564553204195167,
          -0.20782147861460856
         ],
         "xaxis": "x10",
         "y": [
          1.1932707705503312,
          -1.2830713344060174,
          -0.5421057784583493,
          -0.22548949625763465,
          1.1035868293195872,
          1.2343689733154326,
          -1.2888975519796173,
          1.6356832308804428,
          -0.10280278855757159,
          0.14443855572954267,
          -0.14505919333380107,
          0.8928521581362128,
          -2.0487257752546917,
          -0.8150812480766364,
          -0.2278679313582185,
          0.8042719904774537,
          -0.8316589266026926,
          -0.23489930447703766,
          -1.9251026202576198,
          0.49724446175380704,
          -0.11542877287156185,
          1.060361586475302,
          -1.4533054887329426,
          -0.46546078266518176,
          0.26454510047806473,
          -0.08955498822382015,
          -0.7123582202516967,
          1.232941146039658,
          0.19383020281141014,
          0.9172734518398263,
          -0.27228641840789064,
          0.04432855371998706,
          1.0685787585944497,
          1.8356568372357598,
          0.30351378438991217,
          1.1227818408858827,
          -0.6917050156115433,
          1.5420076520203057,
          0.8665892720525478,
          -0.3382238462163352,
          0.20805010913518773,
          -0.8941371179022142,
          -1.1372189047587862,
          0.8202994728219,
          0.6536122524674571,
          0.3363770527443678,
          -0.9122191882116745,
          -0.06970358639230846,
          -0.5012160455787827,
          0.7530456280559296,
          0.11539123772687677,
          -1.1515922838879722,
          -0.02374864766342026,
          0.4139915750707,
          0.9990819389474503,
          -0.6075271620201834,
          1.9421725879153298,
          -1.119882042610842,
          -0.533321926240813,
          -0.774881802168484,
          -1.0590504034985166,
          0.04373852002508442,
          -1.973151513789027,
          -0.6501206169959729,
          0.09634789936915328,
          -0.8671356945786458,
          -0.27825068529219255,
          -0.2100651439095593,
          -0.463127858073323,
          0.4573956079909391,
          -1.8600784608676624,
          -1.3737865350778937,
          1.1345331359991773,
          0.5900055495100253,
          -0.5377967392866819,
          -0.22388604215610647,
          -2.5252976410281764,
          -0.6256716535076815,
          0.9212814033250678,
          1.6500714789362172,
          0.17749524786996865,
          1.0713952908661881,
          -0.44518040721811347,
          -0.8303131630930717,
          0.11726701946830131,
          -0.287199444527879,
          -0.523894959700174,
          -1.1343639769724427,
          1.684493647258829,
          0.007875626970417217,
          1.620171926717964,
          -1.9095174044838772,
          1.0008270576818932,
          0.16175618836114317,
          -0.05581461069455605,
          -0.7891611070048609,
          -0.7647017905178009,
          0.3741397191831739,
          -0.10034999234240011,
          1.0955391511308905
         ],
         "yaxis": "y10"
        },
        {
         "histfunc": "count",
         "histnorm": "",
         "marker": {
          "color": "rgba(50, 171, 96, 1.0)",
          "line": {
           "color": "#4D5663",
           "width": 1.3
          }
         },
         "name": "C",
         "nbinsx": 10,
         "opacity": 0.8,
         "orientation": "v",
         "type": "histogram",
         "x": [
          1.1932707705503312,
          -1.2830713344060174,
          -0.5421057784583493,
          -0.22548949625763465,
          1.1035868293195872,
          1.2343689733154326,
          -1.2888975519796173,
          1.6356832308804428,
          -0.10280278855757159,
          0.14443855572954267,
          -0.14505919333380107,
          0.8928521581362128,
          -2.0487257752546917,
          -0.8150812480766364,
          -0.2278679313582185,
          0.8042719904774537,
          -0.8316589266026926,
          -0.23489930447703766,
          -1.9251026202576198,
          0.49724446175380704,
          -0.11542877287156185,
          1.060361586475302,
          -1.4533054887329426,
          -0.46546078266518176,
          0.26454510047806473,
          -0.08955498822382015,
          -0.7123582202516967,
          1.232941146039658,
          0.19383020281141014,
          0.9172734518398263,
          -0.27228641840789064,
          0.04432855371998706,
          1.0685787585944497,
          1.8356568372357598,
          0.30351378438991217,
          1.1227818408858827,
          -0.6917050156115433,
          1.5420076520203057,
          0.8665892720525478,
          -0.3382238462163352,
          0.20805010913518773,
          -0.8941371179022142,
          -1.1372189047587862,
          0.8202994728219,
          0.6536122524674571,
          0.3363770527443678,
          -0.9122191882116745,
          -0.06970358639230846,
          -0.5012160455787827,
          0.7530456280559296,
          0.11539123772687677,
          -1.1515922838879722,
          -0.02374864766342026,
          0.4139915750707,
          0.9990819389474503,
          -0.6075271620201834,
          1.9421725879153298,
          -1.119882042610842,
          -0.533321926240813,
          -0.774881802168484,
          -1.0590504034985166,
          0.04373852002508442,
          -1.973151513789027,
          -0.6501206169959729,
          0.09634789936915328,
          -0.8671356945786458,
          -0.27825068529219255,
          -0.2100651439095593,
          -0.463127858073323,
          0.4573956079909391,
          -1.8600784608676624,
          -1.3737865350778937,
          1.1345331359991773,
          0.5900055495100253,
          -0.5377967392866819,
          -0.22388604215610647,
          -2.5252976410281764,
          -0.6256716535076815,
          0.9212814033250678,
          1.6500714789362172,
          0.17749524786996865,
          1.0713952908661881,
          -0.44518040721811347,
          -0.8303131630930717,
          0.11726701946830131,
          -0.287199444527879,
          -0.523894959700174,
          -1.1343639769724427,
          1.684493647258829,
          0.007875626970417217,
          1.620171926717964,
          -1.9095174044838772,
          1.0008270576818932,
          0.16175618836114317,
          -0.05581461069455605,
          -0.7891611070048609,
          -0.7647017905178009,
          0.3741397191831739,
          -0.10034999234240011,
          1.0955391511308905
         ],
         "xaxis": "x11",
         "yaxis": "y11"
        },
        {
         "line": {
          "color": "rgba(128, 128, 128, 1.0)",
          "dash": "solid",
          "shape": "linear",
          "width": 1.3
         },
         "marker": {
          "size": 2,
          "symbol": "circle"
         },
         "mode": "markers",
         "name": "C",
         "text": "",
         "type": "scatter",
         "x": [
          0.6709612034006531,
          1.6051412739767819,
          1.255886324427993,
          1.5693096722448157,
          -0.9921777619510992,
          0.33042900361692834,
          -0.35293024315820565,
          0.145154017740245,
          0.3625639443048809,
          0.13138470153173828,
          -0.6558581622826103,
          0.11520421117369518,
          -0.11679268720876959,
          1.3889517989746032,
          -1.0391005535810098,
          -0.5845175392821391,
          0.5487461504977663,
          -0.41781229770080464,
          -0.33960505954981424,
          0.651952527470793,
          -0.5058215733383488,
          0.6477966846649968,
          -0.6174117094993401,
          0.6106958871780578,
          -0.1276489626652101,
          2.0013006533019824,
          -0.08526082783404636,
          0.8127805390078046,
          1.3102646492165897,
          -1.0187120584866614,
          -0.4493955993053355,
          -1.094902227133644,
          0.6910183994545328,
          1.4201888658763488,
          0.11277524787441937,
          -0.9801910443319154,
          -0.3431544095932399,
          0.1087910743622495,
          -1.1942665256276004,
          -1.1125634535874593,
          0.15865029690575685,
          -0.41785916825864355,
          -1.478783076344177,
          -1.1020775903951132,
          -0.6660186131062694,
          0.6563670922528635,
          1.3610877067777163,
          1.60895578842839,
          -0.07548283197470951,
          -0.9847244899949941,
          -0.03315927860201843,
          0.9782806556622331,
          -0.3611661536121705,
          0.5013545301672466,
          0.19558245069165,
          -0.0739731850109819,
          -0.18408307032594043,
          -0.8290661716657223,
          -0.9684032630788012,
          0.501700122934434,
          -0.30093504381348796,
          1.1386571188741,
          -1.2418818561274647,
          -0.8127758755866236,
          0.29460513518630077,
          0.9945988005774422,
          -1.0916057487469217,
          0.1627477091773396,
          1.59505185336752,
          0.605438060188423,
          -0.24667767306159596,
          -0.6782784599743095,
          0.31546459979781005,
          -1.3202543424828128,
          0.2571222779809705,
          0.9187941311988528,
          -0.19594895976208676,
          -0.6224367771134991,
          0.07307844730392578,
          -0.9175223553483014,
          -0.42721630977163716,
          -1.9421861838694054,
          0.9852453396022431,
          -0.8743421676921562,
          -1.582677877306647,
          1.8607958178529551,
          -0.5710752210734351,
          0.38272755932811814,
          -0.07811680081245571,
          -0.21531581497030394,
          0.8215257586870108,
          0.08007863426802304,
          -0.5766667615202412,
          0.8187912497724792,
          0.3533519591122077,
          0.5735347812436419,
          0.6238428467770988,
          -0.4757441223946327,
          0.5248789044170892,
          -1.5020667659839881
         ],
         "xaxis": "x12",
         "y": [
          1.1932707705503312,
          -1.2830713344060174,
          -0.5421057784583493,
          -0.22548949625763465,
          1.1035868293195872,
          1.2343689733154326,
          -1.2888975519796173,
          1.6356832308804428,
          -0.10280278855757159,
          0.14443855572954267,
          -0.14505919333380107,
          0.8928521581362128,
          -2.0487257752546917,
          -0.8150812480766364,
          -0.2278679313582185,
          0.8042719904774537,
          -0.8316589266026926,
          -0.23489930447703766,
          -1.9251026202576198,
          0.49724446175380704,
          -0.11542877287156185,
          1.060361586475302,
          -1.4533054887329426,
          -0.46546078266518176,
          0.26454510047806473,
          -0.08955498822382015,
          -0.7123582202516967,
          1.232941146039658,
          0.19383020281141014,
          0.9172734518398263,
          -0.27228641840789064,
          0.04432855371998706,
          1.0685787585944497,
          1.8356568372357598,
          0.30351378438991217,
          1.1227818408858827,
          -0.6917050156115433,
          1.5420076520203057,
          0.8665892720525478,
          -0.3382238462163352,
          0.20805010913518773,
          -0.8941371179022142,
          -1.1372189047587862,
          0.8202994728219,
          0.6536122524674571,
          0.3363770527443678,
          -0.9122191882116745,
          -0.06970358639230846,
          -0.5012160455787827,
          0.7530456280559296,
          0.11539123772687677,
          -1.1515922838879722,
          -0.02374864766342026,
          0.4139915750707,
          0.9990819389474503,
          -0.6075271620201834,
          1.9421725879153298,
          -1.119882042610842,
          -0.533321926240813,
          -0.774881802168484,
          -1.0590504034985166,
          0.04373852002508442,
          -1.973151513789027,
          -0.6501206169959729,
          0.09634789936915328,
          -0.8671356945786458,
          -0.27825068529219255,
          -0.2100651439095593,
          -0.463127858073323,
          0.4573956079909391,
          -1.8600784608676624,
          -1.3737865350778937,
          1.1345331359991773,
          0.5900055495100253,
          -0.5377967392866819,
          -0.22388604215610647,
          -2.5252976410281764,
          -0.6256716535076815,
          0.9212814033250678,
          1.6500714789362172,
          0.17749524786996865,
          1.0713952908661881,
          -0.44518040721811347,
          -0.8303131630930717,
          0.11726701946830131,
          -0.287199444527879,
          -0.523894959700174,
          -1.1343639769724427,
          1.684493647258829,
          0.007875626970417217,
          1.620171926717964,
          -1.9095174044838772,
          1.0008270576818932,
          0.16175618836114317,
          -0.05581461069455605,
          -0.7891611070048609,
          -0.7647017905178009,
          0.3741397191831739,
          -0.10034999234240011,
          1.0955391511308905
         ],
         "yaxis": "y12"
        },
        {
         "line": {
          "color": "rgba(128, 128, 128, 1.0)",
          "dash": "solid",
          "shape": "linear",
          "width": 1.3
         },
         "marker": {
          "size": 2,
          "symbol": "circle"
         },
         "mode": "markers",
         "name": "D",
         "text": "",
         "type": "scatter",
         "x": [
          -2.0123763624349293,
          0.9432162610541343,
          -1.6460505314746108,
          -0.11959353388472195,
          -0.09641706509181419,
          -0.06172832372360541,
          -0.20300777040952778,
          1.1614863515596152,
          0.07214341168904675,
          -1.5404779345380852,
          -0.4594837074184925,
          -0.5709294028336829,
          0.5517546812657012,
          -1.5191583347378217,
          -1.8212577605961693,
          0.5608664175791226,
          0.9233754580800292,
          -0.3349371913905272,
          1.6195155400294434,
          0.029516797046602428,
          0.48845016366522087,
          -0.9983325676167882,
          -0.5777061740801093,
          -1.1824449236276113,
          0.44342064703172834,
          -1.921085994117648,
          -1.133672211827247,
          1.3418203911542834,
          1.1377657071052936,
          -0.5205825076152426,
          0.22822348530130462,
          -0.3140244025508158,
          1.99263045877462,
          -0.6276486414057821,
          0.3789938174705518,
          1.5070188243170681,
          0.7550823406074365,
          0.937870487510314,
          0.6179740977304896,
          -0.1711727036675492,
          0.7186532767387795,
          0.016586564621040033,
          1.2937899772630141,
          0.3998121609770898,
          0.5361201098099101,
          0.4081839171370809,
          -1.0039072948017003,
          -0.7187219461564854,
          0.14793124212411746,
          0.43151923173980355,
          -0.04132758573310095,
          -0.13919507428639785,
          0.751972269655057,
          0.657840228668993,
          -0.7974142092388198,
          0.2986094598821704,
          0.18997429070260546,
          -1.0463877092471465,
          0.29269008999875895,
          -1.3486487926526634,
          -0.013954816767301892,
          1.8352819680528336,
          0.8067890870292005,
          0.11944534311310802,
          -0.3773845601577676,
          0.6415328968725711,
          -0.33989077177988714,
          -0.6115808119144395,
          0.6524422975315665,
          -0.15022826917679022,
          0.37803251254519643,
          1.108688210284176,
          0.05711485154504512,
          1.800927567120939,
          0.00995552361974533,
          -1.2117690390983735,
          -1.4683056624053972,
          -0.43627118890285477,
          -1.2101915064796873,
          1.117024435913245,
          1.0979084729128281,
          1.6225981632955948,
          -0.4937377532982519,
          -1.1715102384751797,
          0.34630171642370144,
          -0.7003629764268581,
          0.882261790019467,
          0.04592815081162993,
          -0.24601901815287433,
          -1.6109542660950185,
          1.7005807868956284,
          1.3735738733869605,
          -1.467225704135344,
          -1.4623684158312809,
          -0.03317192532819466,
          0.7245383514461771,
          -1.083571896053186,
          -1.3543631113176642,
          -0.5807231337465971,
          -1.803628541782693
         ],
         "xaxis": "x13",
         "y": [
          0.6709612034006531,
          1.6051412739767819,
          1.255886324427993,
          1.5693096722448157,
          -0.9921777619510992,
          0.33042900361692834,
          -0.35293024315820565,
          0.145154017740245,
          0.3625639443048809,
          0.13138470153173828,
          -0.6558581622826103,
          0.11520421117369518,
          -0.11679268720876959,
          1.3889517989746032,
          -1.0391005535810098,
          -0.5845175392821391,
          0.5487461504977663,
          -0.41781229770080464,
          -0.33960505954981424,
          0.651952527470793,
          -0.5058215733383488,
          0.6477966846649968,
          -0.6174117094993401,
          0.6106958871780578,
          -0.1276489626652101,
          2.0013006533019824,
          -0.08526082783404636,
          0.8127805390078046,
          1.3102646492165897,
          -1.0187120584866614,
          -0.4493955993053355,
          -1.094902227133644,
          0.6910183994545328,
          1.4201888658763488,
          0.11277524787441937,
          -0.9801910443319154,
          -0.3431544095932399,
          0.1087910743622495,
          -1.1942665256276004,
          -1.1125634535874593,
          0.15865029690575685,
          -0.41785916825864355,
          -1.478783076344177,
          -1.1020775903951132,
          -0.6660186131062694,
          0.6563670922528635,
          1.3610877067777163,
          1.60895578842839,
          -0.07548283197470951,
          -0.9847244899949941,
          -0.03315927860201843,
          0.9782806556622331,
          -0.3611661536121705,
          0.5013545301672466,
          0.19558245069165,
          -0.0739731850109819,
          -0.18408307032594043,
          -0.8290661716657223,
          -0.9684032630788012,
          0.501700122934434,
          -0.30093504381348796,
          1.1386571188741,
          -1.2418818561274647,
          -0.8127758755866236,
          0.29460513518630077,
          0.9945988005774422,
          -1.0916057487469217,
          0.1627477091773396,
          1.59505185336752,
          0.605438060188423,
          -0.24667767306159596,
          -0.6782784599743095,
          0.31546459979781005,
          -1.3202543424828128,
          0.2571222779809705,
          0.9187941311988528,
          -0.19594895976208676,
          -0.6224367771134991,
          0.07307844730392578,
          -0.9175223553483014,
          -0.42721630977163716,
          -1.9421861838694054,
          0.9852453396022431,
          -0.8743421676921562,
          -1.582677877306647,
          1.8607958178529551,
          -0.5710752210734351,
          0.38272755932811814,
          -0.07811680081245571,
          -0.21531581497030394,
          0.8215257586870108,
          0.08007863426802304,
          -0.5766667615202412,
          0.8187912497724792,
          0.3533519591122077,
          0.5735347812436419,
          0.6238428467770988,
          -0.4757441223946327,
          0.5248789044170892,
          -1.5020667659839881
         ],
         "yaxis": "y13"
        },
        {
         "line": {
          "color": "rgba(128, 128, 128, 1.0)",
          "dash": "solid",
          "shape": "linear",
          "width": 1.3
         },
         "marker": {
          "size": 2,
          "symbol": "circle"
         },
         "mode": "markers",
         "name": "D",
         "text": "",
         "type": "scatter",
         "x": [
          0.09356725012002595,
          -2.272503447707763,
          -0.24489314058025402,
          -0.13204838002542876,
          -1.3669983334798312,
          0.8820220970905887,
          -0.19464003209713382,
          0.6253289570809171,
          0.8058998187528795,
          0.00004817694992526561,
          0.05406431284969937,
          1.2764485066452573,
          -0.17761021549308906,
          0.2000708748278898,
          -0.8364841783625226,
          1.4320040803474932,
          0.35274645290369033,
          0.3921717252757823,
          0.33479140509729,
          -0.7167755827066142,
          0.9649866834349295,
          -0.5655823691179367,
          0.9203251888005415,
          0.3757553553396931,
          -0.06181632417000726,
          0.0582794723150071,
          0.5046372851243683,
          0.9826950053063352,
          0.11234726924517573,
          -0.7659210228103368,
          -1.898774637470985,
          -0.1627757375595359,
          0.5660003688225107,
          0.22726286583394806,
          -1.374771712769686,
          -0.02433626638611993,
          -0.14564087706939258,
          -1.9893842263140469,
          -0.5166177422778371,
          -0.3781477704813227,
          -1.7694734910668055,
          0.7569327260972623,
          -0.31462802835325115,
          0.7171853031881936,
          -0.22654867363962103,
          -1.0505244688194517,
          -2.972057229651945,
          -1.7518337070229988,
          0.7554067839944425,
          -0.11855028063606456,
          -2.004869681415894,
          2.9852047928075613,
          -1.6232700961848137,
          0.0918885117602792,
          -0.3650216250221669,
          0.47330135972917814,
          0.2856446855806922,
          0.7675162718116566,
          -2.1074615886549672,
          0.22391645030196236,
          1.1894071423217216,
          0.8204890077709631,
          -0.39701541753363756,
          -2.27000401953618,
          1.6600756989112195,
          -0.7124828747764169,
          0.004704780856659766,
          -0.0780500810025205,
          0.2592220871063078,
          0.732633002062385,
          1.2687314806629195,
          -1.5293730908904641,
          0.7211630628607816,
          -0.2699715134984008,
          0.7225968340598766,
          -0.9623073108340827,
          -1.0222701791456865,
          0.8686777579700856,
          -0.7846170957067229,
          1.8197684774919791,
          -2.119549410807026,
          -0.06807439952843404,
          -0.3911595768636021,
          -0.3013297371127451,
          -1.0028729911585332,
          -0.866084623867208,
          0.9987817368354001,
          1.3013655869508096,
          0.5279189607394867,
          -0.842002981778488,
          -0.018616418731183016,
          -1.7998270091420199,
          -1.4160525224237437,
          1.1875868896235755,
          -0.43313499360774566,
          2.0435147973409307,
          -0.4951788627034901,
          0.7425160720114105,
          0.31564553204195167,
          -0.20782147861460856
         ],
         "xaxis": "x14",
         "y": [
          0.6709612034006531,
          1.6051412739767819,
          1.255886324427993,
          1.5693096722448157,
          -0.9921777619510992,
          0.33042900361692834,
          -0.35293024315820565,
          0.145154017740245,
          0.3625639443048809,
          0.13138470153173828,
          -0.6558581622826103,
          0.11520421117369518,
          -0.11679268720876959,
          1.3889517989746032,
          -1.0391005535810098,
          -0.5845175392821391,
          0.5487461504977663,
          -0.41781229770080464,
          -0.33960505954981424,
          0.651952527470793,
          -0.5058215733383488,
          0.6477966846649968,
          -0.6174117094993401,
          0.6106958871780578,
          -0.1276489626652101,
          2.0013006533019824,
          -0.08526082783404636,
          0.8127805390078046,
          1.3102646492165897,
          -1.0187120584866614,
          -0.4493955993053355,
          -1.094902227133644,
          0.6910183994545328,
          1.4201888658763488,
          0.11277524787441937,
          -0.9801910443319154,
          -0.3431544095932399,
          0.1087910743622495,
          -1.1942665256276004,
          -1.1125634535874593,
          0.15865029690575685,
          -0.41785916825864355,
          -1.478783076344177,
          -1.1020775903951132,
          -0.6660186131062694,
          0.6563670922528635,
          1.3610877067777163,
          1.60895578842839,
          -0.07548283197470951,
          -0.9847244899949941,
          -0.03315927860201843,
          0.9782806556622331,
          -0.3611661536121705,
          0.5013545301672466,
          0.19558245069165,
          -0.0739731850109819,
          -0.18408307032594043,
          -0.8290661716657223,
          -0.9684032630788012,
          0.501700122934434,
          -0.30093504381348796,
          1.1386571188741,
          -1.2418818561274647,
          -0.8127758755866236,
          0.29460513518630077,
          0.9945988005774422,
          -1.0916057487469217,
          0.1627477091773396,
          1.59505185336752,
          0.605438060188423,
          -0.24667767306159596,
          -0.6782784599743095,
          0.31546459979781005,
          -1.3202543424828128,
          0.2571222779809705,
          0.9187941311988528,
          -0.19594895976208676,
          -0.6224367771134991,
          0.07307844730392578,
          -0.9175223553483014,
          -0.42721630977163716,
          -1.9421861838694054,
          0.9852453396022431,
          -0.8743421676921562,
          -1.582677877306647,
          1.8607958178529551,
          -0.5710752210734351,
          0.38272755932811814,
          -0.07811680081245571,
          -0.21531581497030394,
          0.8215257586870108,
          0.08007863426802304,
          -0.5766667615202412,
          0.8187912497724792,
          0.3533519591122077,
          0.5735347812436419,
          0.6238428467770988,
          -0.4757441223946327,
          0.5248789044170892,
          -1.5020667659839881
         ],
         "yaxis": "y14"
        },
        {
         "line": {
          "color": "rgba(128, 128, 128, 1.0)",
          "dash": "solid",
          "shape": "linear",
          "width": 1.3
         },
         "marker": {
          "size": 2,
          "symbol": "circle"
         },
         "mode": "markers",
         "name": "D",
         "text": "",
         "type": "scatter",
         "x": [
          1.1932707705503312,
          -1.2830713344060174,
          -0.5421057784583493,
          -0.22548949625763465,
          1.1035868293195872,
          1.2343689733154326,
          -1.2888975519796173,
          1.6356832308804428,
          -0.10280278855757159,
          0.14443855572954267,
          -0.14505919333380107,
          0.8928521581362128,
          -2.0487257752546917,
          -0.8150812480766364,
          -0.2278679313582185,
          0.8042719904774537,
          -0.8316589266026926,
          -0.23489930447703766,
          -1.9251026202576198,
          0.49724446175380704,
          -0.11542877287156185,
          1.060361586475302,
          -1.4533054887329426,
          -0.46546078266518176,
          0.26454510047806473,
          -0.08955498822382015,
          -0.7123582202516967,
          1.232941146039658,
          0.19383020281141014,
          0.9172734518398263,
          -0.27228641840789064,
          0.04432855371998706,
          1.0685787585944497,
          1.8356568372357598,
          0.30351378438991217,
          1.1227818408858827,
          -0.6917050156115433,
          1.5420076520203057,
          0.8665892720525478,
          -0.3382238462163352,
          0.20805010913518773,
          -0.8941371179022142,
          -1.1372189047587862,
          0.8202994728219,
          0.6536122524674571,
          0.3363770527443678,
          -0.9122191882116745,
          -0.06970358639230846,
          -0.5012160455787827,
          0.7530456280559296,
          0.11539123772687677,
          -1.1515922838879722,
          -0.02374864766342026,
          0.4139915750707,
          0.9990819389474503,
          -0.6075271620201834,
          1.9421725879153298,
          -1.119882042610842,
          -0.533321926240813,
          -0.774881802168484,
          -1.0590504034985166,
          0.04373852002508442,
          -1.973151513789027,
          -0.6501206169959729,
          0.09634789936915328,
          -0.8671356945786458,
          -0.27825068529219255,
          -0.2100651439095593,
          -0.463127858073323,
          0.4573956079909391,
          -1.8600784608676624,
          -1.3737865350778937,
          1.1345331359991773,
          0.5900055495100253,
          -0.5377967392866819,
          -0.22388604215610647,
          -2.5252976410281764,
          -0.6256716535076815,
          0.9212814033250678,
          1.6500714789362172,
          0.17749524786996865,
          1.0713952908661881,
          -0.44518040721811347,
          -0.8303131630930717,
          0.11726701946830131,
          -0.287199444527879,
          -0.523894959700174,
          -1.1343639769724427,
          1.684493647258829,
          0.007875626970417217,
          1.620171926717964,
          -1.9095174044838772,
          1.0008270576818932,
          0.16175618836114317,
          -0.05581461069455605,
          -0.7891611070048609,
          -0.7647017905178009,
          0.3741397191831739,
          -0.10034999234240011,
          1.0955391511308905
         ],
         "xaxis": "x15",
         "y": [
          0.6709612034006531,
          1.6051412739767819,
          1.255886324427993,
          1.5693096722448157,
          -0.9921777619510992,
          0.33042900361692834,
          -0.35293024315820565,
          0.145154017740245,
          0.3625639443048809,
          0.13138470153173828,
          -0.6558581622826103,
          0.11520421117369518,
          -0.11679268720876959,
          1.3889517989746032,
          -1.0391005535810098,
          -0.5845175392821391,
          0.5487461504977663,
          -0.41781229770080464,
          -0.33960505954981424,
          0.651952527470793,
          -0.5058215733383488,
          0.6477966846649968,
          -0.6174117094993401,
          0.6106958871780578,
          -0.1276489626652101,
          2.0013006533019824,
          -0.08526082783404636,
          0.8127805390078046,
          1.3102646492165897,
          -1.0187120584866614,
          -0.4493955993053355,
          -1.094902227133644,
          0.6910183994545328,
          1.4201888658763488,
          0.11277524787441937,
          -0.9801910443319154,
          -0.3431544095932399,
          0.1087910743622495,
          -1.1942665256276004,
          -1.1125634535874593,
          0.15865029690575685,
          -0.41785916825864355,
          -1.478783076344177,
          -1.1020775903951132,
          -0.6660186131062694,
          0.6563670922528635,
          1.3610877067777163,
          1.60895578842839,
          -0.07548283197470951,
          -0.9847244899949941,
          -0.03315927860201843,
          0.9782806556622331,
          -0.3611661536121705,
          0.5013545301672466,
          0.19558245069165,
          -0.0739731850109819,
          -0.18408307032594043,
          -0.8290661716657223,
          -0.9684032630788012,
          0.501700122934434,
          -0.30093504381348796,
          1.1386571188741,
          -1.2418818561274647,
          -0.8127758755866236,
          0.29460513518630077,
          0.9945988005774422,
          -1.0916057487469217,
          0.1627477091773396,
          1.59505185336752,
          0.605438060188423,
          -0.24667767306159596,
          -0.6782784599743095,
          0.31546459979781005,
          -1.3202543424828128,
          0.2571222779809705,
          0.9187941311988528,
          -0.19594895976208676,
          -0.6224367771134991,
          0.07307844730392578,
          -0.9175223553483014,
          -0.42721630977163716,
          -1.9421861838694054,
          0.9852453396022431,
          -0.8743421676921562,
          -1.582677877306647,
          1.8607958178529551,
          -0.5710752210734351,
          0.38272755932811814,
          -0.07811680081245571,
          -0.21531581497030394,
          0.8215257586870108,
          0.08007863426802304,
          -0.5766667615202412,
          0.8187912497724792,
          0.3533519591122077,
          0.5735347812436419,
          0.6238428467770988,
          -0.4757441223946327,
          0.5248789044170892,
          -1.5020667659839881
         ],
         "yaxis": "y15"
        },
        {
         "histfunc": "count",
         "histnorm": "",
         "marker": {
          "color": "rgba(128, 0, 128, 1.0)",
          "line": {
           "color": "#4D5663",
           "width": 1.3
          }
         },
         "name": "D",
         "nbinsx": 10,
         "opacity": 0.8,
         "orientation": "v",
         "type": "histogram",
         "x": [
          0.6709612034006531,
          1.6051412739767819,
          1.255886324427993,
          1.5693096722448157,
          -0.9921777619510992,
          0.33042900361692834,
          -0.35293024315820565,
          0.145154017740245,
          0.3625639443048809,
          0.13138470153173828,
          -0.6558581622826103,
          0.11520421117369518,
          -0.11679268720876959,
          1.3889517989746032,
          -1.0391005535810098,
          -0.5845175392821391,
          0.5487461504977663,
          -0.41781229770080464,
          -0.33960505954981424,
          0.651952527470793,
          -0.5058215733383488,
          0.6477966846649968,
          -0.6174117094993401,
          0.6106958871780578,
          -0.1276489626652101,
          2.0013006533019824,
          -0.08526082783404636,
          0.8127805390078046,
          1.3102646492165897,
          -1.0187120584866614,
          -0.4493955993053355,
          -1.094902227133644,
          0.6910183994545328,
          1.4201888658763488,
          0.11277524787441937,
          -0.9801910443319154,
          -0.3431544095932399,
          0.1087910743622495,
          -1.1942665256276004,
          -1.1125634535874593,
          0.15865029690575685,
          -0.41785916825864355,
          -1.478783076344177,
          -1.1020775903951132,
          -0.6660186131062694,
          0.6563670922528635,
          1.3610877067777163,
          1.60895578842839,
          -0.07548283197470951,
          -0.9847244899949941,
          -0.03315927860201843,
          0.9782806556622331,
          -0.3611661536121705,
          0.5013545301672466,
          0.19558245069165,
          -0.0739731850109819,
          -0.18408307032594043,
          -0.8290661716657223,
          -0.9684032630788012,
          0.501700122934434,
          -0.30093504381348796,
          1.1386571188741,
          -1.2418818561274647,
          -0.8127758755866236,
          0.29460513518630077,
          0.9945988005774422,
          -1.0916057487469217,
          0.1627477091773396,
          1.59505185336752,
          0.605438060188423,
          -0.24667767306159596,
          -0.6782784599743095,
          0.31546459979781005,
          -1.3202543424828128,
          0.2571222779809705,
          0.9187941311988528,
          -0.19594895976208676,
          -0.6224367771134991,
          0.07307844730392578,
          -0.9175223553483014,
          -0.42721630977163716,
          -1.9421861838694054,
          0.9852453396022431,
          -0.8743421676921562,
          -1.582677877306647,
          1.8607958178529551,
          -0.5710752210734351,
          0.38272755932811814,
          -0.07811680081245571,
          -0.21531581497030394,
          0.8215257586870108,
          0.08007863426802304,
          -0.5766667615202412,
          0.8187912497724792,
          0.3533519591122077,
          0.5735347812436419,
          0.6238428467770988,
          -0.4757441223946327,
          0.5248789044170892,
          -1.5020667659839881
         ],
         "xaxis": "x16",
         "yaxis": "y16"
        }
       ],
       "layout": {
        "bargap": 0.02,
        "legend": {
         "bgcolor": "#F5F6F9",
         "font": {
          "color": "#4D5663"
         }
        },
        "paper_bgcolor": "#F5F6F9",
        "plot_bgcolor": "#F5F6F9",
        "showlegend": false,
        "template": {
         "data": {
          "bar": [
           {
            "error_x": {
             "color": "#2a3f5f"
            },
            "error_y": {
             "color": "#2a3f5f"
            },
            "marker": {
             "line": {
              "color": "#E5ECF6",
              "width": 0.5
             },
             "pattern": {
              "fillmode": "overlay",
              "size": 10,
              "solidity": 0.2
             }
            },
            "type": "bar"
           }
          ],
          "barpolar": [
           {
            "marker": {
             "line": {
              "color": "#E5ECF6",
              "width": 0.5
             },
             "pattern": {
              "fillmode": "overlay",
              "size": 10,
              "solidity": 0.2
             }
            },
            "type": "barpolar"
           }
          ],
          "carpet": [
           {
            "aaxis": {
             "endlinecolor": "#2a3f5f",
             "gridcolor": "white",
             "linecolor": "white",
             "minorgridcolor": "white",
             "startlinecolor": "#2a3f5f"
            },
            "baxis": {
             "endlinecolor": "#2a3f5f",
             "gridcolor": "white",
             "linecolor": "white",
             "minorgridcolor": "white",
             "startlinecolor": "#2a3f5f"
            },
            "type": "carpet"
           }
          ],
          "choropleth": [
           {
            "colorbar": {
             "outlinewidth": 0,
             "ticks": ""
            },
            "type": "choropleth"
           }
          ],
          "contour": [
           {
            "colorbar": {
             "outlinewidth": 0,
             "ticks": ""
            },
            "colorscale": [
             [
              0,
              "#0d0887"
             ],
             [
              0.1111111111111111,
              "#46039f"
             ],
             [
              0.2222222222222222,
              "#7201a8"
             ],
             [
              0.3333333333333333,
              "#9c179e"
             ],
             [
              0.4444444444444444,
              "#bd3786"
             ],
             [
              0.5555555555555556,
              "#d8576b"
             ],
             [
              0.6666666666666666,
              "#ed7953"
             ],
             [
              0.7777777777777778,
              "#fb9f3a"
             ],
             [
              0.8888888888888888,
              "#fdca26"
             ],
             [
              1,
              "#f0f921"
             ]
            ],
            "type": "contour"
           }
          ],
          "contourcarpet": [
           {
            "colorbar": {
             "outlinewidth": 0,
             "ticks": ""
            },
            "type": "contourcarpet"
           }
          ],
          "heatmap": [
           {
            "colorbar": {
             "outlinewidth": 0,
             "ticks": ""
            },
            "colorscale": [
             [
              0,
              "#0d0887"
             ],
             [
              0.1111111111111111,
              "#46039f"
             ],
             [
              0.2222222222222222,
              "#7201a8"
             ],
             [
              0.3333333333333333,
              "#9c179e"
             ],
             [
              0.4444444444444444,
              "#bd3786"
             ],
             [
              0.5555555555555556,
              "#d8576b"
             ],
             [
              0.6666666666666666,
              "#ed7953"
             ],
             [
              0.7777777777777778,
              "#fb9f3a"
             ],
             [
              0.8888888888888888,
              "#fdca26"
             ],
             [
              1,
              "#f0f921"
             ]
            ],
            "type": "heatmap"
           }
          ],
          "heatmapgl": [
           {
            "colorbar": {
             "outlinewidth": 0,
             "ticks": ""
            },
            "colorscale": [
             [
              0,
              "#0d0887"
             ],
             [
              0.1111111111111111,
              "#46039f"
             ],
             [
              0.2222222222222222,
              "#7201a8"
             ],
             [
              0.3333333333333333,
              "#9c179e"
             ],
             [
              0.4444444444444444,
              "#bd3786"
             ],
             [
              0.5555555555555556,
              "#d8576b"
             ],
             [
              0.6666666666666666,
              "#ed7953"
             ],
             [
              0.7777777777777778,
              "#fb9f3a"
             ],
             [
              0.8888888888888888,
              "#fdca26"
             ],
             [
              1,
              "#f0f921"
             ]
            ],
            "type": "heatmapgl"
           }
          ],
          "histogram": [
           {
            "marker": {
             "pattern": {
              "fillmode": "overlay",
              "size": 10,
              "solidity": 0.2
             }
            },
            "type": "histogram"
           }
          ],
          "histogram2d": [
           {
            "colorbar": {
             "outlinewidth": 0,
             "ticks": ""
            },
            "colorscale": [
             [
              0,
              "#0d0887"
             ],
             [
              0.1111111111111111,
              "#46039f"
             ],
             [
              0.2222222222222222,
              "#7201a8"
             ],
             [
              0.3333333333333333,
              "#9c179e"
             ],
             [
              0.4444444444444444,
              "#bd3786"
             ],
             [
              0.5555555555555556,
              "#d8576b"
             ],
             [
              0.6666666666666666,
              "#ed7953"
             ],
             [
              0.7777777777777778,
              "#fb9f3a"
             ],
             [
              0.8888888888888888,
              "#fdca26"
             ],
             [
              1,
              "#f0f921"
             ]
            ],
            "type": "histogram2d"
           }
          ],
          "histogram2dcontour": [
           {
            "colorbar": {
             "outlinewidth": 0,
             "ticks": ""
            },
            "colorscale": [
             [
              0,
              "#0d0887"
             ],
             [
              0.1111111111111111,
              "#46039f"
             ],
             [
              0.2222222222222222,
              "#7201a8"
             ],
             [
              0.3333333333333333,
              "#9c179e"
             ],
             [
              0.4444444444444444,
              "#bd3786"
             ],
             [
              0.5555555555555556,
              "#d8576b"
             ],
             [
              0.6666666666666666,
              "#ed7953"
             ],
             [
              0.7777777777777778,
              "#fb9f3a"
             ],
             [
              0.8888888888888888,
              "#fdca26"
             ],
             [
              1,
              "#f0f921"
             ]
            ],
            "type": "histogram2dcontour"
           }
          ],
          "mesh3d": [
           {
            "colorbar": {
             "outlinewidth": 0,
             "ticks": ""
            },
            "type": "mesh3d"
           }
          ],
          "parcoords": [
           {
            "line": {
             "colorbar": {
              "outlinewidth": 0,
              "ticks": ""
             }
            },
            "type": "parcoords"
           }
          ],
          "pie": [
           {
            "automargin": true,
            "type": "pie"
           }
          ],
          "scatter": [
           {
            "fillpattern": {
             "fillmode": "overlay",
             "size": 10,
             "solidity": 0.2
            },
            "type": "scatter"
           }
          ],
          "scatter3d": [
           {
            "line": {
             "colorbar": {
              "outlinewidth": 0,
              "ticks": ""
             }
            },
            "marker": {
             "colorbar": {
              "outlinewidth": 0,
              "ticks": ""
             }
            },
            "type": "scatter3d"
           }
          ],
          "scattercarpet": [
           {
            "marker": {
             "colorbar": {
              "outlinewidth": 0,
              "ticks": ""
             }
            },
            "type": "scattercarpet"
           }
          ],
          "scattergeo": [
           {
            "marker": {
             "colorbar": {
              "outlinewidth": 0,
              "ticks": ""
             }
            },
            "type": "scattergeo"
           }
          ],
          "scattergl": [
           {
            "marker": {
             "colorbar": {
              "outlinewidth": 0,
              "ticks": ""
             }
            },
            "type": "scattergl"
           }
          ],
          "scattermapbox": [
           {
            "marker": {
             "colorbar": {
              "outlinewidth": 0,
              "ticks": ""
             }
            },
            "type": "scattermapbox"
           }
          ],
          "scatterpolar": [
           {
            "marker": {
             "colorbar": {
              "outlinewidth": 0,
              "ticks": ""
             }
            },
            "type": "scatterpolar"
           }
          ],
          "scatterpolargl": [
           {
            "marker": {
             "colorbar": {
              "outlinewidth": 0,
              "ticks": ""
             }
            },
            "type": "scatterpolargl"
           }
          ],
          "scatterternary": [
           {
            "marker": {
             "colorbar": {
              "outlinewidth": 0,
              "ticks": ""
             }
            },
            "type": "scatterternary"
           }
          ],
          "surface": [
           {
            "colorbar": {
             "outlinewidth": 0,
             "ticks": ""
            },
            "colorscale": [
             [
              0,
              "#0d0887"
             ],
             [
              0.1111111111111111,
              "#46039f"
             ],
             [
              0.2222222222222222,
              "#7201a8"
             ],
             [
              0.3333333333333333,
              "#9c179e"
             ],
             [
              0.4444444444444444,
              "#bd3786"
             ],
             [
              0.5555555555555556,
              "#d8576b"
             ],
             [
              0.6666666666666666,
              "#ed7953"
             ],
             [
              0.7777777777777778,
              "#fb9f3a"
             ],
             [
              0.8888888888888888,
              "#fdca26"
             ],
             [
              1,
              "#f0f921"
             ]
            ],
            "type": "surface"
           }
          ],
          "table": [
           {
            "cells": {
             "fill": {
              "color": "#EBF0F8"
             },
             "line": {
              "color": "white"
             }
            },
            "header": {
             "fill": {
              "color": "#C8D4E3"
             },
             "line": {
              "color": "white"
             }
            },
            "type": "table"
           }
          ]
         },
         "layout": {
          "annotationdefaults": {
           "arrowcolor": "#2a3f5f",
           "arrowhead": 0,
           "arrowwidth": 1
          },
          "autotypenumbers": "strict",
          "coloraxis": {
           "colorbar": {
            "outlinewidth": 0,
            "ticks": ""
           }
          },
          "colorscale": {
           "diverging": [
            [
             0,
             "#8e0152"
            ],
            [
             0.1,
             "#c51b7d"
            ],
            [
             0.2,
             "#de77ae"
            ],
            [
             0.3,
             "#f1b6da"
            ],
            [
             0.4,
             "#fde0ef"
            ],
            [
             0.5,
             "#f7f7f7"
            ],
            [
             0.6,
             "#e6f5d0"
            ],
            [
             0.7,
             "#b8e186"
            ],
            [
             0.8,
             "#7fbc41"
            ],
            [
             0.9,
             "#4d9221"
            ],
            [
             1,
             "#276419"
            ]
           ],
           "sequential": [
            [
             0,
             "#0d0887"
            ],
            [
             0.1111111111111111,
             "#46039f"
            ],
            [
             0.2222222222222222,
             "#7201a8"
            ],
            [
             0.3333333333333333,
             "#9c179e"
            ],
            [
             0.4444444444444444,
             "#bd3786"
            ],
            [
             0.5555555555555556,
             "#d8576b"
            ],
            [
             0.6666666666666666,
             "#ed7953"
            ],
            [
             0.7777777777777778,
             "#fb9f3a"
            ],
            [
             0.8888888888888888,
             "#fdca26"
            ],
            [
             1,
             "#f0f921"
            ]
           ],
           "sequentialminus": [
            [
             0,
             "#0d0887"
            ],
            [
             0.1111111111111111,
             "#46039f"
            ],
            [
             0.2222222222222222,
             "#7201a8"
            ],
            [
             0.3333333333333333,
             "#9c179e"
            ],
            [
             0.4444444444444444,
             "#bd3786"
            ],
            [
             0.5555555555555556,
             "#d8576b"
            ],
            [
             0.6666666666666666,
             "#ed7953"
            ],
            [
             0.7777777777777778,
             "#fb9f3a"
            ],
            [
             0.8888888888888888,
             "#fdca26"
            ],
            [
             1,
             "#f0f921"
            ]
           ]
          },
          "colorway": [
           "#636efa",
           "#EF553B",
           "#00cc96",
           "#ab63fa",
           "#FFA15A",
           "#19d3f3",
           "#FF6692",
           "#B6E880",
           "#FF97FF",
           "#FECB52"
          ],
          "font": {
           "color": "#2a3f5f"
          },
          "geo": {
           "bgcolor": "white",
           "lakecolor": "white",
           "landcolor": "#E5ECF6",
           "showlakes": true,
           "showland": true,
           "subunitcolor": "white"
          },
          "hoverlabel": {
           "align": "left"
          },
          "hovermode": "closest",
          "mapbox": {
           "style": "light"
          },
          "paper_bgcolor": "white",
          "plot_bgcolor": "#E5ECF6",
          "polar": {
           "angularaxis": {
            "gridcolor": "white",
            "linecolor": "white",
            "ticks": ""
           },
           "bgcolor": "#E5ECF6",
           "radialaxis": {
            "gridcolor": "white",
            "linecolor": "white",
            "ticks": ""
           }
          },
          "scene": {
           "xaxis": {
            "backgroundcolor": "#E5ECF6",
            "gridcolor": "white",
            "gridwidth": 2,
            "linecolor": "white",
            "showbackground": true,
            "ticks": "",
            "zerolinecolor": "white"
           },
           "yaxis": {
            "backgroundcolor": "#E5ECF6",
            "gridcolor": "white",
            "gridwidth": 2,
            "linecolor": "white",
            "showbackground": true,
            "ticks": "",
            "zerolinecolor": "white"
           },
           "zaxis": {
            "backgroundcolor": "#E5ECF6",
            "gridcolor": "white",
            "gridwidth": 2,
            "linecolor": "white",
            "showbackground": true,
            "ticks": "",
            "zerolinecolor": "white"
           }
          },
          "shapedefaults": {
           "line": {
            "color": "#2a3f5f"
           }
          },
          "ternary": {
           "aaxis": {
            "gridcolor": "white",
            "linecolor": "white",
            "ticks": ""
           },
           "baxis": {
            "gridcolor": "white",
            "linecolor": "white",
            "ticks": ""
           },
           "bgcolor": "#E5ECF6",
           "caxis": {
            "gridcolor": "white",
            "linecolor": "white",
            "ticks": ""
           }
          },
          "title": {
           "x": 0.05
          },
          "xaxis": {
           "automargin": true,
           "gridcolor": "white",
           "linecolor": "white",
           "ticks": "",
           "title": {
            "standoff": 15
           },
           "zerolinecolor": "white",
           "zerolinewidth": 2
          },
          "yaxis": {
           "automargin": true,
           "gridcolor": "white",
           "linecolor": "white",
           "ticks": "",
           "title": {
            "standoff": 15
           },
           "zerolinecolor": "white",
           "zerolinewidth": 2
          }
         }
        },
        "title": {
         "font": {
          "color": "#4D5663"
         }
        },
        "xaxis": {
         "anchor": "y",
         "domain": [
          0,
          0.2125
         ],
         "gridcolor": "#E1E5ED",
         "showgrid": false,
         "tickfont": {
          "color": "#4D5663"
         },
         "title": {
          "font": {
           "color": "#4D5663"
          },
          "text": ""
         },
         "zerolinecolor": "#E1E5ED"
        },
        "xaxis10": {
         "anchor": "y10",
         "domain": [
          0.2625,
          0.475
         ],
         "gridcolor": "#E1E5ED",
         "showgrid": false,
         "tickfont": {
          "color": "#4D5663"
         },
         "title": {
          "font": {
           "color": "#4D5663"
          },
          "text": ""
         },
         "zerolinecolor": "#E1E5ED"
        },
        "xaxis11": {
         "anchor": "y11",
         "domain": [
          0.525,
          0.7375
         ],
         "gridcolor": "#E1E5ED",
         "showgrid": false,
         "tickfont": {
          "color": "#4D5663"
         },
         "title": {
          "font": {
           "color": "#4D5663"
          },
          "text": ""
         },
         "zerolinecolor": "#E1E5ED"
        },
        "xaxis12": {
         "anchor": "y12",
         "domain": [
          0.7875,
          1
         ],
         "gridcolor": "#E1E5ED",
         "showgrid": false,
         "tickfont": {
          "color": "#4D5663"
         },
         "title": {
          "font": {
           "color": "#4D5663"
          },
          "text": ""
         },
         "zerolinecolor": "#E1E5ED"
        },
        "xaxis13": {
         "anchor": "y13",
         "domain": [
          0,
          0.2125
         ],
         "gridcolor": "#E1E5ED",
         "showgrid": false,
         "tickfont": {
          "color": "#4D5663"
         },
         "title": {
          "font": {
           "color": "#4D5663"
          },
          "text": ""
         },
         "zerolinecolor": "#E1E5ED"
        },
        "xaxis14": {
         "anchor": "y14",
         "domain": [
          0.2625,
          0.475
         ],
         "gridcolor": "#E1E5ED",
         "showgrid": false,
         "tickfont": {
          "color": "#4D5663"
         },
         "title": {
          "font": {
           "color": "#4D5663"
          },
          "text": ""
         },
         "zerolinecolor": "#E1E5ED"
        },
        "xaxis15": {
         "anchor": "y15",
         "domain": [
          0.525,
          0.7375
         ],
         "gridcolor": "#E1E5ED",
         "showgrid": false,
         "tickfont": {
          "color": "#4D5663"
         },
         "title": {
          "font": {
           "color": "#4D5663"
          },
          "text": ""
         },
         "zerolinecolor": "#E1E5ED"
        },
        "xaxis16": {
         "anchor": "y16",
         "domain": [
          0.7875,
          1
         ],
         "gridcolor": "#E1E5ED",
         "showgrid": false,
         "tickfont": {
          "color": "#4D5663"
         },
         "title": {
          "font": {
           "color": "#4D5663"
          },
          "text": ""
         },
         "zerolinecolor": "#E1E5ED"
        },
        "xaxis2": {
         "anchor": "y2",
         "domain": [
          0.2625,
          0.475
         ],
         "gridcolor": "#E1E5ED",
         "showgrid": false,
         "tickfont": {
          "color": "#4D5663"
         },
         "title": {
          "font": {
           "color": "#4D5663"
          },
          "text": ""
         },
         "zerolinecolor": "#E1E5ED"
        },
        "xaxis3": {
         "anchor": "y3",
         "domain": [
          0.525,
          0.7375
         ],
         "gridcolor": "#E1E5ED",
         "showgrid": false,
         "tickfont": {
          "color": "#4D5663"
         },
         "title": {
          "font": {
           "color": "#4D5663"
          },
          "text": ""
         },
         "zerolinecolor": "#E1E5ED"
        },
        "xaxis4": {
         "anchor": "y4",
         "domain": [
          0.7875,
          1
         ],
         "gridcolor": "#E1E5ED",
         "showgrid": false,
         "tickfont": {
          "color": "#4D5663"
         },
         "title": {
          "font": {
           "color": "#4D5663"
          },
          "text": ""
         },
         "zerolinecolor": "#E1E5ED"
        },
        "xaxis5": {
         "anchor": "y5",
         "domain": [
          0,
          0.2125
         ],
         "gridcolor": "#E1E5ED",
         "showgrid": false,
         "tickfont": {
          "color": "#4D5663"
         },
         "title": {
          "font": {
           "color": "#4D5663"
          },
          "text": ""
         },
         "zerolinecolor": "#E1E5ED"
        },
        "xaxis6": {
         "anchor": "y6",
         "domain": [
          0.2625,
          0.475
         ],
         "gridcolor": "#E1E5ED",
         "showgrid": false,
         "tickfont": {
          "color": "#4D5663"
         },
         "title": {
          "font": {
           "color": "#4D5663"
          },
          "text": ""
         },
         "zerolinecolor": "#E1E5ED"
        },
        "xaxis7": {
         "anchor": "y7",
         "domain": [
          0.525,
          0.7375
         ],
         "gridcolor": "#E1E5ED",
         "showgrid": false,
         "tickfont": {
          "color": "#4D5663"
         },
         "title": {
          "font": {
           "color": "#4D5663"
          },
          "text": ""
         },
         "zerolinecolor": "#E1E5ED"
        },
        "xaxis8": {
         "anchor": "y8",
         "domain": [
          0.7875,
          1
         ],
         "gridcolor": "#E1E5ED",
         "showgrid": false,
         "tickfont": {
          "color": "#4D5663"
         },
         "title": {
          "font": {
           "color": "#4D5663"
          },
          "text": ""
         },
         "zerolinecolor": "#E1E5ED"
        },
        "xaxis9": {
         "anchor": "y9",
         "domain": [
          0,
          0.2125
         ],
         "gridcolor": "#E1E5ED",
         "showgrid": false,
         "tickfont": {
          "color": "#4D5663"
         },
         "title": {
          "font": {
           "color": "#4D5663"
          },
          "text": ""
         },
         "zerolinecolor": "#E1E5ED"
        },
        "yaxis": {
         "anchor": "x",
         "domain": [
          0.8025,
          1
         ],
         "gridcolor": "#E1E5ED",
         "showgrid": false,
         "tickfont": {
          "color": "#4D5663"
         },
         "title": {
          "font": {
           "color": "#4D5663"
          },
          "text": ""
         },
         "zerolinecolor": "#E1E5ED"
        },
        "yaxis10": {
         "anchor": "x10",
         "domain": [
          0.2675,
          0.465
         ],
         "gridcolor": "#E1E5ED",
         "showgrid": false,
         "tickfont": {
          "color": "#4D5663"
         },
         "title": {
          "font": {
           "color": "#4D5663"
          },
          "text": ""
         },
         "zerolinecolor": "#E1E5ED"
        },
        "yaxis11": {
         "anchor": "x11",
         "domain": [
          0.2675,
          0.465
         ],
         "gridcolor": "#E1E5ED",
         "showgrid": false,
         "tickfont": {
          "color": "#4D5663"
         },
         "title": {
          "font": {
           "color": "#4D5663"
          },
          "text": ""
         },
         "zerolinecolor": "#E1E5ED"
        },
        "yaxis12": {
         "anchor": "x12",
         "domain": [
          0.2675,
          0.465
         ],
         "gridcolor": "#E1E5ED",
         "showgrid": false,
         "tickfont": {
          "color": "#4D5663"
         },
         "title": {
          "font": {
           "color": "#4D5663"
          },
          "text": ""
         },
         "zerolinecolor": "#E1E5ED"
        },
        "yaxis13": {
         "anchor": "x13",
         "domain": [
          0,
          0.1975
         ],
         "gridcolor": "#E1E5ED",
         "showgrid": false,
         "tickfont": {
          "color": "#4D5663"
         },
         "title": {
          "font": {
           "color": "#4D5663"
          },
          "text": ""
         },
         "zerolinecolor": "#E1E5ED"
        },
        "yaxis14": {
         "anchor": "x14",
         "domain": [
          0,
          0.1975
         ],
         "gridcolor": "#E1E5ED",
         "showgrid": false,
         "tickfont": {
          "color": "#4D5663"
         },
         "title": {
          "font": {
           "color": "#4D5663"
          },
          "text": ""
         },
         "zerolinecolor": "#E1E5ED"
        },
        "yaxis15": {
         "anchor": "x15",
         "domain": [
          0,
          0.1975
         ],
         "gridcolor": "#E1E5ED",
         "showgrid": false,
         "tickfont": {
          "color": "#4D5663"
         },
         "title": {
          "font": {
           "color": "#4D5663"
          },
          "text": ""
         },
         "zerolinecolor": "#E1E5ED"
        },
        "yaxis16": {
         "anchor": "x16",
         "domain": [
          0,
          0.1975
         ],
         "gridcolor": "#E1E5ED",
         "showgrid": false,
         "tickfont": {
          "color": "#4D5663"
         },
         "title": {
          "font": {
           "color": "#4D5663"
          },
          "text": ""
         },
         "zerolinecolor": "#E1E5ED"
        },
        "yaxis2": {
         "anchor": "x2",
         "domain": [
          0.8025,
          1
         ],
         "gridcolor": "#E1E5ED",
         "showgrid": false,
         "tickfont": {
          "color": "#4D5663"
         },
         "title": {
          "font": {
           "color": "#4D5663"
          },
          "text": ""
         },
         "zerolinecolor": "#E1E5ED"
        },
        "yaxis3": {
         "anchor": "x3",
         "domain": [
          0.8025,
          1
         ],
         "gridcolor": "#E1E5ED",
         "showgrid": false,
         "tickfont": {
          "color": "#4D5663"
         },
         "title": {
          "font": {
           "color": "#4D5663"
          },
          "text": ""
         },
         "zerolinecolor": "#E1E5ED"
        },
        "yaxis4": {
         "anchor": "x4",
         "domain": [
          0.8025,
          1
         ],
         "gridcolor": "#E1E5ED",
         "showgrid": false,
         "tickfont": {
          "color": "#4D5663"
         },
         "title": {
          "font": {
           "color": "#4D5663"
          },
          "text": ""
         },
         "zerolinecolor": "#E1E5ED"
        },
        "yaxis5": {
         "anchor": "x5",
         "domain": [
          0.535,
          0.7325
         ],
         "gridcolor": "#E1E5ED",
         "showgrid": false,
         "tickfont": {
          "color": "#4D5663"
         },
         "title": {
          "font": {
           "color": "#4D5663"
          },
          "text": ""
         },
         "zerolinecolor": "#E1E5ED"
        },
        "yaxis6": {
         "anchor": "x6",
         "domain": [
          0.535,
          0.7325
         ],
         "gridcolor": "#E1E5ED",
         "showgrid": false,
         "tickfont": {
          "color": "#4D5663"
         },
         "title": {
          "font": {
           "color": "#4D5663"
          },
          "text": ""
         },
         "zerolinecolor": "#E1E5ED"
        },
        "yaxis7": {
         "anchor": "x7",
         "domain": [
          0.535,
          0.7325
         ],
         "gridcolor": "#E1E5ED",
         "showgrid": false,
         "tickfont": {
          "color": "#4D5663"
         },
         "title": {
          "font": {
           "color": "#4D5663"
          },
          "text": ""
         },
         "zerolinecolor": "#E1E5ED"
        },
        "yaxis8": {
         "anchor": "x8",
         "domain": [
          0.535,
          0.7325
         ],
         "gridcolor": "#E1E5ED",
         "showgrid": false,
         "tickfont": {
          "color": "#4D5663"
         },
         "title": {
          "font": {
           "color": "#4D5663"
          },
          "text": ""
         },
         "zerolinecolor": "#E1E5ED"
        },
        "yaxis9": {
         "anchor": "x9",
         "domain": [
          0.2675,
          0.465
         ],
         "gridcolor": "#E1E5ED",
         "showgrid": false,
         "tickfont": {
          "color": "#4D5663"
         },
         "title": {
          "font": {
           "color": "#4D5663"
          },
          "text": ""
         },
         "zerolinecolor": "#E1E5ED"
        }
       }
      },
      "text/html": [
       "<div>                            <div id=\"6244cda3-46b9-4efe-a939-b948d868b3ec\" class=\"plotly-graph-div\" style=\"height:525px; width:100%;\"></div>            <script type=\"text/javascript\">                require([\"plotly\"], function(Plotly) {                    window.PLOTLYENV=window.PLOTLYENV || {};\n",
       "                    window.PLOTLYENV.BASE_URL='https://plot.ly';                                    if (document.getElementById(\"6244cda3-46b9-4efe-a939-b948d868b3ec\")) {                    Plotly.newPlot(                        \"6244cda3-46b9-4efe-a939-b948d868b3ec\",                        [{\"histfunc\":\"count\",\"histnorm\":\"\",\"marker\":{\"color\":\"rgba(255, 153, 51, 1.0)\",\"line\":{\"color\":\"#4D5663\",\"width\":1.3}},\"name\":\"A\",\"nbinsx\":10,\"opacity\":0.8,\"orientation\":\"v\",\"x\":[-2.0123763624349293,0.9432162610541343,-1.6460505314746108,-0.11959353388472195,-0.09641706509181419,-0.06172832372360541,-0.20300777040952778,1.1614863515596152,0.07214341168904675,-1.5404779345380852,-0.4594837074184925,-0.5709294028336829,0.5517546812657012,-1.5191583347378217,-1.8212577605961693,0.5608664175791226,0.9233754580800292,-0.3349371913905272,1.6195155400294434,0.029516797046602428,0.48845016366522087,-0.9983325676167882,-0.5777061740801093,-1.1824449236276113,0.44342064703172834,-1.921085994117648,-1.133672211827247,1.3418203911542834,1.1377657071052936,-0.5205825076152426,0.22822348530130462,-0.3140244025508158,1.99263045877462,-0.6276486414057821,0.3789938174705518,1.5070188243170681,0.7550823406074365,0.937870487510314,0.6179740977304896,-0.1711727036675492,0.7186532767387795,0.016586564621040033,1.2937899772630141,0.3998121609770898,0.5361201098099101,0.4081839171370809,-1.0039072948017003,-0.7187219461564854,0.14793124212411746,0.43151923173980355,-0.04132758573310095,-0.13919507428639785,0.751972269655057,0.657840228668993,-0.7974142092388198,0.2986094598821704,0.18997429070260546,-1.0463877092471465,0.29269008999875895,-1.3486487926526634,-0.013954816767301892,1.8352819680528336,0.8067890870292005,0.11944534311310802,-0.3773845601577676,0.6415328968725711,-0.33989077177988714,-0.6115808119144395,0.6524422975315665,-0.15022826917679022,0.37803251254519643,1.108688210284176,0.05711485154504512,1.800927567120939,0.00995552361974533,-1.2117690390983735,-1.4683056624053972,-0.43627118890285477,-1.2101915064796873,1.117024435913245,1.0979084729128281,1.6225981632955948,-0.4937377532982519,-1.1715102384751797,0.34630171642370144,-0.7003629764268581,0.882261790019467,0.04592815081162993,-0.24601901815287433,-1.6109542660950185,1.7005807868956284,1.3735738733869605,-1.467225704135344,-1.4623684158312809,-0.03317192532819466,0.7245383514461771,-1.083571896053186,-1.3543631113176642,-0.5807231337465971,-1.803628541782693],\"xaxis\":\"x\",\"yaxis\":\"y\",\"type\":\"histogram\"},{\"line\":{\"color\":\"rgba(128, 128, 128, 1.0)\",\"dash\":\"solid\",\"shape\":\"linear\",\"width\":1.3},\"marker\":{\"size\":2,\"symbol\":\"circle\"},\"mode\":\"markers\",\"name\":\"A\",\"text\":\"\",\"x\":[0.09356725012002595,-2.272503447707763,-0.24489314058025402,-0.13204838002542876,-1.3669983334798312,0.8820220970905887,-0.19464003209713382,0.6253289570809171,0.8058998187528795,4.817694992526561e-05,0.05406431284969937,1.2764485066452573,-0.17761021549308906,0.2000708748278898,-0.8364841783625226,1.4320040803474932,0.35274645290369033,0.3921717252757823,0.33479140509729,-0.7167755827066142,0.9649866834349295,-0.5655823691179367,0.9203251888005415,0.3757553553396931,-0.06181632417000726,0.0582794723150071,0.5046372851243683,0.9826950053063352,0.11234726924517573,-0.7659210228103368,-1.898774637470985,-0.1627757375595359,0.5660003688225107,0.22726286583394806,-1.374771712769686,-0.02433626638611993,-0.14564087706939258,-1.9893842263140469,-0.5166177422778371,-0.3781477704813227,-1.7694734910668055,0.7569327260972623,-0.31462802835325115,0.7171853031881936,-0.22654867363962103,-1.0505244688194517,-2.972057229651945,-1.7518337070229988,0.7554067839944425,-0.11855028063606456,-2.004869681415894,2.9852047928075613,-1.6232700961848137,0.0918885117602792,-0.3650216250221669,0.47330135972917814,0.2856446855806922,0.7675162718116566,-2.1074615886549672,0.22391645030196236,1.1894071423217216,0.8204890077709631,-0.39701541753363756,-2.27000401953618,1.6600756989112195,-0.7124828747764169,0.004704780856659766,-0.0780500810025205,0.2592220871063078,0.732633002062385,1.2687314806629195,-1.5293730908904641,0.7211630628607816,-0.2699715134984008,0.7225968340598766,-0.9623073108340827,-1.0222701791456865,0.8686777579700856,-0.7846170957067229,1.8197684774919791,-2.119549410807026,-0.06807439952843404,-0.3911595768636021,-0.3013297371127451,-1.0028729911585332,-0.866084623867208,0.9987817368354001,1.3013655869508096,0.5279189607394867,-0.842002981778488,-0.018616418731183016,-1.7998270091420199,-1.4160525224237437,1.1875868896235755,-0.43313499360774566,2.0435147973409307,-0.4951788627034901,0.7425160720114105,0.31564553204195167,-0.20782147861460856],\"xaxis\":\"x2\",\"y\":[-2.0123763624349293,0.9432162610541343,-1.6460505314746108,-0.11959353388472195,-0.09641706509181419,-0.06172832372360541,-0.20300777040952778,1.1614863515596152,0.07214341168904675,-1.5404779345380852,-0.4594837074184925,-0.5709294028336829,0.5517546812657012,-1.5191583347378217,-1.8212577605961693,0.5608664175791226,0.9233754580800292,-0.3349371913905272,1.6195155400294434,0.029516797046602428,0.48845016366522087,-0.9983325676167882,-0.5777061740801093,-1.1824449236276113,0.44342064703172834,-1.921085994117648,-1.133672211827247,1.3418203911542834,1.1377657071052936,-0.5205825076152426,0.22822348530130462,-0.3140244025508158,1.99263045877462,-0.6276486414057821,0.3789938174705518,1.5070188243170681,0.7550823406074365,0.937870487510314,0.6179740977304896,-0.1711727036675492,0.7186532767387795,0.016586564621040033,1.2937899772630141,0.3998121609770898,0.5361201098099101,0.4081839171370809,-1.0039072948017003,-0.7187219461564854,0.14793124212411746,0.43151923173980355,-0.04132758573310095,-0.13919507428639785,0.751972269655057,0.657840228668993,-0.7974142092388198,0.2986094598821704,0.18997429070260546,-1.0463877092471465,0.29269008999875895,-1.3486487926526634,-0.013954816767301892,1.8352819680528336,0.8067890870292005,0.11944534311310802,-0.3773845601577676,0.6415328968725711,-0.33989077177988714,-0.6115808119144395,0.6524422975315665,-0.15022826917679022,0.37803251254519643,1.108688210284176,0.05711485154504512,1.800927567120939,0.00995552361974533,-1.2117690390983735,-1.4683056624053972,-0.43627118890285477,-1.2101915064796873,1.117024435913245,1.0979084729128281,1.6225981632955948,-0.4937377532982519,-1.1715102384751797,0.34630171642370144,-0.7003629764268581,0.882261790019467,0.04592815081162993,-0.24601901815287433,-1.6109542660950185,1.7005807868956284,1.3735738733869605,-1.467225704135344,-1.4623684158312809,-0.03317192532819466,0.7245383514461771,-1.083571896053186,-1.3543631113176642,-0.5807231337465971,-1.803628541782693],\"yaxis\":\"y2\",\"type\":\"scatter\"},{\"line\":{\"color\":\"rgba(128, 128, 128, 1.0)\",\"dash\":\"solid\",\"shape\":\"linear\",\"width\":1.3},\"marker\":{\"size\":2,\"symbol\":\"circle\"},\"mode\":\"markers\",\"name\":\"A\",\"text\":\"\",\"x\":[1.1932707705503312,-1.2830713344060174,-0.5421057784583493,-0.22548949625763465,1.1035868293195872,1.2343689733154326,-1.2888975519796173,1.6356832308804428,-0.10280278855757159,0.14443855572954267,-0.14505919333380107,0.8928521581362128,-2.0487257752546917,-0.8150812480766364,-0.2278679313582185,0.8042719904774537,-0.8316589266026926,-0.23489930447703766,-1.9251026202576198,0.49724446175380704,-0.11542877287156185,1.060361586475302,-1.4533054887329426,-0.46546078266518176,0.26454510047806473,-0.08955498822382015,-0.7123582202516967,1.232941146039658,0.19383020281141014,0.9172734518398263,-0.27228641840789064,0.04432855371998706,1.0685787585944497,1.8356568372357598,0.30351378438991217,1.1227818408858827,-0.6917050156115433,1.5420076520203057,0.8665892720525478,-0.3382238462163352,0.20805010913518773,-0.8941371179022142,-1.1372189047587862,0.8202994728219,0.6536122524674571,0.3363770527443678,-0.9122191882116745,-0.06970358639230846,-0.5012160455787827,0.7530456280559296,0.11539123772687677,-1.1515922838879722,-0.02374864766342026,0.4139915750707,0.9990819389474503,-0.6075271620201834,1.9421725879153298,-1.119882042610842,-0.533321926240813,-0.774881802168484,-1.0590504034985166,0.04373852002508442,-1.973151513789027,-0.6501206169959729,0.09634789936915328,-0.8671356945786458,-0.27825068529219255,-0.2100651439095593,-0.463127858073323,0.4573956079909391,-1.8600784608676624,-1.3737865350778937,1.1345331359991773,0.5900055495100253,-0.5377967392866819,-0.22388604215610647,-2.5252976410281764,-0.6256716535076815,0.9212814033250678,1.6500714789362172,0.17749524786996865,1.0713952908661881,-0.44518040721811347,-0.8303131630930717,0.11726701946830131,-0.287199444527879,-0.523894959700174,-1.1343639769724427,1.684493647258829,0.007875626970417217,1.620171926717964,-1.9095174044838772,1.0008270576818932,0.16175618836114317,-0.05581461069455605,-0.7891611070048609,-0.7647017905178009,0.3741397191831739,-0.10034999234240011,1.0955391511308905],\"xaxis\":\"x3\",\"y\":[-2.0123763624349293,0.9432162610541343,-1.6460505314746108,-0.11959353388472195,-0.09641706509181419,-0.06172832372360541,-0.20300777040952778,1.1614863515596152,0.07214341168904675,-1.5404779345380852,-0.4594837074184925,-0.5709294028336829,0.5517546812657012,-1.5191583347378217,-1.8212577605961693,0.5608664175791226,0.9233754580800292,-0.3349371913905272,1.6195155400294434,0.029516797046602428,0.48845016366522087,-0.9983325676167882,-0.5777061740801093,-1.1824449236276113,0.44342064703172834,-1.921085994117648,-1.133672211827247,1.3418203911542834,1.1377657071052936,-0.5205825076152426,0.22822348530130462,-0.3140244025508158,1.99263045877462,-0.6276486414057821,0.3789938174705518,1.5070188243170681,0.7550823406074365,0.937870487510314,0.6179740977304896,-0.1711727036675492,0.7186532767387795,0.016586564621040033,1.2937899772630141,0.3998121609770898,0.5361201098099101,0.4081839171370809,-1.0039072948017003,-0.7187219461564854,0.14793124212411746,0.43151923173980355,-0.04132758573310095,-0.13919507428639785,0.751972269655057,0.657840228668993,-0.7974142092388198,0.2986094598821704,0.18997429070260546,-1.0463877092471465,0.29269008999875895,-1.3486487926526634,-0.013954816767301892,1.8352819680528336,0.8067890870292005,0.11944534311310802,-0.3773845601577676,0.6415328968725711,-0.33989077177988714,-0.6115808119144395,0.6524422975315665,-0.15022826917679022,0.37803251254519643,1.108688210284176,0.05711485154504512,1.800927567120939,0.00995552361974533,-1.2117690390983735,-1.4683056624053972,-0.43627118890285477,-1.2101915064796873,1.117024435913245,1.0979084729128281,1.6225981632955948,-0.4937377532982519,-1.1715102384751797,0.34630171642370144,-0.7003629764268581,0.882261790019467,0.04592815081162993,-0.24601901815287433,-1.6109542660950185,1.7005807868956284,1.3735738733869605,-1.467225704135344,-1.4623684158312809,-0.03317192532819466,0.7245383514461771,-1.083571896053186,-1.3543631113176642,-0.5807231337465971,-1.803628541782693],\"yaxis\":\"y3\",\"type\":\"scatter\"},{\"line\":{\"color\":\"rgba(128, 128, 128, 1.0)\",\"dash\":\"solid\",\"shape\":\"linear\",\"width\":1.3},\"marker\":{\"size\":2,\"symbol\":\"circle\"},\"mode\":\"markers\",\"name\":\"A\",\"text\":\"\",\"x\":[0.6709612034006531,1.6051412739767819,1.255886324427993,1.5693096722448157,-0.9921777619510992,0.33042900361692834,-0.35293024315820565,0.145154017740245,0.3625639443048809,0.13138470153173828,-0.6558581622826103,0.11520421117369518,-0.11679268720876959,1.3889517989746032,-1.0391005535810098,-0.5845175392821391,0.5487461504977663,-0.41781229770080464,-0.33960505954981424,0.651952527470793,-0.5058215733383488,0.6477966846649968,-0.6174117094993401,0.6106958871780578,-0.1276489626652101,2.0013006533019824,-0.08526082783404636,0.8127805390078046,1.3102646492165897,-1.0187120584866614,-0.4493955993053355,-1.094902227133644,0.6910183994545328,1.4201888658763488,0.11277524787441937,-0.9801910443319154,-0.3431544095932399,0.1087910743622495,-1.1942665256276004,-1.1125634535874593,0.15865029690575685,-0.41785916825864355,-1.478783076344177,-1.1020775903951132,-0.6660186131062694,0.6563670922528635,1.3610877067777163,1.60895578842839,-0.07548283197470951,-0.9847244899949941,-0.03315927860201843,0.9782806556622331,-0.3611661536121705,0.5013545301672466,0.19558245069165,-0.0739731850109819,-0.18408307032594043,-0.8290661716657223,-0.9684032630788012,0.501700122934434,-0.30093504381348796,1.1386571188741,-1.2418818561274647,-0.8127758755866236,0.29460513518630077,0.9945988005774422,-1.0916057487469217,0.1627477091773396,1.59505185336752,0.605438060188423,-0.24667767306159596,-0.6782784599743095,0.31546459979781005,-1.3202543424828128,0.2571222779809705,0.9187941311988528,-0.19594895976208676,-0.6224367771134991,0.07307844730392578,-0.9175223553483014,-0.42721630977163716,-1.9421861838694054,0.9852453396022431,-0.8743421676921562,-1.582677877306647,1.8607958178529551,-0.5710752210734351,0.38272755932811814,-0.07811680081245571,-0.21531581497030394,0.8215257586870108,0.08007863426802304,-0.5766667615202412,0.8187912497724792,0.3533519591122077,0.5735347812436419,0.6238428467770988,-0.4757441223946327,0.5248789044170892,-1.5020667659839881],\"xaxis\":\"x4\",\"y\":[-2.0123763624349293,0.9432162610541343,-1.6460505314746108,-0.11959353388472195,-0.09641706509181419,-0.06172832372360541,-0.20300777040952778,1.1614863515596152,0.07214341168904675,-1.5404779345380852,-0.4594837074184925,-0.5709294028336829,0.5517546812657012,-1.5191583347378217,-1.8212577605961693,0.5608664175791226,0.9233754580800292,-0.3349371913905272,1.6195155400294434,0.029516797046602428,0.48845016366522087,-0.9983325676167882,-0.5777061740801093,-1.1824449236276113,0.44342064703172834,-1.921085994117648,-1.133672211827247,1.3418203911542834,1.1377657071052936,-0.5205825076152426,0.22822348530130462,-0.3140244025508158,1.99263045877462,-0.6276486414057821,0.3789938174705518,1.5070188243170681,0.7550823406074365,0.937870487510314,0.6179740977304896,-0.1711727036675492,0.7186532767387795,0.016586564621040033,1.2937899772630141,0.3998121609770898,0.5361201098099101,0.4081839171370809,-1.0039072948017003,-0.7187219461564854,0.14793124212411746,0.43151923173980355,-0.04132758573310095,-0.13919507428639785,0.751972269655057,0.657840228668993,-0.7974142092388198,0.2986094598821704,0.18997429070260546,-1.0463877092471465,0.29269008999875895,-1.3486487926526634,-0.013954816767301892,1.8352819680528336,0.8067890870292005,0.11944534311310802,-0.3773845601577676,0.6415328968725711,-0.33989077177988714,-0.6115808119144395,0.6524422975315665,-0.15022826917679022,0.37803251254519643,1.108688210284176,0.05711485154504512,1.800927567120939,0.00995552361974533,-1.2117690390983735,-1.4683056624053972,-0.43627118890285477,-1.2101915064796873,1.117024435913245,1.0979084729128281,1.6225981632955948,-0.4937377532982519,-1.1715102384751797,0.34630171642370144,-0.7003629764268581,0.882261790019467,0.04592815081162993,-0.24601901815287433,-1.6109542660950185,1.7005807868956284,1.3735738733869605,-1.467225704135344,-1.4623684158312809,-0.03317192532819466,0.7245383514461771,-1.083571896053186,-1.3543631113176642,-0.5807231337465971,-1.803628541782693],\"yaxis\":\"y4\",\"type\":\"scatter\"},{\"line\":{\"color\":\"rgba(128, 128, 128, 1.0)\",\"dash\":\"solid\",\"shape\":\"linear\",\"width\":1.3},\"marker\":{\"size\":2,\"symbol\":\"circle\"},\"mode\":\"markers\",\"name\":\"B\",\"text\":\"\",\"x\":[-2.0123763624349293,0.9432162610541343,-1.6460505314746108,-0.11959353388472195,-0.09641706509181419,-0.06172832372360541,-0.20300777040952778,1.1614863515596152,0.07214341168904675,-1.5404779345380852,-0.4594837074184925,-0.5709294028336829,0.5517546812657012,-1.5191583347378217,-1.8212577605961693,0.5608664175791226,0.9233754580800292,-0.3349371913905272,1.6195155400294434,0.029516797046602428,0.48845016366522087,-0.9983325676167882,-0.5777061740801093,-1.1824449236276113,0.44342064703172834,-1.921085994117648,-1.133672211827247,1.3418203911542834,1.1377657071052936,-0.5205825076152426,0.22822348530130462,-0.3140244025508158,1.99263045877462,-0.6276486414057821,0.3789938174705518,1.5070188243170681,0.7550823406074365,0.937870487510314,0.6179740977304896,-0.1711727036675492,0.7186532767387795,0.016586564621040033,1.2937899772630141,0.3998121609770898,0.5361201098099101,0.4081839171370809,-1.0039072948017003,-0.7187219461564854,0.14793124212411746,0.43151923173980355,-0.04132758573310095,-0.13919507428639785,0.751972269655057,0.657840228668993,-0.7974142092388198,0.2986094598821704,0.18997429070260546,-1.0463877092471465,0.29269008999875895,-1.3486487926526634,-0.013954816767301892,1.8352819680528336,0.8067890870292005,0.11944534311310802,-0.3773845601577676,0.6415328968725711,-0.33989077177988714,-0.6115808119144395,0.6524422975315665,-0.15022826917679022,0.37803251254519643,1.108688210284176,0.05711485154504512,1.800927567120939,0.00995552361974533,-1.2117690390983735,-1.4683056624053972,-0.43627118890285477,-1.2101915064796873,1.117024435913245,1.0979084729128281,1.6225981632955948,-0.4937377532982519,-1.1715102384751797,0.34630171642370144,-0.7003629764268581,0.882261790019467,0.04592815081162993,-0.24601901815287433,-1.6109542660950185,1.7005807868956284,1.3735738733869605,-1.467225704135344,-1.4623684158312809,-0.03317192532819466,0.7245383514461771,-1.083571896053186,-1.3543631113176642,-0.5807231337465971,-1.803628541782693],\"xaxis\":\"x5\",\"y\":[0.09356725012002595,-2.272503447707763,-0.24489314058025402,-0.13204838002542876,-1.3669983334798312,0.8820220970905887,-0.19464003209713382,0.6253289570809171,0.8058998187528795,4.817694992526561e-05,0.05406431284969937,1.2764485066452573,-0.17761021549308906,0.2000708748278898,-0.8364841783625226,1.4320040803474932,0.35274645290369033,0.3921717252757823,0.33479140509729,-0.7167755827066142,0.9649866834349295,-0.5655823691179367,0.9203251888005415,0.3757553553396931,-0.06181632417000726,0.0582794723150071,0.5046372851243683,0.9826950053063352,0.11234726924517573,-0.7659210228103368,-1.898774637470985,-0.1627757375595359,0.5660003688225107,0.22726286583394806,-1.374771712769686,-0.02433626638611993,-0.14564087706939258,-1.9893842263140469,-0.5166177422778371,-0.3781477704813227,-1.7694734910668055,0.7569327260972623,-0.31462802835325115,0.7171853031881936,-0.22654867363962103,-1.0505244688194517,-2.972057229651945,-1.7518337070229988,0.7554067839944425,-0.11855028063606456,-2.004869681415894,2.9852047928075613,-1.6232700961848137,0.0918885117602792,-0.3650216250221669,0.47330135972917814,0.2856446855806922,0.7675162718116566,-2.1074615886549672,0.22391645030196236,1.1894071423217216,0.8204890077709631,-0.39701541753363756,-2.27000401953618,1.6600756989112195,-0.7124828747764169,0.004704780856659766,-0.0780500810025205,0.2592220871063078,0.732633002062385,1.2687314806629195,-1.5293730908904641,0.7211630628607816,-0.2699715134984008,0.7225968340598766,-0.9623073108340827,-1.0222701791456865,0.8686777579700856,-0.7846170957067229,1.8197684774919791,-2.119549410807026,-0.06807439952843404,-0.3911595768636021,-0.3013297371127451,-1.0028729911585332,-0.866084623867208,0.9987817368354001,1.3013655869508096,0.5279189607394867,-0.842002981778488,-0.018616418731183016,-1.7998270091420199,-1.4160525224237437,1.1875868896235755,-0.43313499360774566,2.0435147973409307,-0.4951788627034901,0.7425160720114105,0.31564553204195167,-0.20782147861460856],\"yaxis\":\"y5\",\"type\":\"scatter\"},{\"histfunc\":\"count\",\"histnorm\":\"\",\"marker\":{\"color\":\"rgba(55, 128, 191, 1.0)\",\"line\":{\"color\":\"#4D5663\",\"width\":1.3}},\"name\":\"B\",\"nbinsx\":10,\"opacity\":0.8,\"orientation\":\"v\",\"x\":[0.09356725012002595,-2.272503447707763,-0.24489314058025402,-0.13204838002542876,-1.3669983334798312,0.8820220970905887,-0.19464003209713382,0.6253289570809171,0.8058998187528795,4.817694992526561e-05,0.05406431284969937,1.2764485066452573,-0.17761021549308906,0.2000708748278898,-0.8364841783625226,1.4320040803474932,0.35274645290369033,0.3921717252757823,0.33479140509729,-0.7167755827066142,0.9649866834349295,-0.5655823691179367,0.9203251888005415,0.3757553553396931,-0.06181632417000726,0.0582794723150071,0.5046372851243683,0.9826950053063352,0.11234726924517573,-0.7659210228103368,-1.898774637470985,-0.1627757375595359,0.5660003688225107,0.22726286583394806,-1.374771712769686,-0.02433626638611993,-0.14564087706939258,-1.9893842263140469,-0.5166177422778371,-0.3781477704813227,-1.7694734910668055,0.7569327260972623,-0.31462802835325115,0.7171853031881936,-0.22654867363962103,-1.0505244688194517,-2.972057229651945,-1.7518337070229988,0.7554067839944425,-0.11855028063606456,-2.004869681415894,2.9852047928075613,-1.6232700961848137,0.0918885117602792,-0.3650216250221669,0.47330135972917814,0.2856446855806922,0.7675162718116566,-2.1074615886549672,0.22391645030196236,1.1894071423217216,0.8204890077709631,-0.39701541753363756,-2.27000401953618,1.6600756989112195,-0.7124828747764169,0.004704780856659766,-0.0780500810025205,0.2592220871063078,0.732633002062385,1.2687314806629195,-1.5293730908904641,0.7211630628607816,-0.2699715134984008,0.7225968340598766,-0.9623073108340827,-1.0222701791456865,0.8686777579700856,-0.7846170957067229,1.8197684774919791,-2.119549410807026,-0.06807439952843404,-0.3911595768636021,-0.3013297371127451,-1.0028729911585332,-0.866084623867208,0.9987817368354001,1.3013655869508096,0.5279189607394867,-0.842002981778488,-0.018616418731183016,-1.7998270091420199,-1.4160525224237437,1.1875868896235755,-0.43313499360774566,2.0435147973409307,-0.4951788627034901,0.7425160720114105,0.31564553204195167,-0.20782147861460856],\"xaxis\":\"x6\",\"yaxis\":\"y6\",\"type\":\"histogram\"},{\"line\":{\"color\":\"rgba(128, 128, 128, 1.0)\",\"dash\":\"solid\",\"shape\":\"linear\",\"width\":1.3},\"marker\":{\"size\":2,\"symbol\":\"circle\"},\"mode\":\"markers\",\"name\":\"B\",\"text\":\"\",\"x\":[1.1932707705503312,-1.2830713344060174,-0.5421057784583493,-0.22548949625763465,1.1035868293195872,1.2343689733154326,-1.2888975519796173,1.6356832308804428,-0.10280278855757159,0.14443855572954267,-0.14505919333380107,0.8928521581362128,-2.0487257752546917,-0.8150812480766364,-0.2278679313582185,0.8042719904774537,-0.8316589266026926,-0.23489930447703766,-1.9251026202576198,0.49724446175380704,-0.11542877287156185,1.060361586475302,-1.4533054887329426,-0.46546078266518176,0.26454510047806473,-0.08955498822382015,-0.7123582202516967,1.232941146039658,0.19383020281141014,0.9172734518398263,-0.27228641840789064,0.04432855371998706,1.0685787585944497,1.8356568372357598,0.30351378438991217,1.1227818408858827,-0.6917050156115433,1.5420076520203057,0.8665892720525478,-0.3382238462163352,0.20805010913518773,-0.8941371179022142,-1.1372189047587862,0.8202994728219,0.6536122524674571,0.3363770527443678,-0.9122191882116745,-0.06970358639230846,-0.5012160455787827,0.7530456280559296,0.11539123772687677,-1.1515922838879722,-0.02374864766342026,0.4139915750707,0.9990819389474503,-0.6075271620201834,1.9421725879153298,-1.119882042610842,-0.533321926240813,-0.774881802168484,-1.0590504034985166,0.04373852002508442,-1.973151513789027,-0.6501206169959729,0.09634789936915328,-0.8671356945786458,-0.27825068529219255,-0.2100651439095593,-0.463127858073323,0.4573956079909391,-1.8600784608676624,-1.3737865350778937,1.1345331359991773,0.5900055495100253,-0.5377967392866819,-0.22388604215610647,-2.5252976410281764,-0.6256716535076815,0.9212814033250678,1.6500714789362172,0.17749524786996865,1.0713952908661881,-0.44518040721811347,-0.8303131630930717,0.11726701946830131,-0.287199444527879,-0.523894959700174,-1.1343639769724427,1.684493647258829,0.007875626970417217,1.620171926717964,-1.9095174044838772,1.0008270576818932,0.16175618836114317,-0.05581461069455605,-0.7891611070048609,-0.7647017905178009,0.3741397191831739,-0.10034999234240011,1.0955391511308905],\"xaxis\":\"x7\",\"y\":[0.09356725012002595,-2.272503447707763,-0.24489314058025402,-0.13204838002542876,-1.3669983334798312,0.8820220970905887,-0.19464003209713382,0.6253289570809171,0.8058998187528795,4.817694992526561e-05,0.05406431284969937,1.2764485066452573,-0.17761021549308906,0.2000708748278898,-0.8364841783625226,1.4320040803474932,0.35274645290369033,0.3921717252757823,0.33479140509729,-0.7167755827066142,0.9649866834349295,-0.5655823691179367,0.9203251888005415,0.3757553553396931,-0.06181632417000726,0.0582794723150071,0.5046372851243683,0.9826950053063352,0.11234726924517573,-0.7659210228103368,-1.898774637470985,-0.1627757375595359,0.5660003688225107,0.22726286583394806,-1.374771712769686,-0.02433626638611993,-0.14564087706939258,-1.9893842263140469,-0.5166177422778371,-0.3781477704813227,-1.7694734910668055,0.7569327260972623,-0.31462802835325115,0.7171853031881936,-0.22654867363962103,-1.0505244688194517,-2.972057229651945,-1.7518337070229988,0.7554067839944425,-0.11855028063606456,-2.004869681415894,2.9852047928075613,-1.6232700961848137,0.0918885117602792,-0.3650216250221669,0.47330135972917814,0.2856446855806922,0.7675162718116566,-2.1074615886549672,0.22391645030196236,1.1894071423217216,0.8204890077709631,-0.39701541753363756,-2.27000401953618,1.6600756989112195,-0.7124828747764169,0.004704780856659766,-0.0780500810025205,0.2592220871063078,0.732633002062385,1.2687314806629195,-1.5293730908904641,0.7211630628607816,-0.2699715134984008,0.7225968340598766,-0.9623073108340827,-1.0222701791456865,0.8686777579700856,-0.7846170957067229,1.8197684774919791,-2.119549410807026,-0.06807439952843404,-0.3911595768636021,-0.3013297371127451,-1.0028729911585332,-0.866084623867208,0.9987817368354001,1.3013655869508096,0.5279189607394867,-0.842002981778488,-0.018616418731183016,-1.7998270091420199,-1.4160525224237437,1.1875868896235755,-0.43313499360774566,2.0435147973409307,-0.4951788627034901,0.7425160720114105,0.31564553204195167,-0.20782147861460856],\"yaxis\":\"y7\",\"type\":\"scatter\"},{\"line\":{\"color\":\"rgba(128, 128, 128, 1.0)\",\"dash\":\"solid\",\"shape\":\"linear\",\"width\":1.3},\"marker\":{\"size\":2,\"symbol\":\"circle\"},\"mode\":\"markers\",\"name\":\"B\",\"text\":\"\",\"x\":[0.6709612034006531,1.6051412739767819,1.255886324427993,1.5693096722448157,-0.9921777619510992,0.33042900361692834,-0.35293024315820565,0.145154017740245,0.3625639443048809,0.13138470153173828,-0.6558581622826103,0.11520421117369518,-0.11679268720876959,1.3889517989746032,-1.0391005535810098,-0.5845175392821391,0.5487461504977663,-0.41781229770080464,-0.33960505954981424,0.651952527470793,-0.5058215733383488,0.6477966846649968,-0.6174117094993401,0.6106958871780578,-0.1276489626652101,2.0013006533019824,-0.08526082783404636,0.8127805390078046,1.3102646492165897,-1.0187120584866614,-0.4493955993053355,-1.094902227133644,0.6910183994545328,1.4201888658763488,0.11277524787441937,-0.9801910443319154,-0.3431544095932399,0.1087910743622495,-1.1942665256276004,-1.1125634535874593,0.15865029690575685,-0.41785916825864355,-1.478783076344177,-1.1020775903951132,-0.6660186131062694,0.6563670922528635,1.3610877067777163,1.60895578842839,-0.07548283197470951,-0.9847244899949941,-0.03315927860201843,0.9782806556622331,-0.3611661536121705,0.5013545301672466,0.19558245069165,-0.0739731850109819,-0.18408307032594043,-0.8290661716657223,-0.9684032630788012,0.501700122934434,-0.30093504381348796,1.1386571188741,-1.2418818561274647,-0.8127758755866236,0.29460513518630077,0.9945988005774422,-1.0916057487469217,0.1627477091773396,1.59505185336752,0.605438060188423,-0.24667767306159596,-0.6782784599743095,0.31546459979781005,-1.3202543424828128,0.2571222779809705,0.9187941311988528,-0.19594895976208676,-0.6224367771134991,0.07307844730392578,-0.9175223553483014,-0.42721630977163716,-1.9421861838694054,0.9852453396022431,-0.8743421676921562,-1.582677877306647,1.8607958178529551,-0.5710752210734351,0.38272755932811814,-0.07811680081245571,-0.21531581497030394,0.8215257586870108,0.08007863426802304,-0.5766667615202412,0.8187912497724792,0.3533519591122077,0.5735347812436419,0.6238428467770988,-0.4757441223946327,0.5248789044170892,-1.5020667659839881],\"xaxis\":\"x8\",\"y\":[0.09356725012002595,-2.272503447707763,-0.24489314058025402,-0.13204838002542876,-1.3669983334798312,0.8820220970905887,-0.19464003209713382,0.6253289570809171,0.8058998187528795,4.817694992526561e-05,0.05406431284969937,1.2764485066452573,-0.17761021549308906,0.2000708748278898,-0.8364841783625226,1.4320040803474932,0.35274645290369033,0.3921717252757823,0.33479140509729,-0.7167755827066142,0.9649866834349295,-0.5655823691179367,0.9203251888005415,0.3757553553396931,-0.06181632417000726,0.0582794723150071,0.5046372851243683,0.9826950053063352,0.11234726924517573,-0.7659210228103368,-1.898774637470985,-0.1627757375595359,0.5660003688225107,0.22726286583394806,-1.374771712769686,-0.02433626638611993,-0.14564087706939258,-1.9893842263140469,-0.5166177422778371,-0.3781477704813227,-1.7694734910668055,0.7569327260972623,-0.31462802835325115,0.7171853031881936,-0.22654867363962103,-1.0505244688194517,-2.972057229651945,-1.7518337070229988,0.7554067839944425,-0.11855028063606456,-2.004869681415894,2.9852047928075613,-1.6232700961848137,0.0918885117602792,-0.3650216250221669,0.47330135972917814,0.2856446855806922,0.7675162718116566,-2.1074615886549672,0.22391645030196236,1.1894071423217216,0.8204890077709631,-0.39701541753363756,-2.27000401953618,1.6600756989112195,-0.7124828747764169,0.004704780856659766,-0.0780500810025205,0.2592220871063078,0.732633002062385,1.2687314806629195,-1.5293730908904641,0.7211630628607816,-0.2699715134984008,0.7225968340598766,-0.9623073108340827,-1.0222701791456865,0.8686777579700856,-0.7846170957067229,1.8197684774919791,-2.119549410807026,-0.06807439952843404,-0.3911595768636021,-0.3013297371127451,-1.0028729911585332,-0.866084623867208,0.9987817368354001,1.3013655869508096,0.5279189607394867,-0.842002981778488,-0.018616418731183016,-1.7998270091420199,-1.4160525224237437,1.1875868896235755,-0.43313499360774566,2.0435147973409307,-0.4951788627034901,0.7425160720114105,0.31564553204195167,-0.20782147861460856],\"yaxis\":\"y8\",\"type\":\"scatter\"},{\"line\":{\"color\":\"rgba(128, 128, 128, 1.0)\",\"dash\":\"solid\",\"shape\":\"linear\",\"width\":1.3},\"marker\":{\"size\":2,\"symbol\":\"circle\"},\"mode\":\"markers\",\"name\":\"C\",\"text\":\"\",\"x\":[-2.0123763624349293,0.9432162610541343,-1.6460505314746108,-0.11959353388472195,-0.09641706509181419,-0.06172832372360541,-0.20300777040952778,1.1614863515596152,0.07214341168904675,-1.5404779345380852,-0.4594837074184925,-0.5709294028336829,0.5517546812657012,-1.5191583347378217,-1.8212577605961693,0.5608664175791226,0.9233754580800292,-0.3349371913905272,1.6195155400294434,0.029516797046602428,0.48845016366522087,-0.9983325676167882,-0.5777061740801093,-1.1824449236276113,0.44342064703172834,-1.921085994117648,-1.133672211827247,1.3418203911542834,1.1377657071052936,-0.5205825076152426,0.22822348530130462,-0.3140244025508158,1.99263045877462,-0.6276486414057821,0.3789938174705518,1.5070188243170681,0.7550823406074365,0.937870487510314,0.6179740977304896,-0.1711727036675492,0.7186532767387795,0.016586564621040033,1.2937899772630141,0.3998121609770898,0.5361201098099101,0.4081839171370809,-1.0039072948017003,-0.7187219461564854,0.14793124212411746,0.43151923173980355,-0.04132758573310095,-0.13919507428639785,0.751972269655057,0.657840228668993,-0.7974142092388198,0.2986094598821704,0.18997429070260546,-1.0463877092471465,0.29269008999875895,-1.3486487926526634,-0.013954816767301892,1.8352819680528336,0.8067890870292005,0.11944534311310802,-0.3773845601577676,0.6415328968725711,-0.33989077177988714,-0.6115808119144395,0.6524422975315665,-0.15022826917679022,0.37803251254519643,1.108688210284176,0.05711485154504512,1.800927567120939,0.00995552361974533,-1.2117690390983735,-1.4683056624053972,-0.43627118890285477,-1.2101915064796873,1.117024435913245,1.0979084729128281,1.6225981632955948,-0.4937377532982519,-1.1715102384751797,0.34630171642370144,-0.7003629764268581,0.882261790019467,0.04592815081162993,-0.24601901815287433,-1.6109542660950185,1.7005807868956284,1.3735738733869605,-1.467225704135344,-1.4623684158312809,-0.03317192532819466,0.7245383514461771,-1.083571896053186,-1.3543631113176642,-0.5807231337465971,-1.803628541782693],\"xaxis\":\"x9\",\"y\":[1.1932707705503312,-1.2830713344060174,-0.5421057784583493,-0.22548949625763465,1.1035868293195872,1.2343689733154326,-1.2888975519796173,1.6356832308804428,-0.10280278855757159,0.14443855572954267,-0.14505919333380107,0.8928521581362128,-2.0487257752546917,-0.8150812480766364,-0.2278679313582185,0.8042719904774537,-0.8316589266026926,-0.23489930447703766,-1.9251026202576198,0.49724446175380704,-0.11542877287156185,1.060361586475302,-1.4533054887329426,-0.46546078266518176,0.26454510047806473,-0.08955498822382015,-0.7123582202516967,1.232941146039658,0.19383020281141014,0.9172734518398263,-0.27228641840789064,0.04432855371998706,1.0685787585944497,1.8356568372357598,0.30351378438991217,1.1227818408858827,-0.6917050156115433,1.5420076520203057,0.8665892720525478,-0.3382238462163352,0.20805010913518773,-0.8941371179022142,-1.1372189047587862,0.8202994728219,0.6536122524674571,0.3363770527443678,-0.9122191882116745,-0.06970358639230846,-0.5012160455787827,0.7530456280559296,0.11539123772687677,-1.1515922838879722,-0.02374864766342026,0.4139915750707,0.9990819389474503,-0.6075271620201834,1.9421725879153298,-1.119882042610842,-0.533321926240813,-0.774881802168484,-1.0590504034985166,0.04373852002508442,-1.973151513789027,-0.6501206169959729,0.09634789936915328,-0.8671356945786458,-0.27825068529219255,-0.2100651439095593,-0.463127858073323,0.4573956079909391,-1.8600784608676624,-1.3737865350778937,1.1345331359991773,0.5900055495100253,-0.5377967392866819,-0.22388604215610647,-2.5252976410281764,-0.6256716535076815,0.9212814033250678,1.6500714789362172,0.17749524786996865,1.0713952908661881,-0.44518040721811347,-0.8303131630930717,0.11726701946830131,-0.287199444527879,-0.523894959700174,-1.1343639769724427,1.684493647258829,0.007875626970417217,1.620171926717964,-1.9095174044838772,1.0008270576818932,0.16175618836114317,-0.05581461069455605,-0.7891611070048609,-0.7647017905178009,0.3741397191831739,-0.10034999234240011,1.0955391511308905],\"yaxis\":\"y9\",\"type\":\"scatter\"},{\"line\":{\"color\":\"rgba(128, 128, 128, 1.0)\",\"dash\":\"solid\",\"shape\":\"linear\",\"width\":1.3},\"marker\":{\"size\":2,\"symbol\":\"circle\"},\"mode\":\"markers\",\"name\":\"C\",\"text\":\"\",\"x\":[0.09356725012002595,-2.272503447707763,-0.24489314058025402,-0.13204838002542876,-1.3669983334798312,0.8820220970905887,-0.19464003209713382,0.6253289570809171,0.8058998187528795,4.817694992526561e-05,0.05406431284969937,1.2764485066452573,-0.17761021549308906,0.2000708748278898,-0.8364841783625226,1.4320040803474932,0.35274645290369033,0.3921717252757823,0.33479140509729,-0.7167755827066142,0.9649866834349295,-0.5655823691179367,0.9203251888005415,0.3757553553396931,-0.06181632417000726,0.0582794723150071,0.5046372851243683,0.9826950053063352,0.11234726924517573,-0.7659210228103368,-1.898774637470985,-0.1627757375595359,0.5660003688225107,0.22726286583394806,-1.374771712769686,-0.02433626638611993,-0.14564087706939258,-1.9893842263140469,-0.5166177422778371,-0.3781477704813227,-1.7694734910668055,0.7569327260972623,-0.31462802835325115,0.7171853031881936,-0.22654867363962103,-1.0505244688194517,-2.972057229651945,-1.7518337070229988,0.7554067839944425,-0.11855028063606456,-2.004869681415894,2.9852047928075613,-1.6232700961848137,0.0918885117602792,-0.3650216250221669,0.47330135972917814,0.2856446855806922,0.7675162718116566,-2.1074615886549672,0.22391645030196236,1.1894071423217216,0.8204890077709631,-0.39701541753363756,-2.27000401953618,1.6600756989112195,-0.7124828747764169,0.004704780856659766,-0.0780500810025205,0.2592220871063078,0.732633002062385,1.2687314806629195,-1.5293730908904641,0.7211630628607816,-0.2699715134984008,0.7225968340598766,-0.9623073108340827,-1.0222701791456865,0.8686777579700856,-0.7846170957067229,1.8197684774919791,-2.119549410807026,-0.06807439952843404,-0.3911595768636021,-0.3013297371127451,-1.0028729911585332,-0.866084623867208,0.9987817368354001,1.3013655869508096,0.5279189607394867,-0.842002981778488,-0.018616418731183016,-1.7998270091420199,-1.4160525224237437,1.1875868896235755,-0.43313499360774566,2.0435147973409307,-0.4951788627034901,0.7425160720114105,0.31564553204195167,-0.20782147861460856],\"xaxis\":\"x10\",\"y\":[1.1932707705503312,-1.2830713344060174,-0.5421057784583493,-0.22548949625763465,1.1035868293195872,1.2343689733154326,-1.2888975519796173,1.6356832308804428,-0.10280278855757159,0.14443855572954267,-0.14505919333380107,0.8928521581362128,-2.0487257752546917,-0.8150812480766364,-0.2278679313582185,0.8042719904774537,-0.8316589266026926,-0.23489930447703766,-1.9251026202576198,0.49724446175380704,-0.11542877287156185,1.060361586475302,-1.4533054887329426,-0.46546078266518176,0.26454510047806473,-0.08955498822382015,-0.7123582202516967,1.232941146039658,0.19383020281141014,0.9172734518398263,-0.27228641840789064,0.04432855371998706,1.0685787585944497,1.8356568372357598,0.30351378438991217,1.1227818408858827,-0.6917050156115433,1.5420076520203057,0.8665892720525478,-0.3382238462163352,0.20805010913518773,-0.8941371179022142,-1.1372189047587862,0.8202994728219,0.6536122524674571,0.3363770527443678,-0.9122191882116745,-0.06970358639230846,-0.5012160455787827,0.7530456280559296,0.11539123772687677,-1.1515922838879722,-0.02374864766342026,0.4139915750707,0.9990819389474503,-0.6075271620201834,1.9421725879153298,-1.119882042610842,-0.533321926240813,-0.774881802168484,-1.0590504034985166,0.04373852002508442,-1.973151513789027,-0.6501206169959729,0.09634789936915328,-0.8671356945786458,-0.27825068529219255,-0.2100651439095593,-0.463127858073323,0.4573956079909391,-1.8600784608676624,-1.3737865350778937,1.1345331359991773,0.5900055495100253,-0.5377967392866819,-0.22388604215610647,-2.5252976410281764,-0.6256716535076815,0.9212814033250678,1.6500714789362172,0.17749524786996865,1.0713952908661881,-0.44518040721811347,-0.8303131630930717,0.11726701946830131,-0.287199444527879,-0.523894959700174,-1.1343639769724427,1.684493647258829,0.007875626970417217,1.620171926717964,-1.9095174044838772,1.0008270576818932,0.16175618836114317,-0.05581461069455605,-0.7891611070048609,-0.7647017905178009,0.3741397191831739,-0.10034999234240011,1.0955391511308905],\"yaxis\":\"y10\",\"type\":\"scatter\"},{\"histfunc\":\"count\",\"histnorm\":\"\",\"marker\":{\"color\":\"rgba(50, 171, 96, 1.0)\",\"line\":{\"color\":\"#4D5663\",\"width\":1.3}},\"name\":\"C\",\"nbinsx\":10,\"opacity\":0.8,\"orientation\":\"v\",\"x\":[1.1932707705503312,-1.2830713344060174,-0.5421057784583493,-0.22548949625763465,1.1035868293195872,1.2343689733154326,-1.2888975519796173,1.6356832308804428,-0.10280278855757159,0.14443855572954267,-0.14505919333380107,0.8928521581362128,-2.0487257752546917,-0.8150812480766364,-0.2278679313582185,0.8042719904774537,-0.8316589266026926,-0.23489930447703766,-1.9251026202576198,0.49724446175380704,-0.11542877287156185,1.060361586475302,-1.4533054887329426,-0.46546078266518176,0.26454510047806473,-0.08955498822382015,-0.7123582202516967,1.232941146039658,0.19383020281141014,0.9172734518398263,-0.27228641840789064,0.04432855371998706,1.0685787585944497,1.8356568372357598,0.30351378438991217,1.1227818408858827,-0.6917050156115433,1.5420076520203057,0.8665892720525478,-0.3382238462163352,0.20805010913518773,-0.8941371179022142,-1.1372189047587862,0.8202994728219,0.6536122524674571,0.3363770527443678,-0.9122191882116745,-0.06970358639230846,-0.5012160455787827,0.7530456280559296,0.11539123772687677,-1.1515922838879722,-0.02374864766342026,0.4139915750707,0.9990819389474503,-0.6075271620201834,1.9421725879153298,-1.119882042610842,-0.533321926240813,-0.774881802168484,-1.0590504034985166,0.04373852002508442,-1.973151513789027,-0.6501206169959729,0.09634789936915328,-0.8671356945786458,-0.27825068529219255,-0.2100651439095593,-0.463127858073323,0.4573956079909391,-1.8600784608676624,-1.3737865350778937,1.1345331359991773,0.5900055495100253,-0.5377967392866819,-0.22388604215610647,-2.5252976410281764,-0.6256716535076815,0.9212814033250678,1.6500714789362172,0.17749524786996865,1.0713952908661881,-0.44518040721811347,-0.8303131630930717,0.11726701946830131,-0.287199444527879,-0.523894959700174,-1.1343639769724427,1.684493647258829,0.007875626970417217,1.620171926717964,-1.9095174044838772,1.0008270576818932,0.16175618836114317,-0.05581461069455605,-0.7891611070048609,-0.7647017905178009,0.3741397191831739,-0.10034999234240011,1.0955391511308905],\"xaxis\":\"x11\",\"yaxis\":\"y11\",\"type\":\"histogram\"},{\"line\":{\"color\":\"rgba(128, 128, 128, 1.0)\",\"dash\":\"solid\",\"shape\":\"linear\",\"width\":1.3},\"marker\":{\"size\":2,\"symbol\":\"circle\"},\"mode\":\"markers\",\"name\":\"C\",\"text\":\"\",\"x\":[0.6709612034006531,1.6051412739767819,1.255886324427993,1.5693096722448157,-0.9921777619510992,0.33042900361692834,-0.35293024315820565,0.145154017740245,0.3625639443048809,0.13138470153173828,-0.6558581622826103,0.11520421117369518,-0.11679268720876959,1.3889517989746032,-1.0391005535810098,-0.5845175392821391,0.5487461504977663,-0.41781229770080464,-0.33960505954981424,0.651952527470793,-0.5058215733383488,0.6477966846649968,-0.6174117094993401,0.6106958871780578,-0.1276489626652101,2.0013006533019824,-0.08526082783404636,0.8127805390078046,1.3102646492165897,-1.0187120584866614,-0.4493955993053355,-1.094902227133644,0.6910183994545328,1.4201888658763488,0.11277524787441937,-0.9801910443319154,-0.3431544095932399,0.1087910743622495,-1.1942665256276004,-1.1125634535874593,0.15865029690575685,-0.41785916825864355,-1.478783076344177,-1.1020775903951132,-0.6660186131062694,0.6563670922528635,1.3610877067777163,1.60895578842839,-0.07548283197470951,-0.9847244899949941,-0.03315927860201843,0.9782806556622331,-0.3611661536121705,0.5013545301672466,0.19558245069165,-0.0739731850109819,-0.18408307032594043,-0.8290661716657223,-0.9684032630788012,0.501700122934434,-0.30093504381348796,1.1386571188741,-1.2418818561274647,-0.8127758755866236,0.29460513518630077,0.9945988005774422,-1.0916057487469217,0.1627477091773396,1.59505185336752,0.605438060188423,-0.24667767306159596,-0.6782784599743095,0.31546459979781005,-1.3202543424828128,0.2571222779809705,0.9187941311988528,-0.19594895976208676,-0.6224367771134991,0.07307844730392578,-0.9175223553483014,-0.42721630977163716,-1.9421861838694054,0.9852453396022431,-0.8743421676921562,-1.582677877306647,1.8607958178529551,-0.5710752210734351,0.38272755932811814,-0.07811680081245571,-0.21531581497030394,0.8215257586870108,0.08007863426802304,-0.5766667615202412,0.8187912497724792,0.3533519591122077,0.5735347812436419,0.6238428467770988,-0.4757441223946327,0.5248789044170892,-1.5020667659839881],\"xaxis\":\"x12\",\"y\":[1.1932707705503312,-1.2830713344060174,-0.5421057784583493,-0.22548949625763465,1.1035868293195872,1.2343689733154326,-1.2888975519796173,1.6356832308804428,-0.10280278855757159,0.14443855572954267,-0.14505919333380107,0.8928521581362128,-2.0487257752546917,-0.8150812480766364,-0.2278679313582185,0.8042719904774537,-0.8316589266026926,-0.23489930447703766,-1.9251026202576198,0.49724446175380704,-0.11542877287156185,1.060361586475302,-1.4533054887329426,-0.46546078266518176,0.26454510047806473,-0.08955498822382015,-0.7123582202516967,1.232941146039658,0.19383020281141014,0.9172734518398263,-0.27228641840789064,0.04432855371998706,1.0685787585944497,1.8356568372357598,0.30351378438991217,1.1227818408858827,-0.6917050156115433,1.5420076520203057,0.8665892720525478,-0.3382238462163352,0.20805010913518773,-0.8941371179022142,-1.1372189047587862,0.8202994728219,0.6536122524674571,0.3363770527443678,-0.9122191882116745,-0.06970358639230846,-0.5012160455787827,0.7530456280559296,0.11539123772687677,-1.1515922838879722,-0.02374864766342026,0.4139915750707,0.9990819389474503,-0.6075271620201834,1.9421725879153298,-1.119882042610842,-0.533321926240813,-0.774881802168484,-1.0590504034985166,0.04373852002508442,-1.973151513789027,-0.6501206169959729,0.09634789936915328,-0.8671356945786458,-0.27825068529219255,-0.2100651439095593,-0.463127858073323,0.4573956079909391,-1.8600784608676624,-1.3737865350778937,1.1345331359991773,0.5900055495100253,-0.5377967392866819,-0.22388604215610647,-2.5252976410281764,-0.6256716535076815,0.9212814033250678,1.6500714789362172,0.17749524786996865,1.0713952908661881,-0.44518040721811347,-0.8303131630930717,0.11726701946830131,-0.287199444527879,-0.523894959700174,-1.1343639769724427,1.684493647258829,0.007875626970417217,1.620171926717964,-1.9095174044838772,1.0008270576818932,0.16175618836114317,-0.05581461069455605,-0.7891611070048609,-0.7647017905178009,0.3741397191831739,-0.10034999234240011,1.0955391511308905],\"yaxis\":\"y12\",\"type\":\"scatter\"},{\"line\":{\"color\":\"rgba(128, 128, 128, 1.0)\",\"dash\":\"solid\",\"shape\":\"linear\",\"width\":1.3},\"marker\":{\"size\":2,\"symbol\":\"circle\"},\"mode\":\"markers\",\"name\":\"D\",\"text\":\"\",\"x\":[-2.0123763624349293,0.9432162610541343,-1.6460505314746108,-0.11959353388472195,-0.09641706509181419,-0.06172832372360541,-0.20300777040952778,1.1614863515596152,0.07214341168904675,-1.5404779345380852,-0.4594837074184925,-0.5709294028336829,0.5517546812657012,-1.5191583347378217,-1.8212577605961693,0.5608664175791226,0.9233754580800292,-0.3349371913905272,1.6195155400294434,0.029516797046602428,0.48845016366522087,-0.9983325676167882,-0.5777061740801093,-1.1824449236276113,0.44342064703172834,-1.921085994117648,-1.133672211827247,1.3418203911542834,1.1377657071052936,-0.5205825076152426,0.22822348530130462,-0.3140244025508158,1.99263045877462,-0.6276486414057821,0.3789938174705518,1.5070188243170681,0.7550823406074365,0.937870487510314,0.6179740977304896,-0.1711727036675492,0.7186532767387795,0.016586564621040033,1.2937899772630141,0.3998121609770898,0.5361201098099101,0.4081839171370809,-1.0039072948017003,-0.7187219461564854,0.14793124212411746,0.43151923173980355,-0.04132758573310095,-0.13919507428639785,0.751972269655057,0.657840228668993,-0.7974142092388198,0.2986094598821704,0.18997429070260546,-1.0463877092471465,0.29269008999875895,-1.3486487926526634,-0.013954816767301892,1.8352819680528336,0.8067890870292005,0.11944534311310802,-0.3773845601577676,0.6415328968725711,-0.33989077177988714,-0.6115808119144395,0.6524422975315665,-0.15022826917679022,0.37803251254519643,1.108688210284176,0.05711485154504512,1.800927567120939,0.00995552361974533,-1.2117690390983735,-1.4683056624053972,-0.43627118890285477,-1.2101915064796873,1.117024435913245,1.0979084729128281,1.6225981632955948,-0.4937377532982519,-1.1715102384751797,0.34630171642370144,-0.7003629764268581,0.882261790019467,0.04592815081162993,-0.24601901815287433,-1.6109542660950185,1.7005807868956284,1.3735738733869605,-1.467225704135344,-1.4623684158312809,-0.03317192532819466,0.7245383514461771,-1.083571896053186,-1.3543631113176642,-0.5807231337465971,-1.803628541782693],\"xaxis\":\"x13\",\"y\":[0.6709612034006531,1.6051412739767819,1.255886324427993,1.5693096722448157,-0.9921777619510992,0.33042900361692834,-0.35293024315820565,0.145154017740245,0.3625639443048809,0.13138470153173828,-0.6558581622826103,0.11520421117369518,-0.11679268720876959,1.3889517989746032,-1.0391005535810098,-0.5845175392821391,0.5487461504977663,-0.41781229770080464,-0.33960505954981424,0.651952527470793,-0.5058215733383488,0.6477966846649968,-0.6174117094993401,0.6106958871780578,-0.1276489626652101,2.0013006533019824,-0.08526082783404636,0.8127805390078046,1.3102646492165897,-1.0187120584866614,-0.4493955993053355,-1.094902227133644,0.6910183994545328,1.4201888658763488,0.11277524787441937,-0.9801910443319154,-0.3431544095932399,0.1087910743622495,-1.1942665256276004,-1.1125634535874593,0.15865029690575685,-0.41785916825864355,-1.478783076344177,-1.1020775903951132,-0.6660186131062694,0.6563670922528635,1.3610877067777163,1.60895578842839,-0.07548283197470951,-0.9847244899949941,-0.03315927860201843,0.9782806556622331,-0.3611661536121705,0.5013545301672466,0.19558245069165,-0.0739731850109819,-0.18408307032594043,-0.8290661716657223,-0.9684032630788012,0.501700122934434,-0.30093504381348796,1.1386571188741,-1.2418818561274647,-0.8127758755866236,0.29460513518630077,0.9945988005774422,-1.0916057487469217,0.1627477091773396,1.59505185336752,0.605438060188423,-0.24667767306159596,-0.6782784599743095,0.31546459979781005,-1.3202543424828128,0.2571222779809705,0.9187941311988528,-0.19594895976208676,-0.6224367771134991,0.07307844730392578,-0.9175223553483014,-0.42721630977163716,-1.9421861838694054,0.9852453396022431,-0.8743421676921562,-1.582677877306647,1.8607958178529551,-0.5710752210734351,0.38272755932811814,-0.07811680081245571,-0.21531581497030394,0.8215257586870108,0.08007863426802304,-0.5766667615202412,0.8187912497724792,0.3533519591122077,0.5735347812436419,0.6238428467770988,-0.4757441223946327,0.5248789044170892,-1.5020667659839881],\"yaxis\":\"y13\",\"type\":\"scatter\"},{\"line\":{\"color\":\"rgba(128, 128, 128, 1.0)\",\"dash\":\"solid\",\"shape\":\"linear\",\"width\":1.3},\"marker\":{\"size\":2,\"symbol\":\"circle\"},\"mode\":\"markers\",\"name\":\"D\",\"text\":\"\",\"x\":[0.09356725012002595,-2.272503447707763,-0.24489314058025402,-0.13204838002542876,-1.3669983334798312,0.8820220970905887,-0.19464003209713382,0.6253289570809171,0.8058998187528795,4.817694992526561e-05,0.05406431284969937,1.2764485066452573,-0.17761021549308906,0.2000708748278898,-0.8364841783625226,1.4320040803474932,0.35274645290369033,0.3921717252757823,0.33479140509729,-0.7167755827066142,0.9649866834349295,-0.5655823691179367,0.9203251888005415,0.3757553553396931,-0.06181632417000726,0.0582794723150071,0.5046372851243683,0.9826950053063352,0.11234726924517573,-0.7659210228103368,-1.898774637470985,-0.1627757375595359,0.5660003688225107,0.22726286583394806,-1.374771712769686,-0.02433626638611993,-0.14564087706939258,-1.9893842263140469,-0.5166177422778371,-0.3781477704813227,-1.7694734910668055,0.7569327260972623,-0.31462802835325115,0.7171853031881936,-0.22654867363962103,-1.0505244688194517,-2.972057229651945,-1.7518337070229988,0.7554067839944425,-0.11855028063606456,-2.004869681415894,2.9852047928075613,-1.6232700961848137,0.0918885117602792,-0.3650216250221669,0.47330135972917814,0.2856446855806922,0.7675162718116566,-2.1074615886549672,0.22391645030196236,1.1894071423217216,0.8204890077709631,-0.39701541753363756,-2.27000401953618,1.6600756989112195,-0.7124828747764169,0.004704780856659766,-0.0780500810025205,0.2592220871063078,0.732633002062385,1.2687314806629195,-1.5293730908904641,0.7211630628607816,-0.2699715134984008,0.7225968340598766,-0.9623073108340827,-1.0222701791456865,0.8686777579700856,-0.7846170957067229,1.8197684774919791,-2.119549410807026,-0.06807439952843404,-0.3911595768636021,-0.3013297371127451,-1.0028729911585332,-0.866084623867208,0.9987817368354001,1.3013655869508096,0.5279189607394867,-0.842002981778488,-0.018616418731183016,-1.7998270091420199,-1.4160525224237437,1.1875868896235755,-0.43313499360774566,2.0435147973409307,-0.4951788627034901,0.7425160720114105,0.31564553204195167,-0.20782147861460856],\"xaxis\":\"x14\",\"y\":[0.6709612034006531,1.6051412739767819,1.255886324427993,1.5693096722448157,-0.9921777619510992,0.33042900361692834,-0.35293024315820565,0.145154017740245,0.3625639443048809,0.13138470153173828,-0.6558581622826103,0.11520421117369518,-0.11679268720876959,1.3889517989746032,-1.0391005535810098,-0.5845175392821391,0.5487461504977663,-0.41781229770080464,-0.33960505954981424,0.651952527470793,-0.5058215733383488,0.6477966846649968,-0.6174117094993401,0.6106958871780578,-0.1276489626652101,2.0013006533019824,-0.08526082783404636,0.8127805390078046,1.3102646492165897,-1.0187120584866614,-0.4493955993053355,-1.094902227133644,0.6910183994545328,1.4201888658763488,0.11277524787441937,-0.9801910443319154,-0.3431544095932399,0.1087910743622495,-1.1942665256276004,-1.1125634535874593,0.15865029690575685,-0.41785916825864355,-1.478783076344177,-1.1020775903951132,-0.6660186131062694,0.6563670922528635,1.3610877067777163,1.60895578842839,-0.07548283197470951,-0.9847244899949941,-0.03315927860201843,0.9782806556622331,-0.3611661536121705,0.5013545301672466,0.19558245069165,-0.0739731850109819,-0.18408307032594043,-0.8290661716657223,-0.9684032630788012,0.501700122934434,-0.30093504381348796,1.1386571188741,-1.2418818561274647,-0.8127758755866236,0.29460513518630077,0.9945988005774422,-1.0916057487469217,0.1627477091773396,1.59505185336752,0.605438060188423,-0.24667767306159596,-0.6782784599743095,0.31546459979781005,-1.3202543424828128,0.2571222779809705,0.9187941311988528,-0.19594895976208676,-0.6224367771134991,0.07307844730392578,-0.9175223553483014,-0.42721630977163716,-1.9421861838694054,0.9852453396022431,-0.8743421676921562,-1.582677877306647,1.8607958178529551,-0.5710752210734351,0.38272755932811814,-0.07811680081245571,-0.21531581497030394,0.8215257586870108,0.08007863426802304,-0.5766667615202412,0.8187912497724792,0.3533519591122077,0.5735347812436419,0.6238428467770988,-0.4757441223946327,0.5248789044170892,-1.5020667659839881],\"yaxis\":\"y14\",\"type\":\"scatter\"},{\"line\":{\"color\":\"rgba(128, 128, 128, 1.0)\",\"dash\":\"solid\",\"shape\":\"linear\",\"width\":1.3},\"marker\":{\"size\":2,\"symbol\":\"circle\"},\"mode\":\"markers\",\"name\":\"D\",\"text\":\"\",\"x\":[1.1932707705503312,-1.2830713344060174,-0.5421057784583493,-0.22548949625763465,1.1035868293195872,1.2343689733154326,-1.2888975519796173,1.6356832308804428,-0.10280278855757159,0.14443855572954267,-0.14505919333380107,0.8928521581362128,-2.0487257752546917,-0.8150812480766364,-0.2278679313582185,0.8042719904774537,-0.8316589266026926,-0.23489930447703766,-1.9251026202576198,0.49724446175380704,-0.11542877287156185,1.060361586475302,-1.4533054887329426,-0.46546078266518176,0.26454510047806473,-0.08955498822382015,-0.7123582202516967,1.232941146039658,0.19383020281141014,0.9172734518398263,-0.27228641840789064,0.04432855371998706,1.0685787585944497,1.8356568372357598,0.30351378438991217,1.1227818408858827,-0.6917050156115433,1.5420076520203057,0.8665892720525478,-0.3382238462163352,0.20805010913518773,-0.8941371179022142,-1.1372189047587862,0.8202994728219,0.6536122524674571,0.3363770527443678,-0.9122191882116745,-0.06970358639230846,-0.5012160455787827,0.7530456280559296,0.11539123772687677,-1.1515922838879722,-0.02374864766342026,0.4139915750707,0.9990819389474503,-0.6075271620201834,1.9421725879153298,-1.119882042610842,-0.533321926240813,-0.774881802168484,-1.0590504034985166,0.04373852002508442,-1.973151513789027,-0.6501206169959729,0.09634789936915328,-0.8671356945786458,-0.27825068529219255,-0.2100651439095593,-0.463127858073323,0.4573956079909391,-1.8600784608676624,-1.3737865350778937,1.1345331359991773,0.5900055495100253,-0.5377967392866819,-0.22388604215610647,-2.5252976410281764,-0.6256716535076815,0.9212814033250678,1.6500714789362172,0.17749524786996865,1.0713952908661881,-0.44518040721811347,-0.8303131630930717,0.11726701946830131,-0.287199444527879,-0.523894959700174,-1.1343639769724427,1.684493647258829,0.007875626970417217,1.620171926717964,-1.9095174044838772,1.0008270576818932,0.16175618836114317,-0.05581461069455605,-0.7891611070048609,-0.7647017905178009,0.3741397191831739,-0.10034999234240011,1.0955391511308905],\"xaxis\":\"x15\",\"y\":[0.6709612034006531,1.6051412739767819,1.255886324427993,1.5693096722448157,-0.9921777619510992,0.33042900361692834,-0.35293024315820565,0.145154017740245,0.3625639443048809,0.13138470153173828,-0.6558581622826103,0.11520421117369518,-0.11679268720876959,1.3889517989746032,-1.0391005535810098,-0.5845175392821391,0.5487461504977663,-0.41781229770080464,-0.33960505954981424,0.651952527470793,-0.5058215733383488,0.6477966846649968,-0.6174117094993401,0.6106958871780578,-0.1276489626652101,2.0013006533019824,-0.08526082783404636,0.8127805390078046,1.3102646492165897,-1.0187120584866614,-0.4493955993053355,-1.094902227133644,0.6910183994545328,1.4201888658763488,0.11277524787441937,-0.9801910443319154,-0.3431544095932399,0.1087910743622495,-1.1942665256276004,-1.1125634535874593,0.15865029690575685,-0.41785916825864355,-1.478783076344177,-1.1020775903951132,-0.6660186131062694,0.6563670922528635,1.3610877067777163,1.60895578842839,-0.07548283197470951,-0.9847244899949941,-0.03315927860201843,0.9782806556622331,-0.3611661536121705,0.5013545301672466,0.19558245069165,-0.0739731850109819,-0.18408307032594043,-0.8290661716657223,-0.9684032630788012,0.501700122934434,-0.30093504381348796,1.1386571188741,-1.2418818561274647,-0.8127758755866236,0.29460513518630077,0.9945988005774422,-1.0916057487469217,0.1627477091773396,1.59505185336752,0.605438060188423,-0.24667767306159596,-0.6782784599743095,0.31546459979781005,-1.3202543424828128,0.2571222779809705,0.9187941311988528,-0.19594895976208676,-0.6224367771134991,0.07307844730392578,-0.9175223553483014,-0.42721630977163716,-1.9421861838694054,0.9852453396022431,-0.8743421676921562,-1.582677877306647,1.8607958178529551,-0.5710752210734351,0.38272755932811814,-0.07811680081245571,-0.21531581497030394,0.8215257586870108,0.08007863426802304,-0.5766667615202412,0.8187912497724792,0.3533519591122077,0.5735347812436419,0.6238428467770988,-0.4757441223946327,0.5248789044170892,-1.5020667659839881],\"yaxis\":\"y15\",\"type\":\"scatter\"},{\"histfunc\":\"count\",\"histnorm\":\"\",\"marker\":{\"color\":\"rgba(128, 0, 128, 1.0)\",\"line\":{\"color\":\"#4D5663\",\"width\":1.3}},\"name\":\"D\",\"nbinsx\":10,\"opacity\":0.8,\"orientation\":\"v\",\"x\":[0.6709612034006531,1.6051412739767819,1.255886324427993,1.5693096722448157,-0.9921777619510992,0.33042900361692834,-0.35293024315820565,0.145154017740245,0.3625639443048809,0.13138470153173828,-0.6558581622826103,0.11520421117369518,-0.11679268720876959,1.3889517989746032,-1.0391005535810098,-0.5845175392821391,0.5487461504977663,-0.41781229770080464,-0.33960505954981424,0.651952527470793,-0.5058215733383488,0.6477966846649968,-0.6174117094993401,0.6106958871780578,-0.1276489626652101,2.0013006533019824,-0.08526082783404636,0.8127805390078046,1.3102646492165897,-1.0187120584866614,-0.4493955993053355,-1.094902227133644,0.6910183994545328,1.4201888658763488,0.11277524787441937,-0.9801910443319154,-0.3431544095932399,0.1087910743622495,-1.1942665256276004,-1.1125634535874593,0.15865029690575685,-0.41785916825864355,-1.478783076344177,-1.1020775903951132,-0.6660186131062694,0.6563670922528635,1.3610877067777163,1.60895578842839,-0.07548283197470951,-0.9847244899949941,-0.03315927860201843,0.9782806556622331,-0.3611661536121705,0.5013545301672466,0.19558245069165,-0.0739731850109819,-0.18408307032594043,-0.8290661716657223,-0.9684032630788012,0.501700122934434,-0.30093504381348796,1.1386571188741,-1.2418818561274647,-0.8127758755866236,0.29460513518630077,0.9945988005774422,-1.0916057487469217,0.1627477091773396,1.59505185336752,0.605438060188423,-0.24667767306159596,-0.6782784599743095,0.31546459979781005,-1.3202543424828128,0.2571222779809705,0.9187941311988528,-0.19594895976208676,-0.6224367771134991,0.07307844730392578,-0.9175223553483014,-0.42721630977163716,-1.9421861838694054,0.9852453396022431,-0.8743421676921562,-1.582677877306647,1.8607958178529551,-0.5710752210734351,0.38272755932811814,-0.07811680081245571,-0.21531581497030394,0.8215257586870108,0.08007863426802304,-0.5766667615202412,0.8187912497724792,0.3533519591122077,0.5735347812436419,0.6238428467770988,-0.4757441223946327,0.5248789044170892,-1.5020667659839881],\"xaxis\":\"x16\",\"yaxis\":\"y16\",\"type\":\"histogram\"}],                        {\"bargap\":0.02,\"legend\":{\"bgcolor\":\"#F5F6F9\",\"font\":{\"color\":\"#4D5663\"}},\"paper_bgcolor\":\"#F5F6F9\",\"plot_bgcolor\":\"#F5F6F9\",\"showlegend\":false,\"template\":{\"data\":{\"barpolar\":[{\"marker\":{\"line\":{\"color\":\"#E5ECF6\",\"width\":0.5},\"pattern\":{\"fillmode\":\"overlay\",\"size\":10,\"solidity\":0.2}},\"type\":\"barpolar\"}],\"bar\":[{\"error_x\":{\"color\":\"#2a3f5f\"},\"error_y\":{\"color\":\"#2a3f5f\"},\"marker\":{\"line\":{\"color\":\"#E5ECF6\",\"width\":0.5},\"pattern\":{\"fillmode\":\"overlay\",\"size\":10,\"solidity\":0.2}},\"type\":\"bar\"}],\"carpet\":[{\"aaxis\":{\"endlinecolor\":\"#2a3f5f\",\"gridcolor\":\"white\",\"linecolor\":\"white\",\"minorgridcolor\":\"white\",\"startlinecolor\":\"#2a3f5f\"},\"baxis\":{\"endlinecolor\":\"#2a3f5f\",\"gridcolor\":\"white\",\"linecolor\":\"white\",\"minorgridcolor\":\"white\",\"startlinecolor\":\"#2a3f5f\"},\"type\":\"carpet\"}],\"choropleth\":[{\"colorbar\":{\"outlinewidth\":0,\"ticks\":\"\"},\"type\":\"choropleth\"}],\"contourcarpet\":[{\"colorbar\":{\"outlinewidth\":0,\"ticks\":\"\"},\"type\":\"contourcarpet\"}],\"contour\":[{\"colorbar\":{\"outlinewidth\":0,\"ticks\":\"\"},\"colorscale\":[[0.0,\"#0d0887\"],[0.1111111111111111,\"#46039f\"],[0.2222222222222222,\"#7201a8\"],[0.3333333333333333,\"#9c179e\"],[0.4444444444444444,\"#bd3786\"],[0.5555555555555556,\"#d8576b\"],[0.6666666666666666,\"#ed7953\"],[0.7777777777777778,\"#fb9f3a\"],[0.8888888888888888,\"#fdca26\"],[1.0,\"#f0f921\"]],\"type\":\"contour\"}],\"heatmapgl\":[{\"colorbar\":{\"outlinewidth\":0,\"ticks\":\"\"},\"colorscale\":[[0.0,\"#0d0887\"],[0.1111111111111111,\"#46039f\"],[0.2222222222222222,\"#7201a8\"],[0.3333333333333333,\"#9c179e\"],[0.4444444444444444,\"#bd3786\"],[0.5555555555555556,\"#d8576b\"],[0.6666666666666666,\"#ed7953\"],[0.7777777777777778,\"#fb9f3a\"],[0.8888888888888888,\"#fdca26\"],[1.0,\"#f0f921\"]],\"type\":\"heatmapgl\"}],\"heatmap\":[{\"colorbar\":{\"outlinewidth\":0,\"ticks\":\"\"},\"colorscale\":[[0.0,\"#0d0887\"],[0.1111111111111111,\"#46039f\"],[0.2222222222222222,\"#7201a8\"],[0.3333333333333333,\"#9c179e\"],[0.4444444444444444,\"#bd3786\"],[0.5555555555555556,\"#d8576b\"],[0.6666666666666666,\"#ed7953\"],[0.7777777777777778,\"#fb9f3a\"],[0.8888888888888888,\"#fdca26\"],[1.0,\"#f0f921\"]],\"type\":\"heatmap\"}],\"histogram2dcontour\":[{\"colorbar\":{\"outlinewidth\":0,\"ticks\":\"\"},\"colorscale\":[[0.0,\"#0d0887\"],[0.1111111111111111,\"#46039f\"],[0.2222222222222222,\"#7201a8\"],[0.3333333333333333,\"#9c179e\"],[0.4444444444444444,\"#bd3786\"],[0.5555555555555556,\"#d8576b\"],[0.6666666666666666,\"#ed7953\"],[0.7777777777777778,\"#fb9f3a\"],[0.8888888888888888,\"#fdca26\"],[1.0,\"#f0f921\"]],\"type\":\"histogram2dcontour\"}],\"histogram2d\":[{\"colorbar\":{\"outlinewidth\":0,\"ticks\":\"\"},\"colorscale\":[[0.0,\"#0d0887\"],[0.1111111111111111,\"#46039f\"],[0.2222222222222222,\"#7201a8\"],[0.3333333333333333,\"#9c179e\"],[0.4444444444444444,\"#bd3786\"],[0.5555555555555556,\"#d8576b\"],[0.6666666666666666,\"#ed7953\"],[0.7777777777777778,\"#fb9f3a\"],[0.8888888888888888,\"#fdca26\"],[1.0,\"#f0f921\"]],\"type\":\"histogram2d\"}],\"histogram\":[{\"marker\":{\"pattern\":{\"fillmode\":\"overlay\",\"size\":10,\"solidity\":0.2}},\"type\":\"histogram\"}],\"mesh3d\":[{\"colorbar\":{\"outlinewidth\":0,\"ticks\":\"\"},\"type\":\"mesh3d\"}],\"parcoords\":[{\"line\":{\"colorbar\":{\"outlinewidth\":0,\"ticks\":\"\"}},\"type\":\"parcoords\"}],\"pie\":[{\"automargin\":true,\"type\":\"pie\"}],\"scatter3d\":[{\"line\":{\"colorbar\":{\"outlinewidth\":0,\"ticks\":\"\"}},\"marker\":{\"colorbar\":{\"outlinewidth\":0,\"ticks\":\"\"}},\"type\":\"scatter3d\"}],\"scattercarpet\":[{\"marker\":{\"colorbar\":{\"outlinewidth\":0,\"ticks\":\"\"}},\"type\":\"scattercarpet\"}],\"scattergeo\":[{\"marker\":{\"colorbar\":{\"outlinewidth\":0,\"ticks\":\"\"}},\"type\":\"scattergeo\"}],\"scattergl\":[{\"marker\":{\"colorbar\":{\"outlinewidth\":0,\"ticks\":\"\"}},\"type\":\"scattergl\"}],\"scattermapbox\":[{\"marker\":{\"colorbar\":{\"outlinewidth\":0,\"ticks\":\"\"}},\"type\":\"scattermapbox\"}],\"scatterpolargl\":[{\"marker\":{\"colorbar\":{\"outlinewidth\":0,\"ticks\":\"\"}},\"type\":\"scatterpolargl\"}],\"scatterpolar\":[{\"marker\":{\"colorbar\":{\"outlinewidth\":0,\"ticks\":\"\"}},\"type\":\"scatterpolar\"}],\"scatter\":[{\"fillpattern\":{\"fillmode\":\"overlay\",\"size\":10,\"solidity\":0.2},\"type\":\"scatter\"}],\"scatterternary\":[{\"marker\":{\"colorbar\":{\"outlinewidth\":0,\"ticks\":\"\"}},\"type\":\"scatterternary\"}],\"surface\":[{\"colorbar\":{\"outlinewidth\":0,\"ticks\":\"\"},\"colorscale\":[[0.0,\"#0d0887\"],[0.1111111111111111,\"#46039f\"],[0.2222222222222222,\"#7201a8\"],[0.3333333333333333,\"#9c179e\"],[0.4444444444444444,\"#bd3786\"],[0.5555555555555556,\"#d8576b\"],[0.6666666666666666,\"#ed7953\"],[0.7777777777777778,\"#fb9f3a\"],[0.8888888888888888,\"#fdca26\"],[1.0,\"#f0f921\"]],\"type\":\"surface\"}],\"table\":[{\"cells\":{\"fill\":{\"color\":\"#EBF0F8\"},\"line\":{\"color\":\"white\"}},\"header\":{\"fill\":{\"color\":\"#C8D4E3\"},\"line\":{\"color\":\"white\"}},\"type\":\"table\"}]},\"layout\":{\"annotationdefaults\":{\"arrowcolor\":\"#2a3f5f\",\"arrowhead\":0,\"arrowwidth\":1},\"autotypenumbers\":\"strict\",\"coloraxis\":{\"colorbar\":{\"outlinewidth\":0,\"ticks\":\"\"}},\"colorscale\":{\"diverging\":[[0,\"#8e0152\"],[0.1,\"#c51b7d\"],[0.2,\"#de77ae\"],[0.3,\"#f1b6da\"],[0.4,\"#fde0ef\"],[0.5,\"#f7f7f7\"],[0.6,\"#e6f5d0\"],[0.7,\"#b8e186\"],[0.8,\"#7fbc41\"],[0.9,\"#4d9221\"],[1,\"#276419\"]],\"sequential\":[[0.0,\"#0d0887\"],[0.1111111111111111,\"#46039f\"],[0.2222222222222222,\"#7201a8\"],[0.3333333333333333,\"#9c179e\"],[0.4444444444444444,\"#bd3786\"],[0.5555555555555556,\"#d8576b\"],[0.6666666666666666,\"#ed7953\"],[0.7777777777777778,\"#fb9f3a\"],[0.8888888888888888,\"#fdca26\"],[1.0,\"#f0f921\"]],\"sequentialminus\":[[0.0,\"#0d0887\"],[0.1111111111111111,\"#46039f\"],[0.2222222222222222,\"#7201a8\"],[0.3333333333333333,\"#9c179e\"],[0.4444444444444444,\"#bd3786\"],[0.5555555555555556,\"#d8576b\"],[0.6666666666666666,\"#ed7953\"],[0.7777777777777778,\"#fb9f3a\"],[0.8888888888888888,\"#fdca26\"],[1.0,\"#f0f921\"]]},\"colorway\":[\"#636efa\",\"#EF553B\",\"#00cc96\",\"#ab63fa\",\"#FFA15A\",\"#19d3f3\",\"#FF6692\",\"#B6E880\",\"#FF97FF\",\"#FECB52\"],\"font\":{\"color\":\"#2a3f5f\"},\"geo\":{\"bgcolor\":\"white\",\"lakecolor\":\"white\",\"landcolor\":\"#E5ECF6\",\"showlakes\":true,\"showland\":true,\"subunitcolor\":\"white\"},\"hoverlabel\":{\"align\":\"left\"},\"hovermode\":\"closest\",\"mapbox\":{\"style\":\"light\"},\"paper_bgcolor\":\"white\",\"plot_bgcolor\":\"#E5ECF6\",\"polar\":{\"angularaxis\":{\"gridcolor\":\"white\",\"linecolor\":\"white\",\"ticks\":\"\"},\"bgcolor\":\"#E5ECF6\",\"radialaxis\":{\"gridcolor\":\"white\",\"linecolor\":\"white\",\"ticks\":\"\"}},\"scene\":{\"xaxis\":{\"backgroundcolor\":\"#E5ECF6\",\"gridcolor\":\"white\",\"gridwidth\":2,\"linecolor\":\"white\",\"showbackground\":true,\"ticks\":\"\",\"zerolinecolor\":\"white\"},\"yaxis\":{\"backgroundcolor\":\"#E5ECF6\",\"gridcolor\":\"white\",\"gridwidth\":2,\"linecolor\":\"white\",\"showbackground\":true,\"ticks\":\"\",\"zerolinecolor\":\"white\"},\"zaxis\":{\"backgroundcolor\":\"#E5ECF6\",\"gridcolor\":\"white\",\"gridwidth\":2,\"linecolor\":\"white\",\"showbackground\":true,\"ticks\":\"\",\"zerolinecolor\":\"white\"}},\"shapedefaults\":{\"line\":{\"color\":\"#2a3f5f\"}},\"ternary\":{\"aaxis\":{\"gridcolor\":\"white\",\"linecolor\":\"white\",\"ticks\":\"\"},\"baxis\":{\"gridcolor\":\"white\",\"linecolor\":\"white\",\"ticks\":\"\"},\"bgcolor\":\"#E5ECF6\",\"caxis\":{\"gridcolor\":\"white\",\"linecolor\":\"white\",\"ticks\":\"\"}},\"title\":{\"x\":0.05},\"xaxis\":{\"automargin\":true,\"gridcolor\":\"white\",\"linecolor\":\"white\",\"ticks\":\"\",\"title\":{\"standoff\":15},\"zerolinecolor\":\"white\",\"zerolinewidth\":2},\"yaxis\":{\"automargin\":true,\"gridcolor\":\"white\",\"linecolor\":\"white\",\"ticks\":\"\",\"title\":{\"standoff\":15},\"zerolinecolor\":\"white\",\"zerolinewidth\":2}}},\"title\":{\"font\":{\"color\":\"#4D5663\"}},\"xaxis\":{\"anchor\":\"y\",\"domain\":[0.0,0.2125],\"gridcolor\":\"#E1E5ED\",\"showgrid\":false,\"tickfont\":{\"color\":\"#4D5663\"},\"title\":{\"font\":{\"color\":\"#4D5663\"},\"text\":\"\"},\"zerolinecolor\":\"#E1E5ED\"},\"yaxis\":{\"anchor\":\"x\",\"domain\":[0.8025,1.0],\"gridcolor\":\"#E1E5ED\",\"showgrid\":false,\"tickfont\":{\"color\":\"#4D5663\"},\"title\":{\"font\":{\"color\":\"#4D5663\"},\"text\":\"\"},\"zerolinecolor\":\"#E1E5ED\"},\"xaxis2\":{\"anchor\":\"y2\",\"domain\":[0.2625,0.475],\"gridcolor\":\"#E1E5ED\",\"showgrid\":false,\"tickfont\":{\"color\":\"#4D5663\"},\"title\":{\"font\":{\"color\":\"#4D5663\"},\"text\":\"\"},\"zerolinecolor\":\"#E1E5ED\"},\"yaxis2\":{\"anchor\":\"x2\",\"domain\":[0.8025,1.0],\"gridcolor\":\"#E1E5ED\",\"showgrid\":false,\"tickfont\":{\"color\":\"#4D5663\"},\"title\":{\"font\":{\"color\":\"#4D5663\"},\"text\":\"\"},\"zerolinecolor\":\"#E1E5ED\"},\"xaxis3\":{\"anchor\":\"y3\",\"domain\":[0.525,0.7375],\"gridcolor\":\"#E1E5ED\",\"showgrid\":false,\"tickfont\":{\"color\":\"#4D5663\"},\"title\":{\"font\":{\"color\":\"#4D5663\"},\"text\":\"\"},\"zerolinecolor\":\"#E1E5ED\"},\"yaxis3\":{\"anchor\":\"x3\",\"domain\":[0.8025,1.0],\"gridcolor\":\"#E1E5ED\",\"showgrid\":false,\"tickfont\":{\"color\":\"#4D5663\"},\"title\":{\"font\":{\"color\":\"#4D5663\"},\"text\":\"\"},\"zerolinecolor\":\"#E1E5ED\"},\"xaxis4\":{\"anchor\":\"y4\",\"domain\":[0.7875,1.0],\"gridcolor\":\"#E1E5ED\",\"showgrid\":false,\"tickfont\":{\"color\":\"#4D5663\"},\"title\":{\"font\":{\"color\":\"#4D5663\"},\"text\":\"\"},\"zerolinecolor\":\"#E1E5ED\"},\"yaxis4\":{\"anchor\":\"x4\",\"domain\":[0.8025,1.0],\"gridcolor\":\"#E1E5ED\",\"showgrid\":false,\"tickfont\":{\"color\":\"#4D5663\"},\"title\":{\"font\":{\"color\":\"#4D5663\"},\"text\":\"\"},\"zerolinecolor\":\"#E1E5ED\"},\"xaxis5\":{\"anchor\":\"y5\",\"domain\":[0.0,0.2125],\"gridcolor\":\"#E1E5ED\",\"showgrid\":false,\"tickfont\":{\"color\":\"#4D5663\"},\"title\":{\"font\":{\"color\":\"#4D5663\"},\"text\":\"\"},\"zerolinecolor\":\"#E1E5ED\"},\"yaxis5\":{\"anchor\":\"x5\",\"domain\":[0.535,0.7325],\"gridcolor\":\"#E1E5ED\",\"showgrid\":false,\"tickfont\":{\"color\":\"#4D5663\"},\"title\":{\"font\":{\"color\":\"#4D5663\"},\"text\":\"\"},\"zerolinecolor\":\"#E1E5ED\"},\"xaxis6\":{\"anchor\":\"y6\",\"domain\":[0.2625,0.475],\"gridcolor\":\"#E1E5ED\",\"showgrid\":false,\"tickfont\":{\"color\":\"#4D5663\"},\"title\":{\"font\":{\"color\":\"#4D5663\"},\"text\":\"\"},\"zerolinecolor\":\"#E1E5ED\"},\"yaxis6\":{\"anchor\":\"x6\",\"domain\":[0.535,0.7325],\"gridcolor\":\"#E1E5ED\",\"showgrid\":false,\"tickfont\":{\"color\":\"#4D5663\"},\"title\":{\"font\":{\"color\":\"#4D5663\"},\"text\":\"\"},\"zerolinecolor\":\"#E1E5ED\"},\"xaxis7\":{\"anchor\":\"y7\",\"domain\":[0.525,0.7375],\"gridcolor\":\"#E1E5ED\",\"showgrid\":false,\"tickfont\":{\"color\":\"#4D5663\"},\"title\":{\"font\":{\"color\":\"#4D5663\"},\"text\":\"\"},\"zerolinecolor\":\"#E1E5ED\"},\"yaxis7\":{\"anchor\":\"x7\",\"domain\":[0.535,0.7325],\"gridcolor\":\"#E1E5ED\",\"showgrid\":false,\"tickfont\":{\"color\":\"#4D5663\"},\"title\":{\"font\":{\"color\":\"#4D5663\"},\"text\":\"\"},\"zerolinecolor\":\"#E1E5ED\"},\"xaxis8\":{\"anchor\":\"y8\",\"domain\":[0.7875,1.0],\"gridcolor\":\"#E1E5ED\",\"showgrid\":false,\"tickfont\":{\"color\":\"#4D5663\"},\"title\":{\"font\":{\"color\":\"#4D5663\"},\"text\":\"\"},\"zerolinecolor\":\"#E1E5ED\"},\"yaxis8\":{\"anchor\":\"x8\",\"domain\":[0.535,0.7325],\"gridcolor\":\"#E1E5ED\",\"showgrid\":false,\"tickfont\":{\"color\":\"#4D5663\"},\"title\":{\"font\":{\"color\":\"#4D5663\"},\"text\":\"\"},\"zerolinecolor\":\"#E1E5ED\"},\"xaxis9\":{\"anchor\":\"y9\",\"domain\":[0.0,0.2125],\"gridcolor\":\"#E1E5ED\",\"showgrid\":false,\"tickfont\":{\"color\":\"#4D5663\"},\"title\":{\"font\":{\"color\":\"#4D5663\"},\"text\":\"\"},\"zerolinecolor\":\"#E1E5ED\"},\"yaxis9\":{\"anchor\":\"x9\",\"domain\":[0.2675,0.465],\"gridcolor\":\"#E1E5ED\",\"showgrid\":false,\"tickfont\":{\"color\":\"#4D5663\"},\"title\":{\"font\":{\"color\":\"#4D5663\"},\"text\":\"\"},\"zerolinecolor\":\"#E1E5ED\"},\"xaxis10\":{\"anchor\":\"y10\",\"domain\":[0.2625,0.475],\"gridcolor\":\"#E1E5ED\",\"showgrid\":false,\"tickfont\":{\"color\":\"#4D5663\"},\"title\":{\"font\":{\"color\":\"#4D5663\"},\"text\":\"\"},\"zerolinecolor\":\"#E1E5ED\"},\"yaxis10\":{\"anchor\":\"x10\",\"domain\":[0.2675,0.465],\"gridcolor\":\"#E1E5ED\",\"showgrid\":false,\"tickfont\":{\"color\":\"#4D5663\"},\"title\":{\"font\":{\"color\":\"#4D5663\"},\"text\":\"\"},\"zerolinecolor\":\"#E1E5ED\"},\"xaxis11\":{\"anchor\":\"y11\",\"domain\":[0.525,0.7375],\"gridcolor\":\"#E1E5ED\",\"showgrid\":false,\"tickfont\":{\"color\":\"#4D5663\"},\"title\":{\"font\":{\"color\":\"#4D5663\"},\"text\":\"\"},\"zerolinecolor\":\"#E1E5ED\"},\"yaxis11\":{\"anchor\":\"x11\",\"domain\":[0.2675,0.465],\"gridcolor\":\"#E1E5ED\",\"showgrid\":false,\"tickfont\":{\"color\":\"#4D5663\"},\"title\":{\"font\":{\"color\":\"#4D5663\"},\"text\":\"\"},\"zerolinecolor\":\"#E1E5ED\"},\"xaxis12\":{\"anchor\":\"y12\",\"domain\":[0.7875,1.0],\"gridcolor\":\"#E1E5ED\",\"showgrid\":false,\"tickfont\":{\"color\":\"#4D5663\"},\"title\":{\"font\":{\"color\":\"#4D5663\"},\"text\":\"\"},\"zerolinecolor\":\"#E1E5ED\"},\"yaxis12\":{\"anchor\":\"x12\",\"domain\":[0.2675,0.465],\"gridcolor\":\"#E1E5ED\",\"showgrid\":false,\"tickfont\":{\"color\":\"#4D5663\"},\"title\":{\"font\":{\"color\":\"#4D5663\"},\"text\":\"\"},\"zerolinecolor\":\"#E1E5ED\"},\"xaxis13\":{\"anchor\":\"y13\",\"domain\":[0.0,0.2125],\"gridcolor\":\"#E1E5ED\",\"showgrid\":false,\"tickfont\":{\"color\":\"#4D5663\"},\"title\":{\"font\":{\"color\":\"#4D5663\"},\"text\":\"\"},\"zerolinecolor\":\"#E1E5ED\"},\"yaxis13\":{\"anchor\":\"x13\",\"domain\":[0.0,0.1975],\"gridcolor\":\"#E1E5ED\",\"showgrid\":false,\"tickfont\":{\"color\":\"#4D5663\"},\"title\":{\"font\":{\"color\":\"#4D5663\"},\"text\":\"\"},\"zerolinecolor\":\"#E1E5ED\"},\"xaxis14\":{\"anchor\":\"y14\",\"domain\":[0.2625,0.475],\"gridcolor\":\"#E1E5ED\",\"showgrid\":false,\"tickfont\":{\"color\":\"#4D5663\"},\"title\":{\"font\":{\"color\":\"#4D5663\"},\"text\":\"\"},\"zerolinecolor\":\"#E1E5ED\"},\"yaxis14\":{\"anchor\":\"x14\",\"domain\":[0.0,0.1975],\"gridcolor\":\"#E1E5ED\",\"showgrid\":false,\"tickfont\":{\"color\":\"#4D5663\"},\"title\":{\"font\":{\"color\":\"#4D5663\"},\"text\":\"\"},\"zerolinecolor\":\"#E1E5ED\"},\"xaxis15\":{\"anchor\":\"y15\",\"domain\":[0.525,0.7375],\"gridcolor\":\"#E1E5ED\",\"showgrid\":false,\"tickfont\":{\"color\":\"#4D5663\"},\"title\":{\"font\":{\"color\":\"#4D5663\"},\"text\":\"\"},\"zerolinecolor\":\"#E1E5ED\"},\"yaxis15\":{\"anchor\":\"x15\",\"domain\":[0.0,0.1975],\"gridcolor\":\"#E1E5ED\",\"showgrid\":false,\"tickfont\":{\"color\":\"#4D5663\"},\"title\":{\"font\":{\"color\":\"#4D5663\"},\"text\":\"\"},\"zerolinecolor\":\"#E1E5ED\"},\"xaxis16\":{\"anchor\":\"y16\",\"domain\":[0.7875,1.0],\"gridcolor\":\"#E1E5ED\",\"showgrid\":false,\"tickfont\":{\"color\":\"#4D5663\"},\"title\":{\"font\":{\"color\":\"#4D5663\"},\"text\":\"\"},\"zerolinecolor\":\"#E1E5ED\"},\"yaxis16\":{\"anchor\":\"x16\",\"domain\":[0.0,0.1975],\"gridcolor\":\"#E1E5ED\",\"showgrid\":false,\"tickfont\":{\"color\":\"#4D5663\"},\"title\":{\"font\":{\"color\":\"#4D5663\"},\"text\":\"\"},\"zerolinecolor\":\"#E1E5ED\"}},                        {\"showLink\": true, \"linkText\": \"Export to plot.ly\", \"plotlyServerURL\": \"https://plot.ly\", \"responsive\": true}                    ).then(function(){\n",
       "                            \n",
       "var gd = document.getElementById('6244cda3-46b9-4efe-a939-b948d868b3ec');\n",
       "var x = new MutationObserver(function (mutations, observer) {{\n",
       "        var display = window.getComputedStyle(gd).display;\n",
       "        if (!display || display === 'none') {{\n",
       "            console.log([gd, 'removed!']);\n",
       "            Plotly.purge(gd);\n",
       "            observer.disconnect();\n",
       "        }}\n",
       "}});\n",
       "\n",
       "// Listen for the removal of the full notebook cells\n",
       "var notebookContainer = gd.closest('#notebook-container');\n",
       "if (notebookContainer) {{\n",
       "    x.observe(notebookContainer, {childList: true});\n",
       "}}\n",
       "\n",
       "// Listen for the clearing of the current output cell\n",
       "var outputEl = gd.closest('.output');\n",
       "if (outputEl) {{\n",
       "    x.observe(outputEl, {childList: true});\n",
       "}}\n",
       "\n",
       "                        })                };                });            </script>        </div>"
      ]
     },
     "metadata": {},
     "output_type": "display_data"
    }
   ],
   "source": [
    "df.scatter_matrix()"
   ]
  }
 ],
 "metadata": {
  "kernelspec": {
   "display_name": "Python 3",
   "language": "python",
   "name": "python3"
  },
  "language_info": {
   "codemirror_mode": {
    "name": "ipython",
    "version": 3
   },
   "file_extension": ".py",
   "mimetype": "text/x-python",
   "name": "python",
   "nbconvert_exporter": "python",
   "pygments_lexer": "ipython3",
   "version": "3.11.7"
  }
 },
 "nbformat": 4,
 "nbformat_minor": 1
}
